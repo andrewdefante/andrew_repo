{
 "cells": [
  {
   "cell_type": "code",
   "execution_count": 2,
   "id": "eef72dbc",
   "metadata": {
    "scrolled": true
   },
   "outputs": [],
   "source": [
    "import pandas as pd\n",
    "import numpy as np \n",
    "import matplotlib.pyplot as plt\n",
    "\n",
    "fuel_burn = pd.read_csv(\"fuel_burn.csv\")"
   ]
  },
  {
   "cell_type": "markdown",
   "id": "eda9f16f",
   "metadata": {},
   "source": [
    "## Calculating Fuel Burn Constant\n",
    "\n",
    "Assuming that fuel burn is linear throughout the race, calculating the lap time adjustment due to fuel burn is done by comparing two stints in the same race completed by the same driver. The same compound must be used in each stint, and the tyre life must be the same. \n",
    "\n",
    "The difference between the lap number of the earlier stint and the later stint is plotted on the x-axis. The lap time difference between the lap of the earlier stint and later stint is plotted on the y-axis. \n",
    "\n",
    "It is expected that there the magnitude of the lap time difference will increase as the number of laps between each stint increases. \n",
    "\n",
    "The output is a laptime independent of tyre degredation and lap traffic. We can compare this to base time (fastest quali time). \n"
   ]
  },
  {
   "cell_type": "code",
   "execution_count": 23,
   "id": "636d17fa",
   "metadata": {},
   "outputs": [
    {
     "name": "stdout",
     "output_type": "stream",
     "text": [
      "[-0.04069402939872842, -0.616811126566457]\n"
     ]
    },
    {
     "data": {
      "image/png": "[encoded data removed]",
      "text/plain": [
       "<Figure size 432x288 with 1 Axes>"
      ]
     },
     "metadata": {
      "needs_background": "light"
     },
     "output_type": "display_data"
    }
   ],
   "source": [
    "x = fuel_burn[\"lap_numb_diff\"]\n",
    "y = fuel_burn[\"laptime_diff\"]\n",
    "\n",
    "fig = plt.figure()\n",
    "plt.scatter(x, y)\n",
    "m, b = np.polyfit(x, y, 1)\n",
    "plt.plot(x, m*x + b, color = 'r')\n",
    "\n",
    "plt.ylabel('Lap Time Delta (s)')\n",
    "plt.xlabel('Lap Number Delta (laps)')\n",
    "print([m,b])"
   ]
  },
  {
   "cell_type": "markdown",
   "id": "7b7b7eb1",
   "metadata": {},
   "source": [
    "## Interpretation\n",
    "\n",
    "After plotting and fitting the best-fit line via numpy.polyfit, it is determined that the fuel burn constant is 0.04 seconds per lap of fuel burned. \n",
    "\n",
    "This value will be added to each lap in the lap time projection model. "
   ]
  },
  {
   "cell_type": "code",
   "execution_count": null,
   "id": "f7d96c3c",
   "metadata": {},
   "outputs": [],
   "source": []
  },
  {
   "cell_type": "markdown",
   "id": "451b03cc",
   "metadata": {},
   "source": []
  }
 ],
 "metadata": {
  "kernelspec": {
   "display_name": "Python 3 (ipykernel)",
   "language": "python",
   "name": "python3"
  },
  "language_info": {
   "codemirror_mode": {
    "name": "ipython",
    "version": 3
   },
   "file_extension": ".py",
   "mimetype": "text/x-python",
   "name": "python",
   "nbconvert_exporter": "python",
   "pygments_lexer": "ipython3",
   "version": "3.9.7"
  }
 },
 "nbformat": 4,
 "nbformat_minor": 5
}
