{
 "cells": [
  {
   "cell_type": "code",
   "execution_count": 1,
   "id": "bec02d8c",
   "metadata": {},
   "outputs": [],
   "source": [
    "import pandas as pd\n",
    "import numpy as np \n",
    "import matplotlib.pyplot as plt\n",
    "from variation_build import driver_mean as dm \n",
    "from variation_build import driver_st_dev as st\n",
    "\n",
    "driver_var = pd.read_csv(\"clean_air_qd_fb.csv\")"
   ]
  },
  {
   "cell_type": "code",
   "execution_count": 2,
   "id": "62bb5f96",
   "metadata": {},
   "outputs": [],
   "source": [
    "rus_var = driver_var[driver_var[\"DriverNumber\"]==63]\n",
    "ham_var = driver_var[driver_var[\"DriverNumber\"]==44]"
   ]
  },
  {
   "cell_type": "code",
   "execution_count": 3,
   "id": "759de506",
   "metadata": {},
   "outputs": [
    {
     "data": {
      "text/plain": [
       "array([[<AxesSubplot:title={'center':'diff'}>]], dtype=object)"
      ]
     },
     "execution_count": 3,
     "metadata": {},
     "output_type": "execute_result"
    },
    {
     "data": {
      "image/png": "[encoded data removed]",
      "text/plain": [
       "<Figure size 432x288 with 1 Axes>"
      ]
     },
     "metadata": {
      "needs_background": "light"
     },
     "output_type": "display_data"
    }
   ],
   "source": [
    "rus_var.hist(column=\"diff\")"
   ]
  },
  {
   "cell_type": "code",
   "execution_count": 4,
   "id": "b9da6ebe",
   "metadata": {},
   "outputs": [
    {
     "name": "stdout",
     "output_type": "stream",
     "text": [
      "(0.2300950084516365, 0.7363319515281027)\n"
     ]
    }
   ],
   "source": [
    "st_dev = rus_var[\"diff\"].std()\n",
    "mean = rus_var[\"diff\"].mean()\n",
    "\n",
    "rus_vars = (mean, st_dev)\n",
    "print(rus_vars)"
   ]
  },
  {
   "cell_type": "code",
   "execution_count": 6,
   "id": "503b2cd1",
   "metadata": {},
   "outputs": [
    {
     "name": "stdout",
     "output_type": "stream",
     "text": [
      "(0.5056567769875268, 0.642053282927836)\n"
     ]
    },
    {
     "data": {
      "image/png": "[encoded data removed]",
      "text/plain": [
       "<Figure size 432x288 with 1 Axes>"
      ]
     },
     "metadata": {
      "needs_background": "light"
     },
     "output_type": "display_data"
    }
   ],
   "source": [
    "fig = ham_var.hist(column=\"diff\")\n",
    "st_dev = ham_var[\"diff\"].std()\n",
    "mean = ham_var[\"diff\"].mean()\n",
    "\n",
    "ham_vars = (mean, st_dev)\n",
    "print(ham_vars)"
   ]
  },
  {
   "cell_type": "code",
   "execution_count": 7,
   "id": "3989789e",
   "metadata": {},
   "outputs": [
    {
     "name": "stdout",
     "output_type": "stream",
     "text": [
      "(0.5056567769875268, 0.642053282927836)\n"
     ]
    }
   ],
   "source": [
    "st_dev = ham_var[\"diff\"].std()\n",
    "mean = ham_var[\"diff\"].mean()\n",
    "\n",
    "ham_vars = (mean, st_dev)\n",
    "print(ham_vars)"
   ]
  },
  {
   "cell_type": "code",
   "execution_count": 7,
   "id": "dc2e35c8",
   "metadata": {},
   "outputs": [
    {
     "data": {
      "text/plain": [
       "[0.36701367519858263,\n",
       " -0.008668489923220168,\n",
       " -0.45450645478352647,\n",
       " 0.19469497602227964,\n",
       " 0.27662765328897027,\n",
       " 1.7078484450426343,\n",
       " -0.1660334347263143,\n",
       " 1.0655847664407962,\n",
       " 1.0537839920695398,\n",
       " -0.6394223578140941,\n",
       " -1.362800035044555,\n",
       " -0.3731339964468856,\n",
       " 1.2938330447144462,\n",
       " 0.6275652693749363,\n",
       " 0.07695833737237134,\n",
       " 0.1738072834581326,\n",
       " 1.1237987687952553,\n",
       " -0.2030714946381536,\n",
       " -0.28731603843169046,\n",
       " -0.2018880722490353]"
      ]
     },
     "execution_count": 7,
     "metadata": {},
     "output_type": "execute_result"
    }
   ],
   "source": [
    "vart = []\n",
    "driver_list = [3,4,5,6,7,9,10,11,14,16,18,22,31,33,44,47,55,63,77,99]\n",
    "for i in driver_list:\n",
    "    result = np.random.normal(dm[i],st[i])\n",
    "    vart.append(result)\n",
    "vart"
   ]
  },
  {
   "cell_type": "code",
   "execution_count": null,
   "id": "4451f0e8",
   "metadata": {},
   "outputs": [],
   "source": []
  }
 ],
 "metadata": {
  "kernelspec": {
   "display_name": "Python 3 (ipykernel)",
   "language": "python",
   "name": "python3"
  },
  "language_info": {
   "codemirror_mode": {
    "name": "ipython",
    "version": 3
   },
   "file_extension": ".py",
   "mimetype": "text/x-python",
   "name": "python",
   "nbconvert_exporter": "python",
   "pygments_lexer": "ipython3",
   "version": "3.9.7"
  }
 },
 "nbformat": 4,
 "nbformat_minor": 5
}
