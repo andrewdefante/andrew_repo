{
 "cells": [
  {
   "cell_type": "code",
   "execution_count": 17,
   "id": "129f1335",
   "metadata": {},
   "outputs": [],
   "source": [
    "import pandas as pd\n",
    "import numpy as np \n",
    "import matplotlib.pyplot as plt\n",
    "\n",
    "## \n",
    "from variation_build import driver_mean as dm \n",
    "from variation_build import driver_st_dev as st\n",
    "##\n",
    "from TyreDegCalcsQD import soft_driver_poly as sdp\n",
    "from TyreDegCalcsQD import med_driver_poly as mdp\n",
    "from TyreDegCalcsQD import hard_driver_poly as hdp\n",
    "\n",
    "## brazil \n",
    "lewis_actual = pd.read_csv(\"lewis_brazil.csv\")"
   ]
  },
  {
   "cell_type": "code",
   "execution_count": 3,
   "id": "86a9df75",
   "metadata": {},
   "outputs": [
    {
     "ename": "SyntaxError",
     "evalue": "invalid syntax (2550170365.py, line 9)",
     "output_type": "error",
     "traceback": [
      "\u001b[0;36m  File \u001b[0;32m\"/var/folders/9h/yn4x7z494db_7w6tqy1htj140000gn/T/ipykernel_45494/2550170365.py\"\u001b[0;36m, line \u001b[0;32m9\u001b[0m\n\u001b[0;31m    td = np.polyval(mdp[44], tyre_life_perc)\u001b[0m\n\u001b[0m    ^\u001b[0m\n\u001b[0;31mSyntaxError\u001b[0m\u001b[0;31m:\u001b[0m invalid syntax\n"
     ]
    }
   ],
   "source": [
    "times = []\n",
    "laps = [] \n",
    "\n",
    "for i in range(45, 65):\n",
    "    tyre_life_perc = ((i/71)*100)\n",
    "    fuel_burn = 0.041\n",
    "    laps_remain = (71-i)\n",
    "    driver_var = (np.random.normal(dm[44],st[44])\n",
    "    td = np.polyval(mdp[44], tyre_life_perc)\n",
    "    fbc = (fuel_burn*laps_remain)\n",
    "    lap = i\n",
    "    proj = 67.93 + td + driver_var + fbc + 0.62\n",
    "    laps.append(lap)\n",
    "    times.append(proj)\n",
    "    \n",
    "\n",
    "plt.plot(laps, times)\n",
    "\n",
    "    "
   ]
  },
  {
   "cell_type": "code",
   "execution_count": 95,
   "id": "4e642863",
   "metadata": {},
   "outputs": [
    {
     "data": {
      "text/plain": [
       "-0.010617953223646759"
      ]
     },
     "execution_count": 95,
     "metadata": {},
     "output_type": "execute_result"
    }
   ],
   "source": [
    "(np.random.normal(0, st[44],1000)).mean()"
   ]
  },
  {
   "cell_type": "code",
   "execution_count": 13,
   "id": "f1717079",
   "metadata": {},
   "outputs": [
    {
     "ename": "IndentationError",
     "evalue": "expected an indented block (1768296058.py, line 2)",
     "output_type": "error",
     "traceback": [
      "\u001b[0;36m  File \u001b[0;32m\"/var/folders/9h/yn4x7z494db_7w6tqy1htj140000gn/T/ipykernel_1226/1768296058.py\"\u001b[0;36m, line \u001b[0;32m2\u001b[0m\n\u001b[0;31m    proj_lt = []\u001b[0m\n\u001b[0m    ^\u001b[0m\n\u001b[0;31mIndentationError\u001b[0m\u001b[0;31m:\u001b[0m expected an indented block\n"
     ]
    }
   ],
   "source": [
    "def simulate_lap(DriverNumber, quali_tm, current_lap, end_lap, total_lap, current_tyre_age, compound):\n",
    "    proj_lt = []\n",
    "    lap_numb = []\n",
    "    for lap in range(current_lap, end_lap):\n",
    "        for s in range(0,2500):\n",
    "            projections = []\n",
    "            tyre_life_perc = (current_tyre_age/total_lap)*100\n",
    "            fuel_burn = 0.041\n",
    "            laps_remain = (current_lap/total_lap)\n",
    "            fbc = ((fuel_burn*laps_remain) + 0.62)\n",
    "            driver_var = (np.random.normal(dm[DriverNumber], st[DriverNumber]))\n",
    "            tyre_deg_const = None\n",
    "            if compound == 'SOFT':\n",
    "                tyre_deg_const = np.polyval(sdp[DriverNumber], tyre_life_perc)\n",
    "            elif compound == 'MEDIUM':\n",
    "                tyre_deg_const = np.polyval(mdp[DriverNumber], tyre_life_perc)\n",
    "            elif compound == 'HARD':\n",
    "                tyre_deg_const = np.polyval(mdp[DriverNumber], tyre_life_perc)\n",
    "            else:\n",
    "                tyre_deg_const = 0\n",
    "            lt = quali_tm + fbc + tyre_deg_const + driver_var\n",
    "            projections.append(lt)\n",
    "            s = s + 1\n",
    "        current_tyre_age = current_tyre_age + 1\n",
    "        proj_lt.append(np.array(projections).mean())\n",
    "        lap_numb.append(lap)     \n",
    "    return [proj_lt, lap_numb]\n",
    "\n",
    "sim = simulate_lap(44, 67.93, 2, 71, 71, 3, 'HARD')\n",
    "\n",
    "\n",
    "x1 = lewis_actual[\"LapNumber\"]\n",
    "y1 = lewis_actual[\"Seconds\"]\n",
    "plt.plot(x1, y1)\n",
    "plt.plot(sim[1],sim[0])\n"
   ]
  },
  {
   "cell_type": "code",
   "execution_count": 38,
   "id": "adef91e8",
   "metadata": {},
   "outputs": [
    {
     "data": {
      "text/plain": [
       "<matplotlib.legend.Legend at 0x7fd73ad38520>"
      ]
     },
     "execution_count": 38,
     "metadata": {},
     "output_type": "execute_result"
    },
    {
     "data": {
      "image/png": "[encoded data removed]",
      "text/plain": [
       "<Figure size 432x288 with 1 Axes>"
      ]
     },
     "metadata": {
      "needs_background": "light"
     },
     "output_type": "display_data"
    }
   ],
   "source": [
    "def simulate_stint(DriverNumber, quali_tm, current_lap, end_lap, total_lap, pit_lap, start_compound, current_tyre_age, change_compound, change_tyre_age):\n",
    "    proj_lt = []\n",
    "    lap_numb = []\n",
    "    \n",
    "    ## for each lap\n",
    "    for lap in range(current_lap, end_lap):\n",
    "        ## perform 2500 sims of each lap, take mean\n",
    "        for s in range(0,2500):\n",
    "            projections = []\n",
    "            tyre_life_perc = (current_tyre_age/total_lap)*100\n",
    "            fuel_burn = 0.041\n",
    "            laps_remain = (current_lap/total_lap)\n",
    "            fbc = ((fuel_burn*laps_remain) + 0.62)\n",
    "            driver_var = (np.random.normal(dm[DriverNumber], st[DriverNumber]))\n",
    "            in_lap = 4\n",
    "            out_lap = 16\n",
    "            tyre_deg_const = None\n",
    "            compound = start_compound\n",
    "            if compound == 'SOFT':\n",
    "                tyre_deg_const = np.polyval(sdp[DriverNumber], tyre_life_perc)\n",
    "            elif compound == 'MEDIUM':\n",
    "                tyre_deg_const = np.polyval(mdp[DriverNumber], tyre_life_perc)\n",
    "            elif compound == 'HARD':\n",
    "                tyre_deg_const = np.polyval(mdp[DriverNumber], tyre_life_perc)\n",
    "            else:\n",
    "                tyre_deg_const = 0\n",
    "            if lap == pit_lap:\n",
    "                lt = quali_tm + fbc + tyre_deg_const + driver_var + in_lap\n",
    "            elif lap == (pit_lap + 1):\n",
    "                lt = quali_tm + fbc + tyre_deg_const + driver_var + out_lap\n",
    "                compound = change_compound\n",
    "            else:\n",
    "                lt = quali_tm + fbc + tyre_deg_const + driver_var\n",
    "            projections.append(lt)\n",
    "            s = s + 1\n",
    "        current_tyre_age = current_tyre_age + 1\n",
    "        ## \n",
    "        \n",
    "        proj_lt.append(np.array(projections).mean())\n",
    "        lap_numb.append(lap)     \n",
    "    \n",
    "    return [proj_lt, lap_numb]\n",
    "\n",
    "sim = simulate_stint(44, 67.93, 40, 71, 71, 43, \"HARD\", 3, \"HARD\", 2)\n",
    "\n",
    "lewis_s = lewis_actual[lewis_actual[\"LapNumber\"]>40]\n",
    "x1 = lewis_s[\"LapNumber\"]\n",
    "y1 = lewis_s[\"Seconds\"]\n",
    "plt.plot(x1, y1, label='Actual')\n",
    "plt.plot(sim[1],sim[0], label='Sim')\n",
    "plt.ylabel('Lap Time (s)')\n",
    "plt.xlabel('Lap Number')\n",
    "plt.title('HAM Brazil Projection vs Actual')\n",
    "plt.legend()"
   ]
  },
  {
   "cell_type": "code",
   "execution_count": 32,
   "id": "b64f50c2",
   "metadata": {},
   "outputs": [
    {
     "data": {
      "text/plain": [
       "[<matplotlib.lines.Line2D at 0x7fd74144aa90>]"
      ]
     },
     "execution_count": 32,
     "metadata": {},
     "output_type": "execute_result"
    },
    {
     "data": {
      "image/png": "[encoded data removed]",
      "text/plain": [
       "<Figure size 432x288 with 1 Axes>"
      ]
     },
     "metadata": {
      "needs_background": "light"
     },
     "output_type": "display_data"
    }
   ],
   "source": [
    "def simulate_stint(DriverNumber, quali_tm, current_lap, end_lap, total_lap, pit_lap, start_compound, current_tyre_age, change_compound, change_tyre_age):\n",
    "    proj_lt = []\n",
    "    lap_numb = []\n",
    "    \n",
    "    ## for each lap\n",
    "    for lap in range(current_lap, end_lap):\n",
    "        ## perform 2500 sims of each lap, take mean\n",
    "        for s in range(0,2500):\n",
    "            projections = []\n",
    "            tyre_life_perc = (current_tyre_age/total_lap)*100\n",
    "            fuel_burn = 0.041\n",
    "            laps_remain = (current_lap/total_lap)\n",
    "            fbc = ((fuel_burn*laps_remain) + 0.62)\n",
    "            driver_var = (np.random.normal(dm[DriverNumber], st[DriverNumber]))\n",
    "            out_lap = 4\n",
    "            in_lap = 30\n",
    "            tyre_deg_const = None\n",
    "            compound = start_compound\n",
    "            if compound == 'SOFT':\n",
    "                tyre_deg_const = np.polyval(sdp[DriverNumber], tyre_life_perc)\n",
    "            elif compound == 'MEDIUM':\n",
    "                tyre_deg_const = np.polyval(mdp[DriverNumber], tyre_life_perc)\n",
    "            elif compound == 'HARD':\n",
    "                tyre_deg_const = np.polyval(mdp[DriverNumber], tyre_life_perc)\n",
    "            else:\n",
    "                tyre_deg_const = 0\n",
    "            if lap == pit_lap:\n",
    "                lt = quali_tm + fbc + tyre_deg_const + driver_var + in_lap\n",
    "            elif lap == (pit_lap + 1):\n",
    "                lt = quali_tm + fbc + tyre_deg_const + driver_var + out_lap\n",
    "                compound = change_compound\n",
    "            else:\n",
    "                lt = quali_tm + fbc + tyre_deg_const + driver_var\n",
    "            projections.append(lt)\n",
    "            s = s + 1\n",
    "        current_tyre_age = current_tyre_age + 1\n",
    "        ## \n",
    "        \n",
    "        proj_lt.append(np.array(projections).mean())\n",
    "        lap_numb.append(lap)     \n",
    "    \n",
    "    return [proj_lt, lap_numb]\n",
    "\n",
    "sim = simulate_stint(44, 67.93, 35, 71, 71, 43, \"HARD\", 3, \"HARD\", 2)\n",
    "\n",
    "lewis_s = lewis_actual[lewis_actual[\"LapNumber\"]>35]\n",
    "x1 = lewis_s[\"LapNumber\"]\n",
    "y1 = lewis_s[\"Seconds\"]\n",
    "plt.plot(x1, y1)\n",
    "plt.plot(sim[1],sim[0])\n"
   ]
  },
  {
   "cell_type": "code",
   "execution_count": null,
   "id": "bc33bb89",
   "metadata": {},
   "outputs": [],
   "source": []
  },
  {
   "cell_type": "code",
   "execution_count": 31,
   "id": "32b582c9",
   "metadata": {},
   "outputs": [
    {
     "data": {
      "text/plain": [
       "[<matplotlib.lines.Line2D at 0x7fde38207ca0>]"
      ]
     },
     "execution_count": 31,
     "metadata": {},
     "output_type": "execute_result"
    },
    {
     "data": {
      "image/png": "[encoded data removed]",
      "text/plain": [
       "<Figure size 432x288 with 1 Axes>"
      ]
     },
     "metadata": {
      "needs_background": "light"
     },
     "output_type": "display_data"
    }
   ],
   "source": [
    "## Actual Lap Times Stint 1\n",
    "lewis_s1 = lewis_actual[lewis_actual[\"Stint\"]==1]\n",
    "x = lewis_s1[\"LapNumber\"]\n",
    "y = lewis_s1[\"Seconds\"]\n",
    "plt.plot(x, y)\n",
    "\n",
    "\n",
    "## Actual Lap Times Stint 2\n",
    "lewis_s2 = lewis_actual[lewis_actual[\"Stint\"]==2]\n",
    "x2 = lewis_s2[\"LapNumber\"]\n",
    "y2 = lewis_s2[\"Seconds\"]\n",
    "plt.plot(x2, y2)\n",
    "\n",
    "## Actual Lap Times Stint 3\n",
    "lewis_s3 = lewis_actual[lewis_actual[\"Stint\"]==3]\n",
    "x3 = lewis_s3[\"LapNumber\"]\n",
    "y3 = lewis_s3[\"Seconds\"]\n",
    "plt.plot(x3, y3)"
   ]
  },
  {
   "cell_type": "code",
   "execution_count": 32,
   "id": "147e1a16",
   "metadata": {},
   "outputs": [],
   "source": [
    "## Overlay"
   ]
  },
  {
   "cell_type": "code",
   "execution_count": 12,
   "id": "f6d369ba",
   "metadata": {},
   "outputs": [
    {
     "name": "stdout",
     "output_type": "stream",
     "text": [
      "{1: 33, 2: 44, 3: 77, 4: 11}\n"
     ]
    }
   ],
   "source": [
    "class Driver:\n",
    "    \"\"\"create driver\"\"\"\n",
    "    def __init__(self, drivernumber, quali_tm, position)\n",
    "\n",
    "class Race:\n",
    "    \"\"\"create race\"\"\"\n",
    "    def __init__(self, total_laps, pit_in, pit_out, positions, gaps, total_race_times, base_times):\n",
    "        \"\"\"\n",
    "        input parameters: total laps of race, pit in time addition, pit out time addition\n",
    "        \"\"\"\n",
    "        self._total_laps = total_laps\n",
    "        self._pit_in = pit_in\n",
    "        self._pit_out = pit_out\n",
    "        self._position = positions\n",
    "        self._gaps = gaps\n",
    "        self._total_race_times = total_race_times\n",
    "        self._base_times = base_times\n",
    "    \n",
    "    def get_total_laps(self):\n",
    "        return self._total_laps\n",
    "    \n",
    "    def get_pit_in(self):\n",
    "        return self._pit_in\n",
    "    \n",
    "    def get_pit_out(self):\n",
    "        return self._pit_out\n",
    "    \n",
    "    def get_positions(self):\n",
    "        return self._position\n",
    "    \n",
    "    def get_gaps(self):\n",
    "        return self._gaps\n",
    "    \n",
    "    def get_trt(self):\n",
    "        return self._total_race_times\n",
    "    \n",
    "    def get_base_times(self):\n",
    "        return self._base_times\n",
    "    \n",
    "    def simulate_stint(DriverNumber, current_lap, end_lap, pit_lap, start_compound, current_tyre_age, change_compound, change_tyre_age):\n",
    "    proj_lt = []\n",
    "    lap_numb = []\n",
    "    for lap in range(current_lap, end_lap):\n",
    "        for s in range(0,2500):\n",
    "            projections = []\n",
    "            tyre_life_perc = (current_tyre_age/total_lap)*100\n",
    "            laps_remain = (current_lap/total_lap)\n",
    "            fbc = ((0.041*laps_remain) + 0.62)\n",
    "            driver_var = (np.random.normal(dm[DriverNumber], st[DriverNumber]))\n",
    "            out_lap = 4\n",
    "            in_lap = 16\n",
    "            tyre_deg_const = None\n",
    "            compound = start_compound\n",
    "            if compound == 'SOFT':\n",
    "                tyre_deg_const = np.polyval(sdp[DriverNumber], tyre_life_perc)\n",
    "            elif compound == 'MEDIUM':\n",
    "                tyre_deg_const = np.polyval(mdp[DriverNumber], tyre_life_perc)\n",
    "            elif compound == 'HARD':\n",
    "                tyre_deg_const = np.polyval(mdp[DriverNumber], tyre_life_perc)\n",
    "            else:\n",
    "                tyre_deg_const = 0\n",
    "            if lap == pit_lap:\n",
    "                lt = quali_tm + fbc + tyre_deg_const + driver_var + in_lap\n",
    "            elif lap == (pit_lap + 1):\n",
    "                lt = quali_tm + fbc + tyre_deg_const + driver_var + out_lap\n",
    "                compound = change_compound\n",
    "            else:\n",
    "                lt = quali_tm + fbc + tyre_deg_const + driver_var\n",
    "            projections.append(lt)\n",
    "            s = s + 1\n",
    "        current_tyre_age = current_tyre_age + 1\n",
    "        proj_lt.append(np.array(projections).mean())\n",
    "        lap_numb.append(lap)     \n",
    "    return [proj_lt, lap_numb]\n",
    "            \n",
    "\n",
    "        \n",
    "brazil = Race(71, 4, 18, {1:33, 2:44, 3:77, 4:11}, {1:\"LEAD\", 2:0.4, 3:0.8, 4:1.1}, {1:120, 2:121, 3:122, 4:124})\n",
    "print(brazil.get_positions())"
   ]
  },
  {
   "cell_type": "code",
   "execution_count": null,
   "id": "83dc28a0",
   "metadata": {},
   "outputs": [],
   "source": []
  }
 ],
 "metadata": {
  "kernelspec": {
   "display_name": "Python 3 (ipykernel)",
   "language": "python",
   "name": "python3"
  },
  "language_info": {
   "codemirror_mode": {
    "name": "ipython",
    "version": 3
   },
   "file_extension": ".py",
   "mimetype": "text/x-python",
   "name": "python",
   "nbconvert_exporter": "python",
   "pygments_lexer": "ipython3",
   "version": "3.9.7"
  }
 },
 "nbformat": 4,
 "nbformat_minor": 5
}
