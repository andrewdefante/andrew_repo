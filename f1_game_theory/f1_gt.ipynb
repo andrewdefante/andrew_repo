{
 "cells": [
  {
   "cell_type": "markdown",
   "metadata": {},
   "source": [
    "## Using Principles of Game Theory to Analyze McLaren's Decision Making During the 2020 Season\n",
    "### Andrew Defante\n",
    "#### andrew.defante1@gmail.com\n"
   ]
  },
  {
   "cell_type": "markdown",
   "metadata": {},
   "source": [
    "#### Intro to Formula 1\n",
    "\n",
    "For those unfamiliar, Formula 1 (F1) is the pinnacle of motorsport and racing; the fastest cars, the best drivers, high-profile companies and personnel involved competing across the globe every other weekend.\n",
    "\n",
    "As it stands now (pre-2022 regulation overhaul), F1 does not operate on a level playing field. 10 teams, also known as constructors (with 2 cars/drivers each) make up the series, and the teams with the most resources and backing are the ones who run (or should run) at the top of the field each Grand Prix weekend. Points are assigned to each driver finishing in the top 10. First place gets 25 points, Second 18, Third 15, with it rapidly tailing off until tenth place earning 1 point. The point earnings of the two drivers in each team combine to make up the constructors point total.\n",
    "\n",
    "Since the V6-Hybrid era started in 2014 Mercedes AMG has dominated, winning 7 consecutive constructors championships, and the their drivers sweeping the drivers championships in the same time period (Lewis Hamilton: 2014-2015, 2017-2020, Nico Rosberg: 2016). Mercedes AMG has had resonable challengers though, with Red Bull and Ferrari chasing them down over the past few years. \n",
    "\n",
    "The rest of the constructors field is then split into the mid-field, followed by the backmarkers. One of Formula 1's most historic constructors, McLaren, struggled for much of the V6-Hybrid era and has regularly competed against the other midfield teams during the races. In 2017, they placed 9/10 in the championship, followed by placing 6/10 in 2018. It wasn't until 2019 that they began a resurgence, and in 2020 their progress resulted in third place in constructors championship. The momentum they have gained over the past couple of years has them poised for a strong 2021 and sets them up well for the 2022 regulation overhaul. \n",
    "\n",
    "#### McLaren Resurgence\n",
    "\n",
    "But what was the source of this resurgence? A lot can be attributed to the risk they took signing the youngest driver pairing in the teams history for 2019, with Lando Norris (20) and Carlos Sainz (23). CEO Zak Brown also made numerous personnel and structural changes that set the team up for sustained long term success. It became apparent that their overall approach to the game had changed, but looking retrospectively at data from their most successful season yet, can any more insight be gained?\n",
    "\n",
    "#### Formula 1 Strategy\n",
    "\n",
    "There is a YouTube video published by Formula 1 including many teams strategists (https://www.youtube.com/watch?v=4CFkltWIc8o&ab_channel=FORMULA1). As said in the video, strategists are responsible for many key components leading up to the race weekend and during the weekend itself. Responsibilites include tyre selection, practice and qualifying session aims, and of course pit and race strategy during the Grand Prix itself. Strategists have to make decisions on the fly and each decision bears heavy consequences, hopefully for the better. McLaren's strategist, Randeep Singh, was featured in the video and mentioned that McLaren uses game theory and machine learning to assist in their decision making. \n",
    "\n",
    "I think this was particularly interesting, because I believe that using the core principles of game theory enables a strategist to make the most logical decisions under immense pressure, regardless of the time window or circumstances surrounding the situation. \n",
    "\n",
    "#### Game Theory... What is it?\n",
    "\n",
    "This leads to the next question: What is game theory?\n",
    "Game theory is essentially the study of strategy and decision making. There are many intricacies in attempting to study game theory itself, but focusing on some of the core principles of it may lead to insight on how McLaren found success in 2020. \n",
    "\n",
    "#### The principles of game theory focused on here include the following. \n",
    "###### These principles, along with others, are discussed in great detail in Simon Sinek's Book: The Infinite Game):\n",
    "- Identification and evaluation of Infinite games v. Finite games\n",
    "        - \n",
    "- Clear definition of values\n",
    "        - \n",
    "\n",
    "##### With that being said, the purpose of this report is to try and answer the following questions:\n",
    "\n",
    "   - What strategic patterns, if any, can we identify by looking at the timing data from McLaren's races in the 2020 season?\n",
    "   - Do these patterns follow a consistent theme throughout the season? If so we can attribute these themes as the team's values.\n",
    "\n",
    "- Stragegic Patterns:\n",
    "\n",
    "     - There are plenty of things we can evaluate in terms of strategy that can possibly provide insight to how the team approaches certain situations. This includes:\n",
    "        - Pre-race:\n",
    "            - Qualifying Position\n",
    "            - Tyre compounds being used\n",
    "            - Track conditions (temperature/grip levels over use)\n",
    "            - Other information carried over from practice and qualifying sessions\n",
    "        - Race:\n",
    "            - Start lap\n",
    "            - Pit Windows\n",
    "            - Responding to opponents in pit window\n",
    "            - Undercut/Overcut responses\n",
    "            - Inter-team priority\n",
    "            - Tyre wear\n",
    "            - Aggressiveness\n",
    "            - Car performace\n",
    "            - Safety Car Response (VSC/Red Flag)\n",
    "            - Stints\n",
    "        \n",
    "   \n"
   ]
  },
  {
   "cell_type": "markdown",
   "metadata": {},
   "source": [
    "#### Loading Packages and Dataset"
   ]
  },
  {
   "cell_type": "code",
   "execution_count": 31,
   "metadata": {},
   "outputs": [
    {
     "data": {
      "text/html": [
       "<div>\n",
       "<style scoped>\n",
       "    .dataframe tbody tr th:only-of-type {\n",
       "        vertical-align: middle;\n",
       "    }\n",
       "\n",
       "    .dataframe tbody tr th {\n",
       "        vertical-align: top;\n",
       "    }\n",
       "\n",
       "    .dataframe thead th {\n",
       "        text-align: right;\n",
       "    }\n",
       "</style>\n",
       "<table border=\"1\" class=\"dataframe\">\n",
       "  <thead>\n",
       "    <tr style=\"text-align: right;\">\n",
       "      <th></th>\n",
       "      <th>code</th>\n",
       "      <th>circuit</th>\n",
       "      <th>gp</th>\n",
       "      <th>raceid</th>\n",
       "      <th>position</th>\n",
       "      <th>tm</th>\n",
       "      <th>ms</th>\n",
       "      <th>lap</th>\n",
       "      <th>box</th>\n",
       "      <th>accumulated</th>\n",
       "    </tr>\n",
       "  </thead>\n",
       "  <tbody>\n",
       "    <tr>\n",
       "      <th>0</th>\n",
       "      <td>AIT</td>\n",
       "      <td>Bahrain International Circuit</td>\n",
       "      <td>Sakhir Grand Prix</td>\n",
       "      <td>1046</td>\n",
       "      <td>15</td>\n",
       "      <td>1:35.051</td>\n",
       "      <td>95051</td>\n",
       "      <td>1</td>\n",
       "      <td>NaN</td>\n",
       "      <td>NaN</td>\n",
       "    </tr>\n",
       "    <tr>\n",
       "      <th>1</th>\n",
       "      <td>AIT</td>\n",
       "      <td>Bahrain International Circuit</td>\n",
       "      <td>Sakhir Grand Prix</td>\n",
       "      <td>1046</td>\n",
       "      <td>15</td>\n",
       "      <td>1:34.286</td>\n",
       "      <td>94286</td>\n",
       "      <td>2</td>\n",
       "      <td>NaN</td>\n",
       "      <td>95051.0</td>\n",
       "    </tr>\n",
       "    <tr>\n",
       "      <th>2</th>\n",
       "      <td>AIT</td>\n",
       "      <td>Bahrain International Circuit</td>\n",
       "      <td>Sakhir Grand Prix</td>\n",
       "      <td>1046</td>\n",
       "      <td>15</td>\n",
       "      <td>1:30.745</td>\n",
       "      <td>90745</td>\n",
       "      <td>3</td>\n",
       "      <td>NaN</td>\n",
       "      <td>189337.0</td>\n",
       "    </tr>\n",
       "    <tr>\n",
       "      <th>3</th>\n",
       "      <td>AIT</td>\n",
       "      <td>Bahrain International Circuit</td>\n",
       "      <td>Sakhir Grand Prix</td>\n",
       "      <td>1046</td>\n",
       "      <td>15</td>\n",
       "      <td>1:30.538</td>\n",
       "      <td>90538</td>\n",
       "      <td>4</td>\n",
       "      <td>NaN</td>\n",
       "      <td>280082.0</td>\n",
       "    </tr>\n",
       "    <tr>\n",
       "      <th>4</th>\n",
       "      <td>AIT</td>\n",
       "      <td>Bahrain International Circuit</td>\n",
       "      <td>Sakhir Grand Prix</td>\n",
       "      <td>1046</td>\n",
       "      <td>15</td>\n",
       "      <td>1:32.414</td>\n",
       "      <td>92414</td>\n",
       "      <td>5</td>\n",
       "      <td>NaN</td>\n",
       "      <td>370620.0</td>\n",
       "    </tr>\n",
       "  </tbody>\n",
       "</table>\n",
       "</div>"
      ],
      "text/plain": [
       "  code                        circuit                 gp  raceid  position  \\\n",
       "0  AIT  Bahrain International Circuit  Sakhir Grand Prix    1046        15   \n",
       "1  AIT  Bahrain International Circuit  Sakhir Grand Prix    1046        15   \n",
       "2  AIT  Bahrain International Circuit  Sakhir Grand Prix    1046        15   \n",
       "3  AIT  Bahrain International Circuit  Sakhir Grand Prix    1046        15   \n",
       "4  AIT  Bahrain International Circuit  Sakhir Grand Prix    1046        15   \n",
       "\n",
       "         tm     ms  lap  box  accumulated  \n",
       "0  1:35.051  95051    1  NaN          NaN  \n",
       "1  1:34.286  94286    2  NaN      95051.0  \n",
       "2  1:30.745  90745    3  NaN     189337.0  \n",
       "3  1:30.538  90538    4  NaN     280082.0  \n",
       "4  1:32.414  92414    5  NaN     370620.0  "
      ]
     },
     "execution_count": 31,
     "metadata": {},
     "output_type": "execute_result"
    }
   ],
   "source": [
    "import numpy as np\n",
    "import scipy as sp\n",
    "import pandas as pd\n",
    "import plotly.express as px\n",
    "from pandas import Series, DataFrame\n",
    "\n",
    "path = 'C:/Users/andre/repo/f1_game_theory/datasets/f1_2020.csv'\n",
    "\n",
    "full = pd.read_csv(path)\n",
    "full.head()"
   ]
  },
  {
   "cell_type": "markdown",
   "metadata": {},
   "source": [
    "## Austrian GP "
   ]
  },
  {
   "cell_type": "markdown",
   "metadata": {},
   "source": [
    "Due to the COVID-19 pandemic, the 2020 Formula 1 season started on the weekend of July 3-5 at the Red Bull Ring in Spielburg, Austria. Prior to this weekend, it is important to note that testing was limited, and therefore there would be a lot of unpredictability regarding car performance and reliability.\n",
    "\n",
    "We're going to focus more on the two McLaren Drivers: Lando Norris (NOR) and Carlos Sainz (SAI) for this race, and for the rest of the season. At this point it is also important to note McLaren's expected competition. Because this is the first race of the season, we'll use last season's standings as the benchmark.\n",
    "\n",
    "### 2019 Standings:\n",
    "#### Constructors (Drivers):\n",
    "1. Mercedes (HAM/BOT)\n",
    "2. Ferrari (LEC/VET)\n",
    "3. Red Bull (VER/ALB)\n",
    "##### Midfield\n",
    "4. McLaren (NOR/SAI)\n",
    "5. Renault (RIC/OCO)\n",
    "6. Toro Rosso aka Alpha Tauri (GAS/KVY)\n",
    "7. Racing Point (PER/STR)\n",
    "##### Backmarkers\n",
    "8. Alfa Romeo (RAI/GIO)\n",
    "9. Haas (GRO/MAG)\n",
    "10. Williams (RUS/LAT)\n",
    "\n",
    "Looking at the standings McLaren was P4. For simplicity sake, we'll declare P4-P7 as the midfield. The obvious goal for McLaren would be to continue its placing ahead of the other midfield teams.\n",
    "\n",
    "For this race, NOR starts on the second row in P3, with SAI a few rows behind in P8. "
   ]
  },
  {
   "cell_type": "code",
   "execution_count": 32,
   "metadata": {},
   "outputs": [
    {
     "data": {
      "text/html": [
       "<div>\n",
       "<style scoped>\n",
       "    .dataframe tbody tr th:only-of-type {\n",
       "        vertical-align: middle;\n",
       "    }\n",
       "\n",
       "    .dataframe tbody tr th {\n",
       "        vertical-align: top;\n",
       "    }\n",
       "\n",
       "    .dataframe thead th {\n",
       "        text-align: right;\n",
       "    }\n",
       "</style>\n",
       "<table border=\"1\" class=\"dataframe\">\n",
       "  <thead>\n",
       "    <tr style=\"text-align: right;\">\n",
       "      <th></th>\n",
       "      <th>code</th>\n",
       "      <th>position</th>\n",
       "    </tr>\n",
       "  </thead>\n",
       "  <tbody>\n",
       "    <tr>\n",
       "      <th>1081</th>\n",
       "      <td>BOT</td>\n",
       "      <td>1</td>\n",
       "    </tr>\n",
       "    <tr>\n",
       "      <th>16691</th>\n",
       "      <td>VER</td>\n",
       "      <td>2</td>\n",
       "    </tr>\n",
       "    <tr>\n",
       "      <th>9371</th>\n",
       "      <td>NOR</td>\n",
       "      <td>3</td>\n",
       "    </tr>\n",
       "    <tr>\n",
       "      <th>87</th>\n",
       "      <td>ALB</td>\n",
       "      <td>4</td>\n",
       "    </tr>\n",
       "    <tr>\n",
       "      <th>4772</th>\n",
       "      <td>HAM</td>\n",
       "      <td>5</td>\n",
       "    </tr>\n",
       "    <tr>\n",
       "      <th>11247</th>\n",
       "      <td>PER</td>\n",
       "      <td>6</td>\n",
       "    </tr>\n",
       "    <tr>\n",
       "      <th>7735</th>\n",
       "      <td>LEC</td>\n",
       "      <td>7</td>\n",
       "    </tr>\n",
       "    <tr>\n",
       "      <th>15024</th>\n",
       "      <td>SAI</td>\n",
       "      <td>8</td>\n",
       "    </tr>\n",
       "    <tr>\n",
       "      <th>15906</th>\n",
       "      <td>STR</td>\n",
       "      <td>9</td>\n",
       "    </tr>\n",
       "    <tr>\n",
       "      <th>17486</th>\n",
       "      <td>VET</td>\n",
       "      <td>10</td>\n",
       "    </tr>\n",
       "    <tr>\n",
       "      <th>13135</th>\n",
       "      <td>RIC</td>\n",
       "      <td>11</td>\n",
       "    </tr>\n",
       "    <tr>\n",
       "      <th>2215</th>\n",
       "      <td>GAS</td>\n",
       "      <td>12</td>\n",
       "    </tr>\n",
       "    <tr>\n",
       "      <th>8557</th>\n",
       "      <td>MAG</td>\n",
       "      <td>13</td>\n",
       "    </tr>\n",
       "    <tr>\n",
       "      <th>3079</th>\n",
       "      <td>GIO</td>\n",
       "      <td>14</td>\n",
       "    </tr>\n",
       "    <tr>\n",
       "      <th>5834</th>\n",
       "      <td>KVY</td>\n",
       "      <td>15</td>\n",
       "    </tr>\n",
       "    <tr>\n",
       "      <th>10386</th>\n",
       "      <td>OCO</td>\n",
       "      <td>16</td>\n",
       "    </tr>\n",
       "    <tr>\n",
       "      <th>12126</th>\n",
       "      <td>RAI</td>\n",
       "      <td>17</td>\n",
       "    </tr>\n",
       "    <tr>\n",
       "      <th>3972</th>\n",
       "      <td>GRO</td>\n",
       "      <td>18</td>\n",
       "    </tr>\n",
       "    <tr>\n",
       "      <th>14114</th>\n",
       "      <td>RUS</td>\n",
       "      <td>19</td>\n",
       "    </tr>\n",
       "    <tr>\n",
       "      <th>6820</th>\n",
       "      <td>LAT</td>\n",
       "      <td>20</td>\n",
       "    </tr>\n",
       "  </tbody>\n",
       "</table>\n",
       "</div>"
      ],
      "text/plain": [
       "      code  position\n",
       "1081   BOT         1\n",
       "16691  VER         2\n",
       "9371   NOR         3\n",
       "87     ALB         4\n",
       "4772   HAM         5\n",
       "11247  PER         6\n",
       "7735   LEC         7\n",
       "15024  SAI         8\n",
       "15906  STR         9\n",
       "17486  VET        10\n",
       "13135  RIC        11\n",
       "2215   GAS        12\n",
       "8557   MAG        13\n",
       "3079   GIO        14\n",
       "5834   KVY        15\n",
       "10386  OCO        16\n",
       "12126  RAI        17\n",
       "3972   GRO        18\n",
       "14114  RUS        19\n",
       "6820   LAT        20"
      ]
     },
     "execution_count": 32,
     "metadata": {},
     "output_type": "execute_result"
    }
   ],
   "source": [
    "# Starting Grid = Position on Lap 1\n",
    "r1 = full[(full.raceid == 1031)]\n",
    "\n",
    "sg_r1 = r1[(r1.lap == 1)]\n",
    "sg_r1 = sg_r1[['code', 'position']]\n",
    "sg_r1 = sg_r1.sort_values(by=['position'])\n",
    "sg_r1"
   ]
  },
  {
   "cell_type": "markdown",
   "metadata": {},
   "source": [
    "#### Lap x Lap Time Plot"
   ]
  },
  {
   "cell_type": "markdown",
   "metadata": {},
   "source": [
    "We will start analyzing the race data by looking at NOR and SAI lap times as the race progresses. This allows us to look at each driver's pace individually over the course of the race. From this we can gain insight to consitency, as well as see where the driver pushed harder on some laps (using up more fuel/higher engine mode, fresher tyres). Because F1 Cars don't refuel, the car gets lighter as the race progresses, and there is an expected downward trend in lap time as the race goes on. \n",
    "\n",
    "###### A note about using plotly graphs: They are interactive. You can click on the legend to view each driver specifically, and click/drag on an area of the plot to zoom in. Double click to zoom back out"
   ]
  },
  {
   "cell_type": "code",
   "execution_count": 33,
   "metadata": {},
   "outputs": [
    {
     "data": {
      "text/html": [
       "<div>\n",
       "<style scoped>\n",
       "    .dataframe tbody tr th:only-of-type {\n",
       "        vertical-align: middle;\n",
       "    }\n",
       "\n",
       "    .dataframe tbody tr th {\n",
       "        vertical-align: top;\n",
       "    }\n",
       "\n",
       "    .dataframe thead th {\n",
       "        text-align: right;\n",
       "    }\n",
       "</style>\n",
       "<table border=\"1\" class=\"dataframe\">\n",
       "  <thead>\n",
       "    <tr style=\"text-align: right;\">\n",
       "      <th></th>\n",
       "      <th>code</th>\n",
       "      <th>circuit</th>\n",
       "      <th>gp</th>\n",
       "      <th>raceid</th>\n",
       "      <th>position</th>\n",
       "      <th>tm</th>\n",
       "      <th>ms</th>\n",
       "      <th>lap</th>\n",
       "      <th>box</th>\n",
       "      <th>accumulated</th>\n",
       "    </tr>\n",
       "  </thead>\n",
       "  <tbody>\n",
       "    <tr>\n",
       "      <th>9371</th>\n",
       "      <td>NOR</td>\n",
       "      <td>Red Bull Ring</td>\n",
       "      <td>Austrian Grand Prix</td>\n",
       "      <td>1031</td>\n",
       "      <td>3</td>\n",
       "      <td>1:14.567</td>\n",
       "      <td>74567</td>\n",
       "      <td>1</td>\n",
       "      <td>NaN</td>\n",
       "      <td>NaN</td>\n",
       "    </tr>\n",
       "    <tr>\n",
       "      <th>9372</th>\n",
       "      <td>NOR</td>\n",
       "      <td>Red Bull Ring</td>\n",
       "      <td>Austrian Grand Prix</td>\n",
       "      <td>1031</td>\n",
       "      <td>3</td>\n",
       "      <td>1:10.366</td>\n",
       "      <td>70366</td>\n",
       "      <td>2</td>\n",
       "      <td>NaN</td>\n",
       "      <td>74567.0</td>\n",
       "    </tr>\n",
       "    <tr>\n",
       "      <th>9373</th>\n",
       "      <td>NOR</td>\n",
       "      <td>Red Bull Ring</td>\n",
       "      <td>Austrian Grand Prix</td>\n",
       "      <td>1031</td>\n",
       "      <td>4</td>\n",
       "      <td>1:11.197</td>\n",
       "      <td>71197</td>\n",
       "      <td>3</td>\n",
       "      <td>NaN</td>\n",
       "      <td>144933.0</td>\n",
       "    </tr>\n",
       "    <tr>\n",
       "      <th>9374</th>\n",
       "      <td>NOR</td>\n",
       "      <td>Red Bull Ring</td>\n",
       "      <td>Austrian Grand Prix</td>\n",
       "      <td>1031</td>\n",
       "      <td>5</td>\n",
       "      <td>1:10.810</td>\n",
       "      <td>70810</td>\n",
       "      <td>4</td>\n",
       "      <td>NaN</td>\n",
       "      <td>216130.0</td>\n",
       "    </tr>\n",
       "    <tr>\n",
       "      <th>9375</th>\n",
       "      <td>NOR</td>\n",
       "      <td>Red Bull Ring</td>\n",
       "      <td>Austrian Grand Prix</td>\n",
       "      <td>1031</td>\n",
       "      <td>5</td>\n",
       "      <td>1:09.949</td>\n",
       "      <td>69949</td>\n",
       "      <td>5</td>\n",
       "      <td>NaN</td>\n",
       "      <td>286940.0</td>\n",
       "    </tr>\n",
       "  </tbody>\n",
       "</table>\n",
       "</div>"
      ],
      "text/plain": [
       "     code        circuit                   gp  raceid  position        tm  \\\n",
       "9371  NOR  Red Bull Ring  Austrian Grand Prix    1031         3  1:14.567   \n",
       "9372  NOR  Red Bull Ring  Austrian Grand Prix    1031         3  1:10.366   \n",
       "9373  NOR  Red Bull Ring  Austrian Grand Prix    1031         4  1:11.197   \n",
       "9374  NOR  Red Bull Ring  Austrian Grand Prix    1031         5  1:10.810   \n",
       "9375  NOR  Red Bull Ring  Austrian Grand Prix    1031         5  1:09.949   \n",
       "\n",
       "         ms  lap  box  accumulated  \n",
       "9371  74567    1  NaN          NaN  \n",
       "9372  70366    2  NaN      74567.0  \n",
       "9373  71197    3  NaN     144933.0  \n",
       "9374  70810    4  NaN     216130.0  \n",
       "9375  69949    5  NaN     286940.0  "
      ]
     },
     "execution_count": 33,
     "metadata": {},
     "output_type": "execute_result"
    }
   ],
   "source": [
    "mcl_r1 = r1[(r1.code == 'NOR') | (r1.code == 'SAI')]\n",
    "mcl_r1.head()"
   ]
  },
  {
   "cell_type": "code",
   "execution_count": 35,
   "metadata": {},
   "outputs": [
    {
     "data": {
      "application/vnd.plotly.v1+json": {
       "config": {
        "plotlyServerURL": "https://plot.ly"
       },
       "data": [
        {
         "alignmentgroup": "True",
         "hovertemplate": "code=NOR<br>lap=%{x}<br>ms=%{y}<extra></extra>",
         "legendgroup": "NOR",
         "marker": {
          "color": "#636efa"
         },
         "name": "NOR",
         "offsetgroup": "NOR",
         "orientation": "v",
         "showlegend": true,
         "textposition": "auto",
         "type": "bar",
         "x": [
          1,
          2,
          3,
          4,
          5,
          6,
          7,
          8,
          9,
          10,
          11,
          12,
          13,
          14,
          15,
          16,
          17,
          18,
          19,
          20,
          21,
          22,
          23,
          24,
          25,
          26,
          27,
          28,
          29,
          30,
          31,
          32,
          33,
          34,
          35,
          36,
          37,
          38,
          39,
          40,
          41,
          42,
          43,
          44,
          45,
          46,
          47,
          48,
          49,
          50,
          51,
          52,
          53,
          54,
          55,
          56,
          57,
          58,
          59,
          60,
          61,
          62,
          63,
          64,
          65,
          66,
          67,
          68,
          69,
          70,
          71
         ],
         "xaxis": "x",
         "y": [
          74567,
          70366,
          71197,
          70810,
          69949,
          70017,
          70228,
          70324,
          70132,
          70324,
          70449,
          70112,
          70309,
          70210,
          70187,
          70235,
          70052,
          69984,
          70029,
          69860,
          70012,
          69933,
          70106,
          69940,
          69963,
          90234,
          110203,
          103795,
          114141,
          110654,
          70457,
          69651,
          70548,
          69008,
          69311,
          69205,
          69111,
          68923,
          69026,
          69044,
          69074,
          68865,
          68787,
          68898,
          69217,
          69175,
          68978,
          68699,
          68695,
          68638,
          83701,
          109362,
          105573,
          96233,
          100490,
          114196,
          116164,
          111211,
          103284,
          93893,
          69662,
          68923,
          68362,
          69354,
          68518,
          69211,
          68574,
          68529,
          69102,
          67781,
          67475
         ],
         "yaxis": "y"
        },
        {
         "alignmentgroup": "True",
         "hovertemplate": "code=SAI<br>lap=%{x}<br>ms=%{y}<extra></extra>",
         "legendgroup": "SAI",
         "marker": {
          "color": "#EF553B"
         },
         "name": "SAI",
         "offsetgroup": "SAI",
         "orientation": "v",
         "showlegend": true,
         "textposition": "auto",
         "type": "bar",
         "x": [
          1,
          2,
          3,
          4,
          5,
          6,
          7,
          8,
          9,
          10,
          11,
          12,
          13,
          14,
          15,
          16,
          17,
          18,
          19,
          20,
          21,
          22,
          23,
          24,
          25,
          26,
          27,
          28,
          29,
          30,
          31,
          32,
          33,
          34,
          35,
          36,
          37,
          38,
          39,
          40,
          41,
          42,
          43,
          44,
          45,
          46,
          47,
          48,
          49,
          50,
          51,
          52,
          53,
          54,
          55,
          56,
          57,
          58,
          59,
          60,
          61,
          62,
          63,
          64,
          65,
          66,
          67,
          68,
          69,
          70,
          71
         ],
         "xaxis": "x",
         "y": [
          77168,
          71958,
          70243,
          70316,
          70317,
          70342,
          70563,
          70651,
          70571,
          70518,
          70701,
          70549,
          70392,
          70421,
          70322,
          70378,
          70405,
          70434,
          70250,
          70010,
          70105,
          70051,
          70133,
          70316,
          70141,
          90179,
          112463,
          97161,
          115235,
          106943,
          71454,
          70021,
          69718,
          69320,
          69328,
          69685,
          69246,
          69365,
          69427,
          69460,
          69105,
          69457,
          69329,
          69243,
          69374,
          69220,
          69089,
          68928,
          68974,
          69232,
          84968,
          95696,
          117478,
          92324,
          101084,
          116046,
          114877,
          110839,
          103568,
          92073,
          70526,
          68576,
          67974,
          68497,
          68446,
          69339,
          68917,
          68712,
          69155,
          69028,
          68308
         ],
         "yaxis": "y"
        }
       ],
       "layout": {
        "autosize": true,
        "barmode": "relative",
        "legend": {
         "title": {
          "text": "code"
         },
         "tracegroupgap": 0
        },
        "margin": {
         "t": 60
        },
        "template": {
         "data": {
          "bar": [
           {
            "error_x": {
             "color": "#2a3f5f"
            },
            "error_y": {
             "color": "#2a3f5f"
            },
            "marker": {
             "line": {
              "color": "#E5ECF6",
              "width": 0.5
             }
            },
            "type": "bar"
           }
          ],
          "barpolar": [
           {
            "marker": {
             "line": {
              "color": "#E5ECF6",
              "width": 0.5
             }
            },
            "type": "barpolar"
           }
          ],
          "carpet": [
           {
            "aaxis": {
             "endlinecolor": "#2a3f5f",
             "gridcolor": "white",
             "linecolor": "white",
             "minorgridcolor": "white",
             "startlinecolor": "#2a3f5f"
            },
            "baxis": {
             "endlinecolor": "#2a3f5f",
             "gridcolor": "white",
             "linecolor": "white",
             "minorgridcolor": "white",
             "startlinecolor": "#2a3f5f"
            },
            "type": "carpet"
           }
          ],
          "choropleth": [
           {
            "colorbar": {
             "outlinewidth": 0,
             "ticks": ""
            },
            "type": "choropleth"
           }
          ],
          "contour": [
           {
            "colorbar": {
             "outlinewidth": 0,
             "ticks": ""
            },
            "colorscale": [
             [
              0,
              "#0d0887"
             ],
             [
              0.1111111111111111,
              "#46039f"
             ],
             [
              0.2222222222222222,
              "#7201a8"
             ],
             [
              0.3333333333333333,
              "#9c179e"
             ],
             [
              0.4444444444444444,
              "#bd3786"
             ],
             [
              0.5555555555555556,
              "#d8576b"
             ],
             [
              0.6666666666666666,
              "#ed7953"
             ],
             [
              0.7777777777777778,
              "#fb9f3a"
             ],
             [
              0.8888888888888888,
              "#fdca26"
             ],
             [
              1,
              "#f0f921"
             ]
            ],
            "type": "contour"
           }
          ],
          "contourcarpet": [
           {
            "colorbar": {
             "outlinewidth": 0,
             "ticks": ""
            },
            "type": "contourcarpet"
           }
          ],
          "heatmap": [
           {
            "colorbar": {
             "outlinewidth": 0,
             "ticks": ""
            },
            "colorscale": [
             [
              0,
              "#0d0887"
             ],
             [
              0.1111111111111111,
              "#46039f"
             ],
             [
              0.2222222222222222,
              "#7201a8"
             ],
             [
              0.3333333333333333,
              "#9c179e"
             ],
             [
              0.4444444444444444,
              "#bd3786"
             ],
             [
              0.5555555555555556,
              "#d8576b"
             ],
             [
              0.6666666666666666,
              "#ed7953"
             ],
             [
              0.7777777777777778,
              "#fb9f3a"
             ],
             [
              0.8888888888888888,
              "#fdca26"
             ],
             [
              1,
              "#f0f921"
             ]
            ],
            "type": "heatmap"
           }
          ],
          "heatmapgl": [
           {
            "colorbar": {
             "outlinewidth": 0,
             "ticks": ""
            },
            "colorscale": [
             [
              0,
              "#0d0887"
             ],
             [
              0.1111111111111111,
              "#46039f"
             ],
             [
              0.2222222222222222,
              "#7201a8"
             ],
             [
              0.3333333333333333,
              "#9c179e"
             ],
             [
              0.4444444444444444,
              "#bd3786"
             ],
             [
              0.5555555555555556,
              "#d8576b"
             ],
             [
              0.6666666666666666,
              "#ed7953"
             ],
             [
              0.7777777777777778,
              "#fb9f3a"
             ],
             [
              0.8888888888888888,
              "#fdca26"
             ],
             [
              1,
              "#f0f921"
             ]
            ],
            "type": "heatmapgl"
           }
          ],
          "histogram": [
           {
            "marker": {
             "colorbar": {
              "outlinewidth": 0,
              "ticks": ""
             }
            },
            "type": "histogram"
           }
          ],
          "histogram2d": [
           {
            "colorbar": {
             "outlinewidth": 0,
             "ticks": ""
            },
            "colorscale": [
             [
              0,
              "#0d0887"
             ],
             [
              0.1111111111111111,
              "#46039f"
             ],
             [
              0.2222222222222222,
              "#7201a8"
             ],
             [
              0.3333333333333333,
              "#9c179e"
             ],
             [
              0.4444444444444444,
              "#bd3786"
             ],
             [
              0.5555555555555556,
              "#d8576b"
             ],
             [
              0.6666666666666666,
              "#ed7953"
             ],
             [
              0.7777777777777778,
              "#fb9f3a"
             ],
             [
              0.8888888888888888,
              "#fdca26"
             ],
             [
              1,
              "#f0f921"
             ]
            ],
            "type": "histogram2d"
           }
          ],
          "histogram2dcontour": [
           {
            "colorbar": {
             "outlinewidth": 0,
             "ticks": ""
            },
            "colorscale": [
             [
              0,
              "#0d0887"
             ],
             [
              0.1111111111111111,
              "#46039f"
             ],
             [
              0.2222222222222222,
              "#7201a8"
             ],
             [
              0.3333333333333333,
              "#9c179e"
             ],
             [
              0.4444444444444444,
              "#bd3786"
             ],
             [
              0.5555555555555556,
              "#d8576b"
             ],
             [
              0.6666666666666666,
              "#ed7953"
             ],
             [
              0.7777777777777778,
              "#fb9f3a"
             ],
             [
              0.8888888888888888,
              "#fdca26"
             ],
             [
              1,
              "#f0f921"
             ]
            ],
            "type": "histogram2dcontour"
           }
          ],
          "mesh3d": [
           {
            "colorbar": {
             "outlinewidth": 0,
             "ticks": ""
            },
            "type": "mesh3d"
           }
          ],
          "parcoords": [
           {
            "line": {
             "colorbar": {
              "outlinewidth": 0,
              "ticks": ""
             }
            },
            "type": "parcoords"
           }
          ],
          "pie": [
           {
            "automargin": true,
            "type": "pie"
           }
          ],
          "scatter": [
           {
            "marker": {
             "colorbar": {
              "outlinewidth": 0,
              "ticks": ""
             }
            },
            "type": "scatter"
           }
          ],
          "scatter3d": [
           {
            "line": {
             "colorbar": {
              "outlinewidth": 0,
              "ticks": ""
             }
            },
            "marker": {
             "colorbar": {
              "outlinewidth": 0,
              "ticks": ""
             }
            },
            "type": "scatter3d"
           }
          ],
          "scattercarpet": [
           {
            "marker": {
             "colorbar": {
              "outlinewidth": 0,
              "ticks": ""
             }
            },
            "type": "scattercarpet"
           }
          ],
          "scattergeo": [
           {
            "marker": {
             "colorbar": {
              "outlinewidth": 0,
              "ticks": ""
             }
            },
            "type": "scattergeo"
           }
          ],
          "scattergl": [
           {
            "marker": {
             "colorbar": {
              "outlinewidth": 0,
              "ticks": ""
             }
            },
            "type": "scattergl"
           }
          ],
          "scattermapbox": [
           {
            "marker": {
             "colorbar": {
              "outlinewidth": 0,
              "ticks": ""
             }
            },
            "type": "scattermapbox"
           }
          ],
          "scatterpolar": [
           {
            "marker": {
             "colorbar": {
              "outlinewidth": 0,
              "ticks": ""
             }
            },
            "type": "scatterpolar"
           }
          ],
          "scatterpolargl": [
           {
            "marker": {
             "colorbar": {
              "outlinewidth": 0,
              "ticks": ""
             }
            },
            "type": "scatterpolargl"
           }
          ],
          "scatterternary": [
           {
            "marker": {
             "colorbar": {
              "outlinewidth": 0,
              "ticks": ""
             }
            },
            "type": "scatterternary"
           }
          ],
          "surface": [
           {
            "colorbar": {
             "outlinewidth": 0,
             "ticks": ""
            },
            "colorscale": [
             [
              0,
              "#0d0887"
             ],
             [
              0.1111111111111111,
              "#46039f"
             ],
             [
              0.2222222222222222,
              "#7201a8"
             ],
             [
              0.3333333333333333,
              "#9c179e"
             ],
             [
              0.4444444444444444,
              "#bd3786"
             ],
             [
              0.5555555555555556,
              "#d8576b"
             ],
             [
              0.6666666666666666,
              "#ed7953"
             ],
             [
              0.7777777777777778,
              "#fb9f3a"
             ],
             [
              0.8888888888888888,
              "#fdca26"
             ],
             [
              1,
              "#f0f921"
             ]
            ],
            "type": "surface"
           }
          ],
          "table": [
           {
            "cells": {
             "fill": {
              "color": "#EBF0F8"
             },
             "line": {
              "color": "white"
             }
            },
            "header": {
             "fill": {
              "color": "#C8D4E3"
             },
             "line": {
              "color": "white"
             }
            },
            "type": "table"
           }
          ]
         },
         "layout": {
          "annotationdefaults": {
           "arrowcolor": "#2a3f5f",
           "arrowhead": 0,
           "arrowwidth": 1
          },
          "autotypenumbers": "strict",
          "coloraxis": {
           "colorbar": {
            "outlinewidth": 0,
            "ticks": ""
           }
          },
          "colorscale": {
           "diverging": [
            [
             0,
             "#8e0152"
            ],
            [
             0.1,
             "#c51b7d"
            ],
            [
             0.2,
             "#de77ae"
            ],
            [
             0.3,
             "#f1b6da"
            ],
            [
             0.4,
             "#fde0ef"
            ],
            [
             0.5,
             "#f7f7f7"
            ],
            [
             0.6,
             "#e6f5d0"
            ],
            [
             0.7,
             "#b8e186"
            ],
            [
             0.8,
             "#7fbc41"
            ],
            [
             0.9,
             "#4d9221"
            ],
            [
             1,
             "#276419"
            ]
           ],
           "sequential": [
            [
             0,
             "#0d0887"
            ],
            [
             0.1111111111111111,
             "#46039f"
            ],
            [
             0.2222222222222222,
             "#7201a8"
            ],
            [
             0.3333333333333333,
             "#9c179e"
            ],
            [
             0.4444444444444444,
             "#bd3786"
            ],
            [
             0.5555555555555556,
             "#d8576b"
            ],
            [
             0.6666666666666666,
             "#ed7953"
            ],
            [
             0.7777777777777778,
             "#fb9f3a"
            ],
            [
             0.8888888888888888,
             "#fdca26"
            ],
            [
             1,
             "#f0f921"
            ]
           ],
           "sequentialminus": [
            [
             0,
             "#0d0887"
            ],
            [
             0.1111111111111111,
             "#46039f"
            ],
            [
             0.2222222222222222,
             "#7201a8"
            ],
            [
             0.3333333333333333,
             "#9c179e"
            ],
            [
             0.4444444444444444,
             "#bd3786"
            ],
            [
             0.5555555555555556,
             "#d8576b"
            ],
            [
             0.6666666666666666,
             "#ed7953"
            ],
            [
             0.7777777777777778,
             "#fb9f3a"
            ],
            [
             0.8888888888888888,
             "#fdca26"
            ],
            [
             1,
             "#f0f921"
            ]
           ]
          },
          "colorway": [
           "#636efa",
           "#EF553B",
           "#00cc96",
           "#ab63fa",
           "#FFA15A",
           "#19d3f3",
           "#FF6692",
           "#B6E880",
           "#FF97FF",
           "#FECB52"
          ],
          "font": {
           "color": "#2a3f5f"
          },
          "geo": {
           "bgcolor": "white",
           "lakecolor": "white",
           "landcolor": "#E5ECF6",
           "showlakes": true,
           "showland": true,
           "subunitcolor": "white"
          },
          "hoverlabel": {
           "align": "left"
          },
          "hovermode": "closest",
          "mapbox": {
           "style": "light"
          },
          "paper_bgcolor": "white",
          "plot_bgcolor": "#E5ECF6",
          "polar": {
           "angularaxis": {
            "gridcolor": "white",
            "linecolor": "white",
            "ticks": ""
           },
           "bgcolor": "#E5ECF6",
           "radialaxis": {
            "gridcolor": "white",
            "linecolor": "white",
            "ticks": ""
           }
          },
          "scene": {
           "xaxis": {
            "backgroundcolor": "#E5ECF6",
            "gridcolor": "white",
            "gridwidth": 2,
            "linecolor": "white",
            "showbackground": true,
            "ticks": "",
            "zerolinecolor": "white"
           },
           "yaxis": {
            "backgroundcolor": "#E5ECF6",
            "gridcolor": "white",
            "gridwidth": 2,
            "linecolor": "white",
            "showbackground": true,
            "ticks": "",
            "zerolinecolor": "white"
           },
           "zaxis": {
            "backgroundcolor": "#E5ECF6",
            "gridcolor": "white",
            "gridwidth": 2,
            "linecolor": "white",
            "showbackground": true,
            "ticks": "",
            "zerolinecolor": "white"
           }
          },
          "shapedefaults": {
           "line": {
            "color": "#2a3f5f"
           }
          },
          "ternary": {
           "aaxis": {
            "gridcolor": "white",
            "linecolor": "white",
            "ticks": ""
           },
           "baxis": {
            "gridcolor": "white",
            "linecolor": "white",
            "ticks": ""
           },
           "bgcolor": "#E5ECF6",
           "caxis": {
            "gridcolor": "white",
            "linecolor": "white",
            "ticks": ""
           }
          },
          "title": {
           "x": 0.05
          },
          "xaxis": {
           "automargin": true,
           "gridcolor": "white",
           "linecolor": "white",
           "ticks": "",
           "title": {
            "standoff": 15
           },
           "zerolinecolor": "white",
           "zerolinewidth": 2
          },
          "yaxis": {
           "automargin": true,
           "gridcolor": "white",
           "linecolor": "white",
           "ticks": "",
           "title": {
            "standoff": 15
           },
           "zerolinecolor": "white",
           "zerolinewidth": 2
          }
         }
        },
        "xaxis": {
         "anchor": "y",
         "autorange": true,
         "domain": [
          0,
          1
         ],
         "range": [
          0.5,
          71.5
         ],
         "title": {
          "text": "lap"
         },
         "type": "linear"
        },
        "yaxis": {
         "anchor": "x",
         "autorange": true,
         "domain": [
          0,
          1
         ],
         "range": [
          0,
          243201.05263157893
         ],
         "title": {
          "text": "ms"
         },
         "type": "linear"
        }
       }
      },
      "image/png": "[encoded data removed]",
      "text/html": [
       "<div>                            <div id=\"9f5ee9c3-ad08-4fc0-9718-4ead8de6c881\" class=\"plotly-graph-div\" style=\"height:525px; width:100%;\"></div>            <script type=\"text/javascript\">                require([\"plotly\"], function(Plotly) {                    window.PLOTLYENV=window.PLOTLYENV || {};                                    if (document.getElementById(\"9f5ee9c3-ad08-4fc0-9718-4ead8de6c881\")) {                    Plotly.newPlot(                        \"9f5ee9c3-ad08-4fc0-9718-4ead8de6c881\",                        [{\"alignmentgroup\": \"True\", \"hovertemplate\": \"code=NOR<br>lap=%{x}<br>ms=%{y}<extra></extra>\", \"legendgroup\": \"NOR\", \"marker\": {\"color\": \"#636efa\"}, \"name\": \"NOR\", \"offsetgroup\": \"NOR\", \"orientation\": \"v\", \"showlegend\": true, \"textposition\": \"auto\", \"type\": \"bar\", \"x\": [1, 2, 3, 4, 5, 6, 7, 8, 9, 10, 11, 12, 13, 14, 15, 16, 17, 18, 19, 20, 21, 22, 23, 24, 25, 26, 27, 28, 29, 30, 31, 32, 33, 34, 35, 36, 37, 38, 39, 40, 41, 42, 43, 44, 45, 46, 47, 48, 49, 50, 51, 52, 53, 54, 55, 56, 57, 58, 59, 60, 61, 62, 63, 64, 65, 66, 67, 68, 69, 70, 71], \"xaxis\": \"x\", \"y\": [74567, 70366, 71197, 70810, 69949, 70017, 70228, 70324, 70132, 70324, 70449, 70112, 70309, 70210, 70187, 70235, 70052, 69984, 70029, 69860, 70012, 69933, 70106, 69940, 69963, 90234, 110203, 103795, 114141, 110654, 70457, 69651, 70548, 69008, 69311, 69205, 69111, 68923, 69026, 69044, 69074, 68865, 68787, 68898, 69217, 69175, 68978, 68699, 68695, 68638, 83701, 109362, 105573, 96233, 100490, 114196, 116164, 111211, 103284, 93893, 69662, 68923, 68362, 69354, 68518, 69211, 68574, 68529, 69102, 67781, 67475], \"yaxis\": \"y\"}, {\"alignmentgroup\": \"True\", \"hovertemplate\": \"code=SAI<br>lap=%{x}<br>ms=%{y}<extra></extra>\", \"legendgroup\": \"SAI\", \"marker\": {\"color\": \"#EF553B\"}, \"name\": \"SAI\", \"offsetgroup\": \"SAI\", \"orientation\": \"v\", \"showlegend\": true, \"textposition\": \"auto\", \"type\": \"bar\", \"x\": [1, 2, 3, 4, 5, 6, 7, 8, 9, 10, 11, 12, 13, 14, 15, 16, 17, 18, 19, 20, 21, 22, 23, 24, 25, 26, 27, 28, 29, 30, 31, 32, 33, 34, 35, 36, 37, 38, 39, 40, 41, 42, 43, 44, 45, 46, 47, 48, 49, 50, 51, 52, 53, 54, 55, 56, 57, 58, 59, 60, 61, 62, 63, 64, 65, 66, 67, 68, 69, 70, 71], \"xaxis\": \"x\", \"y\": [77168, 71958, 70243, 70316, 70317, 70342, 70563, 70651, 70571, 70518, 70701, 70549, 70392, 70421, 70322, 70378, 70405, 70434, 70250, 70010, 70105, 70051, 70133, 70316, 70141, 90179, 112463, 97161, 115235, 106943, 71454, 70021, 69718, 69320, 69328, 69685, 69246, 69365, 69427, 69460, 69105, 69457, 69329, 69243, 69374, 69220, 69089, 68928, 68974, 69232, 84968, 95696, 117478, 92324, 101084, 116046, 114877, 110839, 103568, 92073, 70526, 68576, 67974, 68497, 68446, 69339, 68917, 68712, 69155, 69028, 68308], \"yaxis\": \"y\"}],                        {\"barmode\": \"relative\", \"legend\": {\"title\": {\"text\": \"code\"}, \"tracegroupgap\": 0}, \"margin\": {\"t\": 60}, \"template\": {\"data\": {\"bar\": [{\"error_x\": {\"color\": \"#2a3f5f\"}, \"error_y\": {\"color\": \"#2a3f5f\"}, \"marker\": {\"line\": {\"color\": \"#E5ECF6\", \"width\": 0.5}}, \"type\": \"bar\"}], \"barpolar\": [{\"marker\": {\"line\": {\"color\": \"#E5ECF6\", \"width\": 0.5}}, \"type\": \"barpolar\"}], \"carpet\": [{\"aaxis\": {\"endlinecolor\": \"#2a3f5f\", \"gridcolor\": \"white\", \"linecolor\": \"white\", \"minorgridcolor\": \"white\", \"startlinecolor\": \"#2a3f5f\"}, \"baxis\": {\"endlinecolor\": \"#2a3f5f\", \"gridcolor\": \"white\", \"linecolor\": \"white\", \"minorgridcolor\": \"white\", \"startlinecolor\": \"#2a3f5f\"}, \"type\": \"carpet\"}], \"choropleth\": [{\"colorbar\": {\"outlinewidth\": 0, \"ticks\": \"\"}, \"type\": \"choropleth\"}], \"contour\": [{\"colorbar\": {\"outlinewidth\": 0, \"ticks\": \"\"}, \"colorscale\": [[0.0, \"#0d0887\"], [0.1111111111111111, \"#46039f\"], [0.2222222222222222, \"#7201a8\"], [0.3333333333333333, \"#9c179e\"], [0.4444444444444444, \"#bd3786\"], [0.5555555555555556, \"#d8576b\"], [0.6666666666666666, \"#ed7953\"], [0.7777777777777778, \"#fb9f3a\"], [0.8888888888888888, \"#fdca26\"], [1.0, \"#f0f921\"]], \"type\": \"contour\"}], \"contourcarpet\": [{\"colorbar\": {\"outlinewidth\": 0, \"ticks\": \"\"}, \"type\": \"contourcarpet\"}], \"heatmap\": [{\"colorbar\": {\"outlinewidth\": 0, \"ticks\": \"\"}, \"colorscale\": [[0.0, \"#0d0887\"], [0.1111111111111111, \"#46039f\"], [0.2222222222222222, \"#7201a8\"], [0.3333333333333333, \"#9c179e\"], [0.4444444444444444, \"#bd3786\"], [0.5555555555555556, \"#d8576b\"], [0.6666666666666666, \"#ed7953\"], [0.7777777777777778, \"#fb9f3a\"], [0.8888888888888888, \"#fdca26\"], [1.0, \"#f0f921\"]], \"type\": \"heatmap\"}], \"heatmapgl\": [{\"colorbar\": {\"outlinewidth\": 0, \"ticks\": \"\"}, \"colorscale\": [[0.0, \"#0d0887\"], [0.1111111111111111, \"#46039f\"], [0.2222222222222222, \"#7201a8\"], [0.3333333333333333, \"#9c179e\"], [0.4444444444444444, \"#bd3786\"], [0.5555555555555556, \"#d8576b\"], [0.6666666666666666, \"#ed7953\"], [0.7777777777777778, \"#fb9f3a\"], [0.8888888888888888, \"#fdca26\"], [1.0, \"#f0f921\"]], \"type\": \"heatmapgl\"}], \"histogram\": [{\"marker\": {\"colorbar\": {\"outlinewidth\": 0, \"ticks\": \"\"}}, \"type\": \"histogram\"}], \"histogram2d\": [{\"colorbar\": {\"outlinewidth\": 0, \"ticks\": \"\"}, \"colorscale\": [[0.0, \"#0d0887\"], [0.1111111111111111, \"#46039f\"], [0.2222222222222222, \"#7201a8\"], [0.3333333333333333, \"#9c179e\"], [0.4444444444444444, \"#bd3786\"], [0.5555555555555556, \"#d8576b\"], [0.6666666666666666, \"#ed7953\"], [0.7777777777777778, \"#fb9f3a\"], [0.8888888888888888, \"#fdca26\"], [1.0, \"#f0f921\"]], \"type\": \"histogram2d\"}], \"histogram2dcontour\": [{\"colorbar\": {\"outlinewidth\": 0, \"ticks\": \"\"}, \"colorscale\": [[0.0, \"#0d0887\"], [0.1111111111111111, \"#46039f\"], [0.2222222222222222, \"#7201a8\"], [0.3333333333333333, \"#9c179e\"], [0.4444444444444444, \"#bd3786\"], [0.5555555555555556, \"#d8576b\"], [0.6666666666666666, \"#ed7953\"], [0.7777777777777778, \"#fb9f3a\"], [0.8888888888888888, \"#fdca26\"], [1.0, \"#f0f921\"]], \"type\": \"histogram2dcontour\"}], \"mesh3d\": [{\"colorbar\": {\"outlinewidth\": 0, \"ticks\": \"\"}, \"type\": \"mesh3d\"}], \"parcoords\": [{\"line\": {\"colorbar\": {\"outlinewidth\": 0, \"ticks\": \"\"}}, \"type\": \"parcoords\"}], \"pie\": [{\"automargin\": true, \"type\": \"pie\"}], \"scatter\": [{\"marker\": {\"colorbar\": {\"outlinewidth\": 0, \"ticks\": \"\"}}, \"type\": \"scatter\"}], \"scatter3d\": [{\"line\": {\"colorbar\": {\"outlinewidth\": 0, \"ticks\": \"\"}}, \"marker\": {\"colorbar\": {\"outlinewidth\": 0, \"ticks\": \"\"}}, \"type\": \"scatter3d\"}], \"scattercarpet\": [{\"marker\": {\"colorbar\": {\"outlinewidth\": 0, \"ticks\": \"\"}}, \"type\": \"scattercarpet\"}], \"scattergeo\": [{\"marker\": {\"colorbar\": {\"outlinewidth\": 0, \"ticks\": \"\"}}, \"type\": \"scattergeo\"}], \"scattergl\": [{\"marker\": {\"colorbar\": {\"outlinewidth\": 0, \"ticks\": \"\"}}, \"type\": \"scattergl\"}], \"scattermapbox\": [{\"marker\": {\"colorbar\": {\"outlinewidth\": 0, \"ticks\": \"\"}}, \"type\": \"scattermapbox\"}], \"scatterpolar\": [{\"marker\": {\"colorbar\": {\"outlinewidth\": 0, \"ticks\": \"\"}}, \"type\": \"scatterpolar\"}], \"scatterpolargl\": [{\"marker\": {\"colorbar\": {\"outlinewidth\": 0, \"ticks\": \"\"}}, \"type\": \"scatterpolargl\"}], \"scatterternary\": [{\"marker\": {\"colorbar\": {\"outlinewidth\": 0, \"ticks\": \"\"}}, \"type\": \"scatterternary\"}], \"surface\": [{\"colorbar\": {\"outlinewidth\": 0, \"ticks\": \"\"}, \"colorscale\": [[0.0, \"#0d0887\"], [0.1111111111111111, \"#46039f\"], [0.2222222222222222, \"#7201a8\"], [0.3333333333333333, \"#9c179e\"], [0.4444444444444444, \"#bd3786\"], [0.5555555555555556, \"#d8576b\"], [0.6666666666666666, \"#ed7953\"], [0.7777777777777778, \"#fb9f3a\"], [0.8888888888888888, \"#fdca26\"], [1.0, \"#f0f921\"]], \"type\": \"surface\"}], \"table\": [{\"cells\": {\"fill\": {\"color\": \"#EBF0F8\"}, \"line\": {\"color\": \"white\"}}, \"header\": {\"fill\": {\"color\": \"#C8D4E3\"}, \"line\": {\"color\": \"white\"}}, \"type\": \"table\"}]}, \"layout\": {\"annotationdefaults\": {\"arrowcolor\": \"#2a3f5f\", \"arrowhead\": 0, \"arrowwidth\": 1}, \"autotypenumbers\": \"strict\", \"coloraxis\": {\"colorbar\": {\"outlinewidth\": 0, \"ticks\": \"\"}}, \"colorscale\": {\"diverging\": [[0, \"#8e0152\"], [0.1, \"#c51b7d\"], [0.2, \"#de77ae\"], [0.3, \"#f1b6da\"], [0.4, \"#fde0ef\"], [0.5, \"#f7f7f7\"], [0.6, \"#e6f5d0\"], [0.7, \"#b8e186\"], [0.8, \"#7fbc41\"], [0.9, \"#4d9221\"], [1, \"#276419\"]], \"sequential\": [[0.0, \"#0d0887\"], [0.1111111111111111, \"#46039f\"], [0.2222222222222222, \"#7201a8\"], [0.3333333333333333, \"#9c179e\"], [0.4444444444444444, \"#bd3786\"], [0.5555555555555556, \"#d8576b\"], [0.6666666666666666, \"#ed7953\"], [0.7777777777777778, \"#fb9f3a\"], [0.8888888888888888, \"#fdca26\"], [1.0, \"#f0f921\"]], \"sequentialminus\": [[0.0, \"#0d0887\"], [0.1111111111111111, \"#46039f\"], [0.2222222222222222, \"#7201a8\"], [0.3333333333333333, \"#9c179e\"], [0.4444444444444444, \"#bd3786\"], [0.5555555555555556, \"#d8576b\"], [0.6666666666666666, \"#ed7953\"], [0.7777777777777778, \"#fb9f3a\"], [0.8888888888888888, \"#fdca26\"], [1.0, \"#f0f921\"]]}, \"colorway\": [\"#636efa\", \"#EF553B\", \"#00cc96\", \"#ab63fa\", \"#FFA15A\", \"#19d3f3\", \"#FF6692\", \"#B6E880\", \"#FF97FF\", \"#FECB52\"], \"font\": {\"color\": \"#2a3f5f\"}, \"geo\": {\"bgcolor\": \"white\", \"lakecolor\": \"white\", \"landcolor\": \"#E5ECF6\", \"showlakes\": true, \"showland\": true, \"subunitcolor\": \"white\"}, \"hoverlabel\": {\"align\": \"left\"}, \"hovermode\": \"closest\", \"mapbox\": {\"style\": \"light\"}, \"paper_bgcolor\": \"white\", \"plot_bgcolor\": \"#E5ECF6\", \"polar\": {\"angularaxis\": {\"gridcolor\": \"white\", \"linecolor\": \"white\", \"ticks\": \"\"}, \"bgcolor\": \"#E5ECF6\", \"radialaxis\": {\"gridcolor\": \"white\", \"linecolor\": \"white\", \"ticks\": \"\"}}, \"scene\": {\"xaxis\": {\"backgroundcolor\": \"#E5ECF6\", \"gridcolor\": \"white\", \"gridwidth\": 2, \"linecolor\": \"white\", \"showbackground\": true, \"ticks\": \"\", \"zerolinecolor\": \"white\"}, \"yaxis\": {\"backgroundcolor\": \"#E5ECF6\", \"gridcolor\": \"white\", \"gridwidth\": 2, \"linecolor\": \"white\", \"showbackground\": true, \"ticks\": \"\", \"zerolinecolor\": \"white\"}, \"zaxis\": {\"backgroundcolor\": \"#E5ECF6\", \"gridcolor\": \"white\", \"gridwidth\": 2, \"linecolor\": \"white\", \"showbackground\": true, \"ticks\": \"\", \"zerolinecolor\": \"white\"}}, \"shapedefaults\": {\"line\": {\"color\": \"#2a3f5f\"}}, \"ternary\": {\"aaxis\": {\"gridcolor\": \"white\", \"linecolor\": \"white\", \"ticks\": \"\"}, \"baxis\": {\"gridcolor\": \"white\", \"linecolor\": \"white\", \"ticks\": \"\"}, \"bgcolor\": \"#E5ECF6\", \"caxis\": {\"gridcolor\": \"white\", \"linecolor\": \"white\", \"ticks\": \"\"}}, \"title\": {\"x\": 0.05}, \"xaxis\": {\"automargin\": true, \"gridcolor\": \"white\", \"linecolor\": \"white\", \"ticks\": \"\", \"title\": {\"standoff\": 15}, \"zerolinecolor\": \"white\", \"zerolinewidth\": 2}, \"yaxis\": {\"automargin\": true, \"gridcolor\": \"white\", \"linecolor\": \"white\", \"ticks\": \"\", \"title\": {\"standoff\": 15}, \"zerolinecolor\": \"white\", \"zerolinewidth\": 2}}}, \"xaxis\": {\"anchor\": \"y\", \"domain\": [0.0, 1.0], \"title\": {\"text\": \"lap\"}}, \"yaxis\": {\"anchor\": \"x\", \"domain\": [0.0, 1.0], \"title\": {\"text\": \"ms\"}}},                        {\"responsive\": true}                    ).then(function(){\n",
       "                            \n",
       "var gd = document.getElementById('9f5ee9c3-ad08-4fc0-9718-4ead8de6c881');\n",
       "var x = new MutationObserver(function (mutations, observer) {{\n",
       "        var display = window.getComputedStyle(gd).display;\n",
       "        if (!display || display === 'none') {{\n",
       "            console.log([gd, 'removed!']);\n",
       "            Plotly.purge(gd);\n",
       "            observer.disconnect();\n",
       "        }}\n",
       "}});\n",
       "\n",
       "// Listen for the removal of the full notebook cells\n",
       "var notebookContainer = gd.closest('#notebook-container');\n",
       "if (notebookContainer) {{\n",
       "    x.observe(notebookContainer, {childList: true});\n",
       "}}\n",
       "\n",
       "// Listen for the clearing of the current output cell\n",
       "var outputEl = gd.closest('.output');\n",
       "if (outputEl) {{\n",
       "    x.observe(outputEl, {childList: true});\n",
       "}}\n",
       "\n",
       "                        })                };                });            </script>        </div>"
      ]
     },
     "metadata": {},
     "output_type": "display_data"
    }
   ],
   "source": [
    "## Barplot to observe lap times over laps\n",
    "fig = px.bar(mcl_r1, x = \"lap\", y = \"ms\", color = \"code\")\n",
    "fig.show()"
   ]
  },
  {
   "cell_type": "markdown",
   "metadata": {},
   "source": [
    "There are a few things to take away from this plot. "
   ]
  },
  {
   "cell_type": "markdown",
   "metadata": {},
   "source": [
    "#### Lap x Accumulated Milliseconds Plot"
   ]
  },
  {
   "cell_type": "markdown",
   "metadata": {},
   "source": [
    "Plotting Laps against Accumulated Time allows us to observe drivers pace compared to others.\n",
    "\n",
    "By plotting lap on the x-axis and accumulated milliseconds on the y-axis we can infer the following:\n",
    "- A constant slope reflects consistent pace (i.e driver lap times are consistent over laps in lap x time units)\n",
    "- A decrease in slope reflects an increase in pace (i.e driver is covering more laps in shorter amount of time)\n",
    "    - By calculating the slope using upper and lower bounds (laps), we can get a sense of the pace during those laps\n",
    "- We can identify pit windows by looking for increases in slope. This window can allow teams and drivers to gain ground on opponents, or increase the gap between them and the opponents behind them. \n",
    "    - Additionally, we can identify how a driver responds before/after they box as well as being subject to undercut/overcuts\n",
    "- We can consider each driver's curve as a function, and therefore use the integral (with upper/lower bounds being laps) to calculate area under the curve (AUC) and compare the lap x time deltas between multiple drivers. Additionally, if we consider lap = distance, the AUC reflects speed squared."
   ]
  },
  {
   "cell_type": "code",
   "execution_count": 37,
   "metadata": {},
   "outputs": [
    {
     "data": {
      "application/vnd.plotly.v1+json": {
       "config": {
        "plotlyServerURL": "https://plot.ly"
       },
       "data": [
        {
         "hovertemplate": "code=ALB<br>lap=%{x}<br>accumulated=%{y}<extra></extra>",
         "legendgroup": "ALB",
         "line": {
          "color": "#636efa",
          "dash": "solid",
          "shape": "spline"
         },
         "mode": "lines",
         "name": "ALB",
         "orientation": "v",
         "showlegend": true,
         "type": "scatter",
         "x": [
          1,
          2,
          3,
          4,
          5,
          6,
          7,
          8,
          9,
          10,
          11,
          12,
          13,
          14,
          15,
          16,
          17,
          18,
          19,
          20,
          21,
          22,
          23,
          24,
          25,
          26,
          27,
          28,
          29,
          30,
          31,
          32,
          33,
          34,
          35,
          36,
          37,
          38,
          39,
          40,
          41,
          42,
          43,
          44,
          45,
          46,
          47,
          48,
          49,
          50,
          51,
          52,
          53,
          54,
          55,
          56,
          57,
          58,
          59,
          60,
          61,
          62,
          63,
          64,
          65,
          66,
          67
         ],
         "xaxis": "x",
         "y": [
          null,
          75104,
          145466,
          215045,
          284898,
          354310,
          423835,
          493643,
          563292,
          634969,
          705464,
          775561,
          845444,
          915196,
          985206,
          1055314,
          1125396,
          1195219,
          1265126,
          1335211,
          1405158,
          1475260,
          1545156,
          1615153,
          1685088,
          1755007,
          1929335,
          2040299,
          2146948,
          2262624,
          2374766,
          2444816,
          2514181,
          2583452,
          2652155,
          2720773,
          2789476,
          2858069,
          2926803,
          2995525,
          3064203,
          3132977,
          3201857,
          3270864,
          3339691,
          3408811,
          3477896,
          3546639,
          3615276,
          3683860,
          3752292,
          3913536,
          4022953,
          4136537,
          4233827,
          4333338,
          4561500,
          4677849,
          4788855,
          4890312,
          4986820,
          5063588,
          5133762,
          5203372,
          5273292,
          5343813,
          5414672
         ],
         "yaxis": "y"
        },
        {
         "hovertemplate": "code=BOT<br>lap=%{x}<br>accumulated=%{y}<extra></extra>",
         "legendgroup": "BOT",
         "line": {
          "color": "#EF553B",
          "dash": "solid",
          "shape": "spline"
         },
         "mode": "lines",
         "name": "BOT",
         "orientation": "v",
         "showlegend": true,
         "type": "scatter",
         "x": [
          1,
          2,
          3,
          4,
          5,
          6,
          7,
          8,
          9,
          10,
          11,
          12,
          13,
          14,
          15,
          16,
          17,
          18,
          19,
          20,
          21,
          22,
          23,
          24,
          25,
          26,
          27,
          28,
          29,
          30,
          31,
          32,
          33,
          34,
          35,
          36,
          37,
          38,
          39,
          40,
          41,
          42,
          43,
          44,
          45,
          46,
          47,
          48,
          49,
          50,
          51,
          52,
          53,
          54,
          55,
          56,
          57,
          58,
          59,
          60,
          61,
          62,
          63,
          64,
          65,
          66,
          67,
          68,
          69,
          70,
          71
         ],
         "xaxis": "x",
         "y": [
          null,
          71454,
          140895,
          210493,
          280085,
          349244,
          418630,
          487681,
          556866,
          626223,
          695680,
          765087,
          834736,
          904069,
          973616,
          1042916,
          1112333,
          1181557,
          1250606,
          1319866,
          1389378,
          1459077,
          1528924,
          1598541,
          1668946,
          1739095,
          1907331,
          2030264,
          2141113,
          2256396,
          2370139,
          2438875,
          2507608,
          2576128,
          2644652,
          2713085,
          2781345,
          2849539,
          2917774,
          2986077,
          3054208,
          3122350,
          3190622,
          3259094,
          3327416,
          3395647,
          3464109,
          3532530,
          3600809,
          3669231,
          3737582,
          3812966,
          3928361,
          4048461,
          4148554,
          4244633,
          4474249,
          4592086,
          4701901,
          4804526,
          4903072,
          4971276,
          5039654,
          5107716,
          5175890,
          5244128,
          5312327,
          5380350,
          5448007,
          5518053,
          5586253
         ],
         "yaxis": "y"
        },
        {
         "hovertemplate": "code=GAS<br>lap=%{x}<br>accumulated=%{y}<extra></extra>",
         "legendgroup": "GAS",
         "line": {
          "color": "#00cc96",
          "dash": "solid",
          "shape": "spline"
         },
         "mode": "lines",
         "name": "GAS",
         "orientation": "v",
         "showlegend": true,
         "type": "scatter",
         "x": [
          1,
          2,
          3,
          4,
          5,
          6,
          7,
          8,
          9,
          10,
          11,
          12,
          13,
          14,
          15,
          16,
          17,
          18,
          19,
          20,
          21,
          22,
          23,
          24,
          25,
          26,
          27,
          28,
          29,
          30,
          31,
          32,
          33,
          34,
          35,
          36,
          37,
          38,
          39,
          40,
          41,
          42,
          43,
          44,
          45,
          46,
          47,
          48,
          49,
          50,
          51,
          52,
          53,
          54,
          55,
          56,
          57,
          58,
          59,
          60,
          61,
          62,
          63,
          64,
          65,
          66,
          67,
          68,
          69,
          70,
          71
         ],
         "xaxis": "x",
         "y": [
          null,
          79106,
          151518,
          222829,
          293554,
          365065,
          437093,
          508266,
          579178,
          650080,
          721111,
          792200,
          863269,
          934166,
          1004993,
          1075963,
          1146916,
          1217678,
          1288522,
          1359234,
          1430173,
          1500906,
          1571441,
          1642113,
          1712681,
          1783291,
          1974829,
          2084812,
          2166732,
          2280743,
          2386342,
          2457441,
          2527724,
          2597723,
          2667351,
          2737303,
          2807272,
          2877136,
          2946712,
          3016551,
          3086372,
          3156185,
          3225990,
          3295585,
          3365406,
          3435521,
          3505167,
          3574620,
          3644049,
          3713419,
          3782789,
          3871747,
          3966396,
          4070208,
          4163639,
          4264923,
          4495917,
          4611114,
          4722061,
          4825265,
          4917850,
          4988522,
          5058892,
          5128233,
          5197258,
          5266617,
          5336560,
          5406081,
          5475442,
          5544926,
          5614047
         ],
         "yaxis": "y"
        },
        {
         "hovertemplate": "code=GIO<br>lap=%{x}<br>accumulated=%{y}<extra></extra>",
         "legendgroup": "GIO",
         "line": {
          "color": "#ab63fa",
          "dash": "solid",
          "shape": "spline"
         },
         "mode": "lines",
         "name": "GIO",
         "orientation": "v",
         "showlegend": true,
         "type": "scatter",
         "x": [
          1,
          2,
          3,
          4,
          5,
          6,
          7,
          8,
          9,
          10,
          11,
          12,
          13,
          14,
          15,
          16,
          17,
          18,
          19,
          20,
          21,
          22,
          23,
          24,
          25,
          26,
          27,
          28,
          29,
          30,
          31,
          32,
          33,
          34,
          35,
          36,
          37,
          38,
          39,
          40,
          41,
          42,
          43,
          44,
          45,
          46,
          47,
          48,
          49,
          50,
          51,
          52,
          53,
          54,
          55,
          56,
          57,
          58,
          59,
          60,
          61,
          62,
          63,
          64,
          65,
          66,
          67,
          68,
          69,
          70,
          71
         ],
         "xaxis": "x",
         "y": [
          null,
          80013,
          152972,
          224605,
          296087,
          367935,
          440414,
          512244,
          583828,
          655411,
          727065,
          798925,
          870376,
          941859,
          1012846,
          1085392,
          1156798,
          1227891,
          1300342,
          1371369,
          1442399,
          1513564,
          1584431,
          1655333,
          1726304,
          1884246,
          2021629,
          2105635,
          2178649,
          2268189,
          2371751,
          2442777,
          2513562,
          2583714,
          2653787,
          2724087,
          2794499,
          2864824,
          2934974,
          3005085,
          3075406,
          3145398,
          3215337,
          3284991,
          3354821,
          3424715,
          3494240,
          3563451,
          3632887,
          3702259,
          3771491,
          3860010,
          3955520,
          4056427,
          4148344,
          4351212,
          4596616,
          4709035,
          4819384,
          4923774,
          5011983,
          5083170,
          5153703,
          5222938,
          5293687,
          5364091,
          5434817,
          5503710,
          5572851,
          5642018,
          5710814
         ],
         "yaxis": "y"
        },
        {
         "hovertemplate": "code=GRO<br>lap=%{x}<br>accumulated=%{y}<extra></extra>",
         "legendgroup": "GRO",
         "line": {
          "color": "#FFA15A",
          "dash": "solid",
          "shape": "spline"
         },
         "mode": "lines",
         "name": "GRO",
         "orientation": "v",
         "showlegend": true,
         "type": "scatter",
         "x": [
          1,
          2,
          3,
          4,
          5,
          6,
          7,
          8,
          9,
          10,
          11,
          12,
          13,
          14,
          15,
          16,
          17,
          18,
          19,
          20,
          21,
          22,
          23,
          24,
          25,
          26,
          27,
          28,
          29,
          30,
          31,
          32,
          33,
          34,
          35,
          36,
          37,
          38,
          39,
          40,
          41,
          42,
          43,
          44,
          45,
          46,
          47,
          48,
          49
         ],
         "xaxis": "x",
         "y": [
          null,
          81365,
          154899,
          227082,
          298658,
          370487,
          442355,
          514259,
          586267,
          658096,
          729939,
          801830,
          873445,
          945151,
          1016588,
          1087965,
          1159189,
          1230743,
          1302269,
          1373512,
          1459382,
          1551679,
          1624603,
          1699002,
          1770063,
          1861286,
          1956840,
          2061546,
          2153689,
          2225055,
          2296138,
          2367208,
          2438117,
          2509381,
          2579757,
          2650483,
          2722913,
          2793594,
          2863997,
          2934937,
          3005504,
          3075846,
          3146185,
          3216490,
          3286850,
          3357326,
          3427554,
          3497815,
          3568990
         ],
         "yaxis": "y"
        },
        {
         "hovertemplate": "code=HAM<br>lap=%{x}<br>accumulated=%{y}<extra></extra>",
         "legendgroup": "HAM",
         "line": {
          "color": "#19d3f3",
          "dash": "solid",
          "shape": "spline"
         },
         "mode": "lines",
         "name": "HAM",
         "orientation": "v",
         "showlegend": true,
         "type": "scatter",
         "x": [
          1,
          2,
          3,
          4,
          5,
          6,
          7,
          8,
          9,
          10,
          11,
          12,
          13,
          14,
          15,
          16,
          17,
          18,
          19,
          20,
          21,
          22,
          23,
          24,
          25,
          26,
          27,
          28,
          29,
          30,
          31,
          32,
          33,
          34,
          35,
          36,
          37,
          38,
          39,
          40,
          41,
          42,
          43,
          44,
          45,
          46,
          47,
          48,
          49,
          50,
          51,
          52,
          53,
          54,
          55,
          56,
          57,
          58,
          59,
          60,
          61,
          62,
          63,
          64,
          65,
          66,
          67,
          68,
          69,
          70,
          71
         ],
         "xaxis": "x",
         "y": [
          null,
          75627,
          146177,
          216539,
          285879,
          355340,
          424634,
          494335,
          564131,
          633678,
          703361,
          772942,
          842528,
          911651,
          980884,
          1050068,
          1119210,
          1188256,
          1257332,
          1326463,
          1395463,
          1464803,
          1534129,
          1603485,
          1672827,
          1742337,
          1919341,
          2036259,
          2147060,
          2262726,
          2375254,
          2444285,
          2513035,
          2581719,
          2649977,
          2718366,
          2786530,
          2854773,
          2923207,
          2991463,
          3059521,
          3127668,
          3195783,
          3264152,
          3332750,
          3401217,
          3470029,
          3538486,
          3606869,
          3675317,
          3743723,
          3822719,
          3933799,
          4054665,
          4153733,
          4251261,
          4479559,
          4596805,
          4706908,
          4810245,
          4907250,
          4976286,
          5044864,
          5113436,
          5181971,
          5250153,
          5318245,
          5385957,
          5453873,
          5522457,
          5590876
         ],
         "yaxis": "y"
        },
        {
         "hovertemplate": "code=KVY<br>lap=%{x}<br>accumulated=%{y}<extra></extra>",
         "legendgroup": "KVY",
         "line": {
          "color": "#FF6692",
          "dash": "solid",
          "shape": "spline"
         },
         "mode": "lines",
         "name": "KVY",
         "orientation": "v",
         "showlegend": true,
         "type": "scatter",
         "x": [
          1,
          2,
          3,
          4,
          5,
          6,
          7,
          8,
          9,
          10,
          11,
          12,
          13,
          14,
          15,
          16,
          17,
          18,
          19,
          20,
          21,
          22,
          23,
          24,
          25,
          26,
          27,
          28,
          29,
          30,
          31,
          32,
          33,
          34,
          35,
          36,
          37,
          38,
          39,
          40,
          41,
          42,
          43,
          44,
          45,
          46,
          47,
          48,
          49,
          50,
          51,
          52,
          53,
          54,
          55,
          56,
          57,
          58,
          59,
          60,
          61,
          62,
          63,
          64,
          65,
          66,
          67,
          68,
          69
         ],
         "xaxis": "x",
         "y": [
          null,
          80360,
          153487,
          225213,
          296540,
          368635,
          439632,
          510594,
          581726,
          652714,
          723583,
          794986,
          866080,
          937042,
          1007795,
          1078798,
          1149629,
          1220819,
          1291456,
          1362295,
          1433223,
          1504007,
          1574530,
          1645120,
          1715540,
          1786195,
          1990835,
          2095005,
          2175175,
          2289413,
          2393823,
          2464820,
          2535293,
          2605421,
          2675319,
          2745543,
          2816200,
          2886235,
          2956696,
          3026523,
          3096292,
          3166378,
          3236112,
          3305585,
          3374960,
          3444789,
          3514116,
          3583402,
          3653105,
          3722768,
          3791903,
          3967401,
          4075410,
          4169354,
          4259704,
          4362168,
          4595834,
          4710046,
          4820440,
          4924544,
          5014526,
          5085953,
          5156063,
          5226305,
          5297086,
          5367464,
          5438087,
          5509562,
          5580018
         ],
         "yaxis": "y"
        },
        {
         "hovertemplate": "code=LAT<br>lap=%{x}<br>accumulated=%{y}<extra></extra>",
         "legendgroup": "LAT",
         "line": {
          "color": "#B6E880",
          "dash": "solid",
          "shape": "spline"
         },
         "mode": "lines",
         "name": "LAT",
         "orientation": "v",
         "showlegend": true,
         "type": "scatter",
         "x": [
          1,
          2,
          3,
          4,
          5,
          6,
          7,
          8,
          9,
          10,
          11,
          12,
          13,
          14,
          15,
          16,
          17,
          18,
          19,
          20,
          21,
          22,
          23,
          24,
          25,
          26,
          27,
          28,
          29,
          30,
          31,
          32,
          33,
          34,
          35,
          36,
          37,
          38,
          39,
          40,
          41,
          42,
          43,
          44,
          45,
          46,
          47,
          48,
          49,
          50,
          51,
          52,
          53,
          54,
          55,
          56,
          57,
          58,
          59,
          60,
          61,
          62,
          63,
          64,
          65,
          66,
          67,
          68,
          69,
          70,
          71
         ],
         "xaxis": "x",
         "y": [
          null,
          82200,
          156061,
          228415,
          300316,
          372235,
          444047,
          516150,
          588351,
          660922,
          733642,
          806064,
          878054,
          949862,
          1021543,
          1093206,
          1164952,
          1236797,
          1308540,
          1380145,
          1452861,
          1524679,
          1595919,
          1667132,
          1741075,
          1827136,
          2061570,
          2182352,
          2279683,
          2354914,
          2427064,
          2498354,
          2569249,
          2639732,
          2710168,
          2781009,
          2851821,
          2922155,
          2992466,
          3062758,
          3133200,
          3203473,
          3273735,
          3343964,
          3414269,
          3484567,
          3554605,
          3624422,
          3694687,
          3765447,
          3841608,
          4032244,
          4129368,
          4202787,
          4284632,
          4386532,
          4622866,
          4735678,
          4845765,
          4950258,
          5039317,
          5111405,
          5182093,
          5251755,
          5322688,
          5393598,
          5464307,
          5534700,
          5605606,
          5676219,
          5747231
         ],
         "yaxis": "y"
        },
        {
         "hovertemplate": "code=LEC<br>lap=%{x}<br>accumulated=%{y}<extra></extra>",
         "legendgroup": "LEC",
         "line": {
          "color": "#FF97FF",
          "dash": "solid",
          "shape": "spline"
         },
         "mode": "lines",
         "name": "LEC",
         "orientation": "v",
         "showlegend": true,
         "type": "scatter",
         "x": [
          1,
          2,
          3,
          4,
          5,
          6,
          7,
          8,
          9,
          10,
          11,
          12,
          13,
          14,
          15,
          16,
          17,
          18,
          19,
          20,
          21,
          22,
          23,
          24,
          25,
          26,
          27,
          28,
          29,
          30,
          31,
          32,
          33,
          34,
          35,
          36,
          37,
          38,
          39,
          40,
          41,
          42,
          43,
          44,
          45,
          46,
          47,
          48,
          49,
          50,
          51,
          52,
          53,
          54,
          55,
          56,
          57,
          58,
          59,
          60,
          61,
          62,
          63,
          64,
          65,
          66,
          67,
          68,
          69,
          70,
          71
         ],
         "xaxis": "x",
         "y": [
          null,
          76847,
          148265,
          218190,
          288461,
          358771,
          429058,
          499654,
          570265,
          640776,
          711236,
          781926,
          852470,
          922959,
          993292,
          1063600,
          1133878,
          1204016,
          1274193,
          1344265,
          1414219,
          1484400,
          1554645,
          1625037,
          1695154,
          1765353,
          1944965,
          2055082,
          2156133,
          2271086,
          2378652,
          2449529,
          2519654,
          2589250,
          2658788,
          2728033,
          2797512,
          2866775,
          2935748,
          3004932,
          3074044,
          3143170,
          3212290,
          3281393,
          3350611,
          3420192,
          3489321,
          3558352,
          3627133,
          3696286,
          3765371,
          3934771,
          4042604,
          4146818,
          4241334,
          4342604,
          4571626,
          4687447,
          4798293,
          4901770,
          4995119,
          5065172,
          5134088,
          5202477,
          5270378,
          5338717,
          5406737,
          5474810,
          5542937,
          5611261,
          5679196
         ],
         "yaxis": "y"
        },
        {
         "hovertemplate": "code=MAG<br>lap=%{x}<br>accumulated=%{y}<extra></extra>",
         "legendgroup": "MAG",
         "line": {
          "color": "#FECB52",
          "dash": "solid",
          "shape": "spline"
         },
         "mode": "lines",
         "name": "MAG",
         "orientation": "v",
         "showlegend": true,
         "type": "scatter",
         "x": [
          1,
          2,
          3,
          4,
          5,
          6,
          7,
          8,
          9,
          10,
          11,
          12,
          13,
          14,
          15,
          16,
          17,
          18,
          19,
          20,
          21,
          22,
          23,
          24
         ],
         "xaxis": "x",
         "y": [
          null,
          79587,
          152349,
          223880,
          295462,
          367341,
          438804,
          511673,
          583162,
          654682,
          726370,
          798092,
          869233,
          940135,
          1011287,
          1082673,
          1153748,
          1225514,
          1296788,
          1367762,
          1438614,
          1509457,
          1580341,
          1651061
         ],
         "yaxis": "y"
        },
        {
         "hovertemplate": "code=NOR<br>lap=%{x}<br>accumulated=%{y}<extra></extra>",
         "legendgroup": "NOR",
         "line": {
          "color": "#636efa",
          "dash": "solid",
          "shape": "spline"
         },
         "mode": "lines",
         "name": "NOR",
         "orientation": "v",
         "showlegend": true,
         "type": "scatter",
         "x": [
          1,
          2,
          3,
          4,
          5,
          6,
          7,
          8,
          9,
          10,
          11,
          12,
          13,
          14,
          15,
          16,
          17,
          18,
          19,
          20,
          21,
          22,
          23,
          24,
          25,
          26,
          27,
          28,
          29,
          30,
          31,
          32,
          33,
          34,
          35,
          36,
          37,
          38,
          39,
          40,
          41,
          42,
          43,
          44,
          45,
          46,
          47,
          48,
          49,
          50,
          51,
          52,
          53,
          54,
          55,
          56,
          57,
          58,
          59,
          60,
          61,
          62,
          63,
          64,
          65,
          66,
          67,
          68,
          69,
          70,
          71
         ],
         "xaxis": "x",
         "y": [
          null,
          74567,
          144933,
          216130,
          286940,
          356889,
          426906,
          497134,
          567458,
          637590,
          707914,
          778363,
          848475,
          918784,
          988994,
          1059181,
          1129416,
          1199468,
          1269452,
          1339481,
          1409341,
          1479353,
          1549286,
          1619392,
          1689332,
          1759295,
          1939763,
          2049966,
          2153761,
          2267902,
          2378556,
          2449013,
          2518664,
          2589212,
          2658220,
          2727531,
          2796736,
          2865847,
          2934770,
          3003796,
          3072840,
          3141914,
          3210779,
          3279566,
          3348464,
          3417681,
          3486856,
          3555834,
          3624533,
          3693228,
          3761866,
          3929268,
          4038630,
          4144203,
          4240436,
          4340926,
          4569318,
          4685482,
          4796693,
          4899977,
          4993870,
          5063532,
          5132455,
          5200817,
          5270171,
          5338689,
          5407900,
          5476474,
          5545003,
          5614105,
          5681886
         ],
         "yaxis": "y"
        },
        {
         "hovertemplate": "code=OCO<br>lap=%{x}<br>accumulated=%{y}<extra></extra>",
         "legendgroup": "OCO",
         "line": {
          "color": "#EF553B",
          "dash": "solid",
          "shape": "spline"
         },
         "mode": "lines",
         "name": "OCO",
         "orientation": "v",
         "showlegend": true,
         "type": "scatter",
         "x": [
          1,
          2,
          3,
          4,
          5,
          6,
          7,
          8,
          9,
          10,
          11,
          12,
          13,
          14,
          15,
          16,
          17,
          18,
          19,
          20,
          21,
          22,
          23,
          24,
          25,
          26,
          27,
          28,
          29,
          30,
          31,
          32,
          33,
          34,
          35,
          36,
          37,
          38,
          39,
          40,
          41,
          42,
          43,
          44,
          45,
          46,
          47,
          48,
          49,
          50,
          51,
          52,
          53,
          54,
          55,
          56,
          57,
          58,
          59,
          60,
          61,
          62,
          63,
          64,
          65,
          66,
          67,
          68,
          69,
          70,
          71
         ],
         "xaxis": "x",
         "y": [
          null,
          80678,
          153969,
          225755,
          297170,
          369226,
          440953,
          512769,
          584409,
          656054,
          727922,
          799564,
          871087,
          942586,
          1013521,
          1084224,
          1155074,
          1226421,
          1297576,
          1368358,
          1439232,
          1510246,
          1580863,
          1651689,
          1722745,
          1800607,
          1985957,
          2086450,
          2166717,
          2280808,
          2384749,
          2455847,
          2526441,
          2596591,
          2666368,
          2736668,
          2807268,
          2877334,
          2947759,
          3017651,
          3087354,
          3157675,
          3227238,
          3296967,
          3366495,
          3436161,
          3505474,
          3574738,
          3644194,
          3713885,
          3783184,
          3872758,
          3966489,
          4068091,
          4160996,
          4263353,
          4496079,
          4610505,
          4721244,
          4824841,
          4915987,
          4987743,
          5057552,
          5127080,
          5196012,
          5265172,
          5335075,
          5404766,
          5473923,
          5543656,
          5612568
         ],
         "yaxis": "y"
        },
        {
         "hovertemplate": "code=PER<br>lap=%{x}<br>accumulated=%{y}<extra></extra>",
         "legendgroup": "PER",
         "line": {
          "color": "#00cc96",
          "dash": "solid",
          "shape": "spline"
         },
         "mode": "lines",
         "name": "PER",
         "orientation": "v",
         "showlegend": true,
         "type": "scatter",
         "x": [
          1,
          2,
          3,
          4,
          5,
          6,
          7,
          8,
          9,
          10,
          11,
          12,
          13,
          14,
          15,
          16,
          17,
          18,
          19,
          20,
          21,
          22,
          23,
          24,
          25,
          26,
          27,
          28,
          29,
          30,
          31,
          32,
          33,
          34,
          35,
          36,
          37,
          38,
          39,
          40,
          41,
          42,
          43,
          44,
          45,
          46,
          47,
          48,
          49,
          50,
          51,
          52,
          53,
          54,
          55,
          56,
          57,
          58,
          59,
          60,
          61,
          62,
          63,
          64,
          65,
          66,
          67,
          68,
          69,
          70,
          71
         ],
         "xaxis": "x",
         "y": [
          null,
          76326,
          147138,
          217409,
          287674,
          357736,
          427658,
          498075,
          568366,
          638618,
          709034,
          779275,
          849286,
          919800,
          990517,
          1061218,
          1131773,
          1202113,
          1272374,
          1342536,
          1412596,
          1482424,
          1552564,
          1622339,
          1692341,
          1762352,
          1939826,
          2049301,
          2153197,
          2268054,
          2377367,
          2448075,
          2517894,
          2586731,
          2655365,
          2723860,
          2793089,
          2861758,
          2930668,
          2999467,
          3068352,
          3137314,
          3206062,
          3274850,
          3343750,
          3413060,
          3481857,
          3550490,
          3619005,
          3687563,
          3756045,
          3838614,
          3936481,
          4056145,
          4154551,
          4252686,
          4480644,
          4597615,
          4708647,
          4812515,
          4908122,
          4977548,
          5046296,
          5114601,
          5183155,
          5251701,
          5321559,
          5389933,
          5458854,
          5529549,
          5598267
         ],
         "yaxis": "y"
        },
        {
         "hovertemplate": "code=RAI<br>lap=%{x}<br>accumulated=%{y}<extra></extra>",
         "legendgroup": "RAI",
         "line": {
          "color": "#ab63fa",
          "dash": "solid",
          "shape": "spline"
         },
         "mode": "lines",
         "name": "RAI",
         "orientation": "v",
         "showlegend": true,
         "type": "scatter",
         "x": [
          1,
          2,
          3,
          4,
          5,
          6,
          7,
          8,
          9,
          10,
          11,
          12,
          13,
          14,
          15,
          16,
          17,
          18,
          19,
          20,
          21,
          22,
          23,
          24,
          25,
          26,
          27,
          28,
          29,
          30,
          31,
          32,
          33,
          34,
          35,
          36,
          37,
          38,
          39,
          40,
          41,
          42,
          43,
          44,
          45,
          46,
          47,
          48,
          49,
          50,
          51,
          52,
          53
         ],
         "xaxis": "x",
         "y": [
          null,
          80781,
          154090,
          226188,
          297560,
          369480,
          441373,
          513144,
          585085,
          656560,
          728455,
          800073,
          871866,
          943220,
          1014539,
          1085905,
          1157493,
          1228706,
          1299081,
          1369833,
          1440560,
          1511130,
          1581843,
          1652741,
          1802191,
          1905614,
          2019413,
          2103014,
          2176496,
          2267101,
          2369249,
          2440028,
          2511025,
          2581425,
          2651613,
          2721945,
          2792300,
          2862307,
          2932643,
          3003139,
          3073297,
          3143259,
          3213272,
          3283224,
          3352624,
          3422597,
          3492029,
          3561091,
          3630122,
          3699539,
          3768923,
          3949829,
          4058219
         ],
         "yaxis": "y"
        },
        {
         "hovertemplate": "code=RIC<br>lap=%{x}<br>accumulated=%{y}<extra></extra>",
         "legendgroup": "RIC",
         "line": {
          "color": "#FFA15A",
          "dash": "solid",
          "shape": "spline"
         },
         "mode": "lines",
         "name": "RIC",
         "orientation": "v",
         "showlegend": true,
         "type": "scatter",
         "x": [
          1,
          2,
          3,
          4,
          5,
          6,
          7,
          8,
          9,
          10,
          11,
          12,
          13,
          14,
          15,
          16,
          17
         ],
         "xaxis": "x",
         "y": [
          null,
          78766,
          150891,
          222127,
          292755,
          363391,
          434345,
          505158,
          575768,
          646693,
          717448,
          788729,
          859614,
          930543,
          1001357,
          1072185,
          1143009
         ],
         "yaxis": "y"
        },
        {
         "hovertemplate": "code=RUS<br>lap=%{x}<br>accumulated=%{y}<extra></extra>",
         "legendgroup": "RUS",
         "line": {
          "color": "#19d3f3",
          "dash": "solid",
          "shape": "spline"
         },
         "mode": "lines",
         "name": "RUS",
         "orientation": "v",
         "showlegend": true,
         "type": "scatter",
         "x": [
          1,
          2,
          3,
          4,
          5,
          6,
          7,
          8,
          9,
          10,
          11,
          12,
          13,
          14,
          15,
          16,
          17,
          18,
          19,
          20,
          21,
          22,
          23,
          24,
          25,
          26,
          27,
          28,
          29,
          30,
          31,
          32,
          33,
          34,
          35,
          36,
          37,
          38,
          39,
          40,
          41,
          42,
          43,
          44,
          45,
          46,
          47,
          48,
          49
         ],
         "xaxis": "x",
         "y": [
          null,
          81596,
          155332,
          227666,
          299260,
          370984,
          443114,
          515266,
          587050,
          659257,
          731554,
          803477,
          875294,
          946851,
          1018439,
          1090002,
          1161676,
          1233214,
          1304400,
          1375453,
          1446663,
          1517677,
          1588568,
          1659607,
          1730713,
          1810018,
          1944083,
          2027413,
          2100563,
          2190876,
          2293290,
          2364505,
          2435467,
          2505784,
          2575932,
          2646039,
          2716432,
          2786744,
          2856980,
          2927315,
          2997576,
          3067477,
          3137697,
          3207722,
          3278912,
          3349369,
          3419383,
          3489076,
          3558964
         ],
         "yaxis": "y"
        },
        {
         "hovertemplate": "code=SAI<br>lap=%{x}<br>accumulated=%{y}<extra></extra>",
         "legendgroup": "SAI",
         "line": {
          "color": "#FF6692",
          "dash": "solid",
          "shape": "spline"
         },
         "mode": "lines",
         "name": "SAI",
         "orientation": "v",
         "showlegend": true,
         "type": "scatter",
         "visible": "legendonly",
         "x": [
          1,
          2,
          3,
          4,
          5,
          6,
          7,
          8,
          9,
          10,
          11,
          12,
          13,
          14,
          15,
          16,
          17,
          18,
          19,
          20,
          21,
          22,
          23,
          24,
          25,
          26,
          27,
          28,
          29,
          30,
          31,
          32,
          33,
          34,
          35,
          36,
          37,
          38,
          39,
          40,
          41,
          42,
          43,
          44,
          45,
          46,
          47,
          48,
          49,
          50,
          51,
          52,
          53,
          54,
          55,
          56,
          57,
          58,
          59,
          60,
          61,
          62,
          63,
          64,
          65,
          66,
          67,
          68,
          69,
          70,
          71
         ],
         "xaxis": "x",
         "y": [
          null,
          77168,
          149126,
          219369,
          289685,
          360002,
          430344,
          500907,
          571558,
          642129,
          712647,
          783348,
          853897,
          924289,
          994710,
          1065032,
          1135410,
          1205815,
          1276249,
          1346499,
          1416509,
          1486614,
          1556665,
          1626798,
          1697114,
          1767255,
          1947613,
          2060076,
          2157237,
          2272472,
          2379415,
          2450869,
          2520890,
          2590608,
          2659928,
          2729256,
          2798941,
          2868187,
          2937552,
          3006979,
          3076439,
          3145544,
          3215001,
          3284330,
          3353573,
          3422947,
          3492167,
          3561256,
          3630184,
          3699158,
          3768390,
          3853358,
          4044750,
          4162228,
          4254552,
          4355636,
          4587728,
          4702605,
          4813444,
          4917012,
          5009085,
          5079611,
          5148187,
          5216161,
          5284658,
          5353104,
          5422443,
          5491360,
          5560072,
          5629227,
          5698255
         ],
         "yaxis": "y"
        },
        {
         "hovertemplate": "code=STR<br>lap=%{x}<br>accumulated=%{y}<extra></extra>",
         "legendgroup": "STR",
         "line": {
          "color": "#B6E880",
          "dash": "solid",
          "shape": "spline"
         },
         "mode": "lines",
         "name": "STR",
         "orientation": "v",
         "showlegend": true,
         "type": "scatter",
         "x": [
          1,
          2,
          3,
          4,
          5,
          6,
          7,
          8,
          9,
          10,
          11,
          12,
          13,
          14,
          15,
          16,
          17,
          18,
          19,
          20
         ],
         "xaxis": "x",
         "y": [
          null,
          77583,
          149767,
          220337,
          290663,
          360996,
          431504,
          502349,
          573004,
          643851,
          715104,
          786599,
          858011,
          929017,
          999646,
          1070380,
          1140991,
          1212422,
          1286463,
          1361716
         ],
         "yaxis": "y"
        },
        {
         "hovertemplate": "code=VER<br>lap=%{x}<br>accumulated=%{y}<extra></extra>",
         "legendgroup": "VER",
         "line": {
          "color": "#FF97FF",
          "dash": "solid",
          "shape": "spline"
         },
         "mode": "lines",
         "name": "VER",
         "orientation": "v",
         "showlegend": true,
         "type": "scatter",
         "x": [
          1,
          2,
          3,
          4,
          5,
          6,
          7,
          8,
          9,
          10,
          11
         ],
         "xaxis": "x",
         "y": [
          null,
          73501,
          143360,
          212740,
          282168,
          351519,
          420988,
          490565,
          560103,
          629562,
          699013
         ],
         "yaxis": "y"
        },
        {
         "hovertemplate": "code=VET<br>lap=%{x}<br>accumulated=%{y}<extra></extra>",
         "legendgroup": "VET",
         "line": {
          "color": "#FECB52",
          "dash": "solid",
          "shape": "spline"
         },
         "mode": "lines",
         "name": "VET",
         "orientation": "v",
         "showlegend": true,
         "type": "scatter",
         "x": [
          1,
          2,
          3,
          4,
          5,
          6,
          7,
          8,
          9,
          10,
          11,
          12,
          13,
          14,
          15,
          16,
          17,
          18,
          19,
          20,
          21,
          22,
          23,
          24,
          25,
          26,
          27,
          28,
          29,
          30,
          31,
          32,
          33,
          34,
          35,
          36,
          37,
          38,
          39,
          40,
          41,
          42,
          43,
          44,
          45,
          46,
          47,
          48,
          49,
          50,
          51,
          52,
          53,
          54,
          55,
          56,
          57,
          58,
          59,
          60,
          61,
          62,
          63,
          64,
          65,
          66,
          67,
          68,
          69,
          70,
          71
         ],
         "xaxis": "x",
         "y": [
          null,
          78362,
          150434,
          221104,
          291587,
          362009,
          432603,
          503444,
          574160,
          645773,
          716784,
          787887,
          858930,
          930014,
          1000663,
          1071486,
          1142136,
          1213130,
          1283747,
          1354351,
          1424683,
          1495138,
          1565667,
          1636311,
          1706964,
          1777742,
          1965444,
          2075464,
          2162879,
          2276860,
          2383590,
          2464351,
          2534416,
          2604448,
          2674038,
          2744823,
          2814900,
          2884408,
          2954183,
          3023652,
          3093464,
          3163207,
          3233070,
          3303113,
          3373598,
          3444473,
          3514522,
          3584191,
          3653767,
          3723213,
          3792968,
          3977974,
          4088098,
          4168543,
          4257474,
          4359497,
          4595167,
          4707984,
          4818320,
          4922780,
          5012072,
          5083815,
          5154248,
          5224635,
          5295050,
          5365673,
          5436428,
          5507664,
          5577668,
          5647121,
          5715850
         ],
         "yaxis": "y"
        }
       ],
       "layout": {
        "autosize": true,
        "legend": {
         "title": {
          "text": "code"
         },
         "tracegroupgap": 0
        },
        "margin": {
         "t": 60
        },
        "template": {
         "data": {
          "bar": [
           {
            "error_x": {
             "color": "#2a3f5f"
            },
            "error_y": {
             "color": "#2a3f5f"
            },
            "marker": {
             "line": {
              "color": "#E5ECF6",
              "width": 0.5
             }
            },
            "type": "bar"
           }
          ],
          "barpolar": [
           {
            "marker": {
             "line": {
              "color": "#E5ECF6",
              "width": 0.5
             }
            },
            "type": "barpolar"
           }
          ],
          "carpet": [
           {
            "aaxis": {
             "endlinecolor": "#2a3f5f",
             "gridcolor": "white",
             "linecolor": "white",
             "minorgridcolor": "white",
             "startlinecolor": "#2a3f5f"
            },
            "baxis": {
             "endlinecolor": "#2a3f5f",
             "gridcolor": "white",
             "linecolor": "white",
             "minorgridcolor": "white",
             "startlinecolor": "#2a3f5f"
            },
            "type": "carpet"
           }
          ],
          "choropleth": [
           {
            "colorbar": {
             "outlinewidth": 0,
             "ticks": ""
            },
            "type": "choropleth"
           }
          ],
          "contour": [
           {
            "colorbar": {
             "outlinewidth": 0,
             "ticks": ""
            },
            "colorscale": [
             [
              0,
              "#0d0887"
             ],
             [
              0.1111111111111111,
              "#46039f"
             ],
             [
              0.2222222222222222,
              "#7201a8"
             ],
             [
              0.3333333333333333,
              "#9c179e"
             ],
             [
              0.4444444444444444,
              "#bd3786"
             ],
             [
              0.5555555555555556,
              "#d8576b"
             ],
             [
              0.6666666666666666,
              "#ed7953"
             ],
             [
              0.7777777777777778,
              "#fb9f3a"
             ],
             [
              0.8888888888888888,
              "#fdca26"
             ],
             [
              1,
              "#f0f921"
             ]
            ],
            "type": "contour"
           }
          ],
          "contourcarpet": [
           {
            "colorbar": {
             "outlinewidth": 0,
             "ticks": ""
            },
            "type": "contourcarpet"
           }
          ],
          "heatmap": [
           {
            "colorbar": {
             "outlinewidth": 0,
             "ticks": ""
            },
            "colorscale": [
             [
              0,
              "#0d0887"
             ],
             [
              0.1111111111111111,
              "#46039f"
             ],
             [
              0.2222222222222222,
              "#7201a8"
             ],
             [
              0.3333333333333333,
              "#9c179e"
             ],
             [
              0.4444444444444444,
              "#bd3786"
             ],
             [
              0.5555555555555556,
              "#d8576b"
             ],
             [
              0.6666666666666666,
              "#ed7953"
             ],
             [
              0.7777777777777778,
              "#fb9f3a"
             ],
             [
              0.8888888888888888,
              "#fdca26"
             ],
             [
              1,
              "#f0f921"
             ]
            ],
            "type": "heatmap"
           }
          ],
          "heatmapgl": [
           {
            "colorbar": {
             "outlinewidth": 0,
             "ticks": ""
            },
            "colorscale": [
             [
              0,
              "#0d0887"
             ],
             [
              0.1111111111111111,
              "#46039f"
             ],
             [
              0.2222222222222222,
              "#7201a8"
             ],
             [
              0.3333333333333333,
              "#9c179e"
             ],
             [
              0.4444444444444444,
              "#bd3786"
             ],
             [
              0.5555555555555556,
              "#d8576b"
             ],
             [
              0.6666666666666666,
              "#ed7953"
             ],
             [
              0.7777777777777778,
              "#fb9f3a"
             ],
             [
              0.8888888888888888,
              "#fdca26"
             ],
             [
              1,
              "#f0f921"
             ]
            ],
            "type": "heatmapgl"
           }
          ],
          "histogram": [
           {
            "marker": {
             "colorbar": {
              "outlinewidth": 0,
              "ticks": ""
             }
            },
            "type": "histogram"
           }
          ],
          "histogram2d": [
           {
            "colorbar": {
             "outlinewidth": 0,
             "ticks": ""
            },
            "colorscale": [
             [
              0,
              "#0d0887"
             ],
             [
              0.1111111111111111,
              "#46039f"
             ],
             [
              0.2222222222222222,
              "#7201a8"
             ],
             [
              0.3333333333333333,
              "#9c179e"
             ],
             [
              0.4444444444444444,
              "#bd3786"
             ],
             [
              0.5555555555555556,
              "#d8576b"
             ],
             [
              0.6666666666666666,
              "#ed7953"
             ],
             [
              0.7777777777777778,
              "#fb9f3a"
             ],
             [
              0.8888888888888888,
              "#fdca26"
             ],
             [
              1,
              "#f0f921"
             ]
            ],
            "type": "histogram2d"
           }
          ],
          "histogram2dcontour": [
           {
            "colorbar": {
             "outlinewidth": 0,
             "ticks": ""
            },
            "colorscale": [
             [
              0,
              "#0d0887"
             ],
             [
              0.1111111111111111,
              "#46039f"
             ],
             [
              0.2222222222222222,
              "#7201a8"
             ],
             [
              0.3333333333333333,
              "#9c179e"
             ],
             [
              0.4444444444444444,
              "#bd3786"
             ],
             [
              0.5555555555555556,
              "#d8576b"
             ],
             [
              0.6666666666666666,
              "#ed7953"
             ],
             [
              0.7777777777777778,
              "#fb9f3a"
             ],
             [
              0.8888888888888888,
              "#fdca26"
             ],
             [
              1,
              "#f0f921"
             ]
            ],
            "type": "histogram2dcontour"
           }
          ],
          "mesh3d": [
           {
            "colorbar": {
             "outlinewidth": 0,
             "ticks": ""
            },
            "type": "mesh3d"
           }
          ],
          "parcoords": [
           {
            "line": {
             "colorbar": {
              "outlinewidth": 0,
              "ticks": ""
             }
            },
            "type": "parcoords"
           }
          ],
          "pie": [
           {
            "automargin": true,
            "type": "pie"
           }
          ],
          "scatter": [
           {
            "marker": {
             "colorbar": {
              "outlinewidth": 0,
              "ticks": ""
             }
            },
            "type": "scatter"
           }
          ],
          "scatter3d": [
           {
            "line": {
             "colorbar": {
              "outlinewidth": 0,
              "ticks": ""
             }
            },
            "marker": {
             "colorbar": {
              "outlinewidth": 0,
              "ticks": ""
             }
            },
            "type": "scatter3d"
           }
          ],
          "scattercarpet": [
           {
            "marker": {
             "colorbar": {
              "outlinewidth": 0,
              "ticks": ""
             }
            },
            "type": "scattercarpet"
           }
          ],
          "scattergeo": [
           {
            "marker": {
             "colorbar": {
              "outlinewidth": 0,
              "ticks": ""
             }
            },
            "type": "scattergeo"
           }
          ],
          "scattergl": [
           {
            "marker": {
             "colorbar": {
              "outlinewidth": 0,
              "ticks": ""
             }
            },
            "type": "scattergl"
           }
          ],
          "scattermapbox": [
           {
            "marker": {
             "colorbar": {
              "outlinewidth": 0,
              "ticks": ""
             }
            },
            "type": "scattermapbox"
           }
          ],
          "scatterpolar": [
           {
            "marker": {
             "colorbar": {
              "outlinewidth": 0,
              "ticks": ""
             }
            },
            "type": "scatterpolar"
           }
          ],
          "scatterpolargl": [
           {
            "marker": {
             "colorbar": {
              "outlinewidth": 0,
              "ticks": ""
             }
            },
            "type": "scatterpolargl"
           }
          ],
          "scatterternary": [
           {
            "marker": {
             "colorbar": {
              "outlinewidth": 0,
              "ticks": ""
             }
            },
            "type": "scatterternary"
           }
          ],
          "surface": [
           {
            "colorbar": {
             "outlinewidth": 0,
             "ticks": ""
            },
            "colorscale": [
             [
              0,
              "#0d0887"
             ],
             [
              0.1111111111111111,
              "#46039f"
             ],
             [
              0.2222222222222222,
              "#7201a8"
             ],
             [
              0.3333333333333333,
              "#9c179e"
             ],
             [
              0.4444444444444444,
              "#bd3786"
             ],
             [
              0.5555555555555556,
              "#d8576b"
             ],
             [
              0.6666666666666666,
              "#ed7953"
             ],
             [
              0.7777777777777778,
              "#fb9f3a"
             ],
             [
              0.8888888888888888,
              "#fdca26"
             ],
             [
              1,
              "#f0f921"
             ]
            ],
            "type": "surface"
           }
          ],
          "table": [
           {
            "cells": {
             "fill": {
              "color": "#EBF0F8"
             },
             "line": {
              "color": "white"
             }
            },
            "header": {
             "fill": {
              "color": "#C8D4E3"
             },
             "line": {
              "color": "white"
             }
            },
            "type": "table"
           }
          ]
         },
         "layout": {
          "annotationdefaults": {
           "arrowcolor": "#2a3f5f",
           "arrowhead": 0,
           "arrowwidth": 1
          },
          "autotypenumbers": "strict",
          "coloraxis": {
           "colorbar": {
            "outlinewidth": 0,
            "ticks": ""
           }
          },
          "colorscale": {
           "diverging": [
            [
             0,
             "#8e0152"
            ],
            [
             0.1,
             "#c51b7d"
            ],
            [
             0.2,
             "#de77ae"
            ],
            [
             0.3,
             "#f1b6da"
            ],
            [
             0.4,
             "#fde0ef"
            ],
            [
             0.5,
             "#f7f7f7"
            ],
            [
             0.6,
             "#e6f5d0"
            ],
            [
             0.7,
             "#b8e186"
            ],
            [
             0.8,
             "#7fbc41"
            ],
            [
             0.9,
             "#4d9221"
            ],
            [
             1,
             "#276419"
            ]
           ],
           "sequential": [
            [
             0,
             "#0d0887"
            ],
            [
             0.1111111111111111,
             "#46039f"
            ],
            [
             0.2222222222222222,
             "#7201a8"
            ],
            [
             0.3333333333333333,
             "#9c179e"
            ],
            [
             0.4444444444444444,
             "#bd3786"
            ],
            [
             0.5555555555555556,
             "#d8576b"
            ],
            [
             0.6666666666666666,
             "#ed7953"
            ],
            [
             0.7777777777777778,
             "#fb9f3a"
            ],
            [
             0.8888888888888888,
             "#fdca26"
            ],
            [
             1,
             "#f0f921"
            ]
           ],
           "sequentialminus": [
            [
             0,
             "#0d0887"
            ],
            [
             0.1111111111111111,
             "#46039f"
            ],
            [
             0.2222222222222222,
             "#7201a8"
            ],
            [
             0.3333333333333333,
             "#9c179e"
            ],
            [
             0.4444444444444444,
             "#bd3786"
            ],
            [
             0.5555555555555556,
             "#d8576b"
            ],
            [
             0.6666666666666666,
             "#ed7953"
            ],
            [
             0.7777777777777778,
             "#fb9f3a"
            ],
            [
             0.8888888888888888,
             "#fdca26"
            ],
            [
             1,
             "#f0f921"
            ]
           ]
          },
          "colorway": [
           "#636efa",
           "#EF553B",
           "#00cc96",
           "#ab63fa",
           "#FFA15A",
           "#19d3f3",
           "#FF6692",
           "#B6E880",
           "#FF97FF",
           "#FECB52"
          ],
          "font": {
           "color": "#2a3f5f"
          },
          "geo": {
           "bgcolor": "white",
           "lakecolor": "white",
           "landcolor": "#E5ECF6",
           "showlakes": true,
           "showland": true,
           "subunitcolor": "white"
          },
          "hoverlabel": {
           "align": "left"
          },
          "hovermode": "closest",
          "mapbox": {
           "style": "light"
          },
          "paper_bgcolor": "white",
          "plot_bgcolor": "#E5ECF6",
          "polar": {
           "angularaxis": {
            "gridcolor": "white",
            "linecolor": "white",
            "ticks": ""
           },
           "bgcolor": "#E5ECF6",
           "radialaxis": {
            "gridcolor": "white",
            "linecolor": "white",
            "ticks": ""
           }
          },
          "scene": {
           "xaxis": {
            "backgroundcolor": "#E5ECF6",
            "gridcolor": "white",
            "gridwidth": 2,
            "linecolor": "white",
            "showbackground": true,
            "ticks": "",
            "zerolinecolor": "white"
           },
           "yaxis": {
            "backgroundcolor": "#E5ECF6",
            "gridcolor": "white",
            "gridwidth": 2,
            "linecolor": "white",
            "showbackground": true,
            "ticks": "",
            "zerolinecolor": "white"
           },
           "zaxis": {
            "backgroundcolor": "#E5ECF6",
            "gridcolor": "white",
            "gridwidth": 2,
            "linecolor": "white",
            "showbackground": true,
            "ticks": "",
            "zerolinecolor": "white"
           }
          },
          "shapedefaults": {
           "line": {
            "color": "#2a3f5f"
           }
          },
          "ternary": {
           "aaxis": {
            "gridcolor": "white",
            "linecolor": "white",
            "ticks": ""
           },
           "baxis": {
            "gridcolor": "white",
            "linecolor": "white",
            "ticks": ""
           },
           "bgcolor": "#E5ECF6",
           "caxis": {
            "gridcolor": "white",
            "linecolor": "white",
            "ticks": ""
           }
          },
          "title": {
           "x": 0.05
          },
          "xaxis": {
           "automargin": true,
           "gridcolor": "white",
           "linecolor": "white",
           "ticks": "",
           "title": {
            "standoff": 15
           },
           "zerolinecolor": "white",
           "zerolinewidth": 2
          },
          "yaxis": {
           "automargin": true,
           "gridcolor": "white",
           "linecolor": "white",
           "ticks": "",
           "title": {
            "standoff": 15
           },
           "zerolinecolor": "white",
           "zerolinewidth": 2
          }
         }
        },
        "xaxis": {
         "anchor": "y",
         "autorange": true,
         "domain": [
          0,
          1
         ],
         "range": [
          1,
          71
         ],
         "title": {
          "text": "lap"
         },
         "type": "linear"
        },
        "yaxis": {
         "anchor": "x",
         "autorange": true,
         "domain": [
          0,
          1
         ],
         "range": [
          -243866.94444444444,
          6062551.944444444
         ],
         "title": {
          "text": "accumulated"
         },
         "type": "linear"
        }
       }
      },
      "image/png": "[encoded data removed]",
      "text/html": [
       "<div>                            <div id=\"2b9ad29e-f7d8-4d9d-889f-e6374779c2ea\" class=\"plotly-graph-div\" style=\"height:525px; width:100%;\"></div>            <script type=\"text/javascript\">                require([\"plotly\"], function(Plotly) {                    window.PLOTLYENV=window.PLOTLYENV || {};                                    if (document.getElementById(\"2b9ad29e-f7d8-4d9d-889f-e6374779c2ea\")) {                    Plotly.newPlot(                        \"2b9ad29e-f7d8-4d9d-889f-e6374779c2ea\",                        [{\"hovertemplate\": \"code=ALB<br>lap=%{x}<br>accumulated=%{y}<extra></extra>\", \"legendgroup\": \"ALB\", \"line\": {\"color\": \"#636efa\", \"dash\": \"solid\", \"shape\": \"spline\"}, \"mode\": \"lines\", \"name\": \"ALB\", \"orientation\": \"v\", \"showlegend\": true, \"type\": \"scatter\", \"x\": [1, 2, 3, 4, 5, 6, 7, 8, 9, 10, 11, 12, 13, 14, 15, 16, 17, 18, 19, 20, 21, 22, 23, 24, 25, 26, 27, 28, 29, 30, 31, 32, 33, 34, 35, 36, 37, 38, 39, 40, 41, 42, 43, 44, 45, 46, 47, 48, 49, 50, 51, 52, 53, 54, 55, 56, 57, 58, 59, 60, 61, 62, 63, 64, 65, 66, 67], \"xaxis\": \"x\", \"y\": [null, 75104.0, 145466.0, 215045.0, 284898.0, 354310.0, 423835.0, 493643.0, 563292.0, 634969.0, 705464.0, 775561.0, 845444.0, 915196.0, 985206.0, 1055314.0, 1125396.0, 1195219.0, 1265126.0, 1335211.0, 1405158.0, 1475260.0, 1545156.0, 1615153.0, 1685088.0, 1755007.0, 1929335.0, 2040299.0, 2146948.0, 2262624.0, 2374766.0, 2444816.0, 2514181.0, 2583452.0, 2652155.0, 2720773.0, 2789476.0, 2858069.0, 2926803.0, 2995525.0, 3064203.0, 3132977.0, 3201857.0, 3270864.0, 3339691.0, 3408811.0, 3477896.0, 3546639.0, 3615276.0, 3683860.0, 3752292.0, 3913536.0, 4022953.0, 4136537.0, 4233827.0, 4333338.0, 4561500.0, 4677849.0, 4788855.0, 4890312.0, 4986820.0, 5063588.0, 5133762.0, 5203372.0, 5273292.0, 5343813.0, 5414672.0], \"yaxis\": \"y\"}, {\"hovertemplate\": \"code=BOT<br>lap=%{x}<br>accumulated=%{y}<extra></extra>\", \"legendgroup\": \"BOT\", \"line\": {\"color\": \"#EF553B\", \"dash\": \"solid\", \"shape\": \"spline\"}, \"mode\": \"lines\", \"name\": \"BOT\", \"orientation\": \"v\", \"showlegend\": true, \"type\": \"scatter\", \"x\": [1, 2, 3, 4, 5, 6, 7, 8, 9, 10, 11, 12, 13, 14, 15, 16, 17, 18, 19, 20, 21, 22, 23, 24, 25, 26, 27, 28, 29, 30, 31, 32, 33, 34, 35, 36, 37, 38, 39, 40, 41, 42, 43, 44, 45, 46, 47, 48, 49, 50, 51, 52, 53, 54, 55, 56, 57, 58, 59, 60, 61, 62, 63, 64, 65, 66, 67, 68, 69, 70, 71], \"xaxis\": \"x\", \"y\": [null, 71454.0, 140895.0, 210493.0, 280085.0, 349244.0, 418630.0, 487681.0, 556866.0, 626223.0, 695680.0, 765087.0, 834736.0, 904069.0, 973616.0, 1042916.0, 1112333.0, 1181557.0, 1250606.0, 1319866.0, 1389378.0, 1459077.0, 1528924.0, 1598541.0, 1668946.0, 1739095.0, 1907331.0, 2030264.0, 2141113.0, 2256396.0, 2370139.0, 2438875.0, 2507608.0, 2576128.0, 2644652.0, 2713085.0, 2781345.0, 2849539.0, 2917774.0, 2986077.0, 3054208.0, 3122350.0, 3190622.0, 3259094.0, 3327416.0, 3395647.0, 3464109.0, 3532530.0, 3600809.0, 3669231.0, 3737582.0, 3812966.0, 3928361.0, 4048461.0, 4148554.0, 4244633.0, 4474249.0, 4592086.0, 4701901.0, 4804526.0, 4903072.0, 4971276.0, 5039654.0, 5107716.0, 5175890.0, 5244128.0, 5312327.0, 5380350.0, 5448007.0, 5518053.0, 5586253.0], \"yaxis\": \"y\"}, {\"hovertemplate\": \"code=GAS<br>lap=%{x}<br>accumulated=%{y}<extra></extra>\", \"legendgroup\": \"GAS\", \"line\": {\"color\": \"#00cc96\", \"dash\": \"solid\", \"shape\": \"spline\"}, \"mode\": \"lines\", \"name\": \"GAS\", \"orientation\": \"v\", \"showlegend\": true, \"type\": \"scatter\", \"x\": [1, 2, 3, 4, 5, 6, 7, 8, 9, 10, 11, 12, 13, 14, 15, 16, 17, 18, 19, 20, 21, 22, 23, 24, 25, 26, 27, 28, 29, 30, 31, 32, 33, 34, 35, 36, 37, 38, 39, 40, 41, 42, 43, 44, 45, 46, 47, 48, 49, 50, 51, 52, 53, 54, 55, 56, 57, 58, 59, 60, 61, 62, 63, 64, 65, 66, 67, 68, 69, 70, 71], \"xaxis\": \"x\", \"y\": [null, 79106.0, 151518.0, 222829.0, 293554.0, 365065.0, 437093.0, 508266.0, 579178.0, 650080.0, 721111.0, 792200.0, 863269.0, 934166.0, 1004993.0, 1075963.0, 1146916.0, 1217678.0, 1288522.0, 1359234.0, 1430173.0, 1500906.0, 1571441.0, 1642113.0, 1712681.0, 1783291.0, 1974829.0, 2084812.0, 2166732.0, 2280743.0, 2386342.0, 2457441.0, 2527724.0, 2597723.0, 2667351.0, 2737303.0, 2807272.0, 2877136.0, 2946712.0, 3016551.0, 3086372.0, 3156185.0, 3225990.0, 3295585.0, 3365406.0, 3435521.0, 3505167.0, 3574620.0, 3644049.0, 3713419.0, 3782789.0, 3871747.0, 3966396.0, 4070208.0, 4163639.0, 4264923.0, 4495917.0, 4611114.0, 4722061.0, 4825265.0, 4917850.0, 4988522.0, 5058892.0, 5128233.0, 5197258.0, 5266617.0, 5336560.0, 5406081.0, 5475442.0, 5544926.0, 5614047.0], \"yaxis\": \"y\"}, {\"hovertemplate\": \"code=GIO<br>lap=%{x}<br>accumulated=%{y}<extra></extra>\", \"legendgroup\": \"GIO\", \"line\": {\"color\": \"#ab63fa\", \"dash\": \"solid\", \"shape\": \"spline\"}, \"mode\": \"lines\", \"name\": \"GIO\", \"orientation\": \"v\", \"showlegend\": true, \"type\": \"scatter\", \"x\": [1, 2, 3, 4, 5, 6, 7, 8, 9, 10, 11, 12, 13, 14, 15, 16, 17, 18, 19, 20, 21, 22, 23, 24, 25, 26, 27, 28, 29, 30, 31, 32, 33, 34, 35, 36, 37, 38, 39, 40, 41, 42, 43, 44, 45, 46, 47, 48, 49, 50, 51, 52, 53, 54, 55, 56, 57, 58, 59, 60, 61, 62, 63, 64, 65, 66, 67, 68, 69, 70, 71], \"xaxis\": \"x\", \"y\": [null, 80013.0, 152972.0, 224605.0, 296087.0, 367935.0, 440414.0, 512244.0, 583828.0, 655411.0, 727065.0, 798925.0, 870376.0, 941859.0, 1012846.0, 1085392.0, 1156798.0, 1227891.0, 1300342.0, 1371369.0, 1442399.0, 1513564.0, 1584431.0, 1655333.0, 1726304.0, 1884246.0, 2021629.0, 2105635.0, 2178649.0, 2268189.0, 2371751.0, 2442777.0, 2513562.0, 2583714.0, 2653787.0, 2724087.0, 2794499.0, 2864824.0, 2934974.0, 3005085.0, 3075406.0, 3145398.0, 3215337.0, 3284991.0, 3354821.0, 3424715.0, 3494240.0, 3563451.0, 3632887.0, 3702259.0, 3771491.0, 3860010.0, 3955520.0, 4056427.0, 4148344.0, 4351212.0, 4596616.0, 4709035.0, 4819384.0, 4923774.0, 5011983.0, 5083170.0, 5153703.0, 5222938.0, 5293687.0, 5364091.0, 5434817.0, 5503710.0, 5572851.0, 5642018.0, 5710814.0], \"yaxis\": \"y\"}, {\"hovertemplate\": \"code=GRO<br>lap=%{x}<br>accumulated=%{y}<extra></extra>\", \"legendgroup\": \"GRO\", \"line\": {\"color\": \"#FFA15A\", \"dash\": \"solid\", \"shape\": \"spline\"}, \"mode\": \"lines\", \"name\": \"GRO\", \"orientation\": \"v\", \"showlegend\": true, \"type\": \"scatter\", \"x\": [1, 2, 3, 4, 5, 6, 7, 8, 9, 10, 11, 12, 13, 14, 15, 16, 17, 18, 19, 20, 21, 22, 23, 24, 25, 26, 27, 28, 29, 30, 31, 32, 33, 34, 35, 36, 37, 38, 39, 40, 41, 42, 43, 44, 45, 46, 47, 48, 49], \"xaxis\": \"x\", \"y\": [null, 81365.0, 154899.0, 227082.0, 298658.0, 370487.0, 442355.0, 514259.0, 586267.0, 658096.0, 729939.0, 801830.0, 873445.0, 945151.0, 1016588.0, 1087965.0, 1159189.0, 1230743.0, 1302269.0, 1373512.0, 1459382.0, 1551679.0, 1624603.0, 1699002.0, 1770063.0, 1861286.0, 1956840.0, 2061546.0, 2153689.0, 2225055.0, 2296138.0, 2367208.0, 2438117.0, 2509381.0, 2579757.0, 2650483.0, 2722913.0, 2793594.0, 2863997.0, 2934937.0, 3005504.0, 3075846.0, 3146185.0, 3216490.0, 3286850.0, 3357326.0, 3427554.0, 3497815.0, 3568990.0], \"yaxis\": \"y\"}, {\"hovertemplate\": \"code=HAM<br>lap=%{x}<br>accumulated=%{y}<extra></extra>\", \"legendgroup\": \"HAM\", \"line\": {\"color\": \"#19d3f3\", \"dash\": \"solid\", \"shape\": \"spline\"}, \"mode\": \"lines\", \"name\": \"HAM\", \"orientation\": \"v\", \"showlegend\": true, \"type\": \"scatter\", \"x\": [1, 2, 3, 4, 5, 6, 7, 8, 9, 10, 11, 12, 13, 14, 15, 16, 17, 18, 19, 20, 21, 22, 23, 24, 25, 26, 27, 28, 29, 30, 31, 32, 33, 34, 35, 36, 37, 38, 39, 40, 41, 42, 43, 44, 45, 46, 47, 48, 49, 50, 51, 52, 53, 54, 55, 56, 57, 58, 59, 60, 61, 62, 63, 64, 65, 66, 67, 68, 69, 70, 71], \"xaxis\": \"x\", \"y\": [null, 75627.0, 146177.0, 216539.0, 285879.0, 355340.0, 424634.0, 494335.0, 564131.0, 633678.0, 703361.0, 772942.0, 842528.0, 911651.0, 980884.0, 1050068.0, 1119210.0, 1188256.0, 1257332.0, 1326463.0, 1395463.0, 1464803.0, 1534129.0, 1603485.0, 1672827.0, 1742337.0, 1919341.0, 2036259.0, 2147060.0, 2262726.0, 2375254.0, 2444285.0, 2513035.0, 2581719.0, 2649977.0, 2718366.0, 2786530.0, 2854773.0, 2923207.0, 2991463.0, 3059521.0, 3127668.0, 3195783.0, 3264152.0, 3332750.0, 3401217.0, 3470029.0, 3538486.0, 3606869.0, 3675317.0, 3743723.0, 3822719.0, 3933799.0, 4054665.0, 4153733.0, 4251261.0, 4479559.0, 4596805.0, 4706908.0, 4810245.0, 4907250.0, 4976286.0, 5044864.0, 5113436.0, 5181971.0, 5250153.0, 5318245.0, 5385957.0, 5453873.0, 5522457.0, 5590876.0], \"yaxis\": \"y\"}, {\"hovertemplate\": \"code=KVY<br>lap=%{x}<br>accumulated=%{y}<extra></extra>\", \"legendgroup\": \"KVY\", \"line\": {\"color\": \"#FF6692\", \"dash\": \"solid\", \"shape\": \"spline\"}, \"mode\": \"lines\", \"name\": \"KVY\", \"orientation\": \"v\", \"showlegend\": true, \"type\": \"scatter\", \"x\": [1, 2, 3, 4, 5, 6, 7, 8, 9, 10, 11, 12, 13, 14, 15, 16, 17, 18, 19, 20, 21, 22, 23, 24, 25, 26, 27, 28, 29, 30, 31, 32, 33, 34, 35, 36, 37, 38, 39, 40, 41, 42, 43, 44, 45, 46, 47, 48, 49, 50, 51, 52, 53, 54, 55, 56, 57, 58, 59, 60, 61, 62, 63, 64, 65, 66, 67, 68, 69], \"xaxis\": \"x\", \"y\": [null, 80360.0, 153487.0, 225213.0, 296540.0, 368635.0, 439632.0, 510594.0, 581726.0, 652714.0, 723583.0, 794986.0, 866080.0, 937042.0, 1007795.0, 1078798.0, 1149629.0, 1220819.0, 1291456.0, 1362295.0, 1433223.0, 1504007.0, 1574530.0, 1645120.0, 1715540.0, 1786195.0, 1990835.0, 2095005.0, 2175175.0, 2289413.0, 2393823.0, 2464820.0, 2535293.0, 2605421.0, 2675319.0, 2745543.0, 2816200.0, 2886235.0, 2956696.0, 3026523.0, 3096292.0, 3166378.0, 3236112.0, 3305585.0, 3374960.0, 3444789.0, 3514116.0, 3583402.0, 3653105.0, 3722768.0, 3791903.0, 3967401.0, 4075410.0, 4169354.0, 4259704.0, 4362168.0, 4595834.0, 4710046.0, 4820440.0, 4924544.0, 5014526.0, 5085953.0, 5156063.0, 5226305.0, 5297086.0, 5367464.0, 5438087.0, 5509562.0, 5580018.0], \"yaxis\": \"y\"}, {\"hovertemplate\": \"code=LAT<br>lap=%{x}<br>accumulated=%{y}<extra></extra>\", \"legendgroup\": \"LAT\", \"line\": {\"color\": \"#B6E880\", \"dash\": \"solid\", \"shape\": \"spline\"}, \"mode\": \"lines\", \"name\": \"LAT\", \"orientation\": \"v\", \"showlegend\": true, \"type\": \"scatter\", \"x\": [1, 2, 3, 4, 5, 6, 7, 8, 9, 10, 11, 12, 13, 14, 15, 16, 17, 18, 19, 20, 21, 22, 23, 24, 25, 26, 27, 28, 29, 30, 31, 32, 33, 34, 35, 36, 37, 38, 39, 40, 41, 42, 43, 44, 45, 46, 47, 48, 49, 50, 51, 52, 53, 54, 55, 56, 57, 58, 59, 60, 61, 62, 63, 64, 65, 66, 67, 68, 69, 70, 71], \"xaxis\": \"x\", \"y\": [null, 82200.0, 156061.0, 228415.0, 300316.0, 372235.0, 444047.0, 516150.0, 588351.0, 660922.0, 733642.0, 806064.0, 878054.0, 949862.0, 1021543.0, 1093206.0, 1164952.0, 1236797.0, 1308540.0, 1380145.0, 1452861.0, 1524679.0, 1595919.0, 1667132.0, 1741075.0, 1827136.0, 2061570.0, 2182352.0, 2279683.0, 2354914.0, 2427064.0, 2498354.0, 2569249.0, 2639732.0, 2710168.0, 2781009.0, 2851821.0, 2922155.0, 2992466.0, 3062758.0, 3133200.0, 3203473.0, 3273735.0, 3343964.0, 3414269.0, 3484567.0, 3554605.0, 3624422.0, 3694687.0, 3765447.0, 3841608.0, 4032244.0, 4129368.0, 4202787.0, 4284632.0, 4386532.0, 4622866.0, 4735678.0, 4845765.0, 4950258.0, 5039317.0, 5111405.0, 5182093.0, 5251755.0, 5322688.0, 5393598.0, 5464307.0, 5534700.0, 5605606.0, 5676219.0, 5747231.0], \"yaxis\": \"y\"}, {\"hovertemplate\": \"code=LEC<br>lap=%{x}<br>accumulated=%{y}<extra></extra>\", \"legendgroup\": \"LEC\", \"line\": {\"color\": \"#FF97FF\", \"dash\": \"solid\", \"shape\": \"spline\"}, \"mode\": \"lines\", \"name\": \"LEC\", \"orientation\": \"v\", \"showlegend\": true, \"type\": \"scatter\", \"x\": [1, 2, 3, 4, 5, 6, 7, 8, 9, 10, 11, 12, 13, 14, 15, 16, 17, 18, 19, 20, 21, 22, 23, 24, 25, 26, 27, 28, 29, 30, 31, 32, 33, 34, 35, 36, 37, 38, 39, 40, 41, 42, 43, 44, 45, 46, 47, 48, 49, 50, 51, 52, 53, 54, 55, 56, 57, 58, 59, 60, 61, 62, 63, 64, 65, 66, 67, 68, 69, 70, 71], \"xaxis\": \"x\", \"y\": [null, 76847.0, 148265.0, 218190.0, 288461.0, 358771.0, 429058.0, 499654.0, 570265.0, 640776.0, 711236.0, 781926.0, 852470.0, 922959.0, 993292.0, 1063600.0, 1133878.0, 1204016.0, 1274193.0, 1344265.0, 1414219.0, 1484400.0, 1554645.0, 1625037.0, 1695154.0, 1765353.0, 1944965.0, 2055082.0, 2156133.0, 2271086.0, 2378652.0, 2449529.0, 2519654.0, 2589250.0, 2658788.0, 2728033.0, 2797512.0, 2866775.0, 2935748.0, 3004932.0, 3074044.0, 3143170.0, 3212290.0, 3281393.0, 3350611.0, 3420192.0, 3489321.0, 3558352.0, 3627133.0, 3696286.0, 3765371.0, 3934771.0, 4042604.0, 4146818.0, 4241334.0, 4342604.0, 4571626.0, 4687447.0, 4798293.0, 4901770.0, 4995119.0, 5065172.0, 5134088.0, 5202477.0, 5270378.0, 5338717.0, 5406737.0, 5474810.0, 5542937.0, 5611261.0, 5679196.0], \"yaxis\": \"y\"}, {\"hovertemplate\": \"code=MAG<br>lap=%{x}<br>accumulated=%{y}<extra></extra>\", \"legendgroup\": \"MAG\", \"line\": {\"color\": \"#FECB52\", \"dash\": \"solid\", \"shape\": \"spline\"}, \"mode\": \"lines\", \"name\": \"MAG\", \"orientation\": \"v\", \"showlegend\": true, \"type\": \"scatter\", \"x\": [1, 2, 3, 4, 5, 6, 7, 8, 9, 10, 11, 12, 13, 14, 15, 16, 17, 18, 19, 20, 21, 22, 23, 24], \"xaxis\": \"x\", \"y\": [null, 79587.0, 152349.0, 223880.0, 295462.0, 367341.0, 438804.0, 511673.0, 583162.0, 654682.0, 726370.0, 798092.0, 869233.0, 940135.0, 1011287.0, 1082673.0, 1153748.0, 1225514.0, 1296788.0, 1367762.0, 1438614.0, 1509457.0, 1580341.0, 1651061.0], \"yaxis\": \"y\"}, {\"hovertemplate\": \"code=NOR<br>lap=%{x}<br>accumulated=%{y}<extra></extra>\", \"legendgroup\": \"NOR\", \"line\": {\"color\": \"#636efa\", \"dash\": \"solid\", \"shape\": \"spline\"}, \"mode\": \"lines\", \"name\": \"NOR\", \"orientation\": \"v\", \"showlegend\": true, \"type\": \"scatter\", \"x\": [1, 2, 3, 4, 5, 6, 7, 8, 9, 10, 11, 12, 13, 14, 15, 16, 17, 18, 19, 20, 21, 22, 23, 24, 25, 26, 27, 28, 29, 30, 31, 32, 33, 34, 35, 36, 37, 38, 39, 40, 41, 42, 43, 44, 45, 46, 47, 48, 49, 50, 51, 52, 53, 54, 55, 56, 57, 58, 59, 60, 61, 62, 63, 64, 65, 66, 67, 68, 69, 70, 71], \"xaxis\": \"x\", \"y\": [null, 74567.0, 144933.0, 216130.0, 286940.0, 356889.0, 426906.0, 497134.0, 567458.0, 637590.0, 707914.0, 778363.0, 848475.0, 918784.0, 988994.0, 1059181.0, 1129416.0, 1199468.0, 1269452.0, 1339481.0, 1409341.0, 1479353.0, 1549286.0, 1619392.0, 1689332.0, 1759295.0, 1939763.0, 2049966.0, 2153761.0, 2267902.0, 2378556.0, 2449013.0, 2518664.0, 2589212.0, 2658220.0, 2727531.0, 2796736.0, 2865847.0, 2934770.0, 3003796.0, 3072840.0, 3141914.0, 3210779.0, 3279566.0, 3348464.0, 3417681.0, 3486856.0, 3555834.0, 3624533.0, 3693228.0, 3761866.0, 3929268.0, 4038630.0, 4144203.0, 4240436.0, 4340926.0, 4569318.0, 4685482.0, 4796693.0, 4899977.0, 4993870.0, 5063532.0, 5132455.0, 5200817.0, 5270171.0, 5338689.0, 5407900.0, 5476474.0, 5545003.0, 5614105.0, 5681886.0], \"yaxis\": \"y\"}, {\"hovertemplate\": \"code=OCO<br>lap=%{x}<br>accumulated=%{y}<extra></extra>\", \"legendgroup\": \"OCO\", \"line\": {\"color\": \"#EF553B\", \"dash\": \"solid\", \"shape\": \"spline\"}, \"mode\": \"lines\", \"name\": \"OCO\", \"orientation\": \"v\", \"showlegend\": true, \"type\": \"scatter\", \"x\": [1, 2, 3, 4, 5, 6, 7, 8, 9, 10, 11, 12, 13, 14, 15, 16, 17, 18, 19, 20, 21, 22, 23, 24, 25, 26, 27, 28, 29, 30, 31, 32, 33, 34, 35, 36, 37, 38, 39, 40, 41, 42, 43, 44, 45, 46, 47, 48, 49, 50, 51, 52, 53, 54, 55, 56, 57, 58, 59, 60, 61, 62, 63, 64, 65, 66, 67, 68, 69, 70, 71], \"xaxis\": \"x\", \"y\": [null, 80678.0, 153969.0, 225755.0, 297170.0, 369226.0, 440953.0, 512769.0, 584409.0, 656054.0, 727922.0, 799564.0, 871087.0, 942586.0, 1013521.0, 1084224.0, 1155074.0, 1226421.0, 1297576.0, 1368358.0, 1439232.0, 1510246.0, 1580863.0, 1651689.0, 1722745.0, 1800607.0, 1985957.0, 2086450.0, 2166717.0, 2280808.0, 2384749.0, 2455847.0, 2526441.0, 2596591.0, 2666368.0, 2736668.0, 2807268.0, 2877334.0, 2947759.0, 3017651.0, 3087354.0, 3157675.0, 3227238.0, 3296967.0, 3366495.0, 3436161.0, 3505474.0, 3574738.0, 3644194.0, 3713885.0, 3783184.0, 3872758.0, 3966489.0, 4068091.0, 4160996.0, 4263353.0, 4496079.0, 4610505.0, 4721244.0, 4824841.0, 4915987.0, 4987743.0, 5057552.0, 5127080.0, 5196012.0, 5265172.0, 5335075.0, 5404766.0, 5473923.0, 5543656.0, 5612568.0], \"yaxis\": \"y\"}, {\"hovertemplate\": \"code=PER<br>lap=%{x}<br>accumulated=%{y}<extra></extra>\", \"legendgroup\": \"PER\", \"line\": {\"color\": \"#00cc96\", \"dash\": \"solid\", \"shape\": \"spline\"}, \"mode\": \"lines\", \"name\": \"PER\", \"orientation\": \"v\", \"showlegend\": true, \"type\": \"scatter\", \"x\": [1, 2, 3, 4, 5, 6, 7, 8, 9, 10, 11, 12, 13, 14, 15, 16, 17, 18, 19, 20, 21, 22, 23, 24, 25, 26, 27, 28, 29, 30, 31, 32, 33, 34, 35, 36, 37, 38, 39, 40, 41, 42, 43, 44, 45, 46, 47, 48, 49, 50, 51, 52, 53, 54, 55, 56, 57, 58, 59, 60, 61, 62, 63, 64, 65, 66, 67, 68, 69, 70, 71], \"xaxis\": \"x\", \"y\": [null, 76326.0, 147138.0, 217409.0, 287674.0, 357736.0, 427658.0, 498075.0, 568366.0, 638618.0, 709034.0, 779275.0, 849286.0, 919800.0, 990517.0, 1061218.0, 1131773.0, 1202113.0, 1272374.0, 1342536.0, 1412596.0, 1482424.0, 1552564.0, 1622339.0, 1692341.0, 1762352.0, 1939826.0, 2049301.0, 2153197.0, 2268054.0, 2377367.0, 2448075.0, 2517894.0, 2586731.0, 2655365.0, 2723860.0, 2793089.0, 2861758.0, 2930668.0, 2999467.0, 3068352.0, 3137314.0, 3206062.0, 3274850.0, 3343750.0, 3413060.0, 3481857.0, 3550490.0, 3619005.0, 3687563.0, 3756045.0, 3838614.0, 3936481.0, 4056145.0, 4154551.0, 4252686.0, 4480644.0, 4597615.0, 4708647.0, 4812515.0, 4908122.0, 4977548.0, 5046296.0, 5114601.0, 5183155.0, 5251701.0, 5321559.0, 5389933.0, 5458854.0, 5529549.0, 5598267.0], \"yaxis\": \"y\"}, {\"hovertemplate\": \"code=RAI<br>lap=%{x}<br>accumulated=%{y}<extra></extra>\", \"legendgroup\": \"RAI\", \"line\": {\"color\": \"#ab63fa\", \"dash\": \"solid\", \"shape\": \"spline\"}, \"mode\": \"lines\", \"name\": \"RAI\", \"orientation\": \"v\", \"showlegend\": true, \"type\": \"scatter\", \"x\": [1, 2, 3, 4, 5, 6, 7, 8, 9, 10, 11, 12, 13, 14, 15, 16, 17, 18, 19, 20, 21, 22, 23, 24, 25, 26, 27, 28, 29, 30, 31, 32, 33, 34, 35, 36, 37, 38, 39, 40, 41, 42, 43, 44, 45, 46, 47, 48, 49, 50, 51, 52, 53], \"xaxis\": \"x\", \"y\": [null, 80781.0, 154090.0, 226188.0, 297560.0, 369480.0, 441373.0, 513144.0, 585085.0, 656560.0, 728455.0, 800073.0, 871866.0, 943220.0, 1014539.0, 1085905.0, 1157493.0, 1228706.0, 1299081.0, 1369833.0, 1440560.0, 1511130.0, 1581843.0, 1652741.0, 1802191.0, 1905614.0, 2019413.0, 2103014.0, 2176496.0, 2267101.0, 2369249.0, 2440028.0, 2511025.0, 2581425.0, 2651613.0, 2721945.0, 2792300.0, 2862307.0, 2932643.0, 3003139.0, 3073297.0, 3143259.0, 3213272.0, 3283224.0, 3352624.0, 3422597.0, 3492029.0, 3561091.0, 3630122.0, 3699539.0, 3768923.0, 3949829.0, 4058219.0], \"yaxis\": \"y\"}, {\"hovertemplate\": \"code=RIC<br>lap=%{x}<br>accumulated=%{y}<extra></extra>\", \"legendgroup\": \"RIC\", \"line\": {\"color\": \"#FFA15A\", \"dash\": \"solid\", \"shape\": \"spline\"}, \"mode\": \"lines\", \"name\": \"RIC\", \"orientation\": \"v\", \"showlegend\": true, \"type\": \"scatter\", \"x\": [1, 2, 3, 4, 5, 6, 7, 8, 9, 10, 11, 12, 13, 14, 15, 16, 17], \"xaxis\": \"x\", \"y\": [null, 78766.0, 150891.0, 222127.0, 292755.0, 363391.0, 434345.0, 505158.0, 575768.0, 646693.0, 717448.0, 788729.0, 859614.0, 930543.0, 1001357.0, 1072185.0, 1143009.0], \"yaxis\": \"y\"}, {\"hovertemplate\": \"code=RUS<br>lap=%{x}<br>accumulated=%{y}<extra></extra>\", \"legendgroup\": \"RUS\", \"line\": {\"color\": \"#19d3f3\", \"dash\": \"solid\", \"shape\": \"spline\"}, \"mode\": \"lines\", \"name\": \"RUS\", \"orientation\": \"v\", \"showlegend\": true, \"type\": \"scatter\", \"x\": [1, 2, 3, 4, 5, 6, 7, 8, 9, 10, 11, 12, 13, 14, 15, 16, 17, 18, 19, 20, 21, 22, 23, 24, 25, 26, 27, 28, 29, 30, 31, 32, 33, 34, 35, 36, 37, 38, 39, 40, 41, 42, 43, 44, 45, 46, 47, 48, 49], \"xaxis\": \"x\", \"y\": [null, 81596.0, 155332.0, 227666.0, 299260.0, 370984.0, 443114.0, 515266.0, 587050.0, 659257.0, 731554.0, 803477.0, 875294.0, 946851.0, 1018439.0, 1090002.0, 1161676.0, 1233214.0, 1304400.0, 1375453.0, 1446663.0, 1517677.0, 1588568.0, 1659607.0, 1730713.0, 1810018.0, 1944083.0, 2027413.0, 2100563.0, 2190876.0, 2293290.0, 2364505.0, 2435467.0, 2505784.0, 2575932.0, 2646039.0, 2716432.0, 2786744.0, 2856980.0, 2927315.0, 2997576.0, 3067477.0, 3137697.0, 3207722.0, 3278912.0, 3349369.0, 3419383.0, 3489076.0, 3558964.0], \"yaxis\": \"y\"}, {\"hovertemplate\": \"code=SAI<br>lap=%{x}<br>accumulated=%{y}<extra></extra>\", \"legendgroup\": \"SAI\", \"line\": {\"color\": \"#FF6692\", \"dash\": \"solid\", \"shape\": \"spline\"}, \"mode\": \"lines\", \"name\": \"SAI\", \"orientation\": \"v\", \"showlegend\": true, \"type\": \"scatter\", \"x\": [1, 2, 3, 4, 5, 6, 7, 8, 9, 10, 11, 12, 13, 14, 15, 16, 17, 18, 19, 20, 21, 22, 23, 24, 25, 26, 27, 28, 29, 30, 31, 32, 33, 34, 35, 36, 37, 38, 39, 40, 41, 42, 43, 44, 45, 46, 47, 48, 49, 50, 51, 52, 53, 54, 55, 56, 57, 58, 59, 60, 61, 62, 63, 64, 65, 66, 67, 68, 69, 70, 71], \"xaxis\": \"x\", \"y\": [null, 77168.0, 149126.0, 219369.0, 289685.0, 360002.0, 430344.0, 500907.0, 571558.0, 642129.0, 712647.0, 783348.0, 853897.0, 924289.0, 994710.0, 1065032.0, 1135410.0, 1205815.0, 1276249.0, 1346499.0, 1416509.0, 1486614.0, 1556665.0, 1626798.0, 1697114.0, 1767255.0, 1947613.0, 2060076.0, 2157237.0, 2272472.0, 2379415.0, 2450869.0, 2520890.0, 2590608.0, 2659928.0, 2729256.0, 2798941.0, 2868187.0, 2937552.0, 3006979.0, 3076439.0, 3145544.0, 3215001.0, 3284330.0, 3353573.0, 3422947.0, 3492167.0, 3561256.0, 3630184.0, 3699158.0, 3768390.0, 3853358.0, 4044750.0, 4162228.0, 4254552.0, 4355636.0, 4587728.0, 4702605.0, 4813444.0, 4917012.0, 5009085.0, 5079611.0, 5148187.0, 5216161.0, 5284658.0, 5353104.0, 5422443.0, 5491360.0, 5560072.0, 5629227.0, 5698255.0], \"yaxis\": \"y\"}, {\"hovertemplate\": \"code=STR<br>lap=%{x}<br>accumulated=%{y}<extra></extra>\", \"legendgroup\": \"STR\", \"line\": {\"color\": \"#B6E880\", \"dash\": \"solid\", \"shape\": \"spline\"}, \"mode\": \"lines\", \"name\": \"STR\", \"orientation\": \"v\", \"showlegend\": true, \"type\": \"scatter\", \"x\": [1, 2, 3, 4, 5, 6, 7, 8, 9, 10, 11, 12, 13, 14, 15, 16, 17, 18, 19, 20], \"xaxis\": \"x\", \"y\": [null, 77583.0, 149767.0, 220337.0, 290663.0, 360996.0, 431504.0, 502349.0, 573004.0, 643851.0, 715104.0, 786599.0, 858011.0, 929017.0, 999646.0, 1070380.0, 1140991.0, 1212422.0, 1286463.0, 1361716.0], \"yaxis\": \"y\"}, {\"hovertemplate\": \"code=VER<br>lap=%{x}<br>accumulated=%{y}<extra></extra>\", \"legendgroup\": \"VER\", \"line\": {\"color\": \"#FF97FF\", \"dash\": \"solid\", \"shape\": \"spline\"}, \"mode\": \"lines\", \"name\": \"VER\", \"orientation\": \"v\", \"showlegend\": true, \"type\": \"scatter\", \"x\": [1, 2, 3, 4, 5, 6, 7, 8, 9, 10, 11], \"xaxis\": \"x\", \"y\": [null, 73501.0, 143360.0, 212740.0, 282168.0, 351519.0, 420988.0, 490565.0, 560103.0, 629562.0, 699013.0], \"yaxis\": \"y\"}, {\"hovertemplate\": \"code=VET<br>lap=%{x}<br>accumulated=%{y}<extra></extra>\", \"legendgroup\": \"VET\", \"line\": {\"color\": \"#FECB52\", \"dash\": \"solid\", \"shape\": \"spline\"}, \"mode\": \"lines\", \"name\": \"VET\", \"orientation\": \"v\", \"showlegend\": true, \"type\": \"scatter\", \"x\": [1, 2, 3, 4, 5, 6, 7, 8, 9, 10, 11, 12, 13, 14, 15, 16, 17, 18, 19, 20, 21, 22, 23, 24, 25, 26, 27, 28, 29, 30, 31, 32, 33, 34, 35, 36, 37, 38, 39, 40, 41, 42, 43, 44, 45, 46, 47, 48, 49, 50, 51, 52, 53, 54, 55, 56, 57, 58, 59, 60, 61, 62, 63, 64, 65, 66, 67, 68, 69, 70, 71], \"xaxis\": \"x\", \"y\": [null, 78362.0, 150434.0, 221104.0, 291587.0, 362009.0, 432603.0, 503444.0, 574160.0, 645773.0, 716784.0, 787887.0, 858930.0, 930014.0, 1000663.0, 1071486.0, 1142136.0, 1213130.0, 1283747.0, 1354351.0, 1424683.0, 1495138.0, 1565667.0, 1636311.0, 1706964.0, 1777742.0, 1965444.0, 2075464.0, 2162879.0, 2276860.0, 2383590.0, 2464351.0, 2534416.0, 2604448.0, 2674038.0, 2744823.0, 2814900.0, 2884408.0, 2954183.0, 3023652.0, 3093464.0, 3163207.0, 3233070.0, 3303113.0, 3373598.0, 3444473.0, 3514522.0, 3584191.0, 3653767.0, 3723213.0, 3792968.0, 3977974.0, 4088098.0, 4168543.0, 4257474.0, 4359497.0, 4595167.0, 4707984.0, 4818320.0, 4922780.0, 5012072.0, 5083815.0, 5154248.0, 5224635.0, 5295050.0, 5365673.0, 5436428.0, 5507664.0, 5577668.0, 5647121.0, 5715850.0], \"yaxis\": \"y\"}],                        {\"legend\": {\"title\": {\"text\": \"code\"}, \"tracegroupgap\": 0}, \"margin\": {\"t\": 60}, \"template\": {\"data\": {\"bar\": [{\"error_x\": {\"color\": \"#2a3f5f\"}, \"error_y\": {\"color\": \"#2a3f5f\"}, \"marker\": {\"line\": {\"color\": \"#E5ECF6\", \"width\": 0.5}}, \"type\": \"bar\"}], \"barpolar\": [{\"marker\": {\"line\": {\"color\": \"#E5ECF6\", \"width\": 0.5}}, \"type\": \"barpolar\"}], \"carpet\": [{\"aaxis\": {\"endlinecolor\": \"#2a3f5f\", \"gridcolor\": \"white\", \"linecolor\": \"white\", \"minorgridcolor\": \"white\", \"startlinecolor\": \"#2a3f5f\"}, \"baxis\": {\"endlinecolor\": \"#2a3f5f\", \"gridcolor\": \"white\", \"linecolor\": \"white\", \"minorgridcolor\": \"white\", \"startlinecolor\": \"#2a3f5f\"}, \"type\": \"carpet\"}], \"choropleth\": [{\"colorbar\": {\"outlinewidth\": 0, \"ticks\": \"\"}, \"type\": \"choropleth\"}], \"contour\": [{\"colorbar\": {\"outlinewidth\": 0, \"ticks\": \"\"}, \"colorscale\": [[0.0, \"#0d0887\"], [0.1111111111111111, \"#46039f\"], [0.2222222222222222, \"#7201a8\"], [0.3333333333333333, \"#9c179e\"], [0.4444444444444444, \"#bd3786\"], [0.5555555555555556, \"#d8576b\"], [0.6666666666666666, \"#ed7953\"], [0.7777777777777778, \"#fb9f3a\"], [0.8888888888888888, \"#fdca26\"], [1.0, \"#f0f921\"]], \"type\": \"contour\"}], \"contourcarpet\": [{\"colorbar\": {\"outlinewidth\": 0, \"ticks\": \"\"}, \"type\": \"contourcarpet\"}], \"heatmap\": [{\"colorbar\": {\"outlinewidth\": 0, \"ticks\": \"\"}, \"colorscale\": [[0.0, \"#0d0887\"], [0.1111111111111111, \"#46039f\"], [0.2222222222222222, \"#7201a8\"], [0.3333333333333333, \"#9c179e\"], [0.4444444444444444, \"#bd3786\"], [0.5555555555555556, \"#d8576b\"], [0.6666666666666666, \"#ed7953\"], [0.7777777777777778, \"#fb9f3a\"], [0.8888888888888888, \"#fdca26\"], [1.0, \"#f0f921\"]], \"type\": \"heatmap\"}], \"heatmapgl\": [{\"colorbar\": {\"outlinewidth\": 0, \"ticks\": \"\"}, \"colorscale\": [[0.0, \"#0d0887\"], [0.1111111111111111, \"#46039f\"], [0.2222222222222222, \"#7201a8\"], [0.3333333333333333, \"#9c179e\"], [0.4444444444444444, \"#bd3786\"], [0.5555555555555556, \"#d8576b\"], [0.6666666666666666, \"#ed7953\"], [0.7777777777777778, \"#fb9f3a\"], [0.8888888888888888, \"#fdca26\"], [1.0, \"#f0f921\"]], \"type\": \"heatmapgl\"}], \"histogram\": [{\"marker\": {\"colorbar\": {\"outlinewidth\": 0, \"ticks\": \"\"}}, \"type\": \"histogram\"}], \"histogram2d\": [{\"colorbar\": {\"outlinewidth\": 0, \"ticks\": \"\"}, \"colorscale\": [[0.0, \"#0d0887\"], [0.1111111111111111, \"#46039f\"], [0.2222222222222222, \"#7201a8\"], [0.3333333333333333, \"#9c179e\"], [0.4444444444444444, \"#bd3786\"], [0.5555555555555556, \"#d8576b\"], [0.6666666666666666, \"#ed7953\"], [0.7777777777777778, \"#fb9f3a\"], [0.8888888888888888, \"#fdca26\"], [1.0, \"#f0f921\"]], \"type\": \"histogram2d\"}], \"histogram2dcontour\": [{\"colorbar\": {\"outlinewidth\": 0, \"ticks\": \"\"}, \"colorscale\": [[0.0, \"#0d0887\"], [0.1111111111111111, \"#46039f\"], [0.2222222222222222, \"#7201a8\"], [0.3333333333333333, \"#9c179e\"], [0.4444444444444444, \"#bd3786\"], [0.5555555555555556, \"#d8576b\"], [0.6666666666666666, \"#ed7953\"], [0.7777777777777778, \"#fb9f3a\"], [0.8888888888888888, \"#fdca26\"], [1.0, \"#f0f921\"]], \"type\": \"histogram2dcontour\"}], \"mesh3d\": [{\"colorbar\": {\"outlinewidth\": 0, \"ticks\": \"\"}, \"type\": \"mesh3d\"}], \"parcoords\": [{\"line\": {\"colorbar\": {\"outlinewidth\": 0, \"ticks\": \"\"}}, \"type\": \"parcoords\"}], \"pie\": [{\"automargin\": true, \"type\": \"pie\"}], \"scatter\": [{\"marker\": {\"colorbar\": {\"outlinewidth\": 0, \"ticks\": \"\"}}, \"type\": \"scatter\"}], \"scatter3d\": [{\"line\": {\"colorbar\": {\"outlinewidth\": 0, \"ticks\": \"\"}}, \"marker\": {\"colorbar\": {\"outlinewidth\": 0, \"ticks\": \"\"}}, \"type\": \"scatter3d\"}], \"scattercarpet\": [{\"marker\": {\"colorbar\": {\"outlinewidth\": 0, \"ticks\": \"\"}}, \"type\": \"scattercarpet\"}], \"scattergeo\": [{\"marker\": {\"colorbar\": {\"outlinewidth\": 0, \"ticks\": \"\"}}, \"type\": \"scattergeo\"}], \"scattergl\": [{\"marker\": {\"colorbar\": {\"outlinewidth\": 0, \"ticks\": \"\"}}, \"type\": \"scattergl\"}], \"scattermapbox\": [{\"marker\": {\"colorbar\": {\"outlinewidth\": 0, \"ticks\": \"\"}}, \"type\": \"scattermapbox\"}], \"scatterpolar\": [{\"marker\": {\"colorbar\": {\"outlinewidth\": 0, \"ticks\": \"\"}}, \"type\": \"scatterpolar\"}], \"scatterpolargl\": [{\"marker\": {\"colorbar\": {\"outlinewidth\": 0, \"ticks\": \"\"}}, \"type\": \"scatterpolargl\"}], \"scatterternary\": [{\"marker\": {\"colorbar\": {\"outlinewidth\": 0, \"ticks\": \"\"}}, \"type\": \"scatterternary\"}], \"surface\": [{\"colorbar\": {\"outlinewidth\": 0, \"ticks\": \"\"}, \"colorscale\": [[0.0, \"#0d0887\"], [0.1111111111111111, \"#46039f\"], [0.2222222222222222, \"#7201a8\"], [0.3333333333333333, \"#9c179e\"], [0.4444444444444444, \"#bd3786\"], [0.5555555555555556, \"#d8576b\"], [0.6666666666666666, \"#ed7953\"], [0.7777777777777778, \"#fb9f3a\"], [0.8888888888888888, \"#fdca26\"], [1.0, \"#f0f921\"]], \"type\": \"surface\"}], \"table\": [{\"cells\": {\"fill\": {\"color\": \"#EBF0F8\"}, \"line\": {\"color\": \"white\"}}, \"header\": {\"fill\": {\"color\": \"#C8D4E3\"}, \"line\": {\"color\": \"white\"}}, \"type\": \"table\"}]}, \"layout\": {\"annotationdefaults\": {\"arrowcolor\": \"#2a3f5f\", \"arrowhead\": 0, \"arrowwidth\": 1}, \"autotypenumbers\": \"strict\", \"coloraxis\": {\"colorbar\": {\"outlinewidth\": 0, \"ticks\": \"\"}}, \"colorscale\": {\"diverging\": [[0, \"#8e0152\"], [0.1, \"#c51b7d\"], [0.2, \"#de77ae\"], [0.3, \"#f1b6da\"], [0.4, \"#fde0ef\"], [0.5, \"#f7f7f7\"], [0.6, \"#e6f5d0\"], [0.7, \"#b8e186\"], [0.8, \"#7fbc41\"], [0.9, \"#4d9221\"], [1, \"#276419\"]], \"sequential\": [[0.0, \"#0d0887\"], [0.1111111111111111, \"#46039f\"], [0.2222222222222222, \"#7201a8\"], [0.3333333333333333, \"#9c179e\"], [0.4444444444444444, \"#bd3786\"], [0.5555555555555556, \"#d8576b\"], [0.6666666666666666, \"#ed7953\"], [0.7777777777777778, \"#fb9f3a\"], [0.8888888888888888, \"#fdca26\"], [1.0, \"#f0f921\"]], \"sequentialminus\": [[0.0, \"#0d0887\"], [0.1111111111111111, \"#46039f\"], [0.2222222222222222, \"#7201a8\"], [0.3333333333333333, \"#9c179e\"], [0.4444444444444444, \"#bd3786\"], [0.5555555555555556, \"#d8576b\"], [0.6666666666666666, \"#ed7953\"], [0.7777777777777778, \"#fb9f3a\"], [0.8888888888888888, \"#fdca26\"], [1.0, \"#f0f921\"]]}, \"colorway\": [\"#636efa\", \"#EF553B\", \"#00cc96\", \"#ab63fa\", \"#FFA15A\", \"#19d3f3\", \"#FF6692\", \"#B6E880\", \"#FF97FF\", \"#FECB52\"], \"font\": {\"color\": \"#2a3f5f\"}, \"geo\": {\"bgcolor\": \"white\", \"lakecolor\": \"white\", \"landcolor\": \"#E5ECF6\", \"showlakes\": true, \"showland\": true, \"subunitcolor\": \"white\"}, \"hoverlabel\": {\"align\": \"left\"}, \"hovermode\": \"closest\", \"mapbox\": {\"style\": \"light\"}, \"paper_bgcolor\": \"white\", \"plot_bgcolor\": \"#E5ECF6\", \"polar\": {\"angularaxis\": {\"gridcolor\": \"white\", \"linecolor\": \"white\", \"ticks\": \"\"}, \"bgcolor\": \"#E5ECF6\", \"radialaxis\": {\"gridcolor\": \"white\", \"linecolor\": \"white\", \"ticks\": \"\"}}, \"scene\": {\"xaxis\": {\"backgroundcolor\": \"#E5ECF6\", \"gridcolor\": \"white\", \"gridwidth\": 2, \"linecolor\": \"white\", \"showbackground\": true, \"ticks\": \"\", \"zerolinecolor\": \"white\"}, \"yaxis\": {\"backgroundcolor\": \"#E5ECF6\", \"gridcolor\": \"white\", \"gridwidth\": 2, \"linecolor\": \"white\", \"showbackground\": true, \"ticks\": \"\", \"zerolinecolor\": \"white\"}, \"zaxis\": {\"backgroundcolor\": \"#E5ECF6\", \"gridcolor\": \"white\", \"gridwidth\": 2, \"linecolor\": \"white\", \"showbackground\": true, \"ticks\": \"\", \"zerolinecolor\": \"white\"}}, \"shapedefaults\": {\"line\": {\"color\": \"#2a3f5f\"}}, \"ternary\": {\"aaxis\": {\"gridcolor\": \"white\", \"linecolor\": \"white\", \"ticks\": \"\"}, \"baxis\": {\"gridcolor\": \"white\", \"linecolor\": \"white\", \"ticks\": \"\"}, \"bgcolor\": \"#E5ECF6\", \"caxis\": {\"gridcolor\": \"white\", \"linecolor\": \"white\", \"ticks\": \"\"}}, \"title\": {\"x\": 0.05}, \"xaxis\": {\"automargin\": true, \"gridcolor\": \"white\", \"linecolor\": \"white\", \"ticks\": \"\", \"title\": {\"standoff\": 15}, \"zerolinecolor\": \"white\", \"zerolinewidth\": 2}, \"yaxis\": {\"automargin\": true, \"gridcolor\": \"white\", \"linecolor\": \"white\", \"ticks\": \"\", \"title\": {\"standoff\": 15}, \"zerolinecolor\": \"white\", \"zerolinewidth\": 2}}}, \"xaxis\": {\"anchor\": \"y\", \"domain\": [0.0, 1.0], \"title\": {\"text\": \"lap\"}}, \"yaxis\": {\"anchor\": \"x\", \"domain\": [0.0, 1.0], \"title\": {\"text\": \"accumulated\"}}},                        {\"responsive\": true}                    ).then(function(){\n",
       "                            \n",
       "var gd = document.getElementById('2b9ad29e-f7d8-4d9d-889f-e6374779c2ea');\n",
       "var x = new MutationObserver(function (mutations, observer) {{\n",
       "        var display = window.getComputedStyle(gd).display;\n",
       "        if (!display || display === 'none') {{\n",
       "            console.log([gd, 'removed!']);\n",
       "            Plotly.purge(gd);\n",
       "            observer.disconnect();\n",
       "        }}\n",
       "}});\n",
       "\n",
       "// Listen for the removal of the full notebook cells\n",
       "var notebookContainer = gd.closest('#notebook-container');\n",
       "if (notebookContainer) {{\n",
       "    x.observe(notebookContainer, {childList: true});\n",
       "}}\n",
       "\n",
       "// Listen for the clearing of the current output cell\n",
       "var outputEl = gd.closest('.output');\n",
       "if (outputEl) {{\n",
       "    x.observe(outputEl, {childList: true});\n",
       "}}\n",
       "\n",
       "                        })                };                });            </script>        </div>"
      ]
     },
     "metadata": {},
     "output_type": "display_data"
    }
   ],
   "source": [
    "fig = px.line(r1, x = \"lap\", y = \"accumulated\", color = \"code\", line_shape=\"spline\", render_mode=\"svg\")\n",
    "fig.show()"
   ]
  },
  {
   "cell_type": "markdown",
   "metadata": {},
   "source": [
    "Looking at the plot above including all drivers: \n",
    "- The first window took place between lap 20-30, as we see driver lines start to deviate from the group. Driver lines who have an increase in slope earlier undercut those who have an increase in slope later. \n",
    "- The second window took place between lap 50-60, with two sets of stops. This set up for a crucial last stage of the race."
   ]
  },
  {
   "cell_type": "markdown",
   "metadata": {},
   "source": [
    "### Sainz and Norris Comparison"
   ]
  },
  {
   "cell_type": "markdown",
   "metadata": {},
   "source": [
    "To gain more detailed insight, we start by filtering the data to the two McLaren drivers; Carlos Sainz and Lando Norris.\n",
    "- We can then compare respective pace, and see how pit strategies are approached within the team"
   ]
  },
  {
   "cell_type": "code",
   "execution_count": 38,
   "metadata": {},
   "outputs": [
    {
     "data": {
      "application/vnd.plotly.v1+json": {
       "config": {
        "plotlyServerURL": "https://plot.ly"
       },
       "data": [
        {
         "hovertemplate": "code=NOR<br>lap=%{x}<br>accumulated=%{y}<extra></extra>",
         "legendgroup": "NOR",
         "line": {
          "color": "#636efa",
          "dash": "solid",
          "shape": "spline"
         },
         "mode": "lines",
         "name": "NOR",
         "orientation": "v",
         "showlegend": true,
         "type": "scatter",
         "x": [
          1,
          2,
          3,
          4,
          5,
          6,
          7,
          8,
          9,
          10,
          11,
          12,
          13,
          14,
          15,
          16,
          17,
          18,
          19,
          20,
          21,
          22,
          23,
          24,
          25,
          26,
          27,
          28,
          29,
          30,
          31,
          32,
          33,
          34,
          35,
          36,
          37,
          38,
          39,
          40,
          41,
          42,
          43,
          44,
          45,
          46,
          47,
          48,
          49,
          50,
          51,
          52,
          53,
          54,
          55,
          56,
          57,
          58,
          59,
          60,
          61,
          62,
          63,
          64,
          65,
          66,
          67,
          68,
          69,
          70,
          71
         ],
         "xaxis": "x",
         "y": [
          null,
          74567,
          144933,
          216130,
          286940,
          356889,
          426906,
          497134,
          567458,
          637590,
          707914,
          778363,
          848475,
          918784,
          988994,
          1059181,
          1129416,
          1199468,
          1269452,
          1339481,
          1409341,
          1479353,
          1549286,
          1619392,
          1689332,
          1759295,
          1939763,
          2049966,
          2153761,
          2267902,
          2378556,
          2449013,
          2518664,
          2589212,
          2658220,
          2727531,
          2796736,
          2865847,
          2934770,
          3003796,
          3072840,
          3141914,
          3210779,
          3279566,
          3348464,
          3417681,
          3486856,
          3555834,
          3624533,
          3693228,
          3761866,
          3929268,
          4038630,
          4144203,
          4240436,
          4340926,
          4569318,
          4685482,
          4796693,
          4899977,
          4993870,
          5063532,
          5132455,
          5200817,
          5270171,
          5338689,
          5407900,
          5476474,
          5545003,
          5614105,
          5681886
         ],
         "yaxis": "y"
        },
        {
         "hovertemplate": "code=SAI<br>lap=%{x}<br>accumulated=%{y}<extra></extra>",
         "legendgroup": "SAI",
         "line": {
          "color": "#EF553B",
          "dash": "solid",
          "shape": "spline"
         },
         "mode": "lines",
         "name": "SAI",
         "orientation": "v",
         "showlegend": true,
         "type": "scatter",
         "x": [
          1,
          2,
          3,
          4,
          5,
          6,
          7,
          8,
          9,
          10,
          11,
          12,
          13,
          14,
          15,
          16,
          17,
          18,
          19,
          20,
          21,
          22,
          23,
          24,
          25,
          26,
          27,
          28,
          29,
          30,
          31,
          32,
          33,
          34,
          35,
          36,
          37,
          38,
          39,
          40,
          41,
          42,
          43,
          44,
          45,
          46,
          47,
          48,
          49,
          50,
          51,
          52,
          53,
          54,
          55,
          56,
          57,
          58,
          59,
          60,
          61,
          62,
          63,
          64,
          65,
          66,
          67,
          68,
          69,
          70,
          71
         ],
         "xaxis": "x",
         "y": [
          null,
          77168,
          149126,
          219369,
          289685,
          360002,
          430344,
          500907,
          571558,
          642129,
          712647,
          783348,
          853897,
          924289,
          994710,
          1065032,
          1135410,
          1205815,
          1276249,
          1346499,
          1416509,
          1486614,
          1556665,
          1626798,
          1697114,
          1767255,
          1947613,
          2060076,
          2157237,
          2272472,
          2379415,
          2450869,
          2520890,
          2590608,
          2659928,
          2729256,
          2798941,
          2868187,
          2937552,
          3006979,
          3076439,
          3145544,
          3215001,
          3284330,
          3353573,
          3422947,
          3492167,
          3561256,
          3630184,
          3699158,
          3768390,
          3853358,
          4044750,
          4162228,
          4254552,
          4355636,
          4587728,
          4702605,
          4813444,
          4917012,
          5009085,
          5079611,
          5148187,
          5216161,
          5284658,
          5353104,
          5422443,
          5491360,
          5560072,
          5629227,
          5698255
         ],
         "yaxis": "y"
        }
       ],
       "layout": {
        "autosize": true,
        "legend": {
         "title": {
          "text": "code"
         },
         "tracegroupgap": 0
        },
        "margin": {
         "t": 60
        },
        "template": {
         "data": {
          "bar": [
           {
            "error_x": {
             "color": "#2a3f5f"
            },
            "error_y": {
             "color": "#2a3f5f"
            },
            "marker": {
             "line": {
              "color": "#E5ECF6",
              "width": 0.5
             }
            },
            "type": "bar"
           }
          ],
          "barpolar": [
           {
            "marker": {
             "line": {
              "color": "#E5ECF6",
              "width": 0.5
             }
            },
            "type": "barpolar"
           }
          ],
          "carpet": [
           {
            "aaxis": {
             "endlinecolor": "#2a3f5f",
             "gridcolor": "white",
             "linecolor": "white",
             "minorgridcolor": "white",
             "startlinecolor": "#2a3f5f"
            },
            "baxis": {
             "endlinecolor": "#2a3f5f",
             "gridcolor": "white",
             "linecolor": "white",
             "minorgridcolor": "white",
             "startlinecolor": "#2a3f5f"
            },
            "type": "carpet"
           }
          ],
          "choropleth": [
           {
            "colorbar": {
             "outlinewidth": 0,
             "ticks": ""
            },
            "type": "choropleth"
           }
          ],
          "contour": [
           {
            "colorbar": {
             "outlinewidth": 0,
             "ticks": ""
            },
            "colorscale": [
             [
              0,
              "#0d0887"
             ],
             [
              0.1111111111111111,
              "#46039f"
             ],
             [
              0.2222222222222222,
              "#7201a8"
             ],
             [
              0.3333333333333333,
              "#9c179e"
             ],
             [
              0.4444444444444444,
              "#bd3786"
             ],
             [
              0.5555555555555556,
              "#d8576b"
             ],
             [
              0.6666666666666666,
              "#ed7953"
             ],
             [
              0.7777777777777778,
              "#fb9f3a"
             ],
             [
              0.8888888888888888,
              "#fdca26"
             ],
             [
              1,
              "#f0f921"
             ]
            ],
            "type": "contour"
           }
          ],
          "contourcarpet": [
           {
            "colorbar": {
             "outlinewidth": 0,
             "ticks": ""
            },
            "type": "contourcarpet"
           }
          ],
          "heatmap": [
           {
            "colorbar": {
             "outlinewidth": 0,
             "ticks": ""
            },
            "colorscale": [
             [
              0,
              "#0d0887"
             ],
             [
              0.1111111111111111,
              "#46039f"
             ],
             [
              0.2222222222222222,
              "#7201a8"
             ],
             [
              0.3333333333333333,
              "#9c179e"
             ],
             [
              0.4444444444444444,
              "#bd3786"
             ],
             [
              0.5555555555555556,
              "#d8576b"
             ],
             [
              0.6666666666666666,
              "#ed7953"
             ],
             [
              0.7777777777777778,
              "#fb9f3a"
             ],
             [
              0.8888888888888888,
              "#fdca26"
             ],
             [
              1,
              "#f0f921"
             ]
            ],
            "type": "heatmap"
           }
          ],
          "heatmapgl": [
           {
            "colorbar": {
             "outlinewidth": 0,
             "ticks": ""
            },
            "colorscale": [
             [
              0,
              "#0d0887"
             ],
             [
              0.1111111111111111,
              "#46039f"
             ],
             [
              0.2222222222222222,
              "#7201a8"
             ],
             [
              0.3333333333333333,
              "#9c179e"
             ],
             [
              0.4444444444444444,
              "#bd3786"
             ],
             [
              0.5555555555555556,
              "#d8576b"
             ],
             [
              0.6666666666666666,
              "#ed7953"
             ],
             [
              0.7777777777777778,
              "#fb9f3a"
             ],
             [
              0.8888888888888888,
              "#fdca26"
             ],
             [
              1,
              "#f0f921"
             ]
            ],
            "type": "heatmapgl"
           }
          ],
          "histogram": [
           {
            "marker": {
             "colorbar": {
              "outlinewidth": 0,
              "ticks": ""
             }
            },
            "type": "histogram"
           }
          ],
          "histogram2d": [
           {
            "colorbar": {
             "outlinewidth": 0,
             "ticks": ""
            },
            "colorscale": [
             [
              0,
              "#0d0887"
             ],
             [
              0.1111111111111111,
              "#46039f"
             ],
             [
              0.2222222222222222,
              "#7201a8"
             ],
             [
              0.3333333333333333,
              "#9c179e"
             ],
             [
              0.4444444444444444,
              "#bd3786"
             ],
             [
              0.5555555555555556,
              "#d8576b"
             ],
             [
              0.6666666666666666,
              "#ed7953"
             ],
             [
              0.7777777777777778,
              "#fb9f3a"
             ],
             [
              0.8888888888888888,
              "#fdca26"
             ],
             [
              1,
              "#f0f921"
             ]
            ],
            "type": "histogram2d"
           }
          ],
          "histogram2dcontour": [
           {
            "colorbar": {
             "outlinewidth": 0,
             "ticks": ""
            },
            "colorscale": [
             [
              0,
              "#0d0887"
             ],
             [
              0.1111111111111111,
              "#46039f"
             ],
             [
              0.2222222222222222,
              "#7201a8"
             ],
             [
              0.3333333333333333,
              "#9c179e"
             ],
             [
              0.4444444444444444,
              "#bd3786"
             ],
             [
              0.5555555555555556,
              "#d8576b"
             ],
             [
              0.6666666666666666,
              "#ed7953"
             ],
             [
              0.7777777777777778,
              "#fb9f3a"
             ],
             [
              0.8888888888888888,
              "#fdca26"
             ],
             [
              1,
              "#f0f921"
             ]
            ],
            "type": "histogram2dcontour"
           }
          ],
          "mesh3d": [
           {
            "colorbar": {
             "outlinewidth": 0,
             "ticks": ""
            },
            "type": "mesh3d"
           }
          ],
          "parcoords": [
           {
            "line": {
             "colorbar": {
              "outlinewidth": 0,
              "ticks": ""
             }
            },
            "type": "parcoords"
           }
          ],
          "pie": [
           {
            "automargin": true,
            "type": "pie"
           }
          ],
          "scatter": [
           {
            "marker": {
             "colorbar": {
              "outlinewidth": 0,
              "ticks": ""
             }
            },
            "type": "scatter"
           }
          ],
          "scatter3d": [
           {
            "line": {
             "colorbar": {
              "outlinewidth": 0,
              "ticks": ""
             }
            },
            "marker": {
             "colorbar": {
              "outlinewidth": 0,
              "ticks": ""
             }
            },
            "type": "scatter3d"
           }
          ],
          "scattercarpet": [
           {
            "marker": {
             "colorbar": {
              "outlinewidth": 0,
              "ticks": ""
             }
            },
            "type": "scattercarpet"
           }
          ],
          "scattergeo": [
           {
            "marker": {
             "colorbar": {
              "outlinewidth": 0,
              "ticks": ""
             }
            },
            "type": "scattergeo"
           }
          ],
          "scattergl": [
           {
            "marker": {
             "colorbar": {
              "outlinewidth": 0,
              "ticks": ""
             }
            },
            "type": "scattergl"
           }
          ],
          "scattermapbox": [
           {
            "marker": {
             "colorbar": {
              "outlinewidth": 0,
              "ticks": ""
             }
            },
            "type": "scattermapbox"
           }
          ],
          "scatterpolar": [
           {
            "marker": {
             "colorbar": {
              "outlinewidth": 0,
              "ticks": ""
             }
            },
            "type": "scatterpolar"
           }
          ],
          "scatterpolargl": [
           {
            "marker": {
             "colorbar": {
              "outlinewidth": 0,
              "ticks": ""
             }
            },
            "type": "scatterpolargl"
           }
          ],
          "scatterternary": [
           {
            "marker": {
             "colorbar": {
              "outlinewidth": 0,
              "ticks": ""
             }
            },
            "type": "scatterternary"
           }
          ],
          "surface": [
           {
            "colorbar": {
             "outlinewidth": 0,
             "ticks": ""
            },
            "colorscale": [
             [
              0,
              "#0d0887"
             ],
             [
              0.1111111111111111,
              "#46039f"
             ],
             [
              0.2222222222222222,
              "#7201a8"
             ],
             [
              0.3333333333333333,
              "#9c179e"
             ],
             [
              0.4444444444444444,
              "#bd3786"
             ],
             [
              0.5555555555555556,
              "#d8576b"
             ],
             [
              0.6666666666666666,
              "#ed7953"
             ],
             [
              0.7777777777777778,
              "#fb9f3a"
             ],
             [
              0.8888888888888888,
              "#fdca26"
             ],
             [
              1,
              "#f0f921"
             ]
            ],
            "type": "surface"
           }
          ],
          "table": [
           {
            "cells": {
             "fill": {
              "color": "#EBF0F8"
             },
             "line": {
              "color": "white"
             }
            },
            "header": {
             "fill": {
              "color": "#C8D4E3"
             },
             "line": {
              "color": "white"
             }
            },
            "type": "table"
           }
          ]
         },
         "layout": {
          "annotationdefaults": {
           "arrowcolor": "#2a3f5f",
           "arrowhead": 0,
           "arrowwidth": 1
          },
          "autotypenumbers": "strict",
          "coloraxis": {
           "colorbar": {
            "outlinewidth": 0,
            "ticks": ""
           }
          },
          "colorscale": {
           "diverging": [
            [
             0,
             "#8e0152"
            ],
            [
             0.1,
             "#c51b7d"
            ],
            [
             0.2,
             "#de77ae"
            ],
            [
             0.3,
             "#f1b6da"
            ],
            [
             0.4,
             "#fde0ef"
            ],
            [
             0.5,
             "#f7f7f7"
            ],
            [
             0.6,
             "#e6f5d0"
            ],
            [
             0.7,
             "#b8e186"
            ],
            [
             0.8,
             "#7fbc41"
            ],
            [
             0.9,
             "#4d9221"
            ],
            [
             1,
             "#276419"
            ]
           ],
           "sequential": [
            [
             0,
             "#0d0887"
            ],
            [
             0.1111111111111111,
             "#46039f"
            ],
            [
             0.2222222222222222,
             "#7201a8"
            ],
            [
             0.3333333333333333,
             "#9c179e"
            ],
            [
             0.4444444444444444,
             "#bd3786"
            ],
            [
             0.5555555555555556,
             "#d8576b"
            ],
            [
             0.6666666666666666,
             "#ed7953"
            ],
            [
             0.7777777777777778,
             "#fb9f3a"
            ],
            [
             0.8888888888888888,
             "#fdca26"
            ],
            [
             1,
             "#f0f921"
            ]
           ],
           "sequentialminus": [
            [
             0,
             "#0d0887"
            ],
            [
             0.1111111111111111,
             "#46039f"
            ],
            [
             0.2222222222222222,
             "#7201a8"
            ],
            [
             0.3333333333333333,
             "#9c179e"
            ],
            [
             0.4444444444444444,
             "#bd3786"
            ],
            [
             0.5555555555555556,
             "#d8576b"
            ],
            [
             0.6666666666666666,
             "#ed7953"
            ],
            [
             0.7777777777777778,
             "#fb9f3a"
            ],
            [
             0.8888888888888888,
             "#fdca26"
            ],
            [
             1,
             "#f0f921"
            ]
           ]
          },
          "colorway": [
           "#636efa",
           "#EF553B",
           "#00cc96",
           "#ab63fa",
           "#FFA15A",
           "#19d3f3",
           "#FF6692",
           "#B6E880",
           "#FF97FF",
           "#FECB52"
          ],
          "font": {
           "color": "#2a3f5f"
          },
          "geo": {
           "bgcolor": "white",
           "lakecolor": "white",
           "landcolor": "#E5ECF6",
           "showlakes": true,
           "showland": true,
           "subunitcolor": "white"
          },
          "hoverlabel": {
           "align": "left"
          },
          "hovermode": "closest",
          "mapbox": {
           "style": "light"
          },
          "paper_bgcolor": "white",
          "plot_bgcolor": "#E5ECF6",
          "polar": {
           "angularaxis": {
            "gridcolor": "white",
            "linecolor": "white",
            "ticks": ""
           },
           "bgcolor": "#E5ECF6",
           "radialaxis": {
            "gridcolor": "white",
            "linecolor": "white",
            "ticks": ""
           }
          },
          "scene": {
           "xaxis": {
            "backgroundcolor": "#E5ECF6",
            "gridcolor": "white",
            "gridwidth": 2,
            "linecolor": "white",
            "showbackground": true,
            "ticks": "",
            "zerolinecolor": "white"
           },
           "yaxis": {
            "backgroundcolor": "#E5ECF6",
            "gridcolor": "white",
            "gridwidth": 2,
            "linecolor": "white",
            "showbackground": true,
            "ticks": "",
            "zerolinecolor": "white"
           },
           "zaxis": {
            "backgroundcolor": "#E5ECF6",
            "gridcolor": "white",
            "gridwidth": 2,
            "linecolor": "white",
            "showbackground": true,
            "ticks": "",
            "zerolinecolor": "white"
           }
          },
          "shapedefaults": {
           "line": {
            "color": "#2a3f5f"
           }
          },
          "ternary": {
           "aaxis": {
            "gridcolor": "white",
            "linecolor": "white",
            "ticks": ""
           },
           "baxis": {
            "gridcolor": "white",
            "linecolor": "white",
            "ticks": ""
           },
           "bgcolor": "#E5ECF6",
           "caxis": {
            "gridcolor": "white",
            "linecolor": "white",
            "ticks": ""
           }
          },
          "title": {
           "x": 0.05
          },
          "xaxis": {
           "automargin": true,
           "gridcolor": "white",
           "linecolor": "white",
           "ticks": "",
           "title": {
            "standoff": 15
           },
           "zerolinecolor": "white",
           "zerolinewidth": 2
          },
          "yaxis": {
           "automargin": true,
           "gridcolor": "white",
           "linecolor": "white",
           "ticks": "",
           "title": {
            "standoff": 15
           },
           "zerolinecolor": "white",
           "zerolinewidth": 2
          }
         }
        },
        "xaxis": {
         "anchor": "y",
         "autorange": true,
         "domain": [
          0,
          1
         ],
         "range": [
          1,
          71
         ],
         "title": {
          "text": "lap"
         },
         "type": "linear"
        },
        "yaxis": {
         "anchor": "x",
         "autorange": true,
         "domain": [
          0,
          1
         ],
         "range": [
          -237860.11111111107,
          6010682.111111111
         ],
         "title": {
          "text": "accumulated"
         },
         "type": "linear"
        }
       }
      },
      "image/png": "[encoded data removed]",
      "text/html": [
       "<div>                            <div id=\"4677f5ef-174d-44b4-83d0-b450f47ab265\" class=\"plotly-graph-div\" style=\"height:525px; width:100%;\"></div>            <script type=\"text/javascript\">                require([\"plotly\"], function(Plotly) {                    window.PLOTLYENV=window.PLOTLYENV || {};                                    if (document.getElementById(\"4677f5ef-174d-44b4-83d0-b450f47ab265\")) {                    Plotly.newPlot(                        \"4677f5ef-174d-44b4-83d0-b450f47ab265\",                        [{\"hovertemplate\": \"code=NOR<br>lap=%{x}<br>accumulated=%{y}<extra></extra>\", \"legendgroup\": \"NOR\", \"line\": {\"color\": \"#636efa\", \"dash\": \"solid\", \"shape\": \"spline\"}, \"mode\": \"lines\", \"name\": \"NOR\", \"orientation\": \"v\", \"showlegend\": true, \"type\": \"scatter\", \"x\": [1, 2, 3, 4, 5, 6, 7, 8, 9, 10, 11, 12, 13, 14, 15, 16, 17, 18, 19, 20, 21, 22, 23, 24, 25, 26, 27, 28, 29, 30, 31, 32, 33, 34, 35, 36, 37, 38, 39, 40, 41, 42, 43, 44, 45, 46, 47, 48, 49, 50, 51, 52, 53, 54, 55, 56, 57, 58, 59, 60, 61, 62, 63, 64, 65, 66, 67, 68, 69, 70, 71], \"xaxis\": \"x\", \"y\": [null, 74567.0, 144933.0, 216130.0, 286940.0, 356889.0, 426906.0, 497134.0, 567458.0, 637590.0, 707914.0, 778363.0, 848475.0, 918784.0, 988994.0, 1059181.0, 1129416.0, 1199468.0, 1269452.0, 1339481.0, 1409341.0, 1479353.0, 1549286.0, 1619392.0, 1689332.0, 1759295.0, 1939763.0, 2049966.0, 2153761.0, 2267902.0, 2378556.0, 2449013.0, 2518664.0, 2589212.0, 2658220.0, 2727531.0, 2796736.0, 2865847.0, 2934770.0, 3003796.0, 3072840.0, 3141914.0, 3210779.0, 3279566.0, 3348464.0, 3417681.0, 3486856.0, 3555834.0, 3624533.0, 3693228.0, 3761866.0, 3929268.0, 4038630.0, 4144203.0, 4240436.0, 4340926.0, 4569318.0, 4685482.0, 4796693.0, 4899977.0, 4993870.0, 5063532.0, 5132455.0, 5200817.0, 5270171.0, 5338689.0, 5407900.0, 5476474.0, 5545003.0, 5614105.0, 5681886.0], \"yaxis\": \"y\"}, {\"hovertemplate\": \"code=SAI<br>lap=%{x}<br>accumulated=%{y}<extra></extra>\", \"legendgroup\": \"SAI\", \"line\": {\"color\": \"#EF553B\", \"dash\": \"solid\", \"shape\": \"spline\"}, \"mode\": \"lines\", \"name\": \"SAI\", \"orientation\": \"v\", \"showlegend\": true, \"type\": \"scatter\", \"x\": [1, 2, 3, 4, 5, 6, 7, 8, 9, 10, 11, 12, 13, 14, 15, 16, 17, 18, 19, 20, 21, 22, 23, 24, 25, 26, 27, 28, 29, 30, 31, 32, 33, 34, 35, 36, 37, 38, 39, 40, 41, 42, 43, 44, 45, 46, 47, 48, 49, 50, 51, 52, 53, 54, 55, 56, 57, 58, 59, 60, 61, 62, 63, 64, 65, 66, 67, 68, 69, 70, 71], \"xaxis\": \"x\", \"y\": [null, 77168.0, 149126.0, 219369.0, 289685.0, 360002.0, 430344.0, 500907.0, 571558.0, 642129.0, 712647.0, 783348.0, 853897.0, 924289.0, 994710.0, 1065032.0, 1135410.0, 1205815.0, 1276249.0, 1346499.0, 1416509.0, 1486614.0, 1556665.0, 1626798.0, 1697114.0, 1767255.0, 1947613.0, 2060076.0, 2157237.0, 2272472.0, 2379415.0, 2450869.0, 2520890.0, 2590608.0, 2659928.0, 2729256.0, 2798941.0, 2868187.0, 2937552.0, 3006979.0, 3076439.0, 3145544.0, 3215001.0, 3284330.0, 3353573.0, 3422947.0, 3492167.0, 3561256.0, 3630184.0, 3699158.0, 3768390.0, 3853358.0, 4044750.0, 4162228.0, 4254552.0, 4355636.0, 4587728.0, 4702605.0, 4813444.0, 4917012.0, 5009085.0, 5079611.0, 5148187.0, 5216161.0, 5284658.0, 5353104.0, 5422443.0, 5491360.0, 5560072.0, 5629227.0, 5698255.0], \"yaxis\": \"y\"}],                        {\"legend\": {\"title\": {\"text\": \"code\"}, \"tracegroupgap\": 0}, \"margin\": {\"t\": 60}, \"template\": {\"data\": {\"bar\": [{\"error_x\": {\"color\": \"#2a3f5f\"}, \"error_y\": {\"color\": \"#2a3f5f\"}, \"marker\": {\"line\": {\"color\": \"#E5ECF6\", \"width\": 0.5}}, \"type\": \"bar\"}], \"barpolar\": [{\"marker\": {\"line\": {\"color\": \"#E5ECF6\", \"width\": 0.5}}, \"type\": \"barpolar\"}], \"carpet\": [{\"aaxis\": {\"endlinecolor\": \"#2a3f5f\", \"gridcolor\": \"white\", \"linecolor\": \"white\", \"minorgridcolor\": \"white\", \"startlinecolor\": \"#2a3f5f\"}, \"baxis\": {\"endlinecolor\": \"#2a3f5f\", \"gridcolor\": \"white\", \"linecolor\": \"white\", \"minorgridcolor\": \"white\", \"startlinecolor\": \"#2a3f5f\"}, \"type\": \"carpet\"}], \"choropleth\": [{\"colorbar\": {\"outlinewidth\": 0, \"ticks\": \"\"}, \"type\": \"choropleth\"}], \"contour\": [{\"colorbar\": {\"outlinewidth\": 0, \"ticks\": \"\"}, \"colorscale\": [[0.0, \"#0d0887\"], [0.1111111111111111, \"#46039f\"], [0.2222222222222222, \"#7201a8\"], [0.3333333333333333, \"#9c179e\"], [0.4444444444444444, \"#bd3786\"], [0.5555555555555556, \"#d8576b\"], [0.6666666666666666, \"#ed7953\"], [0.7777777777777778, \"#fb9f3a\"], [0.8888888888888888, \"#fdca26\"], [1.0, \"#f0f921\"]], \"type\": \"contour\"}], \"contourcarpet\": [{\"colorbar\": {\"outlinewidth\": 0, \"ticks\": \"\"}, \"type\": \"contourcarpet\"}], \"heatmap\": [{\"colorbar\": {\"outlinewidth\": 0, \"ticks\": \"\"}, \"colorscale\": [[0.0, \"#0d0887\"], [0.1111111111111111, \"#46039f\"], [0.2222222222222222, \"#7201a8\"], [0.3333333333333333, \"#9c179e\"], [0.4444444444444444, \"#bd3786\"], [0.5555555555555556, \"#d8576b\"], [0.6666666666666666, \"#ed7953\"], [0.7777777777777778, \"#fb9f3a\"], [0.8888888888888888, \"#fdca26\"], [1.0, \"#f0f921\"]], \"type\": \"heatmap\"}], \"heatmapgl\": [{\"colorbar\": {\"outlinewidth\": 0, \"ticks\": \"\"}, \"colorscale\": [[0.0, \"#0d0887\"], [0.1111111111111111, \"#46039f\"], [0.2222222222222222, \"#7201a8\"], [0.3333333333333333, \"#9c179e\"], [0.4444444444444444, \"#bd3786\"], [0.5555555555555556, \"#d8576b\"], [0.6666666666666666, \"#ed7953\"], [0.7777777777777778, \"#fb9f3a\"], [0.8888888888888888, \"#fdca26\"], [1.0, \"#f0f921\"]], \"type\": \"heatmapgl\"}], \"histogram\": [{\"marker\": {\"colorbar\": {\"outlinewidth\": 0, \"ticks\": \"\"}}, \"type\": \"histogram\"}], \"histogram2d\": [{\"colorbar\": {\"outlinewidth\": 0, \"ticks\": \"\"}, \"colorscale\": [[0.0, \"#0d0887\"], [0.1111111111111111, \"#46039f\"], [0.2222222222222222, \"#7201a8\"], [0.3333333333333333, \"#9c179e\"], [0.4444444444444444, \"#bd3786\"], [0.5555555555555556, \"#d8576b\"], [0.6666666666666666, \"#ed7953\"], [0.7777777777777778, \"#fb9f3a\"], [0.8888888888888888, \"#fdca26\"], [1.0, \"#f0f921\"]], \"type\": \"histogram2d\"}], \"histogram2dcontour\": [{\"colorbar\": {\"outlinewidth\": 0, \"ticks\": \"\"}, \"colorscale\": [[0.0, \"#0d0887\"], [0.1111111111111111, \"#46039f\"], [0.2222222222222222, \"#7201a8\"], [0.3333333333333333, \"#9c179e\"], [0.4444444444444444, \"#bd3786\"], [0.5555555555555556, \"#d8576b\"], [0.6666666666666666, \"#ed7953\"], [0.7777777777777778, \"#fb9f3a\"], [0.8888888888888888, \"#fdca26\"], [1.0, \"#f0f921\"]], \"type\": \"histogram2dcontour\"}], \"mesh3d\": [{\"colorbar\": {\"outlinewidth\": 0, \"ticks\": \"\"}, \"type\": \"mesh3d\"}], \"parcoords\": [{\"line\": {\"colorbar\": {\"outlinewidth\": 0, \"ticks\": \"\"}}, \"type\": \"parcoords\"}], \"pie\": [{\"automargin\": true, \"type\": \"pie\"}], \"scatter\": [{\"marker\": {\"colorbar\": {\"outlinewidth\": 0, \"ticks\": \"\"}}, \"type\": \"scatter\"}], \"scatter3d\": [{\"line\": {\"colorbar\": {\"outlinewidth\": 0, \"ticks\": \"\"}}, \"marker\": {\"colorbar\": {\"outlinewidth\": 0, \"ticks\": \"\"}}, \"type\": \"scatter3d\"}], \"scattercarpet\": [{\"marker\": {\"colorbar\": {\"outlinewidth\": 0, \"ticks\": \"\"}}, \"type\": \"scattercarpet\"}], \"scattergeo\": [{\"marker\": {\"colorbar\": {\"outlinewidth\": 0, \"ticks\": \"\"}}, \"type\": \"scattergeo\"}], \"scattergl\": [{\"marker\": {\"colorbar\": {\"outlinewidth\": 0, \"ticks\": \"\"}}, \"type\": \"scattergl\"}], \"scattermapbox\": [{\"marker\": {\"colorbar\": {\"outlinewidth\": 0, \"ticks\": \"\"}}, \"type\": \"scattermapbox\"}], \"scatterpolar\": [{\"marker\": {\"colorbar\": {\"outlinewidth\": 0, \"ticks\": \"\"}}, \"type\": \"scatterpolar\"}], \"scatterpolargl\": [{\"marker\": {\"colorbar\": {\"outlinewidth\": 0, \"ticks\": \"\"}}, \"type\": \"scatterpolargl\"}], \"scatterternary\": [{\"marker\": {\"colorbar\": {\"outlinewidth\": 0, \"ticks\": \"\"}}, \"type\": \"scatterternary\"}], \"surface\": [{\"colorbar\": {\"outlinewidth\": 0, \"ticks\": \"\"}, \"colorscale\": [[0.0, \"#0d0887\"], [0.1111111111111111, \"#46039f\"], [0.2222222222222222, \"#7201a8\"], [0.3333333333333333, \"#9c179e\"], [0.4444444444444444, \"#bd3786\"], [0.5555555555555556, \"#d8576b\"], [0.6666666666666666, \"#ed7953\"], [0.7777777777777778, \"#fb9f3a\"], [0.8888888888888888, \"#fdca26\"], [1.0, \"#f0f921\"]], \"type\": \"surface\"}], \"table\": [{\"cells\": {\"fill\": {\"color\": \"#EBF0F8\"}, \"line\": {\"color\": \"white\"}}, \"header\": {\"fill\": {\"color\": \"#C8D4E3\"}, \"line\": {\"color\": \"white\"}}, \"type\": \"table\"}]}, \"layout\": {\"annotationdefaults\": {\"arrowcolor\": \"#2a3f5f\", \"arrowhead\": 0, \"arrowwidth\": 1}, \"autotypenumbers\": \"strict\", \"coloraxis\": {\"colorbar\": {\"outlinewidth\": 0, \"ticks\": \"\"}}, \"colorscale\": {\"diverging\": [[0, \"#8e0152\"], [0.1, \"#c51b7d\"], [0.2, \"#de77ae\"], [0.3, \"#f1b6da\"], [0.4, \"#fde0ef\"], [0.5, \"#f7f7f7\"], [0.6, \"#e6f5d0\"], [0.7, \"#b8e186\"], [0.8, \"#7fbc41\"], [0.9, \"#4d9221\"], [1, \"#276419\"]], \"sequential\": [[0.0, \"#0d0887\"], [0.1111111111111111, \"#46039f\"], [0.2222222222222222, \"#7201a8\"], [0.3333333333333333, \"#9c179e\"], [0.4444444444444444, \"#bd3786\"], [0.5555555555555556, \"#d8576b\"], [0.6666666666666666, \"#ed7953\"], [0.7777777777777778, \"#fb9f3a\"], [0.8888888888888888, \"#fdca26\"], [1.0, \"#f0f921\"]], \"sequentialminus\": [[0.0, \"#0d0887\"], [0.1111111111111111, \"#46039f\"], [0.2222222222222222, \"#7201a8\"], [0.3333333333333333, \"#9c179e\"], [0.4444444444444444, \"#bd3786\"], [0.5555555555555556, \"#d8576b\"], [0.6666666666666666, \"#ed7953\"], [0.7777777777777778, \"#fb9f3a\"], [0.8888888888888888, \"#fdca26\"], [1.0, \"#f0f921\"]]}, \"colorway\": [\"#636efa\", \"#EF553B\", \"#00cc96\", \"#ab63fa\", \"#FFA15A\", \"#19d3f3\", \"#FF6692\", \"#B6E880\", \"#FF97FF\", \"#FECB52\"], \"font\": {\"color\": \"#2a3f5f\"}, \"geo\": {\"bgcolor\": \"white\", \"lakecolor\": \"white\", \"landcolor\": \"#E5ECF6\", \"showlakes\": true, \"showland\": true, \"subunitcolor\": \"white\"}, \"hoverlabel\": {\"align\": \"left\"}, \"hovermode\": \"closest\", \"mapbox\": {\"style\": \"light\"}, \"paper_bgcolor\": \"white\", \"plot_bgcolor\": \"#E5ECF6\", \"polar\": {\"angularaxis\": {\"gridcolor\": \"white\", \"linecolor\": \"white\", \"ticks\": \"\"}, \"bgcolor\": \"#E5ECF6\", \"radialaxis\": {\"gridcolor\": \"white\", \"linecolor\": \"white\", \"ticks\": \"\"}}, \"scene\": {\"xaxis\": {\"backgroundcolor\": \"#E5ECF6\", \"gridcolor\": \"white\", \"gridwidth\": 2, \"linecolor\": \"white\", \"showbackground\": true, \"ticks\": \"\", \"zerolinecolor\": \"white\"}, \"yaxis\": {\"backgroundcolor\": \"#E5ECF6\", \"gridcolor\": \"white\", \"gridwidth\": 2, \"linecolor\": \"white\", \"showbackground\": true, \"ticks\": \"\", \"zerolinecolor\": \"white\"}, \"zaxis\": {\"backgroundcolor\": \"#E5ECF6\", \"gridcolor\": \"white\", \"gridwidth\": 2, \"linecolor\": \"white\", \"showbackground\": true, \"ticks\": \"\", \"zerolinecolor\": \"white\"}}, \"shapedefaults\": {\"line\": {\"color\": \"#2a3f5f\"}}, \"ternary\": {\"aaxis\": {\"gridcolor\": \"white\", \"linecolor\": \"white\", \"ticks\": \"\"}, \"baxis\": {\"gridcolor\": \"white\", \"linecolor\": \"white\", \"ticks\": \"\"}, \"bgcolor\": \"#E5ECF6\", \"caxis\": {\"gridcolor\": \"white\", \"linecolor\": \"white\", \"ticks\": \"\"}}, \"title\": {\"x\": 0.05}, \"xaxis\": {\"automargin\": true, \"gridcolor\": \"white\", \"linecolor\": \"white\", \"ticks\": \"\", \"title\": {\"standoff\": 15}, \"zerolinecolor\": \"white\", \"zerolinewidth\": 2}, \"yaxis\": {\"automargin\": true, \"gridcolor\": \"white\", \"linecolor\": \"white\", \"ticks\": \"\", \"title\": {\"standoff\": 15}, \"zerolinecolor\": \"white\", \"zerolinewidth\": 2}}}, \"xaxis\": {\"anchor\": \"y\", \"domain\": [0.0, 1.0], \"title\": {\"text\": \"lap\"}}, \"yaxis\": {\"anchor\": \"x\", \"domain\": [0.0, 1.0], \"title\": {\"text\": \"accumulated\"}}},                        {\"responsive\": true}                    ).then(function(){\n",
       "                            \n",
       "var gd = document.getElementById('4677f5ef-174d-44b4-83d0-b450f47ab265');\n",
       "var x = new MutationObserver(function (mutations, observer) {{\n",
       "        var display = window.getComputedStyle(gd).display;\n",
       "        if (!display || display === 'none') {{\n",
       "            console.log([gd, 'removed!']);\n",
       "            Plotly.purge(gd);\n",
       "            observer.disconnect();\n",
       "        }}\n",
       "}});\n",
       "\n",
       "// Listen for the removal of the full notebook cells\n",
       "var notebookContainer = gd.closest('#notebook-container');\n",
       "if (notebookContainer) {{\n",
       "    x.observe(notebookContainer, {childList: true});\n",
       "}}\n",
       "\n",
       "// Listen for the clearing of the current output cell\n",
       "var outputEl = gd.closest('.output');\n",
       "if (outputEl) {{\n",
       "    x.observe(outputEl, {childList: true});\n",
       "}}\n",
       "\n",
       "                        })                };                });            </script>        </div>"
      ]
     },
     "metadata": {},
     "output_type": "display_data"
    }
   ],
   "source": [
    "mcl_r1_df = mcl_r1\n",
    "\n",
    "fig = px.line(mcl_r1_df, x = \"lap\", y = \"accumulated\", color = \"code\", line_shape=\"spline\", render_mode=\"svg\")\n",
    "fig.show()"
   ]
  },
  {
   "cell_type": "markdown",
   "metadata": {},
   "source": [
    "At initial glance, the pace of the two drivers looks rather identical. There aren't any noticeable deviations until ~lap 52. Based off the earlier increase in slope of NOR, it can be inferred that Lando pitted first followed by Carlos the following lap.\n",
    "- This raises the question, what happened in the first round of stops? ~lap 26?"
   ]
  },
  {
   "cell_type": "markdown",
   "metadata": {},
   "source": [
    "Looking back at the race records:\n",
    "A safety car was brought out on Lap 26 after HAAS driver Kevin Magnussen had brake failure.\n",
    "   - The field was neutralized and in result all drivers in the top 10 boxed. \n",
    "        - Carlos boxed on lap 26 as P7\n",
    "        - Lando boxed on lap 26 as P4\n",
    "        - Both drivers held the same position post box\n",
    "       \n",
    "       \n",
    "   - This explains the increase in slope on the same lap for both drivers\n",
    "\n",
    "\n",
    "Another safety car was brought out on Lap 51, following George Russell's retirement\n",
    "   - Carlos boxed on lap 52\n",
    "        - Left field as P5\n",
    "        - Re-joined field as P9\n",
    " \n",
    " \n",
    "   - Lando boxed on lap 51\n",
    "        - Left field as P5\n",
    "        - Re-joined field as P6\n",
    "\n",
    "\n",
    "Yet another safety car was brought out on Lap 56\n",
    "   - Carlos boxed on lap 56\n",
    "        - Left field as P8\n",
    "\n",
    "\n",
    "   - Lando boxed on lap 56 as\n",
    "        - Left field as P5\n",
    "        \n",
    "   - Both drivers held positions upon returning to field\n",
    "   \n",
    "        \n",
    "However at this point, Lewis Hamilton was assigned a 10 second penalty for his incident with Alex Albon. Hamilton in P2, also boxed on lap 56 for his second stop, and re-joined the field as P2 before the 10 second penalty was applied. This set up drivers within 10 seconds of Hamilton to move up a place for the final result.\n",
    "s"
   ]
  },
  {
   "cell_type": "code",
   "execution_count": 40,
   "metadata": {},
   "outputs": [
    {
     "ename": "SyntaxError",
     "evalue": "invalid syntax (<ipython-input-40-650b9b379ec4>, line 1)",
     "output_type": "error",
     "traceback": [
      "\u001b[1;36m  File \u001b[1;32m\"<ipython-input-40-650b9b379ec4>\"\u001b[1;36m, line \u001b[1;32m1\u001b[0m\n\u001b[1;33m    https://plotly.com/python/filled-area-plots/\u001b[0m\n\u001b[1;37m          ^\u001b[0m\n\u001b[1;31mSyntaxError\u001b[0m\u001b[1;31m:\u001b[0m invalid syntax\n"
     ]
    }
   ],
   "source": [
    "https://plotly.com/python/filled-area-plots/"
   ]
  }
 ],
 "metadata": {
  "kernelspec": {
   "display_name": "Python 3",
   "language": "python",
   "name": "python3"
  },
  "language_info": {
   "codemirror_mode": {
    "name": "ipython",
    "version": 3
   },
   "file_extension": ".py",
   "mimetype": "text/x-python",
   "name": "python",
   "nbconvert_exporter": "python",
   "pygments_lexer": "ipython3",
   "version": "3.8.5"
  }
 },
 "nbformat": 4,
 "nbformat_minor": 4
}
