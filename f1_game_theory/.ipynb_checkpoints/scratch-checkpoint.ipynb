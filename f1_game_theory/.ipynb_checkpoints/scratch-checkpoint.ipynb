{
 "cells": [
  {
   "cell_type": "code",
   "execution_count": null,
   "metadata": {},
   "outputs": [],
   "source": [
    "scratch code\n",
    "\n",
    "for later reference\n",
    "\n",
    "https://stackoverflow.com/questions/10814353/using-scipy-to-perform-discrete-integration-of-the-sample\n",
    "    "
   ]
  },
  {
   "cell_type": "code",
   "execution_count": null,
   "metadata": {},
   "outputs": [],
   "source": [
    "class pace:\n",
    "    \n",
    "    #init method to filter driver \n",
    "    def __init__(self, drv):\n",
    "        self.drv = drv\n",
    "    \n",
    "    def show(self):\n",
    "        return self.drv\n",
    "    \n",
    "    #method to return all derivatives from race\n",
    "    def deriv(drv, df):\n",
    "        for drv in df.code:\n",
    "            return df[(df.code == drv)]\n",
    "            #return df.accumulated\n",
    " \n",
    "ham = pace('RIC')\n",
    "ham.deriv(r1)"
   ]
  },
  {
   "cell_type": "code",
   "execution_count": null,
   "metadata": {},
   "outputs": [],
   "source": [
    "https://plotly.com/python/filled-area-plots/"
   ]
  },
  {
   "cell_type": "code",
   "execution_count": 2,
   "metadata": {},
   "outputs": [
    {
     "ename": "NameError",
     "evalue": "name 'r1' is not defined",
     "output_type": "error",
     "traceback": [
      "\u001b[0;31m---------------------------------------------------------------------------\u001b[0m",
      "\u001b[0;31mNameError\u001b[0m                                 Traceback (most recent call last)",
      "\u001b[0;32m<ipython-input-2-e3244f1df52a>\u001b[0m in \u001b[0;36m<module>\u001b[0;34m\u001b[0m\n\u001b[1;32m      1\u001b[0m \u001b[0;31m#calculating integral\u001b[0m\u001b[0;34m\u001b[0m\u001b[0;34m\u001b[0m\u001b[0;34m\u001b[0m\u001b[0m\n\u001b[1;32m      2\u001b[0m \u001b[0;34m\u001b[0m\u001b[0m\n\u001b[0;32m----> 3\u001b[0;31m \u001b[0mx1\u001b[0m \u001b[0;34m=\u001b[0m \u001b[0mr1\u001b[0m\u001b[0;34m[\u001b[0m\u001b[0;34m(\u001b[0m\u001b[0mr1\u001b[0m\u001b[0;34m.\u001b[0m\u001b[0mcode\u001b[0m \u001b[0;34m==\u001b[0m \u001b[0;34m'NOR'\u001b[0m\u001b[0;34m)\u001b[0m\u001b[0;34m]\u001b[0m\u001b[0;34m\u001b[0m\u001b[0;34m\u001b[0m\u001b[0m\n\u001b[0m\u001b[1;32m      4\u001b[0m \u001b[0mx2\u001b[0m \u001b[0;34m=\u001b[0m \u001b[0mr1\u001b[0m\u001b[0;34m[\u001b[0m\u001b[0;34m(\u001b[0m\u001b[0mr1\u001b[0m\u001b[0;34m.\u001b[0m\u001b[0mcode\u001b[0m \u001b[0;34m==\u001b[0m \u001b[0;34m'SAI'\u001b[0m\u001b[0;34m)\u001b[0m\u001b[0;34m]\u001b[0m\u001b[0;34m\u001b[0m\u001b[0;34m\u001b[0m\u001b[0m\n\u001b[1;32m      5\u001b[0m \u001b[0;34m\u001b[0m\u001b[0m\n",
      "\u001b[0;31mNameError\u001b[0m: name 'r1' is not defined"
     ]
    }
   ],
   "source": [
    "#calculating integral \n",
    "\n",
    "x1 = r1[(r1.code == 'NOR')]\n",
    "x2 = r1[(r1.code == 'SAI')]\n",
    "\n",
    "\n",
    "a=np.array(x1.accumulated)\n",
    "#scipy.integrate.simps(a)\n",
    "b=np.array(x2.accumulated)\n",
    "\n",
    "# [scipy.integrate.simps(y[s:e]) for s,e in [(s1,e1),(s2,e2),...etc.]]\n",
    "\n",
    "# all pairings of laps\n",
    "arr= x1.lap.unique()\n",
    "pair = list(itertools.combinations(arr, 2))\n",
    "\n",
    "\n",
    "#t_laps = pair(arr)\n",
    "#t_laps\n",
    "\n",
    "  \n",
    "#nor_int = [scipy.integrate.simps(a[s:e]) for s,e in [(1,2),(1,3),(1,4)]]\n",
    "#sai_int = [scipy.integrate.simps(b[s:e]) for s,e in [(1,2),(1,3),(1,4)]]\n",
    "nor_int = [scipy.integrate.simps(a[s:e]) for s,e in pair]\n",
    "sai_int = [scipy.integrate.simps(b[s:e]) for s,e in pair]\n",
    "\n",
    "# vector subtraction to calculate deltas\n",
    "delta = np.subtract(nor_int, sai_int)\n",
    "delta_df = np.column_stack((delta, pair))\n",
    "delta_df = pd.DataFrame(delta_df)\n",
    "delta_df"
   ]
  },
  {
   "cell_type": "code",
   "execution_count": null,
   "metadata": {},
   "outputs": [],
   "source": [
    "def deriv(y,x):\n",
    "    return diff(y)/diff(x)\n",
    "\n",
    "nor_der = deriv(arr, a)\n",
    "sai_der = deriv(arr, b)\n",
    "\n",
    "\n",
    "nor_der1 = list(itertools.accumulate(nor_der))\n",
    "sai_der1 = list(itertools.accumulate(sai_der))\n",
    "\n",
    "\n",
    "# convert to array or keep as list?\n",
    "#nor_der1 = np.array([nor_der1])\n",
    "#sai_der1 = np.array([sai_der1])\n",
    "\n",
    "#nor_der1\n",
    "#delta = nor_der1 - sai_der1\n",
    "#delta.argmin()\n",
    "\n",
    "# vector subtraction to calculate deltas\n",
    "#delta1 = np.subtract(nor_der1, sai_der1)\n",
    "#delta_df1 = np.stack((nor_der1, sai_der1), axis = -1)\n",
    "#delta_df1 = pd.DataFrame(delta_df1)\n",
    "#delta_df1.view()\n",
    "\n",
    "#add slopes and compare based on different indexes "
   ]
  },
  {
   "cell_type": "code",
   "execution_count": null,
   "metadata": {},
   "outputs": [],
   "source": [
    "# add column to dataframe with derivatives\n",
    "pace = [(r1.accumulated), r1.code, r1.lap]\n",
    "\n",
    "pace = pd.DataFrame(pace)\n",
    "\n",
    "pace_df = pace.pivot(index= 'lap', columns='code', values= 'accumulated')\n",
    "#pace_df\n",
    "\n",
    "#pace = pd.DataFrame(pace)\n",
    "#pace\n",
    "\n",
    "# pivot dataframe \n",
    "#pace_df = pace.pivot(index=2, columns=1, values= 0)\n",
    "#pace_df\n",
    "\n",
    "# in order to insert derivative values, first row needs to be removed so index number matches\n",
    "#pace_df = pace_df[1:]"
   ]
  },
  {
   "cell_type": "code",
   "execution_count": null,
   "metadata": {},
   "outputs": [],
   "source": [
    "## K-Nearest Neighbors\n",
    "from sklearn.neighbors import KNeighborsRegressor\n",
    "\n",
    "x = c1s.stint_distance.values.reshape(-1,1)\n",
    "x_range = np.linspace(x.min(),x.max(),100)\n",
    "\n",
    "\n",
    "# generating y_vals for knn\n",
    "knn_uni = KNeighborsRegressor(10, weights = \"uniform\")\n",
    "knn_uni.fit(x,c1s.sec_diff)\n",
    "y_uni = knn_uni.predict(x_range.reshape(-1,1))\n",
    "\n",
    "# generating y_vals for knn\n",
    "knn_dist = KNeighborsRegressor(10, weights = \"distance\")\n",
    "knn_dist.fit(x,c1s.sec_diff)\n",
    "y_dist = knn_dist.predict(x_range.reshape(-1,1))\n",
    "\n",
    "fig = px.scatter(c1s, x = 'stint_distance', y = 'sec_diff', opacity = 0.60)\n",
    "fig.add_traces(go.Scatter(x = x_range, y=y_uni, name = \"Weights: Uniform\"))\n",
    "fig.add_traces(go.Scatter(x = x_range, y=y_dist, name = \"Weights: Distance\"))\n",
    "fig.show()"
   ]
  },
  {
   "cell_type": "code",
   "execution_count": null,
   "metadata": {},
   "outputs": [],
   "source": [
    "https://plotly.com/python/filled-area-plots/"
   ]
  },
  {
   "cell_type": "code",
   "execution_count": null,
   "metadata": {},
   "outputs": [],
   "source": [
    "r1_nor = r1[(r1.code == 'NOR')]\n",
    "r1_sai = r1[(r1.code == 'SAI')]\n",
    "\n",
    "fig = go.Figure()\n",
    "fig.add_trace(go.Scatter(x= r1_nor.lap, y= r1_nor.accumulated,\n",
    "    fill=None,\n",
    "    name=\"NOR\",\n",
    "    mode='lines',\n",
    "    line_color='orange',\n",
    "    ))\n",
    "fig.add_trace(go.Scatter(\n",
    "    x=r1_sai.lap,\n",
    "    y=r1_sai.accumulated,\n",
    "    fill='tonexty', # fill area between trace0 and trace1\n",
    "    name='SAI',\n",
    "    mode='lines', line_color='blue'))\n",
    "\n",
    "fig.show()"
   ]
  },
  {
   "cell_type": "code",
   "execution_count": null,
   "metadata": {},
   "outputs": [],
   "source": [
    "for constructor in constructors:\n",
    "    # Subset to the constructor\n",
    "    subset = c1s[c1s['constructorRef'] == constructor]\n",
    "    # fit regression model\n",
    "    lowess = sm.nonparametric.lowess(subset['stint_distance'], subset['sec_diff'], frac = .3)\n",
    "    X = list(zip(*lowess))[0]\n",
    "    Y = list(zip(*lowess))[1]\n",
    "    plt.plot(X, Y, '-')"
   ]
  }
 ],
 "metadata": {
  "kernelspec": {
   "display_name": "Python 3",
   "language": "python",
   "name": "python3"
  },
  "language_info": {
   "codemirror_mode": {
    "name": "ipython",
    "version": 3
   },
   "file_extension": ".py",
   "mimetype": "text/x-python",
   "name": "python",
   "nbconvert_exporter": "python",
   "pygments_lexer": "ipython3",
   "version": "3.8.5"
  }
 },
 "nbformat": 4,
 "nbformat_minor": 4
}
