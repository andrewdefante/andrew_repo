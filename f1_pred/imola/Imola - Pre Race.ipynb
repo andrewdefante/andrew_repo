{
 "cells": [
  {
   "cell_type": "code",
   "execution_count": 25,
   "metadata": {},
   "outputs": [],
   "source": [
    "import fastf1 as ff1\n",
    "import pandas as pd\n",
    "import datetime\n",
    "import time\n",
    "import numpy as np\n",
    "from fastf1 import plotting\n",
    "from matplotlib import pyplot as plt\n",
    "import plotly.express as px\n",
    "from fastf1 import utils\n",
    "from fastf1.livetiming.data import LiveTimingDat"
   ]
  },
  {
   "cell_type": "markdown",
   "metadata": {},
   "source": [
    "## Abstract\n",
    "\n",
    "I wanted to use the fast-f1 python package to collect and analyze the practice and qualifying data from this weekend's Emilia Romagna Grand Prix, and see if I could gain any insight to the teams practice strategies, and the performance of each car on the tire compounds that are going to be used in the race tomorrow (barring it doesn't rain, and if it does, it'll be a crapshoot). \n",
    "\n",
    "From what I gathered, I generated the general time differences on each compound, with the soft (C4) being 2.368 seconds faster than the hard (C2) compound, and 0.9 seconds faster than the medium (C3) compound. \n",
    "\n",
    "Additionally, I looked at the timing data from FP2 and noticed that a lot of the drivers put in their fastest lap of the session on the medium (C3) compound even though it is slower. I inferred that this is due to teams running heavier fuel loads with the soft (C4) compound to gather data on the tire's performance if they started the race on that compound. \n",
    "\n",
    "Lastly from the practice data, I looked at telemetry during the fastest laps on a medium (C3) and soft (C4) to see where in the lap time was gained/lost. \n",
    "\n",
    "Qualifying was very interesting as there were a few surprises. I looked at the telemetry data comparing Hamilton and Botas' fastest laps, along with comparing Perez and Verstappen's fastest laps to see where the faster driver had the edge over their counterpart. "
   ]
  },
  {
   "cell_type": "code",
   "execution_count": 13,
   "metadata": {},
   "outputs": [
    {
     "name": "stderr",
     "output_type": "stream",
     "text": [
      "core        WARNING \tErgast API lookup failed. The session is very recent and not yet available or does not exist.\n",
      "core           INFO \tLoading Emilia Romagna Grand Prix - Practice 2\n",
      "api            INFO \tFetching timing data...\n",
      "api            INFO \tParsing timing data...\n",
      "api         WARNING \tDriver 16: Ignoring late data for a previously processed lap.The data may contain errors (previous: 23; current 24)\n",
      "api         WARNING \tDriver 63: Ignoring late data for a previously processed lap.The data may contain errors (previous: 7; current 8)\n",
      "api            INFO \tFetching timing app data...\n",
      "core           INFO \tProcessing timing data...\n",
      "api            INFO \tFetching session status data...\n",
      "api            INFO \tFetching track status data...\n",
      "core           INFO \tLoaded data for 20 drivers: ['3', '4', '5', '6', '7', '9', '10', '11', '14', '16', '18', '22', '31', '33', '44', '47', '55', '63', '77', '99']\n",
      "core        WARNING \tErgast API lookup failed. The session is very recent and not yet available or does not exist.\n",
      "core           INFO \tLoading Emilia Romagna Grand Prix - Practice 3\n",
      "api            INFO \tFetching timing data...\n",
      "api            INFO \tParsing timing data...\n",
      "api            INFO \tFetching timing app data...\n",
      "core           INFO \tProcessing timing data...\n",
      "api            INFO \tFetching session status data...\n",
      "api            INFO \tFetching track status data...\n",
      "core           INFO \tLoaded data for 20 drivers: ['3', '4', '5', '6', '7', '9', '10', '11', '14', '16', '18', '22', '31', '33', '44', '47', '55', '63', '77', '99']\n"
     ]
    }
   ],
   "source": [
    "# load practice session data\n",
    "# no data for fp1, pull fp2/fp3 \n",
    "fp2 = ff1.get_session(2021, 'Imola', 'FP2').load_laps()\n",
    "fp3 = ff1.get_session(2021, 'Imola', 'FP3').load_laps()\n",
    "\n",
    "fp2 = pd.DataFrame(fp2)\n",
    "fp3 = pd.DataFrame(fp3)"
   ]
  },
  {
   "cell_type": "code",
   "execution_count": 53,
   "metadata": {
    "scrolled": true
   },
   "outputs": [
    {
     "data": {
      "application/vnd.plotly.v1+json": {
       "config": {
        "plotlyServerURL": "https://plot.ly"
       },
       "data": [
        {
         "alignmentgroup": "True",
         "hovertemplate": "Compound=MEDIUM<br>Driver=%{x}<br>LapTime=%{y}<extra></extra>",
         "legendgroup": "MEDIUM",
         "marker": {
          "color": "#636efa"
         },
         "name": "MEDIUM",
         "notched": false,
         "offsetgroup": "MEDIUM",
         "orientation": "v",
         "showlegend": true,
         "type": "box",
         "x": [
          "RIC",
          "RIC",
          "RIC",
          "RIC",
          "RIC",
          "RIC",
          "RIC",
          "RIC",
          "RIC",
          "RIC",
          "NOR",
          "NOR",
          "NOR",
          "NOR",
          "NOR",
          "NOR",
          "VET",
          "VET",
          "VET",
          "VET",
          "VET",
          "VET",
          "VET",
          "VET",
          "VET",
          "VET",
          "VET",
          "VET",
          "VET",
          "VET",
          "VET",
          "VET",
          "VET",
          "VET",
          "MAZ",
          "MAZ",
          "MAZ",
          "MAZ",
          "GAS",
          "GAS",
          "GAS",
          "GAS",
          "GAS",
          "GAS",
          "GAS",
          "GAS",
          "GAS",
          "PER",
          "PER",
          "PER",
          "PER",
          "PER",
          "PER",
          "PER",
          "PER",
          "PER",
          "PER",
          "PER",
          "PER",
          "PER",
          "PER",
          "PER",
          "PER",
          "PER",
          "ALO",
          "ALO",
          "ALO",
          "ALO",
          "LEC",
          "LEC",
          "LEC",
          "LEC",
          "LEC",
          "LEC",
          "LEC",
          "LEC",
          "LEC",
          "LEC",
          "LEC",
          "LEC",
          "STR",
          "STR",
          "STR",
          "STR",
          "STR",
          "STR",
          "STR",
          "STR",
          "STR",
          "STR",
          "STR",
          "STR",
          "STR",
          "STR",
          "STR",
          "STR",
          "TSU",
          "TSU",
          "TSU",
          "TSU",
          "OCO",
          "OCO",
          "OCO",
          "OCO",
          "OCO",
          "OCO",
          "OCO",
          "OCO",
          "OCO",
          "OCO",
          "OCO",
          "OCO",
          "OCO",
          "OCO",
          "OCO",
          "OCO",
          "OCO",
          "VER",
          "VER",
          "VER",
          "VER",
          "HAM",
          "HAM",
          "HAM",
          "HAM",
          "HAM",
          "HAM",
          "HAM",
          "HAM",
          "HAM",
          "HAM",
          "HAM",
          "HAM",
          "HAM",
          "HAM",
          "HAM",
          "HAM",
          "MSC",
          "MSC",
          "MSC",
          "MSC",
          "MSC",
          "MSC",
          "SAI",
          "SAI",
          "SAI",
          "SAI",
          "SAI",
          "SAI",
          "BOT",
          "BOT",
          "BOT",
          "BOT",
          "BOT",
          "BOT",
          "BOT",
          "BOT",
          "BOT",
          "BOT",
          "BOT",
          "BOT",
          "BOT",
          "BOT",
          "BOT",
          "GIO",
          "GIO",
          "GIO",
          "GIO",
          "GIO",
          "GIO",
          "GIO",
          "GIO",
          "GIO",
          "GIO",
          "GIO",
          "GIO",
          "GIO",
          "GIO"
         ],
         "x0": " ",
         "xaxis": "x",
         "y": [
          null,
          78436000000,
          78089000000,
          109825000000,
          77281000000,
          94119000000,
          90201000000,
          105200000000,
          81003000000,
          81053000000,
          null,
          77629000000,
          119745000000,
          77400000000,
          88541000000,
          82048000000,
          null,
          80658000000,
          78057000000,
          93989000000,
          77826000000,
          null,
          81126000000,
          81316000000,
          81108000000,
          81027000000,
          80578000000,
          80731000000,
          80447000000,
          81368000000,
          80482000000,
          80936000000,
          91717000000,
          93096000000,
          null,
          81345000000,
          80158000000,
          118994000000,
          null,
          77823000000,
          99971000000,
          95685000000,
          76117000000,
          93369000000,
          102810000000,
          79200000000,
          79051000000,
          null,
          78020000000,
          100120000000,
          77228000000,
          76883000000,
          87788000000,
          null,
          123835000000,
          81086000000,
          80028000000,
          79723000000,
          79540000000,
          80257000000,
          79884000000,
          80104000000,
          84560000000,
          79438000000,
          null,
          80128000000,
          78342000000,
          106307000000,
          null,
          77076000000,
          76705000000,
          105879000000,
          114891000000,
          79974000000,
          79123000000,
          78956000000,
          79226000000,
          79643000000,
          82863000000,
          79210000000,
          null,
          78099000000,
          78122000000,
          106883000000,
          null,
          81891000000,
          81171000000,
          81131000000,
          80980000000,
          85006000000,
          81013000000,
          79931000000,
          80320000000,
          80414000000,
          82068000000,
          80091000000,
          null,
          78584000000,
          77194000000,
          104541000000,
          null,
          89541000000,
          78305000000,
          77360000000,
          112159000000,
          null,
          80989000000,
          81646000000,
          80510000000,
          80645000000,
          80363000000,
          80635000000,
          80546000000,
          80255000000,
          80409000000,
          80206000000,
          80333000000,
          null,
          76999000000,
          96219000000,
          79106000000,
          null,
          76940000000,
          98673000000,
          76227000000,
          75672000000,
          87487000000,
          106450000000,
          80049000000,
          79942000000,
          85006000000,
          97948000000,
          79096000000,
          79687000000,
          83288000000,
          79643000000,
          80611000000,
          null,
          82491000000,
          82699000000,
          81428000000,
          81299000000,
          82407000000,
          null,
          77794000000,
          90395000000,
          76723000000,
          131454000000,
          104320000000,
          null,
          83702000000,
          89055000000,
          76468000000,
          75551000000,
          93321000000,
          103937000000,
          81030000000,
          84422000000,
          103442000000,
          79439000000,
          79121000000,
          79983000000,
          80085000000,
          79439000000,
          null,
          78313000000,
          77766000000,
          104105000000,
          127339000000,
          null,
          116018000000,
          80875000000,
          80534000000,
          80310000000,
          80244000000,
          80156000000,
          80179000000,
          80029000000
         ],
         "y0": " ",
         "yaxis": "y"
        },
        {
         "alignmentgroup": "True",
         "hovertemplate": "Compound=SOFT<br>Driver=%{x}<br>LapTime=%{y}<extra></extra>",
         "legendgroup": "SOFT",
         "marker": {
          "color": "#EF553B"
         },
         "name": "SOFT",
         "notched": false,
         "offsetgroup": "SOFT",
         "orientation": "v",
         "showlegend": true,
         "type": "box",
         "x": [
          "RIC",
          "RIC",
          "RIC",
          "RIC",
          "RIC",
          "RIC",
          "RIC",
          "RIC",
          "RIC",
          "RIC",
          "NOR",
          "NOR",
          "NOR",
          "NOR",
          "NOR",
          "NOR",
          "NOR",
          "NOR",
          "NOR",
          "NOR",
          "NOR",
          "NOR",
          "NOR",
          "VET",
          "VET",
          "VET",
          "VET",
          "VET",
          "LAT",
          "LAT",
          "LAT",
          "LAT",
          "LAT",
          "LAT",
          "LAT",
          "LAT",
          "LAT",
          "LAT",
          "LAT",
          "LAT",
          "LAT",
          "LAT",
          "LAT",
          "LAT",
          "LAT",
          "LAT",
          "LAT",
          "RAI",
          "RAI",
          "RAI",
          "RAI",
          "RAI",
          "RAI",
          "RAI",
          "RAI",
          "RAI",
          "RAI",
          "RAI",
          "RAI",
          "RAI",
          "RAI",
          "RAI",
          "RAI",
          "MAZ",
          "MAZ",
          "MAZ",
          "MAZ",
          "MAZ",
          "MAZ",
          "MAZ",
          "MAZ",
          "GAS",
          "GAS",
          "GAS",
          "GAS",
          "GAS",
          "GAS",
          "GAS",
          "GAS",
          "GAS",
          "GAS",
          "GAS",
          "GAS",
          "GAS",
          "GAS",
          "GAS",
          "GAS",
          "GAS",
          "PER",
          "PER",
          "PER",
          "PER",
          "PER",
          "ALO",
          "ALO",
          "ALO",
          "ALO",
          "ALO",
          "ALO",
          "ALO",
          "ALO",
          "ALO",
          "ALO",
          "ALO",
          "ALO",
          "ALO",
          "ALO",
          "ALO",
          "ALO",
          "ALO",
          "ALO",
          "ALO",
          "LEC",
          "LEC",
          "LEC",
          "LEC",
          "LEC",
          "LEC",
          "LEC",
          "LEC",
          "LEC",
          "LEC",
          "LEC",
          "LEC",
          "STR",
          "STR",
          "STR",
          "STR",
          "STR",
          "TSU",
          "TSU",
          "TSU",
          "TSU",
          "TSU",
          "TSU",
          "TSU",
          "TSU",
          "TSU",
          "TSU",
          "TSU",
          "TSU",
          "TSU",
          "TSU",
          "TSU",
          "TSU",
          "TSU",
          "TSU",
          "OCO",
          "OCO",
          "OCO",
          "OCO",
          "OCO",
          "OCO",
          "HAM",
          "HAM",
          "HAM",
          "HAM",
          "HAM",
          "HAM",
          "MSC",
          "MSC",
          "MSC",
          "MSC",
          "MSC",
          "MSC",
          "MSC",
          "MSC",
          "MSC",
          "SAI",
          "SAI",
          "SAI",
          "SAI",
          "SAI",
          "SAI",
          "SAI",
          "SAI",
          "SAI",
          "SAI",
          "SAI",
          "SAI",
          "SAI",
          "SAI",
          "SAI",
          "SAI",
          "SAI",
          "SAI",
          "SAI",
          "SAI",
          "RUS",
          "RUS",
          "RUS",
          "RUS",
          "RUS",
          "RUS",
          "RUS",
          "RUS",
          "RUS",
          "RUS",
          "BOT",
          "BOT",
          "BOT",
          "BOT",
          "BOT",
          "BOT",
          "GIO",
          "GIO",
          "GIO",
          "GIO",
          "GIO",
          "GIO",
          "GIO"
         ],
         "x0": " ",
         "xaxis": "x",
         "y": [
          null,
          76782000000,
          101410000000,
          83957000000,
          96196000000,
          null,
          81198000000,
          81026000000,
          80488000000,
          84923000000,
          null,
          76485000000,
          106236000000,
          76567000000,
          87971000000,
          null,
          81322000000,
          81343000000,
          80873000000,
          80556000000,
          80254000000,
          80553000000,
          84181000000,
          77092000000,
          104452000000,
          96519000000,
          77809000000,
          97754000000,
          null,
          77748000000,
          107267000000,
          76823000000,
          108591000000,
          77544000000,
          101549000000,
          111857000000,
          80966000000,
          81650000000,
          80621000000,
          80398000000,
          80777000000,
          80715000000,
          80813000000,
          80635000000,
          80716000000,
          80655000000,
          80469000000,
          null,
          77273000000,
          111946000000,
          98135000000,
          77277000000,
          103035000000,
          null,
          80897000000,
          80721000000,
          81201000000,
          81103000000,
          81318000000,
          81988000000,
          81771000000,
          81137000000,
          84054000000,
          null,
          79309000000,
          110400000000,
          78028000000,
          119199000000,
          93573000000,
          77857000000,
          98150000000,
          null,
          76208000000,
          98325000000,
          75629000000,
          107267000000,
          76239000000,
          91227000000,
          null,
          80339000000,
          80121000000,
          80077000000,
          80712000000,
          79944000000,
          79925000000,
          80263000000,
          80640000000,
          84524000000,
          null,
          76511000000,
          93912000000,
          76411000000,
          93712000000,
          null,
          77150000000,
          110760000000,
          76835000000,
          112843000000,
          77113000000,
          105051000000,
          null,
          81152000000,
          82071000000,
          80803000000,
          80808000000,
          83007000000,
          81558000000,
          82200000000,
          81754000000,
          81271000000,
          81823000000,
          80489000000,
          75367000000,
          121881000000,
          89224000000,
          76371000000,
          105976000000,
          null,
          113024000000,
          79904000000,
          79600000000,
          79018000000,
          80782000000,
          85291000000,
          76737000000,
          94211000000,
          103951000000,
          77173000000,
          95998000000,
          null,
          76880000000,
          114914000000,
          76419000000,
          115624000000,
          77535000000,
          109146000000,
          null,
          80779000000,
          80319000000,
          80430000000,
          80048000000,
          79930000000,
          80236000000,
          80854000000,
          80397000000,
          80356000000,
          80274000000,
          76817000000,
          110306000000,
          76996000000,
          112557000000,
          77375000000,
          91346000000,
          null,
          75944000000,
          110832000000,
          75561000000,
          105768000000,
          null,
          null,
          78515000000,
          106506000000,
          77614000000,
          105495000000,
          77350000000,
          94907000000,
          77890000000,
          95654000000,
          null,
          75834000000,
          111870000000,
          82367000000,
          null,
          131419000000,
          81474000000,
          81075000000,
          81187000000,
          80400000000,
          79673000000,
          79792000000,
          80220000000,
          80088000000,
          80040000000,
          85221000000,
          79838000000,
          80023000000,
          80439000000,
          84904000000,
          77884000000,
          103718000000,
          77378000000,
          122616000000,
          77207000000,
          115515000000,
          77179000000,
          95256000000,
          null,
          85667000000,
          null,
          76127000000,
          91732000000,
          75641000000,
          101424000000,
          null,
          null,
          76513000000,
          105301000000,
          76978000000,
          104110000000,
          77472000000,
          95187000000
         ],
         "y0": " ",
         "yaxis": "y"
        },
        {
         "alignmentgroup": "True",
         "hovertemplate": "Compound=HARD<br>Driver=%{x}<br>LapTime=%{y}<extra></extra>",
         "legendgroup": "HARD",
         "marker": {
          "color": "#00cc96"
         },
         "name": "HARD",
         "notched": false,
         "offsetgroup": "HARD",
         "orientation": "v",
         "showlegend": true,
         "type": "box",
         "x": [
          "LAT",
          "LAT",
          "LAT",
          "LAT",
          "LAT",
          "LAT",
          "RAI",
          "RAI",
          "RAI",
          "RAI",
          "RAI",
          "RAI",
          "RAI",
          "MAZ",
          "MAZ",
          "MAZ",
          "MSC",
          "MSC",
          "MSC",
          "MSC",
          "MSC",
          "MSC",
          "MSC",
          "MSC",
          "MSC",
          "RUS",
          "RUS",
          "RUS",
          "RUS",
          "RUS",
          "RUS",
          "RUS",
          "RUS",
          "RUS",
          "RUS",
          "RUS",
          "RUS",
          "RUS",
          "RUS",
          "RUS",
          "RUS",
          "RUS",
          "RUS"
         ],
         "x0": " ",
         "xaxis": "x",
         "y": [
          null,
          78802000000,
          95835000000,
          null,
          112505000000,
          86945000000,
          null,
          80118000000,
          86464000000,
          103596000000,
          77845000000,
          85313000000,
          86885000000,
          null,
          92174000000,
          91177000000,
          null,
          82890000000,
          79632000000,
          79076000000,
          78606000000,
          79597000000,
          78777000000,
          79052000000,
          95814000000,
          null,
          82939000000,
          79777000000,
          78648000000,
          101040000000,
          112699000000,
          82682000000,
          82457000000,
          84114000000,
          80777000000,
          80114000000,
          79888000000,
          80278000000,
          80181000000,
          79970000000,
          79948000000,
          79935000000,
          80527000000
         ],
         "y0": " ",
         "yaxis": "y"
        }
       ],
       "layout": {
        "boxmode": "group",
        "legend": {
         "title": {
          "text": "Compound"
         },
         "tracegroupgap": 0
        },
        "template": {
         "data": {
          "bar": [
           {
            "error_x": {
             "color": "#2a3f5f"
            },
            "error_y": {
             "color": "#2a3f5f"
            },
            "marker": {
             "line": {
              "color": "#E5ECF6",
              "width": 0.5
             }
            },
            "type": "bar"
           }
          ],
          "barpolar": [
           {
            "marker": {
             "line": {
              "color": "#E5ECF6",
              "width": 0.5
             }
            },
            "type": "barpolar"
           }
          ],
          "carpet": [
           {
            "aaxis": {
             "endlinecolor": "#2a3f5f",
             "gridcolor": "white",
             "linecolor": "white",
             "minorgridcolor": "white",
             "startlinecolor": "#2a3f5f"
            },
            "baxis": {
             "endlinecolor": "#2a3f5f",
             "gridcolor": "white",
             "linecolor": "white",
             "minorgridcolor": "white",
             "startlinecolor": "#2a3f5f"
            },
            "type": "carpet"
           }
          ],
          "choropleth": [
           {
            "colorbar": {
             "outlinewidth": 0,
             "ticks": ""
            },
            "type": "choropleth"
           }
          ],
          "contour": [
           {
            "colorbar": {
             "outlinewidth": 0,
             "ticks": ""
            },
            "colorscale": [
             [
              0,
              "#0d0887"
             ],
             [
              0.1111111111111111,
              "#46039f"
             ],
             [
              0.2222222222222222,
              "#7201a8"
             ],
             [
              0.3333333333333333,
              "#9c179e"
             ],
             [
              0.4444444444444444,
              "#bd3786"
             ],
             [
              0.5555555555555556,
              "#d8576b"
             ],
             [
              0.6666666666666666,
              "#ed7953"
             ],
             [
              0.7777777777777778,
              "#fb9f3a"
             ],
             [
              0.8888888888888888,
              "#fdca26"
             ],
             [
              1,
              "#f0f921"
             ]
            ],
            "type": "contour"
           }
          ],
          "contourcarpet": [
           {
            "colorbar": {
             "outlinewidth": 0,
             "ticks": ""
            },
            "type": "contourcarpet"
           }
          ],
          "heatmap": [
           {
            "colorbar": {
             "outlinewidth": 0,
             "ticks": ""
            },
            "colorscale": [
             [
              0,
              "#0d0887"
             ],
             [
              0.1111111111111111,
              "#46039f"
             ],
             [
              0.2222222222222222,
              "#7201a8"
             ],
             [
              0.3333333333333333,
              "#9c179e"
             ],
             [
              0.4444444444444444,
              "#bd3786"
             ],
             [
              0.5555555555555556,
              "#d8576b"
             ],
             [
              0.6666666666666666,
              "#ed7953"
             ],
             [
              0.7777777777777778,
              "#fb9f3a"
             ],
             [
              0.8888888888888888,
              "#fdca26"
             ],
             [
              1,
              "#f0f921"
             ]
            ],
            "type": "heatmap"
           }
          ],
          "heatmapgl": [
           {
            "colorbar": {
             "outlinewidth": 0,
             "ticks": ""
            },
            "colorscale": [
             [
              0,
              "#0d0887"
             ],
             [
              0.1111111111111111,
              "#46039f"
             ],
             [
              0.2222222222222222,
              "#7201a8"
             ],
             [
              0.3333333333333333,
              "#9c179e"
             ],
             [
              0.4444444444444444,
              "#bd3786"
             ],
             [
              0.5555555555555556,
              "#d8576b"
             ],
             [
              0.6666666666666666,
              "#ed7953"
             ],
             [
              0.7777777777777778,
              "#fb9f3a"
             ],
             [
              0.8888888888888888,
              "#fdca26"
             ],
             [
              1,
              "#f0f921"
             ]
            ],
            "type": "heatmapgl"
           }
          ],
          "histogram": [
           {
            "marker": {
             "colorbar": {
              "outlinewidth": 0,
              "ticks": ""
             }
            },
            "type": "histogram"
           }
          ],
          "histogram2d": [
           {
            "colorbar": {
             "outlinewidth": 0,
             "ticks": ""
            },
            "colorscale": [
             [
              0,
              "#0d0887"
             ],
             [
              0.1111111111111111,
              "#46039f"
             ],
             [
              0.2222222222222222,
              "#7201a8"
             ],
             [
              0.3333333333333333,
              "#9c179e"
             ],
             [
              0.4444444444444444,
              "#bd3786"
             ],
             [
              0.5555555555555556,
              "#d8576b"
             ],
             [
              0.6666666666666666,
              "#ed7953"
             ],
             [
              0.7777777777777778,
              "#fb9f3a"
             ],
             [
              0.8888888888888888,
              "#fdca26"
             ],
             [
              1,
              "#f0f921"
             ]
            ],
            "type": "histogram2d"
           }
          ],
          "histogram2dcontour": [
           {
            "colorbar": {
             "outlinewidth": 0,
             "ticks": ""
            },
            "colorscale": [
             [
              0,
              "#0d0887"
             ],
             [
              0.1111111111111111,
              "#46039f"
             ],
             [
              0.2222222222222222,
              "#7201a8"
             ],
             [
              0.3333333333333333,
              "#9c179e"
             ],
             [
              0.4444444444444444,
              "#bd3786"
             ],
             [
              0.5555555555555556,
              "#d8576b"
             ],
             [
              0.6666666666666666,
              "#ed7953"
             ],
             [
              0.7777777777777778,
              "#fb9f3a"
             ],
             [
              0.8888888888888888,
              "#fdca26"
             ],
             [
              1,
              "#f0f921"
             ]
            ],
            "type": "histogram2dcontour"
           }
          ],
          "mesh3d": [
           {
            "colorbar": {
             "outlinewidth": 0,
             "ticks": ""
            },
            "type": "mesh3d"
           }
          ],
          "parcoords": [
           {
            "line": {
             "colorbar": {
              "outlinewidth": 0,
              "ticks": ""
             }
            },
            "type": "parcoords"
           }
          ],
          "pie": [
           {
            "automargin": true,
            "type": "pie"
           }
          ],
          "scatter": [
           {
            "marker": {
             "colorbar": {
              "outlinewidth": 0,
              "ticks": ""
             }
            },
            "type": "scatter"
           }
          ],
          "scatter3d": [
           {
            "line": {
             "colorbar": {
              "outlinewidth": 0,
              "ticks": ""
             }
            },
            "marker": {
             "colorbar": {
              "outlinewidth": 0,
              "ticks": ""
             }
            },
            "type": "scatter3d"
           }
          ],
          "scattercarpet": [
           {
            "marker": {
             "colorbar": {
              "outlinewidth": 0,
              "ticks": ""
             }
            },
            "type": "scattercarpet"
           }
          ],
          "scattergeo": [
           {
            "marker": {
             "colorbar": {
              "outlinewidth": 0,
              "ticks": ""
             }
            },
            "type": "scattergeo"
           }
          ],
          "scattergl": [
           {
            "marker": {
             "colorbar": {
              "outlinewidth": 0,
              "ticks": ""
             }
            },
            "type": "scattergl"
           }
          ],
          "scattermapbox": [
           {
            "marker": {
             "colorbar": {
              "outlinewidth": 0,
              "ticks": ""
             }
            },
            "type": "scattermapbox"
           }
          ],
          "scatterpolar": [
           {
            "marker": {
             "colorbar": {
              "outlinewidth": 0,
              "ticks": ""
             }
            },
            "type": "scatterpolar"
           }
          ],
          "scatterpolargl": [
           {
            "marker": {
             "colorbar": {
              "outlinewidth": 0,
              "ticks": ""
             }
            },
            "type": "scatterpolargl"
           }
          ],
          "scatterternary": [
           {
            "marker": {
             "colorbar": {
              "outlinewidth": 0,
              "ticks": ""
             }
            },
            "type": "scatterternary"
           }
          ],
          "surface": [
           {
            "colorbar": {
             "outlinewidth": 0,
             "ticks": ""
            },
            "colorscale": [
             [
              0,
              "#0d0887"
             ],
             [
              0.1111111111111111,
              "#46039f"
             ],
             [
              0.2222222222222222,
              "#7201a8"
             ],
             [
              0.3333333333333333,
              "#9c179e"
             ],
             [
              0.4444444444444444,
              "#bd3786"
             ],
             [
              0.5555555555555556,
              "#d8576b"
             ],
             [
              0.6666666666666666,
              "#ed7953"
             ],
             [
              0.7777777777777778,
              "#fb9f3a"
             ],
             [
              0.8888888888888888,
              "#fdca26"
             ],
             [
              1,
              "#f0f921"
             ]
            ],
            "type": "surface"
           }
          ],
          "table": [
           {
            "cells": {
             "fill": {
              "color": "#EBF0F8"
             },
             "line": {
              "color": "white"
             }
            },
            "header": {
             "fill": {
              "color": "#C8D4E3"
             },
             "line": {
              "color": "white"
             }
            },
            "type": "table"
           }
          ]
         },
         "layout": {
          "annotationdefaults": {
           "arrowcolor": "#2a3f5f",
           "arrowhead": 0,
           "arrowwidth": 1
          },
          "autotypenumbers": "strict",
          "coloraxis": {
           "colorbar": {
            "outlinewidth": 0,
            "ticks": ""
           }
          },
          "colorscale": {
           "diverging": [
            [
             0,
             "#8e0152"
            ],
            [
             0.1,
             "#c51b7d"
            ],
            [
             0.2,
             "#de77ae"
            ],
            [
             0.3,
             "#f1b6da"
            ],
            [
             0.4,
             "#fde0ef"
            ],
            [
             0.5,
             "#f7f7f7"
            ],
            [
             0.6,
             "#e6f5d0"
            ],
            [
             0.7,
             "#b8e186"
            ],
            [
             0.8,
             "#7fbc41"
            ],
            [
             0.9,
             "#4d9221"
            ],
            [
             1,
             "#276419"
            ]
           ],
           "sequential": [
            [
             0,
             "#0d0887"
            ],
            [
             0.1111111111111111,
             "#46039f"
            ],
            [
             0.2222222222222222,
             "#7201a8"
            ],
            [
             0.3333333333333333,
             "#9c179e"
            ],
            [
             0.4444444444444444,
             "#bd3786"
            ],
            [
             0.5555555555555556,
             "#d8576b"
            ],
            [
             0.6666666666666666,
             "#ed7953"
            ],
            [
             0.7777777777777778,
             "#fb9f3a"
            ],
            [
             0.8888888888888888,
             "#fdca26"
            ],
            [
             1,
             "#f0f921"
            ]
           ],
           "sequentialminus": [
            [
             0,
             "#0d0887"
            ],
            [
             0.1111111111111111,
             "#46039f"
            ],
            [
             0.2222222222222222,
             "#7201a8"
            ],
            [
             0.3333333333333333,
             "#9c179e"
            ],
            [
             0.4444444444444444,
             "#bd3786"
            ],
            [
             0.5555555555555556,
             "#d8576b"
            ],
            [
             0.6666666666666666,
             "#ed7953"
            ],
            [
             0.7777777777777778,
             "#fb9f3a"
            ],
            [
             0.8888888888888888,
             "#fdca26"
            ],
            [
             1,
             "#f0f921"
            ]
           ]
          },
          "colorway": [
           "#636efa",
           "#EF553B",
           "#00cc96",
           "#ab63fa",
           "#FFA15A",
           "#19d3f3",
           "#FF6692",
           "#B6E880",
           "#FF97FF",
           "#FECB52"
          ],
          "font": {
           "color": "#2a3f5f"
          },
          "geo": {
           "bgcolor": "white",
           "lakecolor": "white",
           "landcolor": "#E5ECF6",
           "showlakes": true,
           "showland": true,
           "subunitcolor": "white"
          },
          "hoverlabel": {
           "align": "left"
          },
          "hovermode": "closest",
          "mapbox": {
           "style": "light"
          },
          "paper_bgcolor": "white",
          "plot_bgcolor": "#E5ECF6",
          "polar": {
           "angularaxis": {
            "gridcolor": "white",
            "linecolor": "white",
            "ticks": ""
           },
           "bgcolor": "#E5ECF6",
           "radialaxis": {
            "gridcolor": "white",
            "linecolor": "white",
            "ticks": ""
           }
          },
          "scene": {
           "xaxis": {
            "backgroundcolor": "#E5ECF6",
            "gridcolor": "white",
            "gridwidth": 2,
            "linecolor": "white",
            "showbackground": true,
            "ticks": "",
            "zerolinecolor": "white"
           },
           "yaxis": {
            "backgroundcolor": "#E5ECF6",
            "gridcolor": "white",
            "gridwidth": 2,
            "linecolor": "white",
            "showbackground": true,
            "ticks": "",
            "zerolinecolor": "white"
           },
           "zaxis": {
            "backgroundcolor": "#E5ECF6",
            "gridcolor": "white",
            "gridwidth": 2,
            "linecolor": "white",
            "showbackground": true,
            "ticks": "",
            "zerolinecolor": "white"
           }
          },
          "shapedefaults": {
           "line": {
            "color": "#2a3f5f"
           }
          },
          "ternary": {
           "aaxis": {
            "gridcolor": "white",
            "linecolor": "white",
            "ticks": ""
           },
           "baxis": {
            "gridcolor": "white",
            "linecolor": "white",
            "ticks": ""
           },
           "bgcolor": "#E5ECF6",
           "caxis": {
            "gridcolor": "white",
            "linecolor": "white",
            "ticks": ""
           }
          },
          "title": {
           "x": 0.05
          },
          "xaxis": {
           "automargin": true,
           "gridcolor": "white",
           "linecolor": "white",
           "ticks": "",
           "title": {
            "standoff": 15
           },
           "zerolinecolor": "white",
           "zerolinewidth": 2
          },
          "yaxis": {
           "automargin": true,
           "gridcolor": "white",
           "linecolor": "white",
           "ticks": "",
           "title": {
            "standoff": 15
           },
           "zerolinecolor": "white",
           "zerolinewidth": 2
          }
         }
        },
        "title": {
         "text": "LapTime per Driver (Compound) - FP2"
        },
        "xaxis": {
         "anchor": "y",
         "domain": [
          0,
          1
         ],
         "title": {
          "text": "Driver"
         }
        },
        "yaxis": {
         "anchor": "x",
         "domain": [
          0,
          1
         ],
         "title": {
          "text": "LapTime"
         }
        }
       }
      },
      "text/html": [
       "<div>                            <div id=\"6999e071-e5d4-4cea-a32a-745e7db835ee\" class=\"plotly-graph-div\" style=\"height:525px; width:100%;\"></div>            <script type=\"text/javascript\">                require([\"plotly\"], function(Plotly) {                    window.PLOTLYENV=window.PLOTLYENV || {};                                    if (document.getElementById(\"6999e071-e5d4-4cea-a32a-745e7db835ee\")) {                    Plotly.newPlot(                        \"6999e071-e5d4-4cea-a32a-745e7db835ee\",                        [{\"alignmentgroup\": \"True\", \"hovertemplate\": \"Compound=MEDIUM<br>Driver=%{x}<br>LapTime=%{y}<extra></extra>\", \"legendgroup\": \"MEDIUM\", \"marker\": {\"color\": \"#636efa\"}, \"name\": \"MEDIUM\", \"notched\": false, \"offsetgroup\": \"MEDIUM\", \"orientation\": \"v\", \"showlegend\": true, \"type\": \"box\", \"x\": [\"RIC\", \"RIC\", \"RIC\", \"RIC\", \"RIC\", \"RIC\", \"RIC\", \"RIC\", \"RIC\", \"RIC\", \"NOR\", \"NOR\", \"NOR\", \"NOR\", \"NOR\", \"NOR\", \"VET\", \"VET\", \"VET\", \"VET\", \"VET\", \"VET\", \"VET\", \"VET\", \"VET\", \"VET\", \"VET\", \"VET\", \"VET\", \"VET\", \"VET\", \"VET\", \"VET\", \"VET\", \"MAZ\", \"MAZ\", \"MAZ\", \"MAZ\", \"GAS\", \"GAS\", \"GAS\", \"GAS\", \"GAS\", \"GAS\", \"GAS\", \"GAS\", \"GAS\", \"PER\", \"PER\", \"PER\", \"PER\", \"PER\", \"PER\", \"PER\", \"PER\", \"PER\", \"PER\", \"PER\", \"PER\", \"PER\", \"PER\", \"PER\", \"PER\", \"PER\", \"ALO\", \"ALO\", \"ALO\", \"ALO\", \"LEC\", \"LEC\", \"LEC\", \"LEC\", \"LEC\", \"LEC\", \"LEC\", \"LEC\", \"LEC\", \"LEC\", \"LEC\", \"LEC\", \"STR\", \"STR\", \"STR\", \"STR\", \"STR\", \"STR\", \"STR\", \"STR\", \"STR\", \"STR\", \"STR\", \"STR\", \"STR\", \"STR\", \"STR\", \"STR\", \"TSU\", \"TSU\", \"TSU\", \"TSU\", \"OCO\", \"OCO\", \"OCO\", \"OCO\", \"OCO\", \"OCO\", \"OCO\", \"OCO\", \"OCO\", \"OCO\", \"OCO\", \"OCO\", \"OCO\", \"OCO\", \"OCO\", \"OCO\", \"OCO\", \"VER\", \"VER\", \"VER\", \"VER\", \"HAM\", \"HAM\", \"HAM\", \"HAM\", \"HAM\", \"HAM\", \"HAM\", \"HAM\", \"HAM\", \"HAM\", \"HAM\", \"HAM\", \"HAM\", \"HAM\", \"HAM\", \"HAM\", \"MSC\", \"MSC\", \"MSC\", \"MSC\", \"MSC\", \"MSC\", \"SAI\", \"SAI\", \"SAI\", \"SAI\", \"SAI\", \"SAI\", \"BOT\", \"BOT\", \"BOT\", \"BOT\", \"BOT\", \"BOT\", \"BOT\", \"BOT\", \"BOT\", \"BOT\", \"BOT\", \"BOT\", \"BOT\", \"BOT\", \"BOT\", \"GIO\", \"GIO\", \"GIO\", \"GIO\", \"GIO\", \"GIO\", \"GIO\", \"GIO\", \"GIO\", \"GIO\", \"GIO\", \"GIO\", \"GIO\", \"GIO\"], \"x0\": \" \", \"xaxis\": \"x\", \"y\": [null, 78436000000, 78089000000, 109825000000, 77281000000, 94119000000, 90201000000, 105200000000, 81003000000, 81053000000, null, 77629000000, 119745000000, 77400000000, 88541000000, 82048000000, null, 80658000000, 78057000000, 93989000000, 77826000000, null, 81126000000, 81316000000, 81108000000, 81027000000, 80578000000, 80731000000, 80447000000, 81368000000, 80482000000, 80936000000, 91717000000, 93096000000, null, 81345000000, 80158000000, 118994000000, null, 77823000000, 99971000000, 95685000000, 76117000000, 93369000000, 102810000000, 79200000000, 79051000000, null, 78020000000, 100120000000, 77228000000, 76883000000, 87788000000, null, 123835000000, 81086000000, 80028000000, 79723000000, 79540000000, 80257000000, 79884000000, 80104000000, 84560000000, 79438000000, null, 80128000000, 78342000000, 106307000000, null, 77076000000, 76705000000, 105879000000, 114891000000, 79974000000, 79123000000, 78956000000, 79226000000, 79643000000, 82863000000, 79210000000, null, 78099000000, 78122000000, 106883000000, null, 81891000000, 81171000000, 81131000000, 80980000000, 85006000000, 81013000000, 79931000000, 80320000000, 80414000000, 82068000000, 80091000000, null, 78584000000, 77194000000, 104541000000, null, 89541000000, 78305000000, 77360000000, 112159000000, null, 80989000000, 81646000000, 80510000000, 80645000000, 80363000000, 80635000000, 80546000000, 80255000000, 80409000000, 80206000000, 80333000000, null, 76999000000, 96219000000, 79106000000, null, 76940000000, 98673000000, 76227000000, 75672000000, 87487000000, 106450000000, 80049000000, 79942000000, 85006000000, 97948000000, 79096000000, 79687000000, 83288000000, 79643000000, 80611000000, null, 82491000000, 82699000000, 81428000000, 81299000000, 82407000000, null, 77794000000, 90395000000, 76723000000, 131454000000, 104320000000, null, 83702000000, 89055000000, 76468000000, 75551000000, 93321000000, 103937000000, 81030000000, 84422000000, 103442000000, 79439000000, 79121000000, 79983000000, 80085000000, 79439000000, null, 78313000000, 77766000000, 104105000000, 127339000000, null, 116018000000, 80875000000, 80534000000, 80310000000, 80244000000, 80156000000, 80179000000, 80029000000], \"y0\": \" \", \"yaxis\": \"y\"}, {\"alignmentgroup\": \"True\", \"hovertemplate\": \"Compound=SOFT<br>Driver=%{x}<br>LapTime=%{y}<extra></extra>\", \"legendgroup\": \"SOFT\", \"marker\": {\"color\": \"#EF553B\"}, \"name\": \"SOFT\", \"notched\": false, \"offsetgroup\": \"SOFT\", \"orientation\": \"v\", \"showlegend\": true, \"type\": \"box\", \"x\": [\"RIC\", \"RIC\", \"RIC\", \"RIC\", \"RIC\", \"RIC\", \"RIC\", \"RIC\", \"RIC\", \"RIC\", \"NOR\", \"NOR\", \"NOR\", \"NOR\", \"NOR\", \"NOR\", \"NOR\", \"NOR\", \"NOR\", \"NOR\", \"NOR\", \"NOR\", \"NOR\", \"VET\", \"VET\", \"VET\", \"VET\", \"VET\", \"LAT\", \"LAT\", \"LAT\", \"LAT\", \"LAT\", \"LAT\", \"LAT\", \"LAT\", \"LAT\", \"LAT\", \"LAT\", \"LAT\", \"LAT\", \"LAT\", \"LAT\", \"LAT\", \"LAT\", \"LAT\", \"LAT\", \"RAI\", \"RAI\", \"RAI\", \"RAI\", \"RAI\", \"RAI\", \"RAI\", \"RAI\", \"RAI\", \"RAI\", \"RAI\", \"RAI\", \"RAI\", \"RAI\", \"RAI\", \"RAI\", \"MAZ\", \"MAZ\", \"MAZ\", \"MAZ\", \"MAZ\", \"MAZ\", \"MAZ\", \"MAZ\", \"GAS\", \"GAS\", \"GAS\", \"GAS\", \"GAS\", \"GAS\", \"GAS\", \"GAS\", \"GAS\", \"GAS\", \"GAS\", \"GAS\", \"GAS\", \"GAS\", \"GAS\", \"GAS\", \"GAS\", \"PER\", \"PER\", \"PER\", \"PER\", \"PER\", \"ALO\", \"ALO\", \"ALO\", \"ALO\", \"ALO\", \"ALO\", \"ALO\", \"ALO\", \"ALO\", \"ALO\", \"ALO\", \"ALO\", \"ALO\", \"ALO\", \"ALO\", \"ALO\", \"ALO\", \"ALO\", \"ALO\", \"LEC\", \"LEC\", \"LEC\", \"LEC\", \"LEC\", \"LEC\", \"LEC\", \"LEC\", \"LEC\", \"LEC\", \"LEC\", \"LEC\", \"STR\", \"STR\", \"STR\", \"STR\", \"STR\", \"TSU\", \"TSU\", \"TSU\", \"TSU\", \"TSU\", \"TSU\", \"TSU\", \"TSU\", \"TSU\", \"TSU\", \"TSU\", \"TSU\", \"TSU\", \"TSU\", \"TSU\", \"TSU\", \"TSU\", \"TSU\", \"OCO\", \"OCO\", \"OCO\", \"OCO\", \"OCO\", \"OCO\", \"HAM\", \"HAM\", \"HAM\", \"HAM\", \"HAM\", \"HAM\", \"MSC\", \"MSC\", \"MSC\", \"MSC\", \"MSC\", \"MSC\", \"MSC\", \"MSC\", \"MSC\", \"SAI\", \"SAI\", \"SAI\", \"SAI\", \"SAI\", \"SAI\", \"SAI\", \"SAI\", \"SAI\", \"SAI\", \"SAI\", \"SAI\", \"SAI\", \"SAI\", \"SAI\", \"SAI\", \"SAI\", \"SAI\", \"SAI\", \"SAI\", \"RUS\", \"RUS\", \"RUS\", \"RUS\", \"RUS\", \"RUS\", \"RUS\", \"RUS\", \"RUS\", \"RUS\", \"BOT\", \"BOT\", \"BOT\", \"BOT\", \"BOT\", \"BOT\", \"GIO\", \"GIO\", \"GIO\", \"GIO\", \"GIO\", \"GIO\", \"GIO\"], \"x0\": \" \", \"xaxis\": \"x\", \"y\": [null, 76782000000, 101410000000, 83957000000, 96196000000, null, 81198000000, 81026000000, 80488000000, 84923000000, null, 76485000000, 106236000000, 76567000000, 87971000000, null, 81322000000, 81343000000, 80873000000, 80556000000, 80254000000, 80553000000, 84181000000, 77092000000, 104452000000, 96519000000, 77809000000, 97754000000, null, 77748000000, 107267000000, 76823000000, 108591000000, 77544000000, 101549000000, 111857000000, 80966000000, 81650000000, 80621000000, 80398000000, 80777000000, 80715000000, 80813000000, 80635000000, 80716000000, 80655000000, 80469000000, null, 77273000000, 111946000000, 98135000000, 77277000000, 103035000000, null, 80897000000, 80721000000, 81201000000, 81103000000, 81318000000, 81988000000, 81771000000, 81137000000, 84054000000, null, 79309000000, 110400000000, 78028000000, 119199000000, 93573000000, 77857000000, 98150000000, null, 76208000000, 98325000000, 75629000000, 107267000000, 76239000000, 91227000000, null, 80339000000, 80121000000, 80077000000, 80712000000, 79944000000, 79925000000, 80263000000, 80640000000, 84524000000, null, 76511000000, 93912000000, 76411000000, 93712000000, null, 77150000000, 110760000000, 76835000000, 112843000000, 77113000000, 105051000000, null, 81152000000, 82071000000, 80803000000, 80808000000, 83007000000, 81558000000, 82200000000, 81754000000, 81271000000, 81823000000, 80489000000, 75367000000, 121881000000, 89224000000, 76371000000, 105976000000, null, 113024000000, 79904000000, 79600000000, 79018000000, 80782000000, 85291000000, 76737000000, 94211000000, 103951000000, 77173000000, 95998000000, null, 76880000000, 114914000000, 76419000000, 115624000000, 77535000000, 109146000000, null, 80779000000, 80319000000, 80430000000, 80048000000, 79930000000, 80236000000, 80854000000, 80397000000, 80356000000, 80274000000, 76817000000, 110306000000, 76996000000, 112557000000, 77375000000, 91346000000, null, 75944000000, 110832000000, 75561000000, 105768000000, null, null, 78515000000, 106506000000, 77614000000, 105495000000, 77350000000, 94907000000, 77890000000, 95654000000, null, 75834000000, 111870000000, 82367000000, null, 131419000000, 81474000000, 81075000000, 81187000000, 80400000000, 79673000000, 79792000000, 80220000000, 80088000000, 80040000000, 85221000000, 79838000000, 80023000000, 80439000000, 84904000000, 77884000000, 103718000000, 77378000000, 122616000000, 77207000000, 115515000000, 77179000000, 95256000000, null, 85667000000, null, 76127000000, 91732000000, 75641000000, 101424000000, null, null, 76513000000, 105301000000, 76978000000, 104110000000, 77472000000, 95187000000], \"y0\": \" \", \"yaxis\": \"y\"}, {\"alignmentgroup\": \"True\", \"hovertemplate\": \"Compound=HARD<br>Driver=%{x}<br>LapTime=%{y}<extra></extra>\", \"legendgroup\": \"HARD\", \"marker\": {\"color\": \"#00cc96\"}, \"name\": \"HARD\", \"notched\": false, \"offsetgroup\": \"HARD\", \"orientation\": \"v\", \"showlegend\": true, \"type\": \"box\", \"x\": [\"LAT\", \"LAT\", \"LAT\", \"LAT\", \"LAT\", \"LAT\", \"RAI\", \"RAI\", \"RAI\", \"RAI\", \"RAI\", \"RAI\", \"RAI\", \"MAZ\", \"MAZ\", \"MAZ\", \"MSC\", \"MSC\", \"MSC\", \"MSC\", \"MSC\", \"MSC\", \"MSC\", \"MSC\", \"MSC\", \"RUS\", \"RUS\", \"RUS\", \"RUS\", \"RUS\", \"RUS\", \"RUS\", \"RUS\", \"RUS\", \"RUS\", \"RUS\", \"RUS\", \"RUS\", \"RUS\", \"RUS\", \"RUS\", \"RUS\", \"RUS\"], \"x0\": \" \", \"xaxis\": \"x\", \"y\": [null, 78802000000, 95835000000, null, 112505000000, 86945000000, null, 80118000000, 86464000000, 103596000000, 77845000000, 85313000000, 86885000000, null, 92174000000, 91177000000, null, 82890000000, 79632000000, 79076000000, 78606000000, 79597000000, 78777000000, 79052000000, 95814000000, null, 82939000000, 79777000000, 78648000000, 101040000000, 112699000000, 82682000000, 82457000000, 84114000000, 80777000000, 80114000000, 79888000000, 80278000000, 80181000000, 79970000000, 79948000000, 79935000000, 80527000000], \"y0\": \" \", \"yaxis\": \"y\"}],                        {\"boxmode\": \"group\", \"legend\": {\"title\": {\"text\": \"Compound\"}, \"tracegroupgap\": 0}, \"template\": {\"data\": {\"bar\": [{\"error_x\": {\"color\": \"#2a3f5f\"}, \"error_y\": {\"color\": \"#2a3f5f\"}, \"marker\": {\"line\": {\"color\": \"#E5ECF6\", \"width\": 0.5}}, \"type\": \"bar\"}], \"barpolar\": [{\"marker\": {\"line\": {\"color\": \"#E5ECF6\", \"width\": 0.5}}, \"type\": \"barpolar\"}], \"carpet\": [{\"aaxis\": {\"endlinecolor\": \"#2a3f5f\", \"gridcolor\": \"white\", \"linecolor\": \"white\", \"minorgridcolor\": \"white\", \"startlinecolor\": \"#2a3f5f\"}, \"baxis\": {\"endlinecolor\": \"#2a3f5f\", \"gridcolor\": \"white\", \"linecolor\": \"white\", \"minorgridcolor\": \"white\", \"startlinecolor\": \"#2a3f5f\"}, \"type\": \"carpet\"}], \"choropleth\": [{\"colorbar\": {\"outlinewidth\": 0, \"ticks\": \"\"}, \"type\": \"choropleth\"}], \"contour\": [{\"colorbar\": {\"outlinewidth\": 0, \"ticks\": \"\"}, \"colorscale\": [[0.0, \"#0d0887\"], [0.1111111111111111, \"#46039f\"], [0.2222222222222222, \"#7201a8\"], [0.3333333333333333, \"#9c179e\"], [0.4444444444444444, \"#bd3786\"], [0.5555555555555556, \"#d8576b\"], [0.6666666666666666, \"#ed7953\"], [0.7777777777777778, \"#fb9f3a\"], [0.8888888888888888, \"#fdca26\"], [1.0, \"#f0f921\"]], \"type\": \"contour\"}], \"contourcarpet\": [{\"colorbar\": {\"outlinewidth\": 0, \"ticks\": \"\"}, \"type\": \"contourcarpet\"}], \"heatmap\": [{\"colorbar\": {\"outlinewidth\": 0, \"ticks\": \"\"}, \"colorscale\": [[0.0, \"#0d0887\"], [0.1111111111111111, \"#46039f\"], [0.2222222222222222, \"#7201a8\"], [0.3333333333333333, \"#9c179e\"], [0.4444444444444444, \"#bd3786\"], [0.5555555555555556, \"#d8576b\"], [0.6666666666666666, \"#ed7953\"], [0.7777777777777778, \"#fb9f3a\"], [0.8888888888888888, \"#fdca26\"], [1.0, \"#f0f921\"]], \"type\": \"heatmap\"}], \"heatmapgl\": [{\"colorbar\": {\"outlinewidth\": 0, \"ticks\": \"\"}, \"colorscale\": [[0.0, \"#0d0887\"], [0.1111111111111111, \"#46039f\"], [0.2222222222222222, \"#7201a8\"], [0.3333333333333333, \"#9c179e\"], [0.4444444444444444, \"#bd3786\"], [0.5555555555555556, \"#d8576b\"], [0.6666666666666666, \"#ed7953\"], [0.7777777777777778, \"#fb9f3a\"], [0.8888888888888888, \"#fdca26\"], [1.0, \"#f0f921\"]], \"type\": \"heatmapgl\"}], \"histogram\": [{\"marker\": {\"colorbar\": {\"outlinewidth\": 0, \"ticks\": \"\"}}, \"type\": \"histogram\"}], \"histogram2d\": [{\"colorbar\": {\"outlinewidth\": 0, \"ticks\": \"\"}, \"colorscale\": [[0.0, \"#0d0887\"], [0.1111111111111111, \"#46039f\"], [0.2222222222222222, \"#7201a8\"], [0.3333333333333333, \"#9c179e\"], [0.4444444444444444, \"#bd3786\"], [0.5555555555555556, \"#d8576b\"], [0.6666666666666666, \"#ed7953\"], [0.7777777777777778, \"#fb9f3a\"], [0.8888888888888888, \"#fdca26\"], [1.0, \"#f0f921\"]], \"type\": \"histogram2d\"}], \"histogram2dcontour\": [{\"colorbar\": {\"outlinewidth\": 0, \"ticks\": \"\"}, \"colorscale\": [[0.0, \"#0d0887\"], [0.1111111111111111, \"#46039f\"], [0.2222222222222222, \"#7201a8\"], [0.3333333333333333, \"#9c179e\"], [0.4444444444444444, \"#bd3786\"], [0.5555555555555556, \"#d8576b\"], [0.6666666666666666, \"#ed7953\"], [0.7777777777777778, \"#fb9f3a\"], [0.8888888888888888, \"#fdca26\"], [1.0, \"#f0f921\"]], \"type\": \"histogram2dcontour\"}], \"mesh3d\": [{\"colorbar\": {\"outlinewidth\": 0, \"ticks\": \"\"}, \"type\": \"mesh3d\"}], \"parcoords\": [{\"line\": {\"colorbar\": {\"outlinewidth\": 0, \"ticks\": \"\"}}, \"type\": \"parcoords\"}], \"pie\": [{\"automargin\": true, \"type\": \"pie\"}], \"scatter\": [{\"marker\": {\"colorbar\": {\"outlinewidth\": 0, \"ticks\": \"\"}}, \"type\": \"scatter\"}], \"scatter3d\": [{\"line\": {\"colorbar\": {\"outlinewidth\": 0, \"ticks\": \"\"}}, \"marker\": {\"colorbar\": {\"outlinewidth\": 0, \"ticks\": \"\"}}, \"type\": \"scatter3d\"}], \"scattercarpet\": [{\"marker\": {\"colorbar\": {\"outlinewidth\": 0, \"ticks\": \"\"}}, \"type\": \"scattercarpet\"}], \"scattergeo\": [{\"marker\": {\"colorbar\": {\"outlinewidth\": 0, \"ticks\": \"\"}}, \"type\": \"scattergeo\"}], \"scattergl\": [{\"marker\": {\"colorbar\": {\"outlinewidth\": 0, \"ticks\": \"\"}}, \"type\": \"scattergl\"}], \"scattermapbox\": [{\"marker\": {\"colorbar\": {\"outlinewidth\": 0, \"ticks\": \"\"}}, \"type\": \"scattermapbox\"}], \"scatterpolar\": [{\"marker\": {\"colorbar\": {\"outlinewidth\": 0, \"ticks\": \"\"}}, \"type\": \"scatterpolar\"}], \"scatterpolargl\": [{\"marker\": {\"colorbar\": {\"outlinewidth\": 0, \"ticks\": \"\"}}, \"type\": \"scatterpolargl\"}], \"scatterternary\": [{\"marker\": {\"colorbar\": {\"outlinewidth\": 0, \"ticks\": \"\"}}, \"type\": \"scatterternary\"}], \"surface\": [{\"colorbar\": {\"outlinewidth\": 0, \"ticks\": \"\"}, \"colorscale\": [[0.0, \"#0d0887\"], [0.1111111111111111, \"#46039f\"], [0.2222222222222222, \"#7201a8\"], [0.3333333333333333, \"#9c179e\"], [0.4444444444444444, \"#bd3786\"], [0.5555555555555556, \"#d8576b\"], [0.6666666666666666, \"#ed7953\"], [0.7777777777777778, \"#fb9f3a\"], [0.8888888888888888, \"#fdca26\"], [1.0, \"#f0f921\"]], \"type\": \"surface\"}], \"table\": [{\"cells\": {\"fill\": {\"color\": \"#EBF0F8\"}, \"line\": {\"color\": \"white\"}}, \"header\": {\"fill\": {\"color\": \"#C8D4E3\"}, \"line\": {\"color\": \"white\"}}, \"type\": \"table\"}]}, \"layout\": {\"annotationdefaults\": {\"arrowcolor\": \"#2a3f5f\", \"arrowhead\": 0, \"arrowwidth\": 1}, \"autotypenumbers\": \"strict\", \"coloraxis\": {\"colorbar\": {\"outlinewidth\": 0, \"ticks\": \"\"}}, \"colorscale\": {\"diverging\": [[0, \"#8e0152\"], [0.1, \"#c51b7d\"], [0.2, \"#de77ae\"], [0.3, \"#f1b6da\"], [0.4, \"#fde0ef\"], [0.5, \"#f7f7f7\"], [0.6, \"#e6f5d0\"], [0.7, \"#b8e186\"], [0.8, \"#7fbc41\"], [0.9, \"#4d9221\"], [1, \"#276419\"]], \"sequential\": [[0.0, \"#0d0887\"], [0.1111111111111111, \"#46039f\"], [0.2222222222222222, \"#7201a8\"], [0.3333333333333333, \"#9c179e\"], [0.4444444444444444, \"#bd3786\"], [0.5555555555555556, \"#d8576b\"], [0.6666666666666666, \"#ed7953\"], [0.7777777777777778, \"#fb9f3a\"], [0.8888888888888888, \"#fdca26\"], [1.0, \"#f0f921\"]], \"sequentialminus\": [[0.0, \"#0d0887\"], [0.1111111111111111, \"#46039f\"], [0.2222222222222222, \"#7201a8\"], [0.3333333333333333, \"#9c179e\"], [0.4444444444444444, \"#bd3786\"], [0.5555555555555556, \"#d8576b\"], [0.6666666666666666, \"#ed7953\"], [0.7777777777777778, \"#fb9f3a\"], [0.8888888888888888, \"#fdca26\"], [1.0, \"#f0f921\"]]}, \"colorway\": [\"#636efa\", \"#EF553B\", \"#00cc96\", \"#ab63fa\", \"#FFA15A\", \"#19d3f3\", \"#FF6692\", \"#B6E880\", \"#FF97FF\", \"#FECB52\"], \"font\": {\"color\": \"#2a3f5f\"}, \"geo\": {\"bgcolor\": \"white\", \"lakecolor\": \"white\", \"landcolor\": \"#E5ECF6\", \"showlakes\": true, \"showland\": true, \"subunitcolor\": \"white\"}, \"hoverlabel\": {\"align\": \"left\"}, \"hovermode\": \"closest\", \"mapbox\": {\"style\": \"light\"}, \"paper_bgcolor\": \"white\", \"plot_bgcolor\": \"#E5ECF6\", \"polar\": {\"angularaxis\": {\"gridcolor\": \"white\", \"linecolor\": \"white\", \"ticks\": \"\"}, \"bgcolor\": \"#E5ECF6\", \"radialaxis\": {\"gridcolor\": \"white\", \"linecolor\": \"white\", \"ticks\": \"\"}}, \"scene\": {\"xaxis\": {\"backgroundcolor\": \"#E5ECF6\", \"gridcolor\": \"white\", \"gridwidth\": 2, \"linecolor\": \"white\", \"showbackground\": true, \"ticks\": \"\", \"zerolinecolor\": \"white\"}, \"yaxis\": {\"backgroundcolor\": \"#E5ECF6\", \"gridcolor\": \"white\", \"gridwidth\": 2, \"linecolor\": \"white\", \"showbackground\": true, \"ticks\": \"\", \"zerolinecolor\": \"white\"}, \"zaxis\": {\"backgroundcolor\": \"#E5ECF6\", \"gridcolor\": \"white\", \"gridwidth\": 2, \"linecolor\": \"white\", \"showbackground\": true, \"ticks\": \"\", \"zerolinecolor\": \"white\"}}, \"shapedefaults\": {\"line\": {\"color\": \"#2a3f5f\"}}, \"ternary\": {\"aaxis\": {\"gridcolor\": \"white\", \"linecolor\": \"white\", \"ticks\": \"\"}, \"baxis\": {\"gridcolor\": \"white\", \"linecolor\": \"white\", \"ticks\": \"\"}, \"bgcolor\": \"#E5ECF6\", \"caxis\": {\"gridcolor\": \"white\", \"linecolor\": \"white\", \"ticks\": \"\"}}, \"title\": {\"x\": 0.05}, \"xaxis\": {\"automargin\": true, \"gridcolor\": \"white\", \"linecolor\": \"white\", \"ticks\": \"\", \"title\": {\"standoff\": 15}, \"zerolinecolor\": \"white\", \"zerolinewidth\": 2}, \"yaxis\": {\"automargin\": true, \"gridcolor\": \"white\", \"linecolor\": \"white\", \"ticks\": \"\", \"title\": {\"standoff\": 15}, \"zerolinecolor\": \"white\", \"zerolinewidth\": 2}}}, \"title\": {\"text\": \"LapTime per Driver (Compound) - FP2\"}, \"xaxis\": {\"anchor\": \"y\", \"domain\": [0.0, 1.0], \"title\": {\"text\": \"Driver\"}}, \"yaxis\": {\"anchor\": \"x\", \"domain\": [0.0, 1.0], \"title\": {\"text\": \"LapTime\"}}},                        {\"responsive\": true}                    ).then(function(){\n",
       "                            \n",
       "var gd = document.getElementById('6999e071-e5d4-4cea-a32a-745e7db835ee');\n",
       "var x = new MutationObserver(function (mutations, observer) {{\n",
       "        var display = window.getComputedStyle(gd).display;\n",
       "        if (!display || display === 'none') {{\n",
       "            console.log([gd, 'removed!']);\n",
       "            Plotly.purge(gd);\n",
       "            observer.disconnect();\n",
       "        }}\n",
       "}});\n",
       "\n",
       "// Listen for the removal of the full notebook cells\n",
       "var notebookContainer = gd.closest('#notebook-container');\n",
       "if (notebookContainer) {{\n",
       "    x.observe(notebookContainer, {childList: true});\n",
       "}}\n",
       "\n",
       "// Listen for the clearing of the current output cell\n",
       "var outputEl = gd.closest('.output');\n",
       "if (outputEl) {{\n",
       "    x.observe(outputEl, {childList: true});\n",
       "}}\n",
       "\n",
       "                        })                };                });            </script>        </div>"
      ]
     },
     "metadata": {},
     "output_type": "display_data"
    },
    {
     "data": {
      "application/vnd.plotly.v1+json": {
       "config": {
        "plotlyServerURL": "https://plot.ly"
       },
       "data": [
        {
         "alignmentgroup": "True",
         "hovertemplate": "Compound=MEDIUM<br>Driver=%{x}<br>LapTime=%{y}<extra></extra>",
         "legendgroup": "MEDIUM",
         "marker": {
          "color": "#636efa"
         },
         "name": "MEDIUM",
         "notched": false,
         "offsetgroup": "MEDIUM",
         "orientation": "v",
         "showlegend": true,
         "type": "box",
         "x": [
          "RIC",
          "RIC",
          "RIC",
          "RIC",
          "RIC",
          "RIC",
          "RIC",
          "RIC",
          "NOR",
          "NOR",
          "NOR",
          "NOR",
          "NOR",
          "NOR",
          "NOR",
          "NOR",
          "NOR",
          "NOR",
          "VET",
          "VET",
          "VET",
          "VET",
          "VET",
          "VET",
          "VET",
          "VET",
          "VET",
          "RAI",
          "RAI",
          "RAI",
          "RAI",
          "RAI",
          "RAI",
          "RAI",
          "RAI",
          "RAI",
          "GAS",
          "GAS",
          "GAS",
          "GAS",
          "GAS",
          "GAS",
          "GAS",
          "GAS",
          "GAS",
          "GAS",
          "PER",
          "PER",
          "PER",
          "PER",
          "PER",
          "PER",
          "PER",
          "PER",
          "PER",
          "ALO",
          "ALO",
          "ALO",
          "ALO",
          "ALO",
          "ALO",
          "ALO",
          "ALO",
          "LEC",
          "LEC",
          "LEC",
          "LEC",
          "LEC",
          "LEC",
          "LEC",
          "STR",
          "STR",
          "STR",
          "STR",
          "STR",
          "STR",
          "STR",
          "STR",
          "STR",
          "STR",
          "TSU",
          "TSU",
          "TSU",
          "TSU",
          "TSU",
          "TSU",
          "TSU",
          "TSU",
          "TSU",
          "TSU",
          "TSU",
          "OCO",
          "OCO",
          "OCO",
          "OCO",
          "OCO",
          "OCO",
          "OCO",
          "SAI",
          "SAI",
          "SAI",
          "SAI",
          "SAI",
          "SAI",
          "SAI",
          "GIO",
          "GIO",
          "GIO",
          "GIO",
          "GIO",
          "GIO",
          "GIO",
          "GIO",
          "GIO",
          "GIO",
          "GIO",
          "GIO",
          "GIO",
          "GIO"
         ],
         "x0": " ",
         "xaxis": "x",
         "y": [
          null,
          77903000000,
          94673000000,
          77298000000,
          104716000000,
          88562000000,
          122714000000,
          130143000000,
          null,
          76938000000,
          105171000000,
          77267000000,
          null,
          76723000000,
          88698000000,
          109545000000,
          111711000000,
          130904000000,
          null,
          77633000000,
          null,
          83616000000,
          77119000000,
          91160000000,
          76790000000,
          97123000000,
          120054000000,
          null,
          78249000000,
          93202000000,
          77331000000,
          90582000000,
          null,
          77449000000,
          90084000000,
          76949000000,
          null,
          84133000000,
          77057000000,
          87359000000,
          76887000000,
          91892000000,
          93688000000,
          75890000000,
          92877000000,
          117894000000,
          null,
          78111000000,
          97325000000,
          76642000000,
          null,
          85970000000,
          76414000000,
          95483000000,
          112331000000,
          null,
          78273000000,
          95283000000,
          77456000000,
          111047000000,
          77347000000,
          109532000000,
          77149000000,
          null,
          77321000000,
          101832000000,
          76795000000,
          102041000000,
          92900000000,
          76332000000,
          null,
          77748000000,
          115694000000,
          null,
          85060000000,
          76772000000,
          97150000000,
          76906000000,
          90557000000,
          122045000000,
          null,
          null,
          102787000000,
          77491000000,
          102115000000,
          77065000000,
          102240000000,
          80716000000,
          101689000000,
          93460000000,
          127632000000,
          null,
          91888000000,
          78364000000,
          103709000000,
          77451000000,
          104776000000,
          77348000000,
          null,
          77586000000,
          106578000000,
          76901000000,
          108122000000,
          120209000000,
          92022000000,
          null,
          78942000000,
          104455000000,
          77626000000,
          101856000000,
          77167000000,
          101912000000,
          77052000000,
          101676000000,
          80460000000,
          79799000000,
          79437000000,
          118799000000,
          126665000000
         ],
         "y0": " ",
         "yaxis": "y"
        },
        {
         "alignmentgroup": "True",
         "hovertemplate": "Compound=SOFT<br>Driver=%{x}<br>LapTime=%{y}<extra></extra>",
         "legendgroup": "SOFT",
         "marker": {
          "color": "#EF553B"
         },
         "name": "SOFT",
         "notched": false,
         "offsetgroup": "SOFT",
         "orientation": "v",
         "showlegend": true,
         "type": "box",
         "x": [
          "RIC",
          "RIC",
          "RIC",
          "RIC",
          "RIC",
          "RIC",
          "NOR",
          "NOR",
          "NOR",
          "NOR",
          "VET",
          "VET",
          "VET",
          "VET",
          "VET",
          "VET",
          "LAT",
          "LAT",
          "LAT",
          "LAT",
          "LAT",
          "LAT",
          "LAT",
          "LAT",
          "LAT",
          "LAT",
          "LAT",
          "LAT",
          "RAI",
          "RAI",
          "RAI",
          "RAI",
          "RAI",
          "RAI",
          "RAI",
          "RAI",
          "RAI",
          "RAI",
          "RAI",
          "MAZ",
          "MAZ",
          "MAZ",
          "MAZ",
          "MAZ",
          "MAZ",
          "MAZ",
          "MAZ",
          "MAZ",
          "MAZ",
          "MAZ",
          "MAZ",
          "MAZ",
          "MAZ",
          "MAZ",
          "MAZ",
          "MAZ",
          "MAZ",
          "MAZ",
          "MAZ",
          "GAS",
          "GAS",
          "GAS",
          "GAS",
          "GAS",
          "GAS",
          "GAS",
          "GAS",
          "PER",
          "PER",
          "PER",
          "PER",
          "PER",
          "PER",
          "ALO",
          "ALO",
          "ALO",
          "ALO",
          "ALO",
          "ALO",
          "ALO",
          "ALO",
          "LEC",
          "LEC",
          "LEC",
          "LEC",
          "LEC",
          "LEC",
          "LEC",
          "LEC",
          "LEC",
          "LEC",
          "LEC",
          "STR",
          "STR",
          "STR",
          "STR",
          "STR",
          "STR",
          "TSU",
          "TSU",
          "TSU",
          "TSU",
          "TSU",
          "TSU",
          "OCO",
          "OCO",
          "OCO",
          "OCO",
          "OCO",
          "OCO",
          "OCO",
          "OCO",
          "OCO",
          "OCO",
          "OCO",
          "VER",
          "VER",
          "VER",
          "VER",
          "VER",
          "VER",
          "VER",
          "VER",
          "VER",
          "VER",
          "VER",
          "VER",
          "VER",
          "HAM",
          "HAM",
          "HAM",
          "HAM",
          "HAM",
          "HAM",
          "HAM",
          "HAM",
          "HAM",
          "HAM",
          "HAM",
          "HAM",
          "HAM",
          "HAM",
          "HAM",
          "MSC",
          "MSC",
          "MSC",
          "MSC",
          "MSC",
          "MSC",
          "MSC",
          "MSC",
          "MSC",
          "MSC",
          "MSC",
          "MSC",
          "MSC",
          "MSC",
          "MSC",
          "MSC",
          "MSC",
          "MSC",
          "MSC",
          "SAI",
          "SAI",
          "SAI",
          "SAI",
          "SAI",
          "SAI",
          "SAI",
          "SAI",
          "SAI",
          "SAI",
          "RUS",
          "RUS",
          "RUS",
          "RUS",
          "RUS",
          "RUS",
          "RUS",
          "RUS",
          "RUS",
          "RUS",
          "RUS",
          "RUS",
          "RUS",
          "RUS",
          "RUS",
          "RUS",
          "BOT",
          "BOT",
          "BOT",
          "BOT",
          "BOT",
          "BOT",
          "BOT",
          "BOT",
          "BOT",
          "BOT",
          "BOT",
          "BOT",
          "BOT",
          "BOT",
          "BOT",
          "BOT",
          "GIO",
          "GIO",
          "GIO",
          "GIO",
          "GIO"
         ],
         "x0": " ",
         "xaxis": "x",
         "y": [
          null,
          76472000000,
          98465000000,
          76389000000,
          99164000000,
          87916000000,
          null,
          75537000000,
          105640000000,
          75414000000,
          76389000000,
          98415000000,
          76503000000,
          100815000000,
          119315000000,
          126905000000,
          null,
          77060000000,
          104605000000,
          null,
          76680000000,
          103884000000,
          102309000000,
          78869000000,
          92915000000,
          102348000000,
          107840000000,
          134937000000,
          null,
          76775000000,
          117593000000,
          76803000000,
          99460000000,
          null,
          78294000000,
          80617000000,
          78796000000,
          107716000000,
          117813000000,
          null,
          79127000000,
          103944000000,
          89397000000,
          78594000000,
          98502000000,
          78472000000,
          95500000000,
          80958000000,
          99932000000,
          77621000000,
          103174000000,
          77504000000,
          98085000000,
          77398000000,
          77810000000,
          111179000000,
          76793000000,
          114896000000,
          null,
          76012000000,
          101411000000,
          76279000000,
          76360000000,
          96652000000,
          78475000000,
          109222000000,
          126209000000,
          76094000000,
          114393000000,
          75551000000,
          97063000000,
          103791000000,
          118137000000,
          76342000000,
          109025000000,
          76186000000,
          111511000000,
          76396000000,
          109060000000,
          107409000000,
          130170000000,
          null,
          75738000000,
          125487000000,
          85527000000,
          75844000000,
          109782000000,
          108555000000,
          79920000000,
          79557000000,
          111742000000,
          134259000000,
          76424000000,
          111520000000,
          76245000000,
          90038000000,
          111777000000,
          125211000000,
          76440000000,
          76254000000,
          105511000000,
          76230000000,
          103617000000,
          117443000000,
          null,
          76228000000,
          102931000000,
          76548000000,
          100401000000,
          76674000000,
          101875000000,
          116647000000,
          82765000000,
          124187000000,
          116997000000,
          null,
          76251000000,
          100171000000,
          88329000000,
          93867000000,
          75895000000,
          90223000000,
          125579000000,
          74958000000,
          108277000000,
          null,
          90361000000,
          107705000000,
          null,
          null,
          77129000000,
          91052000000,
          76158000000,
          87912000000,
          null,
          75515000000,
          105041000000,
          78771000000,
          76775000000,
          120053000000,
          81865000000,
          122312000000,
          123753000000,
          null,
          78660000000,
          103410000000,
          77869000000,
          110035000000,
          77540000000,
          97993000000,
          95840000000,
          91987000000,
          77562000000,
          106038000000,
          77052000000,
          96526000000,
          76814000000,
          76448000000,
          101959000000,
          76808000000,
          120817000000,
          128851000000,
          null,
          75960000000,
          115679000000,
          75908000000,
          125270000000,
          76402000000,
          79955000000,
          79539000000,
          104054000000,
          123320000000,
          null,
          77533000000,
          null,
          76926000000,
          98694000000,
          76858000000,
          101444000000,
          null,
          76582000000,
          109657000000,
          76427000000,
          76766000000,
          89248000000,
          128092000000,
          134463000000,
          123654000000,
          null,
          83706000000,
          76402000000,
          null,
          80902000000,
          75984000000,
          95864000000,
          null,
          83808000000,
          75908000000,
          99897000000,
          75968000000,
          117324000000,
          121866000000,
          126075000000,
          139378000000,
          null,
          76612000000,
          104079000000,
          76732000000,
          84886000000
         ],
         "y0": " ",
         "yaxis": "y"
        }
       ],
       "layout": {
        "boxmode": "group",
        "legend": {
         "title": {
          "text": "Compound"
         },
         "tracegroupgap": 0
        },
        "template": {
         "data": {
          "bar": [
           {
            "error_x": {
             "color": "#2a3f5f"
            },
            "error_y": {
             "color": "#2a3f5f"
            },
            "marker": {
             "line": {
              "color": "#E5ECF6",
              "width": 0.5
             }
            },
            "type": "bar"
           }
          ],
          "barpolar": [
           {
            "marker": {
             "line": {
              "color": "#E5ECF6",
              "width": 0.5
             }
            },
            "type": "barpolar"
           }
          ],
          "carpet": [
           {
            "aaxis": {
             "endlinecolor": "#2a3f5f",
             "gridcolor": "white",
             "linecolor": "white",
             "minorgridcolor": "white",
             "startlinecolor": "#2a3f5f"
            },
            "baxis": {
             "endlinecolor": "#2a3f5f",
             "gridcolor": "white",
             "linecolor": "white",
             "minorgridcolor": "white",
             "startlinecolor": "#2a3f5f"
            },
            "type": "carpet"
           }
          ],
          "choropleth": [
           {
            "colorbar": {
             "outlinewidth": 0,
             "ticks": ""
            },
            "type": "choropleth"
           }
          ],
          "contour": [
           {
            "colorbar": {
             "outlinewidth": 0,
             "ticks": ""
            },
            "colorscale": [
             [
              0,
              "#0d0887"
             ],
             [
              0.1111111111111111,
              "#46039f"
             ],
             [
              0.2222222222222222,
              "#7201a8"
             ],
             [
              0.3333333333333333,
              "#9c179e"
             ],
             [
              0.4444444444444444,
              "#bd3786"
             ],
             [
              0.5555555555555556,
              "#d8576b"
             ],
             [
              0.6666666666666666,
              "#ed7953"
             ],
             [
              0.7777777777777778,
              "#fb9f3a"
             ],
             [
              0.8888888888888888,
              "#fdca26"
             ],
             [
              1,
              "#f0f921"
             ]
            ],
            "type": "contour"
           }
          ],
          "contourcarpet": [
           {
            "colorbar": {
             "outlinewidth": 0,
             "ticks": ""
            },
            "type": "contourcarpet"
           }
          ],
          "heatmap": [
           {
            "colorbar": {
             "outlinewidth": 0,
             "ticks": ""
            },
            "colorscale": [
             [
              0,
              "#0d0887"
             ],
             [
              0.1111111111111111,
              "#46039f"
             ],
             [
              0.2222222222222222,
              "#7201a8"
             ],
             [
              0.3333333333333333,
              "#9c179e"
             ],
             [
              0.4444444444444444,
              "#bd3786"
             ],
             [
              0.5555555555555556,
              "#d8576b"
             ],
             [
              0.6666666666666666,
              "#ed7953"
             ],
             [
              0.7777777777777778,
              "#fb9f3a"
             ],
             [
              0.8888888888888888,
              "#fdca26"
             ],
             [
              1,
              "#f0f921"
             ]
            ],
            "type": "heatmap"
           }
          ],
          "heatmapgl": [
           {
            "colorbar": {
             "outlinewidth": 0,
             "ticks": ""
            },
            "colorscale": [
             [
              0,
              "#0d0887"
             ],
             [
              0.1111111111111111,
              "#46039f"
             ],
             [
              0.2222222222222222,
              "#7201a8"
             ],
             [
              0.3333333333333333,
              "#9c179e"
             ],
             [
              0.4444444444444444,
              "#bd3786"
             ],
             [
              0.5555555555555556,
              "#d8576b"
             ],
             [
              0.6666666666666666,
              "#ed7953"
             ],
             [
              0.7777777777777778,
              "#fb9f3a"
             ],
             [
              0.8888888888888888,
              "#fdca26"
             ],
             [
              1,
              "#f0f921"
             ]
            ],
            "type": "heatmapgl"
           }
          ],
          "histogram": [
           {
            "marker": {
             "colorbar": {
              "outlinewidth": 0,
              "ticks": ""
             }
            },
            "type": "histogram"
           }
          ],
          "histogram2d": [
           {
            "colorbar": {
             "outlinewidth": 0,
             "ticks": ""
            },
            "colorscale": [
             [
              0,
              "#0d0887"
             ],
             [
              0.1111111111111111,
              "#46039f"
             ],
             [
              0.2222222222222222,
              "#7201a8"
             ],
             [
              0.3333333333333333,
              "#9c179e"
             ],
             [
              0.4444444444444444,
              "#bd3786"
             ],
             [
              0.5555555555555556,
              "#d8576b"
             ],
             [
              0.6666666666666666,
              "#ed7953"
             ],
             [
              0.7777777777777778,
              "#fb9f3a"
             ],
             [
              0.8888888888888888,
              "#fdca26"
             ],
             [
              1,
              "#f0f921"
             ]
            ],
            "type": "histogram2d"
           }
          ],
          "histogram2dcontour": [
           {
            "colorbar": {
             "outlinewidth": 0,
             "ticks": ""
            },
            "colorscale": [
             [
              0,
              "#0d0887"
             ],
             [
              0.1111111111111111,
              "#46039f"
             ],
             [
              0.2222222222222222,
              "#7201a8"
             ],
             [
              0.3333333333333333,
              "#9c179e"
             ],
             [
              0.4444444444444444,
              "#bd3786"
             ],
             [
              0.5555555555555556,
              "#d8576b"
             ],
             [
              0.6666666666666666,
              "#ed7953"
             ],
             [
              0.7777777777777778,
              "#fb9f3a"
             ],
             [
              0.8888888888888888,
              "#fdca26"
             ],
             [
              1,
              "#f0f921"
             ]
            ],
            "type": "histogram2dcontour"
           }
          ],
          "mesh3d": [
           {
            "colorbar": {
             "outlinewidth": 0,
             "ticks": ""
            },
            "type": "mesh3d"
           }
          ],
          "parcoords": [
           {
            "line": {
             "colorbar": {
              "outlinewidth": 0,
              "ticks": ""
             }
            },
            "type": "parcoords"
           }
          ],
          "pie": [
           {
            "automargin": true,
            "type": "pie"
           }
          ],
          "scatter": [
           {
            "marker": {
             "colorbar": {
              "outlinewidth": 0,
              "ticks": ""
             }
            },
            "type": "scatter"
           }
          ],
          "scatter3d": [
           {
            "line": {
             "colorbar": {
              "outlinewidth": 0,
              "ticks": ""
             }
            },
            "marker": {
             "colorbar": {
              "outlinewidth": 0,
              "ticks": ""
             }
            },
            "type": "scatter3d"
           }
          ],
          "scattercarpet": [
           {
            "marker": {
             "colorbar": {
              "outlinewidth": 0,
              "ticks": ""
             }
            },
            "type": "scattercarpet"
           }
          ],
          "scattergeo": [
           {
            "marker": {
             "colorbar": {
              "outlinewidth": 0,
              "ticks": ""
             }
            },
            "type": "scattergeo"
           }
          ],
          "scattergl": [
           {
            "marker": {
             "colorbar": {
              "outlinewidth": 0,
              "ticks": ""
             }
            },
            "type": "scattergl"
           }
          ],
          "scattermapbox": [
           {
            "marker": {
             "colorbar": {
              "outlinewidth": 0,
              "ticks": ""
             }
            },
            "type": "scattermapbox"
           }
          ],
          "scatterpolar": [
           {
            "marker": {
             "colorbar": {
              "outlinewidth": 0,
              "ticks": ""
             }
            },
            "type": "scatterpolar"
           }
          ],
          "scatterpolargl": [
           {
            "marker": {
             "colorbar": {
              "outlinewidth": 0,
              "ticks": ""
             }
            },
            "type": "scatterpolargl"
           }
          ],
          "scatterternary": [
           {
            "marker": {
             "colorbar": {
              "outlinewidth": 0,
              "ticks": ""
             }
            },
            "type": "scatterternary"
           }
          ],
          "surface": [
           {
            "colorbar": {
             "outlinewidth": 0,
             "ticks": ""
            },
            "colorscale": [
             [
              0,
              "#0d0887"
             ],
             [
              0.1111111111111111,
              "#46039f"
             ],
             [
              0.2222222222222222,
              "#7201a8"
             ],
             [
              0.3333333333333333,
              "#9c179e"
             ],
             [
              0.4444444444444444,
              "#bd3786"
             ],
             [
              0.5555555555555556,
              "#d8576b"
             ],
             [
              0.6666666666666666,
              "#ed7953"
             ],
             [
              0.7777777777777778,
              "#fb9f3a"
             ],
             [
              0.8888888888888888,
              "#fdca26"
             ],
             [
              1,
              "#f0f921"
             ]
            ],
            "type": "surface"
           }
          ],
          "table": [
           {
            "cells": {
             "fill": {
              "color": "#EBF0F8"
             },
             "line": {
              "color": "white"
             }
            },
            "header": {
             "fill": {
              "color": "#C8D4E3"
             },
             "line": {
              "color": "white"
             }
            },
            "type": "table"
           }
          ]
         },
         "layout": {
          "annotationdefaults": {
           "arrowcolor": "#2a3f5f",
           "arrowhead": 0,
           "arrowwidth": 1
          },
          "autotypenumbers": "strict",
          "coloraxis": {
           "colorbar": {
            "outlinewidth": 0,
            "ticks": ""
           }
          },
          "colorscale": {
           "diverging": [
            [
             0,
             "#8e0152"
            ],
            [
             0.1,
             "#c51b7d"
            ],
            [
             0.2,
             "#de77ae"
            ],
            [
             0.3,
             "#f1b6da"
            ],
            [
             0.4,
             "#fde0ef"
            ],
            [
             0.5,
             "#f7f7f7"
            ],
            [
             0.6,
             "#e6f5d0"
            ],
            [
             0.7,
             "#b8e186"
            ],
            [
             0.8,
             "#7fbc41"
            ],
            [
             0.9,
             "#4d9221"
            ],
            [
             1,
             "#276419"
            ]
           ],
           "sequential": [
            [
             0,
             "#0d0887"
            ],
            [
             0.1111111111111111,
             "#46039f"
            ],
            [
             0.2222222222222222,
             "#7201a8"
            ],
            [
             0.3333333333333333,
             "#9c179e"
            ],
            [
             0.4444444444444444,
             "#bd3786"
            ],
            [
             0.5555555555555556,
             "#d8576b"
            ],
            [
             0.6666666666666666,
             "#ed7953"
            ],
            [
             0.7777777777777778,
             "#fb9f3a"
            ],
            [
             0.8888888888888888,
             "#fdca26"
            ],
            [
             1,
             "#f0f921"
            ]
           ],
           "sequentialminus": [
            [
             0,
             "#0d0887"
            ],
            [
             0.1111111111111111,
             "#46039f"
            ],
            [
             0.2222222222222222,
             "#7201a8"
            ],
            [
             0.3333333333333333,
             "#9c179e"
            ],
            [
             0.4444444444444444,
             "#bd3786"
            ],
            [
             0.5555555555555556,
             "#d8576b"
            ],
            [
             0.6666666666666666,
             "#ed7953"
            ],
            [
             0.7777777777777778,
             "#fb9f3a"
            ],
            [
             0.8888888888888888,
             "#fdca26"
            ],
            [
             1,
             "#f0f921"
            ]
           ]
          },
          "colorway": [
           "#636efa",
           "#EF553B",
           "#00cc96",
           "#ab63fa",
           "#FFA15A",
           "#19d3f3",
           "#FF6692",
           "#B6E880",
           "#FF97FF",
           "#FECB52"
          ],
          "font": {
           "color": "#2a3f5f"
          },
          "geo": {
           "bgcolor": "white",
           "lakecolor": "white",
           "landcolor": "#E5ECF6",
           "showlakes": true,
           "showland": true,
           "subunitcolor": "white"
          },
          "hoverlabel": {
           "align": "left"
          },
          "hovermode": "closest",
          "mapbox": {
           "style": "light"
          },
          "paper_bgcolor": "white",
          "plot_bgcolor": "#E5ECF6",
          "polar": {
           "angularaxis": {
            "gridcolor": "white",
            "linecolor": "white",
            "ticks": ""
           },
           "bgcolor": "#E5ECF6",
           "radialaxis": {
            "gridcolor": "white",
            "linecolor": "white",
            "ticks": ""
           }
          },
          "scene": {
           "xaxis": {
            "backgroundcolor": "#E5ECF6",
            "gridcolor": "white",
            "gridwidth": 2,
            "linecolor": "white",
            "showbackground": true,
            "ticks": "",
            "zerolinecolor": "white"
           },
           "yaxis": {
            "backgroundcolor": "#E5ECF6",
            "gridcolor": "white",
            "gridwidth": 2,
            "linecolor": "white",
            "showbackground": true,
            "ticks": "",
            "zerolinecolor": "white"
           },
           "zaxis": {
            "backgroundcolor": "#E5ECF6",
            "gridcolor": "white",
            "gridwidth": 2,
            "linecolor": "white",
            "showbackground": true,
            "ticks": "",
            "zerolinecolor": "white"
           }
          },
          "shapedefaults": {
           "line": {
            "color": "#2a3f5f"
           }
          },
          "ternary": {
           "aaxis": {
            "gridcolor": "white",
            "linecolor": "white",
            "ticks": ""
           },
           "baxis": {
            "gridcolor": "white",
            "linecolor": "white",
            "ticks": ""
           },
           "bgcolor": "#E5ECF6",
           "caxis": {
            "gridcolor": "white",
            "linecolor": "white",
            "ticks": ""
           }
          },
          "title": {
           "x": 0.05
          },
          "xaxis": {
           "automargin": true,
           "gridcolor": "white",
           "linecolor": "white",
           "ticks": "",
           "title": {
            "standoff": 15
           },
           "zerolinecolor": "white",
           "zerolinewidth": 2
          },
          "yaxis": {
           "automargin": true,
           "gridcolor": "white",
           "linecolor": "white",
           "ticks": "",
           "title": {
            "standoff": 15
           },
           "zerolinecolor": "white",
           "zerolinewidth": 2
          }
         }
        },
        "title": {
         "text": "LapTime per Driver (Compound) - FP3"
        },
        "xaxis": {
         "anchor": "y",
         "domain": [
          0,
          1
         ],
         "title": {
          "text": "Driver"
         }
        },
        "yaxis": {
         "anchor": "x",
         "domain": [
          0,
          1
         ],
         "title": {
          "text": "LapTime"
         }
        }
       }
      },
      "text/html": [
       "<div>                            <div id=\"017a6efe-29c2-4f55-8a71-fc609f764fa5\" class=\"plotly-graph-div\" style=\"height:525px; width:100%;\"></div>            <script type=\"text/javascript\">                require([\"plotly\"], function(Plotly) {                    window.PLOTLYENV=window.PLOTLYENV || {};                                    if (document.getElementById(\"017a6efe-29c2-4f55-8a71-fc609f764fa5\")) {                    Plotly.newPlot(                        \"017a6efe-29c2-4f55-8a71-fc609f764fa5\",                        [{\"alignmentgroup\": \"True\", \"hovertemplate\": \"Compound=MEDIUM<br>Driver=%{x}<br>LapTime=%{y}<extra></extra>\", \"legendgroup\": \"MEDIUM\", \"marker\": {\"color\": \"#636efa\"}, \"name\": \"MEDIUM\", \"notched\": false, \"offsetgroup\": \"MEDIUM\", \"orientation\": \"v\", \"showlegend\": true, \"type\": \"box\", \"x\": [\"RIC\", \"RIC\", \"RIC\", \"RIC\", \"RIC\", \"RIC\", \"RIC\", \"RIC\", \"NOR\", \"NOR\", \"NOR\", \"NOR\", \"NOR\", \"NOR\", \"NOR\", \"NOR\", \"NOR\", \"NOR\", \"VET\", \"VET\", \"VET\", \"VET\", \"VET\", \"VET\", \"VET\", \"VET\", \"VET\", \"RAI\", \"RAI\", \"RAI\", \"RAI\", \"RAI\", \"RAI\", \"RAI\", \"RAI\", \"RAI\", \"GAS\", \"GAS\", \"GAS\", \"GAS\", \"GAS\", \"GAS\", \"GAS\", \"GAS\", \"GAS\", \"GAS\", \"PER\", \"PER\", \"PER\", \"PER\", \"PER\", \"PER\", \"PER\", \"PER\", \"PER\", \"ALO\", \"ALO\", \"ALO\", \"ALO\", \"ALO\", \"ALO\", \"ALO\", \"ALO\", \"LEC\", \"LEC\", \"LEC\", \"LEC\", \"LEC\", \"LEC\", \"LEC\", \"STR\", \"STR\", \"STR\", \"STR\", \"STR\", \"STR\", \"STR\", \"STR\", \"STR\", \"STR\", \"TSU\", \"TSU\", \"TSU\", \"TSU\", \"TSU\", \"TSU\", \"TSU\", \"TSU\", \"TSU\", \"TSU\", \"TSU\", \"OCO\", \"OCO\", \"OCO\", \"OCO\", \"OCO\", \"OCO\", \"OCO\", \"SAI\", \"SAI\", \"SAI\", \"SAI\", \"SAI\", \"SAI\", \"SAI\", \"GIO\", \"GIO\", \"GIO\", \"GIO\", \"GIO\", \"GIO\", \"GIO\", \"GIO\", \"GIO\", \"GIO\", \"GIO\", \"GIO\", \"GIO\", \"GIO\"], \"x0\": \" \", \"xaxis\": \"x\", \"y\": [null, 77903000000, 94673000000, 77298000000, 104716000000, 88562000000, 122714000000, 130143000000, null, 76938000000, 105171000000, 77267000000, null, 76723000000, 88698000000, 109545000000, 111711000000, 130904000000, null, 77633000000, null, 83616000000, 77119000000, 91160000000, 76790000000, 97123000000, 120054000000, null, 78249000000, 93202000000, 77331000000, 90582000000, null, 77449000000, 90084000000, 76949000000, null, 84133000000, 77057000000, 87359000000, 76887000000, 91892000000, 93688000000, 75890000000, 92877000000, 117894000000, null, 78111000000, 97325000000, 76642000000, null, 85970000000, 76414000000, 95483000000, 112331000000, null, 78273000000, 95283000000, 77456000000, 111047000000, 77347000000, 109532000000, 77149000000, null, 77321000000, 101832000000, 76795000000, 102041000000, 92900000000, 76332000000, null, 77748000000, 115694000000, null, 85060000000, 76772000000, 97150000000, 76906000000, 90557000000, 122045000000, null, null, 102787000000, 77491000000, 102115000000, 77065000000, 102240000000, 80716000000, 101689000000, 93460000000, 127632000000, null, 91888000000, 78364000000, 103709000000, 77451000000, 104776000000, 77348000000, null, 77586000000, 106578000000, 76901000000, 108122000000, 120209000000, 92022000000, null, 78942000000, 104455000000, 77626000000, 101856000000, 77167000000, 101912000000, 77052000000, 101676000000, 80460000000, 79799000000, 79437000000, 118799000000, 126665000000], \"y0\": \" \", \"yaxis\": \"y\"}, {\"alignmentgroup\": \"True\", \"hovertemplate\": \"Compound=SOFT<br>Driver=%{x}<br>LapTime=%{y}<extra></extra>\", \"legendgroup\": \"SOFT\", \"marker\": {\"color\": \"#EF553B\"}, \"name\": \"SOFT\", \"notched\": false, \"offsetgroup\": \"SOFT\", \"orientation\": \"v\", \"showlegend\": true, \"type\": \"box\", \"x\": [\"RIC\", \"RIC\", \"RIC\", \"RIC\", \"RIC\", \"RIC\", \"NOR\", \"NOR\", \"NOR\", \"NOR\", \"VET\", \"VET\", \"VET\", \"VET\", \"VET\", \"VET\", \"LAT\", \"LAT\", \"LAT\", \"LAT\", \"LAT\", \"LAT\", \"LAT\", \"LAT\", \"LAT\", \"LAT\", \"LAT\", \"LAT\", \"RAI\", \"RAI\", \"RAI\", \"RAI\", \"RAI\", \"RAI\", \"RAI\", \"RAI\", \"RAI\", \"RAI\", \"RAI\", \"MAZ\", \"MAZ\", \"MAZ\", \"MAZ\", \"MAZ\", \"MAZ\", \"MAZ\", \"MAZ\", \"MAZ\", \"MAZ\", \"MAZ\", \"MAZ\", \"MAZ\", \"MAZ\", \"MAZ\", \"MAZ\", \"MAZ\", \"MAZ\", \"MAZ\", \"MAZ\", \"GAS\", \"GAS\", \"GAS\", \"GAS\", \"GAS\", \"GAS\", \"GAS\", \"GAS\", \"PER\", \"PER\", \"PER\", \"PER\", \"PER\", \"PER\", \"ALO\", \"ALO\", \"ALO\", \"ALO\", \"ALO\", \"ALO\", \"ALO\", \"ALO\", \"LEC\", \"LEC\", \"LEC\", \"LEC\", \"LEC\", \"LEC\", \"LEC\", \"LEC\", \"LEC\", \"LEC\", \"LEC\", \"STR\", \"STR\", \"STR\", \"STR\", \"STR\", \"STR\", \"TSU\", \"TSU\", \"TSU\", \"TSU\", \"TSU\", \"TSU\", \"OCO\", \"OCO\", \"OCO\", \"OCO\", \"OCO\", \"OCO\", \"OCO\", \"OCO\", \"OCO\", \"OCO\", \"OCO\", \"VER\", \"VER\", \"VER\", \"VER\", \"VER\", \"VER\", \"VER\", \"VER\", \"VER\", \"VER\", \"VER\", \"VER\", \"VER\", \"HAM\", \"HAM\", \"HAM\", \"HAM\", \"HAM\", \"HAM\", \"HAM\", \"HAM\", \"HAM\", \"HAM\", \"HAM\", \"HAM\", \"HAM\", \"HAM\", \"HAM\", \"MSC\", \"MSC\", \"MSC\", \"MSC\", \"MSC\", \"MSC\", \"MSC\", \"MSC\", \"MSC\", \"MSC\", \"MSC\", \"MSC\", \"MSC\", \"MSC\", \"MSC\", \"MSC\", \"MSC\", \"MSC\", \"MSC\", \"SAI\", \"SAI\", \"SAI\", \"SAI\", \"SAI\", \"SAI\", \"SAI\", \"SAI\", \"SAI\", \"SAI\", \"RUS\", \"RUS\", \"RUS\", \"RUS\", \"RUS\", \"RUS\", \"RUS\", \"RUS\", \"RUS\", \"RUS\", \"RUS\", \"RUS\", \"RUS\", \"RUS\", \"RUS\", \"RUS\", \"BOT\", \"BOT\", \"BOT\", \"BOT\", \"BOT\", \"BOT\", \"BOT\", \"BOT\", \"BOT\", \"BOT\", \"BOT\", \"BOT\", \"BOT\", \"BOT\", \"BOT\", \"BOT\", \"GIO\", \"GIO\", \"GIO\", \"GIO\", \"GIO\"], \"x0\": \" \", \"xaxis\": \"x\", \"y\": [null, 76472000000, 98465000000, 76389000000, 99164000000, 87916000000, null, 75537000000, 105640000000, 75414000000, 76389000000, 98415000000, 76503000000, 100815000000, 119315000000, 126905000000, null, 77060000000, 104605000000, null, 76680000000, 103884000000, 102309000000, 78869000000, 92915000000, 102348000000, 107840000000, 134937000000, null, 76775000000, 117593000000, 76803000000, 99460000000, null, 78294000000, 80617000000, 78796000000, 107716000000, 117813000000, null, 79127000000, 103944000000, 89397000000, 78594000000, 98502000000, 78472000000, 95500000000, 80958000000, 99932000000, 77621000000, 103174000000, 77504000000, 98085000000, 77398000000, 77810000000, 111179000000, 76793000000, 114896000000, null, 76012000000, 101411000000, 76279000000, 76360000000, 96652000000, 78475000000, 109222000000, 126209000000, 76094000000, 114393000000, 75551000000, 97063000000, 103791000000, 118137000000, 76342000000, 109025000000, 76186000000, 111511000000, 76396000000, 109060000000, 107409000000, 130170000000, null, 75738000000, 125487000000, 85527000000, 75844000000, 109782000000, 108555000000, 79920000000, 79557000000, 111742000000, 134259000000, 76424000000, 111520000000, 76245000000, 90038000000, 111777000000, 125211000000, 76440000000, 76254000000, 105511000000, 76230000000, 103617000000, 117443000000, null, 76228000000, 102931000000, 76548000000, 100401000000, 76674000000, 101875000000, 116647000000, 82765000000, 124187000000, 116997000000, null, 76251000000, 100171000000, 88329000000, 93867000000, 75895000000, 90223000000, 125579000000, 74958000000, 108277000000, null, 90361000000, 107705000000, null, null, 77129000000, 91052000000, 76158000000, 87912000000, null, 75515000000, 105041000000, 78771000000, 76775000000, 120053000000, 81865000000, 122312000000, 123753000000, null, 78660000000, 103410000000, 77869000000, 110035000000, 77540000000, 97993000000, 95840000000, 91987000000, 77562000000, 106038000000, 77052000000, 96526000000, 76814000000, 76448000000, 101959000000, 76808000000, 120817000000, 128851000000, null, 75960000000, 115679000000, 75908000000, 125270000000, 76402000000, 79955000000, 79539000000, 104054000000, 123320000000, null, 77533000000, null, 76926000000, 98694000000, 76858000000, 101444000000, null, 76582000000, 109657000000, 76427000000, 76766000000, 89248000000, 128092000000, 134463000000, 123654000000, null, 83706000000, 76402000000, null, 80902000000, 75984000000, 95864000000, null, 83808000000, 75908000000, 99897000000, 75968000000, 117324000000, 121866000000, 126075000000, 139378000000, null, 76612000000, 104079000000, 76732000000, 84886000000], \"y0\": \" \", \"yaxis\": \"y\"}],                        {\"boxmode\": \"group\", \"legend\": {\"title\": {\"text\": \"Compound\"}, \"tracegroupgap\": 0}, \"template\": {\"data\": {\"bar\": [{\"error_x\": {\"color\": \"#2a3f5f\"}, \"error_y\": {\"color\": \"#2a3f5f\"}, \"marker\": {\"line\": {\"color\": \"#E5ECF6\", \"width\": 0.5}}, \"type\": \"bar\"}], \"barpolar\": [{\"marker\": {\"line\": {\"color\": \"#E5ECF6\", \"width\": 0.5}}, \"type\": \"barpolar\"}], \"carpet\": [{\"aaxis\": {\"endlinecolor\": \"#2a3f5f\", \"gridcolor\": \"white\", \"linecolor\": \"white\", \"minorgridcolor\": \"white\", \"startlinecolor\": \"#2a3f5f\"}, \"baxis\": {\"endlinecolor\": \"#2a3f5f\", \"gridcolor\": \"white\", \"linecolor\": \"white\", \"minorgridcolor\": \"white\", \"startlinecolor\": \"#2a3f5f\"}, \"type\": \"carpet\"}], \"choropleth\": [{\"colorbar\": {\"outlinewidth\": 0, \"ticks\": \"\"}, \"type\": \"choropleth\"}], \"contour\": [{\"colorbar\": {\"outlinewidth\": 0, \"ticks\": \"\"}, \"colorscale\": [[0.0, \"#0d0887\"], [0.1111111111111111, \"#46039f\"], [0.2222222222222222, \"#7201a8\"], [0.3333333333333333, \"#9c179e\"], [0.4444444444444444, \"#bd3786\"], [0.5555555555555556, \"#d8576b\"], [0.6666666666666666, \"#ed7953\"], [0.7777777777777778, \"#fb9f3a\"], [0.8888888888888888, \"#fdca26\"], [1.0, \"#f0f921\"]], \"type\": \"contour\"}], \"contourcarpet\": [{\"colorbar\": {\"outlinewidth\": 0, \"ticks\": \"\"}, \"type\": \"contourcarpet\"}], \"heatmap\": [{\"colorbar\": {\"outlinewidth\": 0, \"ticks\": \"\"}, \"colorscale\": [[0.0, \"#0d0887\"], [0.1111111111111111, \"#46039f\"], [0.2222222222222222, \"#7201a8\"], [0.3333333333333333, \"#9c179e\"], [0.4444444444444444, \"#bd3786\"], [0.5555555555555556, \"#d8576b\"], [0.6666666666666666, \"#ed7953\"], [0.7777777777777778, \"#fb9f3a\"], [0.8888888888888888, \"#fdca26\"], [1.0, \"#f0f921\"]], \"type\": \"heatmap\"}], \"heatmapgl\": [{\"colorbar\": {\"outlinewidth\": 0, \"ticks\": \"\"}, \"colorscale\": [[0.0, \"#0d0887\"], [0.1111111111111111, \"#46039f\"], [0.2222222222222222, \"#7201a8\"], [0.3333333333333333, \"#9c179e\"], [0.4444444444444444, \"#bd3786\"], [0.5555555555555556, \"#d8576b\"], [0.6666666666666666, \"#ed7953\"], [0.7777777777777778, \"#fb9f3a\"], [0.8888888888888888, \"#fdca26\"], [1.0, \"#f0f921\"]], \"type\": \"heatmapgl\"}], \"histogram\": [{\"marker\": {\"colorbar\": {\"outlinewidth\": 0, \"ticks\": \"\"}}, \"type\": \"histogram\"}], \"histogram2d\": [{\"colorbar\": {\"outlinewidth\": 0, \"ticks\": \"\"}, \"colorscale\": [[0.0, \"#0d0887\"], [0.1111111111111111, \"#46039f\"], [0.2222222222222222, \"#7201a8\"], [0.3333333333333333, \"#9c179e\"], [0.4444444444444444, \"#bd3786\"], [0.5555555555555556, \"#d8576b\"], [0.6666666666666666, \"#ed7953\"], [0.7777777777777778, \"#fb9f3a\"], [0.8888888888888888, \"#fdca26\"], [1.0, \"#f0f921\"]], \"type\": \"histogram2d\"}], \"histogram2dcontour\": [{\"colorbar\": {\"outlinewidth\": 0, \"ticks\": \"\"}, \"colorscale\": [[0.0, \"#0d0887\"], [0.1111111111111111, \"#46039f\"], [0.2222222222222222, \"#7201a8\"], [0.3333333333333333, \"#9c179e\"], [0.4444444444444444, \"#bd3786\"], [0.5555555555555556, \"#d8576b\"], [0.6666666666666666, \"#ed7953\"], [0.7777777777777778, \"#fb9f3a\"], [0.8888888888888888, \"#fdca26\"], [1.0, \"#f0f921\"]], \"type\": \"histogram2dcontour\"}], \"mesh3d\": [{\"colorbar\": {\"outlinewidth\": 0, \"ticks\": \"\"}, \"type\": \"mesh3d\"}], \"parcoords\": [{\"line\": {\"colorbar\": {\"outlinewidth\": 0, \"ticks\": \"\"}}, \"type\": \"parcoords\"}], \"pie\": [{\"automargin\": true, \"type\": \"pie\"}], \"scatter\": [{\"marker\": {\"colorbar\": {\"outlinewidth\": 0, \"ticks\": \"\"}}, \"type\": \"scatter\"}], \"scatter3d\": [{\"line\": {\"colorbar\": {\"outlinewidth\": 0, \"ticks\": \"\"}}, \"marker\": {\"colorbar\": {\"outlinewidth\": 0, \"ticks\": \"\"}}, \"type\": \"scatter3d\"}], \"scattercarpet\": [{\"marker\": {\"colorbar\": {\"outlinewidth\": 0, \"ticks\": \"\"}}, \"type\": \"scattercarpet\"}], \"scattergeo\": [{\"marker\": {\"colorbar\": {\"outlinewidth\": 0, \"ticks\": \"\"}}, \"type\": \"scattergeo\"}], \"scattergl\": [{\"marker\": {\"colorbar\": {\"outlinewidth\": 0, \"ticks\": \"\"}}, \"type\": \"scattergl\"}], \"scattermapbox\": [{\"marker\": {\"colorbar\": {\"outlinewidth\": 0, \"ticks\": \"\"}}, \"type\": \"scattermapbox\"}], \"scatterpolar\": [{\"marker\": {\"colorbar\": {\"outlinewidth\": 0, \"ticks\": \"\"}}, \"type\": \"scatterpolar\"}], \"scatterpolargl\": [{\"marker\": {\"colorbar\": {\"outlinewidth\": 0, \"ticks\": \"\"}}, \"type\": \"scatterpolargl\"}], \"scatterternary\": [{\"marker\": {\"colorbar\": {\"outlinewidth\": 0, \"ticks\": \"\"}}, \"type\": \"scatterternary\"}], \"surface\": [{\"colorbar\": {\"outlinewidth\": 0, \"ticks\": \"\"}, \"colorscale\": [[0.0, \"#0d0887\"], [0.1111111111111111, \"#46039f\"], [0.2222222222222222, \"#7201a8\"], [0.3333333333333333, \"#9c179e\"], [0.4444444444444444, \"#bd3786\"], [0.5555555555555556, \"#d8576b\"], [0.6666666666666666, \"#ed7953\"], [0.7777777777777778, \"#fb9f3a\"], [0.8888888888888888, \"#fdca26\"], [1.0, \"#f0f921\"]], \"type\": \"surface\"}], \"table\": [{\"cells\": {\"fill\": {\"color\": \"#EBF0F8\"}, \"line\": {\"color\": \"white\"}}, \"header\": {\"fill\": {\"color\": \"#C8D4E3\"}, \"line\": {\"color\": \"white\"}}, \"type\": \"table\"}]}, \"layout\": {\"annotationdefaults\": {\"arrowcolor\": \"#2a3f5f\", \"arrowhead\": 0, \"arrowwidth\": 1}, \"autotypenumbers\": \"strict\", \"coloraxis\": {\"colorbar\": {\"outlinewidth\": 0, \"ticks\": \"\"}}, \"colorscale\": {\"diverging\": [[0, \"#8e0152\"], [0.1, \"#c51b7d\"], [0.2, \"#de77ae\"], [0.3, \"#f1b6da\"], [0.4, \"#fde0ef\"], [0.5, \"#f7f7f7\"], [0.6, \"#e6f5d0\"], [0.7, \"#b8e186\"], [0.8, \"#7fbc41\"], [0.9, \"#4d9221\"], [1, \"#276419\"]], \"sequential\": [[0.0, \"#0d0887\"], [0.1111111111111111, \"#46039f\"], [0.2222222222222222, \"#7201a8\"], [0.3333333333333333, \"#9c179e\"], [0.4444444444444444, \"#bd3786\"], [0.5555555555555556, \"#d8576b\"], [0.6666666666666666, \"#ed7953\"], [0.7777777777777778, \"#fb9f3a\"], [0.8888888888888888, \"#fdca26\"], [1.0, \"#f0f921\"]], \"sequentialminus\": [[0.0, \"#0d0887\"], [0.1111111111111111, \"#46039f\"], [0.2222222222222222, \"#7201a8\"], [0.3333333333333333, \"#9c179e\"], [0.4444444444444444, \"#bd3786\"], [0.5555555555555556, \"#d8576b\"], [0.6666666666666666, \"#ed7953\"], [0.7777777777777778, \"#fb9f3a\"], [0.8888888888888888, \"#fdca26\"], [1.0, \"#f0f921\"]]}, \"colorway\": [\"#636efa\", \"#EF553B\", \"#00cc96\", \"#ab63fa\", \"#FFA15A\", \"#19d3f3\", \"#FF6692\", \"#B6E880\", \"#FF97FF\", \"#FECB52\"], \"font\": {\"color\": \"#2a3f5f\"}, \"geo\": {\"bgcolor\": \"white\", \"lakecolor\": \"white\", \"landcolor\": \"#E5ECF6\", \"showlakes\": true, \"showland\": true, \"subunitcolor\": \"white\"}, \"hoverlabel\": {\"align\": \"left\"}, \"hovermode\": \"closest\", \"mapbox\": {\"style\": \"light\"}, \"paper_bgcolor\": \"white\", \"plot_bgcolor\": \"#E5ECF6\", \"polar\": {\"angularaxis\": {\"gridcolor\": \"white\", \"linecolor\": \"white\", \"ticks\": \"\"}, \"bgcolor\": \"#E5ECF6\", \"radialaxis\": {\"gridcolor\": \"white\", \"linecolor\": \"white\", \"ticks\": \"\"}}, \"scene\": {\"xaxis\": {\"backgroundcolor\": \"#E5ECF6\", \"gridcolor\": \"white\", \"gridwidth\": 2, \"linecolor\": \"white\", \"showbackground\": true, \"ticks\": \"\", \"zerolinecolor\": \"white\"}, \"yaxis\": {\"backgroundcolor\": \"#E5ECF6\", \"gridcolor\": \"white\", \"gridwidth\": 2, \"linecolor\": \"white\", \"showbackground\": true, \"ticks\": \"\", \"zerolinecolor\": \"white\"}, \"zaxis\": {\"backgroundcolor\": \"#E5ECF6\", \"gridcolor\": \"white\", \"gridwidth\": 2, \"linecolor\": \"white\", \"showbackground\": true, \"ticks\": \"\", \"zerolinecolor\": \"white\"}}, \"shapedefaults\": {\"line\": {\"color\": \"#2a3f5f\"}}, \"ternary\": {\"aaxis\": {\"gridcolor\": \"white\", \"linecolor\": \"white\", \"ticks\": \"\"}, \"baxis\": {\"gridcolor\": \"white\", \"linecolor\": \"white\", \"ticks\": \"\"}, \"bgcolor\": \"#E5ECF6\", \"caxis\": {\"gridcolor\": \"white\", \"linecolor\": \"white\", \"ticks\": \"\"}}, \"title\": {\"x\": 0.05}, \"xaxis\": {\"automargin\": true, \"gridcolor\": \"white\", \"linecolor\": \"white\", \"ticks\": \"\", \"title\": {\"standoff\": 15}, \"zerolinecolor\": \"white\", \"zerolinewidth\": 2}, \"yaxis\": {\"automargin\": true, \"gridcolor\": \"white\", \"linecolor\": \"white\", \"ticks\": \"\", \"title\": {\"standoff\": 15}, \"zerolinecolor\": \"white\", \"zerolinewidth\": 2}}}, \"title\": {\"text\": \"LapTime per Driver (Compound) - FP3\"}, \"xaxis\": {\"anchor\": \"y\", \"domain\": [0.0, 1.0], \"title\": {\"text\": \"Driver\"}}, \"yaxis\": {\"anchor\": \"x\", \"domain\": [0.0, 1.0], \"title\": {\"text\": \"LapTime\"}}},                        {\"responsive\": true}                    ).then(function(){\n",
       "                            \n",
       "var gd = document.getElementById('017a6efe-29c2-4f55-8a71-fc609f764fa5');\n",
       "var x = new MutationObserver(function (mutations, observer) {{\n",
       "        var display = window.getComputedStyle(gd).display;\n",
       "        if (!display || display === 'none') {{\n",
       "            console.log([gd, 'removed!']);\n",
       "            Plotly.purge(gd);\n",
       "            observer.disconnect();\n",
       "        }}\n",
       "}});\n",
       "\n",
       "// Listen for the removal of the full notebook cells\n",
       "var notebookContainer = gd.closest('#notebook-container');\n",
       "if (notebookContainer) {{\n",
       "    x.observe(notebookContainer, {childList: true});\n",
       "}}\n",
       "\n",
       "// Listen for the clearing of the current output cell\n",
       "var outputEl = gd.closest('.output');\n",
       "if (outputEl) {{\n",
       "    x.observe(outputEl, {childList: true});\n",
       "}}\n",
       "\n",
       "                        })                };                });            </script>        </div>"
      ]
     },
     "metadata": {},
     "output_type": "display_data"
    }
   ],
   "source": [
    "# filter for clear track laps\n",
    "fp2_clear = fp2[fp2[\"TrackStatus\"] == '1']\n",
    "fp3_clear = fp3[fp3[\"TrackStatus\"] == '1']\n",
    "\n",
    "\n",
    "# fp2 pace by driver\n",
    "fp2_pace = px.box(fp2_clear, x=\"Driver\", y=\"LapTime\", color = \"Compound\", title='LapTime per Driver (Compound) - FP2')\n",
    "fp2_pace.show()\n",
    "\n",
    "# fp3 pace by driver \n",
    "fp3_pace = px.box(fp3_clear, x=\"Driver\", y=\"LapTime\", color = \"Compound\", title='LapTime per Driver (Compound) - FP3')\n",
    "fp3_pace.show()"
   ]
  },
  {
   "cell_type": "markdown",
   "metadata": {},
   "source": [
    "As seen in the plot above, most drivers spent the FP2 on the medium and soft compound tires. Only LAT, RAI, RUS, MSC, and MAZ put in laps on the hard compound. \n",
    "\n",
    "Something to note is that there in most cases, the min lap times on the soft compound are slower than those of the medium compound. I would think this is because teams were doing heavier fuel runs on the soft compound, to gather data on how the tires would perform if they started the race on that compound, and then completing laps on the medium compound with less fuel. \n",
    "\n",
    "In FP3, only the medium and soft compound tires were used. In this session, the softer compound tires resulted in faster lap times as expected. In this session it seemed as though the teams were dialing in the cars for qualifying. "
   ]
  },
  {
   "cell_type": "code",
   "execution_count": 54,
   "metadata": {},
   "outputs": [
    {
     "name": "stderr",
     "output_type": "stream",
     "text": [
      "<ipython-input-54-0a146efc3f29>:2: SettingWithCopyWarning:\n",
      "\n",
      "\n",
      "A value is trying to be set on a copy of a slice from a DataFrame.\n",
      "Try using .loc[row_indexer,col_indexer] = value instead\n",
      "\n",
      "See the caveats in the documentation: https://pandas.pydata.org/pandas-docs/stable/user_guide/indexing.html#returning-a-view-versus-a-copy\n",
      "\n"
     ]
    },
    {
     "data": {
      "text/html": [
       "<div>\n",
       "<style scoped>\n",
       "    .dataframe tbody tr th:only-of-type {\n",
       "        vertical-align: middle;\n",
       "    }\n",
       "\n",
       "    .dataframe tbody tr th {\n",
       "        vertical-align: top;\n",
       "    }\n",
       "\n",
       "    .dataframe thead tr th {\n",
       "        text-align: left;\n",
       "    }\n",
       "\n",
       "    .dataframe thead tr:last-of-type th {\n",
       "        text-align: right;\n",
       "    }\n",
       "</style>\n",
       "<table border=\"1\" class=\"dataframe\">\n",
       "  <thead>\n",
       "    <tr>\n",
       "      <th></th>\n",
       "      <th></th>\n",
       "      <th colspan=\"2\" halign=\"left\">ms</th>\n",
       "    </tr>\n",
       "    <tr>\n",
       "      <th></th>\n",
       "      <th></th>\n",
       "      <th>mean</th>\n",
       "      <th>min</th>\n",
       "    </tr>\n",
       "    <tr>\n",
       "      <th>Driver</th>\n",
       "      <th>Compound</th>\n",
       "      <th></th>\n",
       "      <th></th>\n",
       "    </tr>\n",
       "  </thead>\n",
       "  <tbody>\n",
       "    <tr>\n",
       "      <th rowspan=\"2\" valign=\"top\">ALO</th>\n",
       "      <th>MEDIUM</th>\n",
       "      <td>88259.000000</td>\n",
       "      <td>78342.0</td>\n",
       "    </tr>\n",
       "    <tr>\n",
       "      <th>SOFT</th>\n",
       "      <td>85687.529412</td>\n",
       "      <td>76835.0</td>\n",
       "    </tr>\n",
       "    <tr>\n",
       "      <th rowspan=\"2\" valign=\"top\">BOT</th>\n",
       "      <th>MEDIUM</th>\n",
       "      <td>84928.214286</td>\n",
       "      <td>75551.0</td>\n",
       "    </tr>\n",
       "    <tr>\n",
       "      <th>SOFT</th>\n",
       "      <td>86231.000000</td>\n",
       "      <td>75641.0</td>\n",
       "    </tr>\n",
       "    <tr>\n",
       "      <th rowspan=\"2\" valign=\"top\">GAS</th>\n",
       "      <th>MEDIUM</th>\n",
       "      <td>88003.250000</td>\n",
       "      <td>76117.0</td>\n",
       "    </tr>\n",
       "    <tr>\n",
       "      <th>SOFT</th>\n",
       "      <td>83429.333333</td>\n",
       "      <td>75629.0</td>\n",
       "    </tr>\n",
       "    <tr>\n",
       "      <th rowspan=\"2\" valign=\"top\">GIO</th>\n",
       "      <th>MEDIUM</th>\n",
       "      <td>88822.333333</td>\n",
       "      <td>77766.0</td>\n",
       "    </tr>\n",
       "    <tr>\n",
       "      <th>SOFT</th>\n",
       "      <td>89260.166667</td>\n",
       "      <td>76513.0</td>\n",
       "    </tr>\n",
       "    <tr>\n",
       "      <th rowspan=\"2\" valign=\"top\">HAM</th>\n",
       "      <th>MEDIUM</th>\n",
       "      <td>84447.933333</td>\n",
       "      <td>75672.0</td>\n",
       "    </tr>\n",
       "    <tr>\n",
       "      <th>SOFT</th>\n",
       "      <td>92026.250000</td>\n",
       "      <td>75561.0</td>\n",
       "    </tr>\n",
       "    <tr>\n",
       "      <th rowspan=\"2\" valign=\"top\">LAT</th>\n",
       "      <th>HARD</th>\n",
       "      <td>93521.750000</td>\n",
       "      <td>78802.0</td>\n",
       "    </tr>\n",
       "    <tr>\n",
       "      <th>SOFT</th>\n",
       "      <td>86099.666667</td>\n",
       "      <td>76823.0</td>\n",
       "    </tr>\n",
       "    <tr>\n",
       "      <th rowspan=\"2\" valign=\"top\">LEC</th>\n",
       "      <th>MEDIUM</th>\n",
       "      <td>84867.818182</td>\n",
       "      <td>76705.0</td>\n",
       "    </tr>\n",
       "    <tr>\n",
       "      <th>SOFT</th>\n",
       "      <td>89676.181818</td>\n",
       "      <td>75367.0</td>\n",
       "    </tr>\n",
       "    <tr>\n",
       "      <th rowspan=\"3\" valign=\"top\">MAZ</th>\n",
       "      <th>HARD</th>\n",
       "      <td>91675.500000</td>\n",
       "      <td>91177.0</td>\n",
       "    </tr>\n",
       "    <tr>\n",
       "      <th>MEDIUM</th>\n",
       "      <td>93499.000000</td>\n",
       "      <td>80158.0</td>\n",
       "    </tr>\n",
       "    <tr>\n",
       "      <th>SOFT</th>\n",
       "      <td>93788.000000</td>\n",
       "      <td>77857.0</td>\n",
       "    </tr>\n",
       "    <tr>\n",
       "      <th rowspan=\"3\" valign=\"top\">MSC</th>\n",
       "      <th>HARD</th>\n",
       "      <td>81680.500000</td>\n",
       "      <td>78606.0</td>\n",
       "    </tr>\n",
       "    <tr>\n",
       "      <th>MEDIUM</th>\n",
       "      <td>82064.800000</td>\n",
       "      <td>81299.0</td>\n",
       "    </tr>\n",
       "    <tr>\n",
       "      <th>SOFT</th>\n",
       "      <td>89241.375000</td>\n",
       "      <td>77350.0</td>\n",
       "    </tr>\n",
       "    <tr>\n",
       "      <th rowspan=\"2\" valign=\"top\">NOR</th>\n",
       "      <th>MEDIUM</th>\n",
       "      <td>89072.600000</td>\n",
       "      <td>77400.0</td>\n",
       "    </tr>\n",
       "    <tr>\n",
       "      <th>SOFT</th>\n",
       "      <td>83303.727273</td>\n",
       "      <td>76485.0</td>\n",
       "    </tr>\n",
       "    <tr>\n",
       "      <th rowspan=\"2\" valign=\"top\">OCO</th>\n",
       "      <th>MEDIUM</th>\n",
       "      <td>82926.800000</td>\n",
       "      <td>77360.0</td>\n",
       "    </tr>\n",
       "    <tr>\n",
       "      <th>SOFT</th>\n",
       "      <td>90899.500000</td>\n",
       "      <td>76817.0</td>\n",
       "    </tr>\n",
       "    <tr>\n",
       "      <th rowspan=\"2\" valign=\"top\">PER</th>\n",
       "      <th>MEDIUM</th>\n",
       "      <td>84566.266667</td>\n",
       "      <td>76883.0</td>\n",
       "    </tr>\n",
       "    <tr>\n",
       "      <th>SOFT</th>\n",
       "      <td>85136.500000</td>\n",
       "      <td>76411.0</td>\n",
       "    </tr>\n",
       "    <tr>\n",
       "      <th rowspan=\"2\" valign=\"top\">RAI</th>\n",
       "      <th>HARD</th>\n",
       "      <td>86703.500000</td>\n",
       "      <td>77845.0</td>\n",
       "    </tr>\n",
       "    <tr>\n",
       "      <th>SOFT</th>\n",
       "      <td>85846.857143</td>\n",
       "      <td>77273.0</td>\n",
       "    </tr>\n",
       "    <tr>\n",
       "      <th rowspan=\"2\" valign=\"top\">RIC</th>\n",
       "      <th>MEDIUM</th>\n",
       "      <td>88356.333333</td>\n",
       "      <td>77281.0</td>\n",
       "    </tr>\n",
       "    <tr>\n",
       "      <th>SOFT</th>\n",
       "      <td>85747.500000</td>\n",
       "      <td>76782.0</td>\n",
       "    </tr>\n",
       "    <tr>\n",
       "      <th rowspan=\"2\" valign=\"top\">RUS</th>\n",
       "      <th>HARD</th>\n",
       "      <td>83880.823529</td>\n",
       "      <td>78648.0</td>\n",
       "    </tr>\n",
       "    <tr>\n",
       "      <th>SOFT</th>\n",
       "      <td>92491.111111</td>\n",
       "      <td>77179.0</td>\n",
       "    </tr>\n",
       "    <tr>\n",
       "      <th rowspan=\"2\" valign=\"top\">SAI</th>\n",
       "      <th>MEDIUM</th>\n",
       "      <td>96137.200000</td>\n",
       "      <td>76723.0</td>\n",
       "    </tr>\n",
       "    <tr>\n",
       "      <th>SOFT</th>\n",
       "      <td>85325.777778</td>\n",
       "      <td>75834.0</td>\n",
       "    </tr>\n",
       "    <tr>\n",
       "      <th rowspan=\"2\" valign=\"top\">STR</th>\n",
       "      <th>MEDIUM</th>\n",
       "      <td>82651.428571</td>\n",
       "      <td>78099.0</td>\n",
       "    </tr>\n",
       "    <tr>\n",
       "      <th>SOFT</th>\n",
       "      <td>89614.000000</td>\n",
       "      <td>76737.0</td>\n",
       "    </tr>\n",
       "    <tr>\n",
       "      <th rowspan=\"2\" valign=\"top\">TSU</th>\n",
       "      <th>MEDIUM</th>\n",
       "      <td>86773.000000</td>\n",
       "      <td>77194.0</td>\n",
       "    </tr>\n",
       "    <tr>\n",
       "      <th>SOFT</th>\n",
       "      <td>85883.812500</td>\n",
       "      <td>76419.0</td>\n",
       "    </tr>\n",
       "    <tr>\n",
       "      <th>VER</th>\n",
       "      <th>MEDIUM</th>\n",
       "      <td>84108.000000</td>\n",
       "      <td>76999.0</td>\n",
       "    </tr>\n",
       "    <tr>\n",
       "      <th rowspan=\"2\" valign=\"top\">VET</th>\n",
       "      <th>MEDIUM</th>\n",
       "      <td>82778.875000</td>\n",
       "      <td>77826.0</td>\n",
       "    </tr>\n",
       "    <tr>\n",
       "      <th>SOFT</th>\n",
       "      <td>90725.200000</td>\n",
       "      <td>77092.0</td>\n",
       "    </tr>\n",
       "  </tbody>\n",
       "</table>\n",
       "</div>"
      ],
      "text/plain": [
       "                           ms         \n",
       "                         mean      min\n",
       "Driver Compound                       \n",
       "ALO    MEDIUM    88259.000000  78342.0\n",
       "       SOFT      85687.529412  76835.0\n",
       "BOT    MEDIUM    84928.214286  75551.0\n",
       "       SOFT      86231.000000  75641.0\n",
       "GAS    MEDIUM    88003.250000  76117.0\n",
       "       SOFT      83429.333333  75629.0\n",
       "GIO    MEDIUM    88822.333333  77766.0\n",
       "       SOFT      89260.166667  76513.0\n",
       "HAM    MEDIUM    84447.933333  75672.0\n",
       "       SOFT      92026.250000  75561.0\n",
       "LAT    HARD      93521.750000  78802.0\n",
       "       SOFT      86099.666667  76823.0\n",
       "LEC    MEDIUM    84867.818182  76705.0\n",
       "       SOFT      89676.181818  75367.0\n",
       "MAZ    HARD      91675.500000  91177.0\n",
       "       MEDIUM    93499.000000  80158.0\n",
       "       SOFT      93788.000000  77857.0\n",
       "MSC    HARD      81680.500000  78606.0\n",
       "       MEDIUM    82064.800000  81299.0\n",
       "       SOFT      89241.375000  77350.0\n",
       "NOR    MEDIUM    89072.600000  77400.0\n",
       "       SOFT      83303.727273  76485.0\n",
       "OCO    MEDIUM    82926.800000  77360.0\n",
       "       SOFT      90899.500000  76817.0\n",
       "PER    MEDIUM    84566.266667  76883.0\n",
       "       SOFT      85136.500000  76411.0\n",
       "RAI    HARD      86703.500000  77845.0\n",
       "       SOFT      85846.857143  77273.0\n",
       "RIC    MEDIUM    88356.333333  77281.0\n",
       "       SOFT      85747.500000  76782.0\n",
       "RUS    HARD      83880.823529  78648.0\n",
       "       SOFT      92491.111111  77179.0\n",
       "SAI    MEDIUM    96137.200000  76723.0\n",
       "       SOFT      85325.777778  75834.0\n",
       "STR    MEDIUM    82651.428571  78099.0\n",
       "       SOFT      89614.000000  76737.0\n",
       "TSU    MEDIUM    86773.000000  77194.0\n",
       "       SOFT      85883.812500  76419.0\n",
       "VER    MEDIUM    84108.000000  76999.0\n",
       "VET    MEDIUM    82778.875000  77826.0\n",
       "       SOFT      90725.200000  77092.0"
      ]
     },
     "execution_count": 54,
     "metadata": {},
     "output_type": "execute_result"
    }
   ],
   "source": [
    "# convert lap time to float\n",
    "fp2_clear[\"ms\"] = fp2_clear.LapTime.astype(\"timedelta64[ms]\")\n",
    "\n",
    "fp2_clear.groupby([\"Driver\", \"Compound\"]).agg({\"ms\": ['mean', 'min']})"
   ]
  },
  {
   "cell_type": "code",
   "execution_count": 52,
   "metadata": {},
   "outputs": [
    {
     "name": "stderr",
     "output_type": "stream",
     "text": [
      "<ipython-input-52-e8a37b919b9f>:2: SettingWithCopyWarning:\n",
      "\n",
      "\n",
      "A value is trying to be set on a copy of a slice from a DataFrame.\n",
      "Try using .loc[row_indexer,col_indexer] = value instead\n",
      "\n",
      "See the caveats in the documentation: https://pandas.pydata.org/pandas-docs/stable/user_guide/indexing.html#returning-a-view-versus-a-copy\n",
      "\n"
     ]
    },
    {
     "data": {
      "text/html": [
       "<div>\n",
       "<style scoped>\n",
       "    .dataframe tbody tr th:only-of-type {\n",
       "        vertical-align: middle;\n",
       "    }\n",
       "\n",
       "    .dataframe tbody tr th {\n",
       "        vertical-align: top;\n",
       "    }\n",
       "\n",
       "    .dataframe thead tr th {\n",
       "        text-align: left;\n",
       "    }\n",
       "\n",
       "    .dataframe thead tr:last-of-type th {\n",
       "        text-align: right;\n",
       "    }\n",
       "</style>\n",
       "<table border=\"1\" class=\"dataframe\">\n",
       "  <thead>\n",
       "    <tr>\n",
       "      <th></th>\n",
       "      <th></th>\n",
       "      <th colspan=\"2\" halign=\"left\">ms</th>\n",
       "    </tr>\n",
       "    <tr>\n",
       "      <th></th>\n",
       "      <th></th>\n",
       "      <th>mean</th>\n",
       "      <th>min</th>\n",
       "    </tr>\n",
       "    <tr>\n",
       "      <th>Driver</th>\n",
       "      <th>Compound</th>\n",
       "      <th></th>\n",
       "      <th></th>\n",
       "    </tr>\n",
       "  </thead>\n",
       "  <tbody>\n",
       "    <tr>\n",
       "      <th rowspan=\"2\" valign=\"top\">ALO</th>\n",
       "      <th>MEDIUM</th>\n",
       "      <td>89441.000000</td>\n",
       "      <td>77149.0</td>\n",
       "    </tr>\n",
       "    <tr>\n",
       "      <th>SOFT</th>\n",
       "      <td>99512.375000</td>\n",
       "      <td>76186.0</td>\n",
       "    </tr>\n",
       "    <tr>\n",
       "      <th>BOT</th>\n",
       "      <th>SOFT</th>\n",
       "      <td>96390.923077</td>\n",
       "      <td>75908.0</td>\n",
       "    </tr>\n",
       "    <tr>\n",
       "      <th rowspan=\"2\" valign=\"top\">GAS</th>\n",
       "      <th>MEDIUM</th>\n",
       "      <td>88630.777778</td>\n",
       "      <td>75890.0</td>\n",
       "    </tr>\n",
       "    <tr>\n",
       "      <th>SOFT</th>\n",
       "      <td>92577.500000</td>\n",
       "      <td>76012.0</td>\n",
       "    </tr>\n",
       "    <tr>\n",
       "      <th rowspan=\"2\" valign=\"top\">GIO</th>\n",
       "      <th>MEDIUM</th>\n",
       "      <td>92757.384615</td>\n",
       "      <td>77052.0</td>\n",
       "    </tr>\n",
       "    <tr>\n",
       "      <th>SOFT</th>\n",
       "      <td>85577.250000</td>\n",
       "      <td>76612.0</td>\n",
       "    </tr>\n",
       "    <tr>\n",
       "      <th>HAM</th>\n",
       "      <th>SOFT</th>\n",
       "      <td>93028.000000</td>\n",
       "      <td>75515.0</td>\n",
       "    </tr>\n",
       "    <tr>\n",
       "      <th>LAT</th>\n",
       "      <th>SOFT</th>\n",
       "      <td>98144.700000</td>\n",
       "      <td>76680.0</td>\n",
       "    </tr>\n",
       "    <tr>\n",
       "      <th rowspan=\"2\" valign=\"top\">LEC</th>\n",
       "      <th>MEDIUM</th>\n",
       "      <td>87870.166667</td>\n",
       "      <td>76332.0</td>\n",
       "    </tr>\n",
       "    <tr>\n",
       "      <th>SOFT</th>\n",
       "      <td>98641.100000</td>\n",
       "      <td>75738.0</td>\n",
       "    </tr>\n",
       "    <tr>\n",
       "      <th>MAZ</th>\n",
       "      <th>SOFT</th>\n",
       "      <td>89938.111111</td>\n",
       "      <td>76793.0</td>\n",
       "    </tr>\n",
       "    <tr>\n",
       "      <th>MSC</th>\n",
       "      <th>SOFT</th>\n",
       "      <td>92900.500000</td>\n",
       "      <td>76448.0</td>\n",
       "    </tr>\n",
       "    <tr>\n",
       "      <th rowspan=\"2\" valign=\"top\">NOR</th>\n",
       "      <th>MEDIUM</th>\n",
       "      <td>97119.625000</td>\n",
       "      <td>76723.0</td>\n",
       "    </tr>\n",
       "    <tr>\n",
       "      <th>SOFT</th>\n",
       "      <td>85530.333333</td>\n",
       "      <td>75414.0</td>\n",
       "    </tr>\n",
       "    <tr>\n",
       "      <th rowspan=\"2\" valign=\"top\">OCO</th>\n",
       "      <th>MEDIUM</th>\n",
       "      <td>88922.666667</td>\n",
       "      <td>77348.0</td>\n",
       "    </tr>\n",
       "    <tr>\n",
       "      <th>SOFT</th>\n",
       "      <td>97525.300000</td>\n",
       "      <td>76228.0</td>\n",
       "    </tr>\n",
       "    <tr>\n",
       "      <th rowspan=\"2\" valign=\"top\">PER</th>\n",
       "      <th>MEDIUM</th>\n",
       "      <td>88896.571429</td>\n",
       "      <td>76414.0</td>\n",
       "    </tr>\n",
       "    <tr>\n",
       "      <th>SOFT</th>\n",
       "      <td>97504.833333</td>\n",
       "      <td>75551.0</td>\n",
       "    </tr>\n",
       "    <tr>\n",
       "      <th rowspan=\"2\" valign=\"top\">RAI</th>\n",
       "      <th>MEDIUM</th>\n",
       "      <td>83406.571429</td>\n",
       "      <td>76949.0</td>\n",
       "    </tr>\n",
       "    <tr>\n",
       "      <th>SOFT</th>\n",
       "      <td>92651.888889</td>\n",
       "      <td>76775.0</td>\n",
       "    </tr>\n",
       "    <tr>\n",
       "      <th rowspan=\"2\" valign=\"top\">RIC</th>\n",
       "      <th>MEDIUM</th>\n",
       "      <td>99429.857143</td>\n",
       "      <td>77298.0</td>\n",
       "    </tr>\n",
       "    <tr>\n",
       "      <th>SOFT</th>\n",
       "      <td>87681.200000</td>\n",
       "      <td>76389.0</td>\n",
       "    </tr>\n",
       "    <tr>\n",
       "      <th>RUS</th>\n",
       "      <th>SOFT</th>\n",
       "      <td>95872.615385</td>\n",
       "      <td>76427.0</td>\n",
       "    </tr>\n",
       "    <tr>\n",
       "      <th rowspan=\"2\" valign=\"top\">SAI</th>\n",
       "      <th>MEDIUM</th>\n",
       "      <td>96903.000000</td>\n",
       "      <td>76901.0</td>\n",
       "    </tr>\n",
       "    <tr>\n",
       "      <th>SOFT</th>\n",
       "      <td>95120.777778</td>\n",
       "      <td>75908.0</td>\n",
       "    </tr>\n",
       "    <tr>\n",
       "      <th rowspan=\"2\" valign=\"top\">STR</th>\n",
       "      <th>MEDIUM</th>\n",
       "      <td>92741.500000</td>\n",
       "      <td>76772.0</td>\n",
       "    </tr>\n",
       "    <tr>\n",
       "      <th>SOFT</th>\n",
       "      <td>98535.833333</td>\n",
       "      <td>76245.0</td>\n",
       "    </tr>\n",
       "    <tr>\n",
       "      <th rowspan=\"2\" valign=\"top\">TSU</th>\n",
       "      <th>MEDIUM</th>\n",
       "      <td>96132.777778</td>\n",
       "      <td>77065.0</td>\n",
       "    </tr>\n",
       "    <tr>\n",
       "      <th>SOFT</th>\n",
       "      <td>92582.500000</td>\n",
       "      <td>76230.0</td>\n",
       "    </tr>\n",
       "    <tr>\n",
       "      <th>VER</th>\n",
       "      <th>SOFT</th>\n",
       "      <td>93783.272727</td>\n",
       "      <td>74958.0</td>\n",
       "    </tr>\n",
       "    <tr>\n",
       "      <th rowspan=\"2\" valign=\"top\">VET</th>\n",
       "      <th>MEDIUM</th>\n",
       "      <td>89070.714286</td>\n",
       "      <td>76790.0</td>\n",
       "    </tr>\n",
       "    <tr>\n",
       "      <th>SOFT</th>\n",
       "      <td>99723.666667</td>\n",
       "      <td>76389.0</td>\n",
       "    </tr>\n",
       "  </tbody>\n",
       "</table>\n",
       "</div>"
      ],
      "text/plain": [
       "                           ms         \n",
       "                         mean      min\n",
       "Driver Compound                       \n",
       "ALO    MEDIUM    89441.000000  77149.0\n",
       "       SOFT      99512.375000  76186.0\n",
       "BOT    SOFT      96390.923077  75908.0\n",
       "GAS    MEDIUM    88630.777778  75890.0\n",
       "       SOFT      92577.500000  76012.0\n",
       "GIO    MEDIUM    92757.384615  77052.0\n",
       "       SOFT      85577.250000  76612.0\n",
       "HAM    SOFT      93028.000000  75515.0\n",
       "LAT    SOFT      98144.700000  76680.0\n",
       "LEC    MEDIUM    87870.166667  76332.0\n",
       "       SOFT      98641.100000  75738.0\n",
       "MAZ    SOFT      89938.111111  76793.0\n",
       "MSC    SOFT      92900.500000  76448.0\n",
       "NOR    MEDIUM    97119.625000  76723.0\n",
       "       SOFT      85530.333333  75414.0\n",
       "OCO    MEDIUM    88922.666667  77348.0\n",
       "       SOFT      97525.300000  76228.0\n",
       "PER    MEDIUM    88896.571429  76414.0\n",
       "       SOFT      97504.833333  75551.0\n",
       "RAI    MEDIUM    83406.571429  76949.0\n",
       "       SOFT      92651.888889  76775.0\n",
       "RIC    MEDIUM    99429.857143  77298.0\n",
       "       SOFT      87681.200000  76389.0\n",
       "RUS    SOFT      95872.615385  76427.0\n",
       "SAI    MEDIUM    96903.000000  76901.0\n",
       "       SOFT      95120.777778  75908.0\n",
       "STR    MEDIUM    92741.500000  76772.0\n",
       "       SOFT      98535.833333  76245.0\n",
       "TSU    MEDIUM    96132.777778  77065.0\n",
       "       SOFT      92582.500000  76230.0\n",
       "VER    SOFT      93783.272727  74958.0\n",
       "VET    MEDIUM    89070.714286  76790.0\n",
       "       SOFT      99723.666667  76389.0"
      ]
     },
     "execution_count": 52,
     "metadata": {},
     "output_type": "execute_result"
    }
   ],
   "source": [
    "# convert lap time to float\n",
    "fp3_clear[\"ms\"] = fp3_clear.LapTime.astype(\"timedelta64[ms]\")\n",
    "\n",
    "fp3_clear.groupby([\"Driver\", \"Compound\"]).agg({\"ms\": ['mean', 'min']})"
   ]
  },
  {
   "cell_type": "code",
   "execution_count": 55,
   "metadata": {},
   "outputs": [
    {
     "data": {
      "text/html": [
       "<div>\n",
       "<style scoped>\n",
       "    .dataframe tbody tr th:only-of-type {\n",
       "        vertical-align: middle;\n",
       "    }\n",
       "\n",
       "    .dataframe tbody tr th {\n",
       "        vertical-align: top;\n",
       "    }\n",
       "\n",
       "    .dataframe thead tr th {\n",
       "        text-align: left;\n",
       "    }\n",
       "\n",
       "    .dataframe thead tr:last-of-type th {\n",
       "        text-align: right;\n",
       "    }\n",
       "</style>\n",
       "<table border=\"1\" class=\"dataframe\">\n",
       "  <thead>\n",
       "    <tr>\n",
       "      <th></th>\n",
       "      <th colspan=\"2\" halign=\"left\">ms</th>\n",
       "    </tr>\n",
       "    <tr>\n",
       "      <th></th>\n",
       "      <th>mean</th>\n",
       "      <th>min</th>\n",
       "    </tr>\n",
       "    <tr>\n",
       "      <th>Compound</th>\n",
       "      <th></th>\n",
       "      <th></th>\n",
       "    </tr>\n",
       "  </thead>\n",
       "  <tbody>\n",
       "    <tr>\n",
       "      <th>HARD</th>\n",
       "      <td>85326.405405</td>\n",
       "      <td>77845.0</td>\n",
       "    </tr>\n",
       "    <tr>\n",
       "      <th>MEDIUM</th>\n",
       "      <td>85529.673077</td>\n",
       "      <td>75551.0</td>\n",
       "    </tr>\n",
       "    <tr>\n",
       "      <th>SOFT</th>\n",
       "      <td>87084.075269</td>\n",
       "      <td>75367.0</td>\n",
       "    </tr>\n",
       "  </tbody>\n",
       "</table>\n",
       "</div>"
      ],
      "text/plain": [
       "                    ms         \n",
       "                  mean      min\n",
       "Compound                       \n",
       "HARD      85326.405405  77845.0\n",
       "MEDIUM    85529.673077  75551.0\n",
       "SOFT      87084.075269  75367.0"
      ]
     },
     "execution_count": 55,
     "metadata": {},
     "output_type": "execute_result"
    }
   ],
   "source": [
    "fp2_clear.groupby([\"Compound\"]).agg({\"ms\": ['mean', 'min']})"
   ]
  },
  {
   "cell_type": "code",
   "execution_count": 45,
   "metadata": {},
   "outputs": [
    {
     "data": {
      "text/plain": [
       "184"
      ]
     },
     "execution_count": 45,
     "metadata": {},
     "output_type": "execute_result"
    }
   ],
   "source": [
    "# hard v medium - 2184 ms slower\n",
    "77845 - 75551\n",
    "# hard v soft - 2368 ms slower\n",
    "77735 - 75367\n",
    "# medium vs soft - 184 ms slower\n",
    "75551 - 75367"
   ]
  },
  {
   "cell_type": "code",
   "execution_count": 56,
   "metadata": {},
   "outputs": [
    {
     "data": {
      "text/html": [
       "<div>\n",
       "<style scoped>\n",
       "    .dataframe tbody tr th:only-of-type {\n",
       "        vertical-align: middle;\n",
       "    }\n",
       "\n",
       "    .dataframe tbody tr th {\n",
       "        vertical-align: top;\n",
       "    }\n",
       "\n",
       "    .dataframe thead tr th {\n",
       "        text-align: left;\n",
       "    }\n",
       "\n",
       "    .dataframe thead tr:last-of-type th {\n",
       "        text-align: right;\n",
       "    }\n",
       "</style>\n",
       "<table border=\"1\" class=\"dataframe\">\n",
       "  <thead>\n",
       "    <tr>\n",
       "      <th></th>\n",
       "      <th colspan=\"2\" halign=\"left\">ms</th>\n",
       "    </tr>\n",
       "    <tr>\n",
       "      <th></th>\n",
       "      <th>mean</th>\n",
       "      <th>min</th>\n",
       "    </tr>\n",
       "    <tr>\n",
       "      <th>Compound</th>\n",
       "      <th></th>\n",
       "      <th></th>\n",
       "    </tr>\n",
       "  </thead>\n",
       "  <tbody>\n",
       "    <tr>\n",
       "      <th>MEDIUM</th>\n",
       "      <td>91814.950000</td>\n",
       "      <td>75890.0</td>\n",
       "    </tr>\n",
       "    <tr>\n",
       "      <th>SOFT</th>\n",
       "      <td>94462.940541</td>\n",
       "      <td>74958.0</td>\n",
       "    </tr>\n",
       "  </tbody>\n",
       "</table>\n",
       "</div>"
      ],
      "text/plain": [
       "                    ms         \n",
       "                  mean      min\n",
       "Compound                       \n",
       "MEDIUM    91814.950000  75890.0\n",
       "SOFT      94462.940541  74958.0"
      ]
     },
     "execution_count": 56,
     "metadata": {},
     "output_type": "execute_result"
    }
   ],
   "source": [
    "fp3_clear.groupby([\"Compound\"]).agg({\"ms\": ['mean', 'min']})"
   ]
  },
  {
   "cell_type": "code",
   "execution_count": 48,
   "metadata": {},
   "outputs": [
    {
     "data": {
      "text/plain": [
       "932"
      ]
     },
     "execution_count": 48,
     "metadata": {},
     "output_type": "execute_result"
    }
   ],
   "source": [
    "# medium vs soft - 932 ms slower\n",
    "75890 - 74958 "
   ]
  },
  {
   "cell_type": "markdown",
   "metadata": {},
   "source": [
    "Using the fastest lap turned in on each compound, I calculated deltas to see how much slower compounds are compared to one another. \n",
    "\n",
    "I used the fastest lap as the practice plans of the teams can throw off the average lap times on each compound. There are many factors that inflate this number such as carrying more fuel, slow laps to recharge the battery, etc. \n",
    "\n",
    "However, by using the fastest lap it can be inferred that the driver was pushing the car to the maximum given the circumstances. \n",
    "\n",
    "I found that the soft compound (C4) was 932 ms or 0.9 seconds faster than the medium (C3) in FP3, which is when all the teams used either of the two compounds. The hard compound (C2) was used by a handful of teams in FP2, and was 2368 ms or 2.368 seconds slower than the soft in that session."
   ]
  },
  {
   "cell_type": "code",
   "execution_count": 78,
   "metadata": {},
   "outputs": [
    {
     "name": "stderr",
     "output_type": "stream",
     "text": [
      "core        WARNING \tErgast API lookup failed. The session is very recent and not yet available or does not exist.\n",
      "core           INFO \tLoading Emilia Romagna Grand Prix - Practice 3\n",
      "api            INFO \tFetching timing data...\n",
      "api            INFO \tParsing timing data...\n",
      "api            INFO \tFetching timing app data...\n",
      "core           INFO \tProcessing timing data...\n",
      "api            INFO \tFetching session status data...\n",
      "api            INFO \tFetching track status data...\n",
      "api            INFO \tFetching car data...\n",
      "api            INFO \tParsing car data...\n",
      "api            INFO \tFetching position data...\n",
      "api            INFO \tParsing position data...\n",
      "core           INFO \tLoaded data for 20 drivers: ['99', '16', '5', '31', '6', '14', '10', '77', '3', '7', '33', '9', '22', '63', '47', '4', '44', '55', '11', '18']\n"
     ]
    }
   ],
   "source": [
    "# using fp3 data compare telemetry from laps on each compound\n",
    "fp3_t = ff1.get_session(2021, 'Imola', 'FP3')\n",
    "fp3_t_laps = fp3_t.load_laps(with_telemetry=True)"
   ]
  },
  {
   "cell_type": "code",
   "execution_count": 83,
   "metadata": {},
   "outputs": [],
   "source": [
    "gas_fp3 = fp3_t_laps[fp3_t_laps[\"Driver\"] == 'GAS']\n",
    "gas_fp3_soft = gas_fp3[gas_fp3[\"Compound\"] == 'SOFT']\n",
    "gas_fp3_med = gas_fp3[gas_fp3[\"Compound\"] == 'MEDIUM']"
   ]
  },
  {
   "cell_type": "code",
   "execution_count": 87,
   "metadata": {},
   "outputs": [
    {
     "data": {
      "image/png": "[encoded data removed]",
      "text/plain": [
       "<Figure size 432x288 with 2 Axes>"
      ]
     },
     "metadata": {},
     "output_type": "display_data"
    }
   ],
   "source": [
    "plotting.setup_mpl()\n",
    "\n",
    "soft = gas_fp3_soft.pick_driver('GAS').pick_fastest()\n",
    "medium = gas_fp3_med.pick_driver('GAS').pick_fastest()\n",
    "\n",
    "delta_time, ref_tel, compare_tel = utils.delta_time(soft, medium)\n",
    "# ham is reference, lec is compare\n",
    "\n",
    "fig, ax = plt.subplots()\n",
    "# use telemetry returned by .delta_time for best accuracy,\n",
    "# this ensure the same applied interpolation and resampling\n",
    "ax.plot(ref_tel['Distance'], ref_tel['Speed'],\n",
    "        color=plotting.TEAM_COLORS[medium['Team']])\n",
    "ax.plot(compare_tel['Distance'], compare_tel['Speed'],\n",
    "        color=plotting.TEAM_COLORS[soft['Team']])\n",
    "\n",
    "twin = ax.twinx()\n",
    "twin.plot(ref_tel['Distance'], delta_time, '--', color=plotting.TEAM_COLORS[soft['Team']])\n",
    "plt.show()"
   ]
  },
  {
   "cell_type": "markdown",
   "metadata": {},
   "source": [
    "I plotted the telemetry of Gasly's fastest laps on the soft and medium compounds in FP3 to see where in the lap he was losing time attributed to each compound. \n",
    "\n",
    "It looks as though time is lost in the first chicaine and entering the heavy braking zone following the second chicaine. Additionally, time is lost coming out of the last two corners before the main straight. \n",
    "\n",
    "This could be areas of the track to watch for, as it could provide insight to degradation."
   ]
  },
  {
   "cell_type": "markdown",
   "metadata": {},
   "source": [
    "## Qualifying"
   ]
  },
  {
   "cell_type": "code",
   "execution_count": 64,
   "metadata": {},
   "outputs": [],
   "source": [
    "# load quali session data\n",
    "quali = ff1.get_session(2021, 'Imola', 'Q')"
   ]
  },
  {
   "cell_type": "code",
   "execution_count": 72,
   "metadata": {},
   "outputs": [
    {
     "name": "stderr",
     "output_type": "stream",
     "text": [
      "core           INFO \tLoading Emilia Romagna Grand Prix - Qualifying\n",
      "api            INFO \tFetching timing data...\n",
      "api            INFO \tParsing timing data...\n",
      "api            INFO \tFetching timing app data...\n",
      "core           INFO \tProcessing timing data...\n",
      "api            INFO \tFetching session status data...\n",
      "api            INFO \tFetching track status data...\n",
      "api            INFO \tFetching car data...\n",
      "api            INFO \tParsing car data...\n",
      "api            INFO \tFetching position data...\n",
      "api            INFO \tParsing position data...\n",
      "core           INFO \tLoaded data for 20 drivers: ['99', '16', '5', '31', '6', '14', '10', '77', '3', '7', '33', '9', '22', '63', '47', '4', '44', '55', '11', '18']\n"
     ]
    },
    {
     "data": {
      "image/png": "[encoded data removed]",
      "text/plain": [
       "<Figure size 432x288 with 2 Axes>"
      ]
     },
     "metadata": {},
     "output_type": "display_data"
    }
   ],
   "source": [
    "from fastf1 import utils\n",
    "from fastf1.livetiming.data import LiveTimingData\n",
    "\n",
    "plotting.setup_mpl()\n",
    "\n",
    "laps = quali.load_laps(with_telemetry=True)\n",
    "bot = laps.pick_driver('BOT').pick_fastest()\n",
    "ham = laps.pick_driver('HAM').pick_fastest()\n",
    "\n",
    "delta_time, ref_tel, compare_tel = utils.delta_time(ham, bot)\n",
    "# ham is reference, lec is compared\n",
    "\n",
    "fig, ax = plt.subplots()\n",
    "# use telemetry returned by .delta_time for best accuracy,\n",
    "# this ensure the same applied interpolation and resampling\n",
    "ax.plot(ref_tel['Distance'], ref_tel['Speed'],\n",
    "        color=plotting.TEAM_COLORS[ham['Team']])\n",
    "ax.plot(compare_tel['Distance'], compare_tel['Speed'],\n",
    "        color=plotting.TEAM_COLORS[bot['Team']])\n",
    "\n",
    "twin = ax.twinx()\n",
    "twin.plot(ref_tel['Distance'], delta_time, '--', color=plotting.TEAM_COLORS[bot['Team']])\n",
    "plt.show()"
   ]
  },
  {
   "cell_type": "markdown",
   "metadata": {},
   "source": [
    "One of the big surprises from qualifying is that Bottas was significantly off pace compared to Lewis, and is starting P8. \n",
    "\n",
    "Looking at the telemetry data from Botas and Lewis, it appears that Botas initially lost time at the first chicaine, and lost significant time coming out of the last couple of corners. The solid lines represent the speed over distance during the lap, and the dashed line shows the relative delta between the two drivers over the distance of the lap. "
   ]
  },
  {
   "cell_type": "code",
   "execution_count": 74,
   "metadata": {},
   "outputs": [
    {
     "data": {
      "image/png": "[encoded data removed]",
      "text/plain": [
       "<Figure size 432x288 with 2 Axes>"
      ]
     },
     "metadata": {},
     "output_type": "display_data"
    }
   ],
   "source": [
    "ver = laps.pick_driver('VER').pick_fastest()\n",
    "per = laps.pick_driver('PER').pick_fastest()\n",
    "\n",
    "delta_time, ref_tel, compare_tel = utils.delta_time(ver, per)\n",
    "# ham is reference, lec is compared\n",
    "\n",
    "fig, ax = plt.subplots()\n",
    "# use telemetry returned by .delta_time for best accuracy,\n",
    "# this ensure the same applied interpolation and resampling\n",
    "ax.plot(ref_tel['Distance'], ref_tel['Speed'],\n",
    "        color=plotting.TEAM_COLORS[ver['Team']])\n",
    "ax.plot(compare_tel['Distance'], compare_tel['Speed'],\n",
    "        color=plotting.TEAM_COLORS[per['Team']])\n",
    "\n",
    "twin = ax.twinx()\n",
    "twin.plot(ref_tel['Distance'], delta_time, '--', color=plotting.TEAM_COLORS[ver['Team']])\n",
    "plt.show()"
   ]
  },
  {
   "cell_type": "markdown",
   "metadata": {},
   "source": [
    "Another surprise was Perez outqualifying Verstappen, who hasn't been outqualified since Daniel Ricciardo was his teammate. After the session Verstappen said he lost time in turn 3, which is backed up by the telemetry data. The delta shoots up near 0.10 seconds around the first chicaine. "
   ]
  },
  {
   "cell_type": "markdown",
   "metadata": {},
   "source": []
  },
  {
   "cell_type": "code",
   "execution_count": null,
   "metadata": {},
   "outputs": [],
   "source": []
  }
 ],
 "metadata": {
  "kernelspec": {
   "display_name": "Python 3",
   "language": "python",
   "name": "python3"
  },
  "language_info": {
   "codemirror_mode": {
    "name": "ipython",
    "version": 3
   },
   "file_extension": ".py",
   "mimetype": "text/x-python",
   "name": "python",
   "nbconvert_exporter": "python",
   "pygments_lexer": "ipython3",
   "version": "3.8.5"
  }
 },
 "nbformat": 4,
 "nbformat_minor": 4
}
