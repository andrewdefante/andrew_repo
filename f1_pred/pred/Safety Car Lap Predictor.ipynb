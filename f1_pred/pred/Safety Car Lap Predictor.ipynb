{
 "cells": [
  {
   "cell_type": "markdown",
   "metadata": {},
   "source": [
    "I will try two methods to predict when a safety car may be deployed and called in during a race to assist with strategy planning. \n",
    "\n",
    "Data from previous grand prix (Up to 3 years) at the circuit will be used to train the model. The model will then be evaluated against 2021's race in order to observe capabilities.\n",
    "\n",
    "The first method will be solely based on when safety cars were deployed during the race. From the fast-F1 package there is a track status column, which contains numerical codes that are associated with different situations that may come up during a race. Based on the laps that were classified as safety car periods, I've attempted to build a model that classifies and predicts when a safety car might come out during the race, and how many to expect.\n",
    "\n",
    "The second method is more granular, and takes more effort in the data organization and planning stage. This model is reliant on traffic, specifically traffic within a sector. Using the session start time, the time a car is in each sector of each lap is recorded. Based on this accumulated time, the number of cars within an arbitrary time window is noted. The model will be trained using this interpolated data, in addition to the column that denote the track status on that lap. "
   ]
  },
  {
   "cell_type": "code",
   "execution_count": null,
   "metadata": {},
   "outputs": [],
   "source": [
    "# load csv\n",
    "\n",
    "# create dataframes with each output variable (yellow flag, safety car deployed)\n"
   ]
  },
  {
   "cell_type": "code",
   "execution_count": null,
   "metadata": {},
   "outputs": [],
   "source": [
    "# load csv\n",
    "\n",
    "# isolate sector time column (each sector)\n",
    "# "
   ]
  },
  {
   "cell_type": "code",
   "execution_count": null,
   "metadata": {},
   "outputs": [],
   "source": [
    "https://stackoverflow.com/questions/15800895/finding-clusters-of-numbers-in-a-list\n",
    "    \n",
    "- how to access list in dictionary\n",
    "- https://stackoverflow.com/questions/53017026/how-can-i-access-list-values-in-a-dictionary\n",
    "\n"
   ]
  }
 ],
 "metadata": {
  "kernelspec": {
   "display_name": "Python 3",
   "language": "python",
   "name": "python3"
  },
  "language_info": {
   "codemirror_mode": {
    "name": "ipython",
    "version": 3
   },
   "file_extension": ".py",
   "mimetype": "text/x-python",
   "name": "python",
   "nbconvert_exporter": "python",
   "pygments_lexer": "ipython3",
   "version": "3.8.5"
  }
 },
 "nbformat": 4,
 "nbformat_minor": 4
}
