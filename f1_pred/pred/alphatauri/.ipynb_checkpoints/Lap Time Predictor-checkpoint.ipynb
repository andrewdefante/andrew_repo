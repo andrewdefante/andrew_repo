{
 "cells": [
  {
   "cell_type": "markdown",
   "metadata": {},
   "source": [
    "# Overview\n",
    "From what I have learned, predicting lap times is a crucial responsibility of a strategist. On top of that, being able to understand what feature inputs are valuable in order to train the best performing model is instrumental in being confident about decision making during a race. The strength of a predictive algorithm lies in the feature inputs. Unfortunately, the current accessible data may not result in the strongest predictor, but nonetheless the thought process remains the same. \n",
    "\n",
    "An important factor to consider during a race weekend is that conditions can constantly change and evolve, both within a session and from one session to another. \n",
    "\n",
    "There are many approaches to performing machine learning regression (using an algorithm that takes feature inputs to predict a numerical value), however selecting the right method is dependent on the granularity and characteristics of the input data avaliable. \n",
    "\n",
    "Here I'll outline two methods of Regression, Multiple Linear Regression and Polynomial Regression to predict lap times and pace during the race. I'll use the data gathered by the team during practice, and validate the model against what actually occurred during the race.\n",
    "\n",
    "Other more involved processes such as using a robust package like XGBoost or other black box algorithms is better suited for much larger datasets. This may be useful when having more data to complement what can be extracted from the API. Data such as fuel load, track/tyre temperatures, track conditions, etc, may be useful inputs for building an XGBoost model. However, due to the limitations of the data collected, the simpler regression model will be used.\n"
   ]
  },
  {
   "cell_type": "markdown",
   "metadata": {},
   "source": [
    "## About Multiple Regression\n",
    "\n",
    "Multiple Regression is based off linear regression, which uses evaluates the relationship between the independent and dependent variable by fitting the \"best fit line\" between them. This \"best fit line\" can be used to predict future values. \n",
    "\n",
    "Multiple regression however, is the practice of taking multiple independent variables to predict a single outcome variable."
   ]
  },
  {
   "cell_type": "code",
   "execution_count": 2,
   "metadata": {},
   "outputs": [],
   "source": [
    "# load packages\n",
    "import numpy as np\n",
    "import pandas as pd\n",
    "from sklearn import linear_model\n",
    "from sklearn.linear_model import LinearRegression\n",
    "from sklearn.metrics import mean_squared_error\n",
    "import plotly.express as px\n",
    "from sklearn.preprocessing import PolynomialFeatures\n",
    "import matplotlib.pyplot as plt\n",
    "import scipy.interpolate as interp"
   ]
  },
  {
   "cell_type": "markdown",
   "metadata": {},
   "source": [
    "Similar to my other data cleaning procedures, I've used SQLite to clean and organize the data from all that was returned from the API.\n",
    "\n",
    "I have also isolated data collected by the team."
   ]
  },
  {
   "cell_type": "code",
   "execution_count": 23,
   "metadata": {},
   "outputs": [],
   "source": [
    "# load all practice sessions from bahrain-21 ++ np times removed\n",
    "df = pd.read_csv('gp_2021_lap_sector_times_deltas.csv')\n",
    "# data specific to team\n",
    "df = df[df[\"Team\"] == 'AlphaTauri']\n",
    "df = df[df[\"gp\"] == 'Bahrain Grand Prix']\n",
    "df = df[df[\"session\"] == 'FP2']\n",
    "df = df[df['track_clear'] == 'yes']\n",
    "df = df[df['LapNumber'] > 12]\n",
    "df = df[df.PitInTime.isnull()]\n",
    "df = df[df.PitOutTime.isnull()]"
   ]
  },
  {
   "cell_type": "code",
   "execution_count": 24,
   "metadata": {},
   "outputs": [
    {
     "data": {
      "text/html": [
       "<div>\n",
       "<style scoped>\n",
       "    .dataframe tbody tr th:only-of-type {\n",
       "        vertical-align: middle;\n",
       "    }\n",
       "\n",
       "    .dataframe tbody tr th {\n",
       "        vertical-align: top;\n",
       "    }\n",
       "\n",
       "    .dataframe thead th {\n",
       "        text-align: right;\n",
       "    }\n",
       "</style>\n",
       "<table border=\"1\" class=\"dataframe\">\n",
       "  <thead>\n",
       "    <tr style=\"text-align: right;\">\n",
       "      <th></th>\n",
       "      <th>Tyre_MEDIUM</th>\n",
       "      <th>Tyre_SOFT</th>\n",
       "      <th>TyreLife</th>\n",
       "      <th>LapTime</th>\n",
       "    </tr>\n",
       "  </thead>\n",
       "  <tbody>\n",
       "    <tr>\n",
       "      <th>1336</th>\n",
       "      <td>0</td>\n",
       "      <td>1</td>\n",
       "      <td>9.0</td>\n",
       "      <td>97.170</td>\n",
       "    </tr>\n",
       "    <tr>\n",
       "      <th>1344</th>\n",
       "      <td>0</td>\n",
       "      <td>1</td>\n",
       "      <td>10.0</td>\n",
       "      <td>97.494</td>\n",
       "    </tr>\n",
       "    <tr>\n",
       "      <th>1353</th>\n",
       "      <td>0</td>\n",
       "      <td>1</td>\n",
       "      <td>11.0</td>\n",
       "      <td>98.572</td>\n",
       "    </tr>\n",
       "    <tr>\n",
       "      <th>1363</th>\n",
       "      <td>0</td>\n",
       "      <td>1</td>\n",
       "      <td>12.0</td>\n",
       "      <td>98.647</td>\n",
       "    </tr>\n",
       "    <tr>\n",
       "      <th>1372</th>\n",
       "      <td>0</td>\n",
       "      <td>1</td>\n",
       "      <td>13.0</td>\n",
       "      <td>98.635</td>\n",
       "    </tr>\n",
       "  </tbody>\n",
       "</table>\n",
       "</div>"
      ],
      "text/plain": [
       "      Tyre_MEDIUM  Tyre_SOFT  TyreLife  LapTime\n",
       "1336            0          1       9.0   97.170\n",
       "1344            0          1      10.0   97.494\n",
       "1353            0          1      11.0   98.572\n",
       "1363            0          1      12.0   98.647\n",
       "1372            0          1      13.0   98.635"
      ]
     },
     "execution_count": 24,
     "metadata": {},
     "output_type": "execute_result"
    }
   ],
   "source": [
    "# isolate columns to be used for model\n",
    "df = df[[\"Tyre\",\"TyreLife\",\"LapTime\"]]\n",
    "df = pd.get_dummies(df, columns=[\"Tyre\"])\n",
    "df = df[[ \"Tyre_MEDIUM\", \"Tyre_SOFT\", \"TyreLife\",\"LapTime\"]]\n",
    "df.head()"
   ]
  },
  {
   "cell_type": "code",
   "execution_count": 25,
   "metadata": {},
   "outputs": [
    {
     "data": {
      "text/plain": [
       "False"
      ]
     },
     "execution_count": 25,
     "metadata": {},
     "output_type": "execute_result"
    }
   ],
   "source": [
    "# check if any null values present\n",
    "df.isnull().values.any()"
   ]
  },
  {
   "cell_type": "code",
   "execution_count": 26,
   "metadata": {},
   "outputs": [],
   "source": [
    "# split data, predictors and target variable\n",
    "X = df[[\"Tyre_MEDIUM\", \"Tyre_SOFT\", \"TyreLife\"]]\n",
    "y = df[[\"LapTime\"]]"
   ]
  },
  {
   "cell_type": "code",
   "execution_count": 27,
   "metadata": {},
   "outputs": [
    {
     "data": {
      "text/plain": [
       "LinearRegression()"
      ]
     },
     "execution_count": 27,
     "metadata": {},
     "output_type": "execute_result"
    }
   ],
   "source": [
    "regr = linear_model.LinearRegression()\n",
    "regr.fit(X, y)"
   ]
  },
  {
   "cell_type": "code",
   "execution_count": 28,
   "metadata": {},
   "outputs": [],
   "source": [
    "# Predicted Lap time for lap 5 on hard tire is 102.65 seconds\n",
    "# Predicted Lap time for lap 5 on medium tire is 102.49 seconds\n",
    "# Predicted Lap time for lap 5 on soft tire is 97.73 seconds\n",
    "predicted_lt_m = regr.predict([[1,0,5]])\n",
    "predicted_lt_s = regr.predict([[0,1,5]])"
   ]
  },
  {
   "cell_type": "markdown",
   "metadata": {},
   "source": [
    "I fit the model on the dataset, and have generated lap time predictions for each compound.\n",
    "\n",
    "The predict function takes an array of the same dimensions as the data that was trained. \n",
    "\n",
    "This format is the following = [tyre_hard == (0 = no, 1 = yes), tyre_medium == (0 = no, 1 = yes), tyre_soft == (0 = no, 1 = yes), tyrelife = (unit = laps)]"
   ]
  },
  {
   "cell_type": "code",
   "execution_count": 29,
   "metadata": {},
   "outputs": [
    {
     "name": "stdout",
     "output_type": "stream",
     "text": [
      "[[-0.95056292]]\n"
     ]
    }
   ],
   "source": [
    "# delta between hard and soft tire\n",
    "diff_ms = predicted_lt_m - predicted_lt_s\n",
    "print(diff_ms)"
   ]
  },
  {
   "cell_type": "markdown",
   "metadata": {},
   "source": [
    "The predicted time deltas between each compound is:\n",
    "- Medium and soft = 0.95 seconds\n",
    "\n",
    "While the lap times may look inaccurate, it is largely in part due to the data collected during practice. Most notably, fuel load is unknown. Addtionally, no laps were completed on the Hard tyre during practice. It would be interesting to see what data was avaliable that supported this decision, perhaps enough data was collected during pre-season testing to justify only running the Medium and Soft during practice. However, I'm hoping this can outline my thought process on how to interpolate practice data to predict the lap times during the race. I believe it is crucial to use the evolving data from the race as those conditions may be unique to that session. \n",
    "\n"
   ]
  },
  {
   "cell_type": "code",
   "execution_count": 30,
   "metadata": {},
   "outputs": [
    {
     "name": "stdout",
     "output_type": "stream",
     "text": [
      "[[0.99018076]]\n"
     ]
    }
   ],
   "source": [
    "# multiplier between medium and soft tire\n",
    "mult_ms = predicted_lt_m/predicted_lt_s\n",
    "print(mult_ms)"
   ]
  },
  {
   "cell_type": "markdown",
   "metadata": {},
   "source": [
    "In addition to calculating the difference, I also calculated the factor of how much quicker/slower each tire is compared to another compound. For example, at lap 5 of a stint, the soft tyre is actually 0.99 times slower than the medium compound at that point in the tyre's lifespan."
   ]
  },
  {
   "cell_type": "markdown",
   "metadata": {},
   "source": [
    "## Loading Race Data"
   ]
  },
  {
   "cell_type": "markdown",
   "metadata": {},
   "source": [
    "According to the dashboard and data, both AlphaTauri cars started on the medium compound, targeting a longer first stint after getting out of Q1. Coupling this data with what was found by predicting safety car laps, a safety car was likely to come out at the start of the race. Fitting the Medium compound would allow both Gasly and Tsunoda to extend their stints by the number of laps covered by the safety car. Unfortunately, Gasly was caught up in one of the early stage incidents, having to fit the Hard compound and deal with possible damage to try and recover track position. "
   ]
  },
  {
   "cell_type": "code",
   "execution_count": 69,
   "metadata": {},
   "outputs": [],
   "source": [
    "race_at = pd.read_csv('gp_2021_lap_sector_times_deltas.csv')\n",
    "race_at = race_at[race_at['Team'] == 'AlphaTauri']\n",
    "race_at = race_at[race_at[\"gp\"] == 'Bahrain Grand Prix']\n",
    "race_at = race_at[race_at[\"session\"] == 'R']"
   ]
  },
  {
   "cell_type": "markdown",
   "metadata": {},
   "source": [
    "Gasly's incident prompted the first tyre selection decision that needed to be made in the race. The team elected to fit the Hard compound, given that 9 cars of the field started on the Soft and were expected to pit soon. Fitting the Hard tyre would hopefully result in a longer stint and cover the time lost as the race progressed. \n",
    "\n",
    "However, what if the team decided to fit the Soft? By equiping Gasly with the fastest tyre compound, it would give him the opportunity to gain places in the early stages of the race. Then towards the end of the first wave of pit stops, equip the Medium like most of the field fulfilling the two-compound rule during the race. \n",
    "\n",
    "The model below shows that equiping the Soft would allow Gasly to race at a very strong pace, but only for a shorter duration of 10 laps before the lap time delta from his outlap would start to exponentially increase. This would've been an interesting alternative strategy as this would've allowed him to use the rest of the race to without having to fit the slower Hard compound during the race."
   ]
  },
  {
   "cell_type": "markdown",
   "metadata": {},
   "source": [
    "## Pace Management\n",
    "\n",
    "During a race it is important for the drivers to manage their tyres in order to maintain consistent pace, and have enough life in them if they need to attack or defend for a position. \n",
    "\n",
    "If a driver uses to much of the tyre's life early on in the stint, their stint could be cut short due to a drop in pace, and they'll have to come in for another stop sooner than anticipated. \n",
    "\n",
    "Managing pace is up to the driver, and tyre management a certain skill that can put them in better situations to place higher in the race. \n",
    "\n",
    "Looking retrospectively at the data, drivers may have different approaches to tyre management. The stint starts with a crucial outlap, of which the driver puts in their best lap on the tyres as they have the most life. From there they can maintain consistent pace through the duration of the stint, or alternate between push laps and slower laps, perhaps charging their power unit in concordance with those slower laps. \n",
    "\n",
    "In order to quantify this, I've plotted the time delta from each lap from each stint's out lap. Additionally, I've plotted the time deltas from each lap, and the lap immediately preceeding it. This gives a sense of how the driver's pace is fluctuating lap by lap. "
   ]
  },
  {
   "cell_type": "code",
   "execution_count": 120,
   "metadata": {},
   "outputs": [
    {
     "ename": "NameError",
     "evalue": "name 'race_at' is not defined",
     "output_type": "error",
     "traceback": [
      "\u001b[1;31m---------------------------------------------------------------------------\u001b[0m",
      "\u001b[1;31mNameError\u001b[0m                                 Traceback (most recent call last)",
      "\u001b[1;32m<ipython-input-120-2fd87f45f3fa>\u001b[0m in \u001b[0;36m<module>\u001b[1;34m\u001b[0m\n\u001b[1;32m----> 1\u001b[1;33m \u001b[0mfig\u001b[0m \u001b[1;33m=\u001b[0m \u001b[0mpx\u001b[0m\u001b[1;33m.\u001b[0m\u001b[0mline\u001b[0m\u001b[1;33m(\u001b[0m\u001b[0mrace_at\u001b[0m\u001b[1;33m,\u001b[0m \u001b[0mx\u001b[0m\u001b[1;33m=\u001b[0m\u001b[1;34m\"LapNumber\"\u001b[0m\u001b[1;33m,\u001b[0m \u001b[0my\u001b[0m\u001b[1;33m=\u001b[0m\u001b[1;34m\"OL_delta\"\u001b[0m\u001b[1;33m,\u001b[0m \u001b[0mcolor\u001b[0m\u001b[1;33m=\u001b[0m\u001b[1;34m'Driver'\u001b[0m\u001b[1;33m,\u001b[0m \u001b[0mtitle\u001b[0m \u001b[1;33m=\u001b[0m \u001b[1;34m'Out Lap Delta Over Laps'\u001b[0m\u001b[1;33m)\u001b[0m\u001b[1;33m\u001b[0m\u001b[1;33m\u001b[0m\u001b[0m\n\u001b[0m\u001b[0;32m      2\u001b[0m \u001b[0mfig\u001b[0m\u001b[1;33m.\u001b[0m\u001b[0mshow\u001b[0m\u001b[1;33m(\u001b[0m\u001b[1;33m)\u001b[0m\u001b[1;33m\u001b[0m\u001b[1;33m\u001b[0m\u001b[0m\n",
      "\u001b[1;31mNameError\u001b[0m: name 'race_at' is not defined"
     ]
    }
   ],
   "source": [
    "fig = px.line(race_at, x=\"LapNumber\", y=\"OL_delta\", color='Driver', title = 'Out Lap Delta Over Laps')\n",
    "fig.show()"
   ]
  },
  {
   "cell_type": "code",
   "execution_count": null,
   "metadata": {},
   "outputs": [],
   "source": [
    "fig2 = px.line(race_at, x=\"LapNumber\", y=\"LL_delta\", color='Driver', title = 'Last Lap Delta Over Laps')\n",
    "fig2.show()"
   ]
  },
  {
   "cell_type": "markdown",
   "metadata": {},
   "source": [
    "## About Polynomial Regression\n",
    "\n",
    "Similar to Linear and Linear Multiple Regression, Polynomial Regression evaluates the relationship and the strength of that relationship between an independent and dependent variable. However rather than fitting a 'best-fit' line, polynomial regression applies a 'best-fit' curve.\n",
    "\n",
    "Polynomial regression is useful when the values are not linear. \n",
    "\n",
    "After observing the lap times from the Bahrain Grand Prix, I noticed that when looking at the delta from each stint's outlap over the laps of the stint, the curve resembled that of a wave. Drivers would push for a lap, then back off. The amplitude of this pattern varied amongst the drivers, with some remaining more consistent while others being more aggressive. \n",
    "\n",
    "With this in mind, I thought it might be useful to plot the Out Lap Delta against Tyre Life and fit a polynomial regression curve, to observe and predict how long a stint could be extend on each given compound. "
   ]
  },
  {
   "cell_type": "markdown",
   "metadata": {},
   "source": [
    "I'll use the data collected from FP2, when most teams did longer runs on the tyre sets. AlphaTauri in particular, used the Soft and Medium compounds for extended stints. \n",
    "\n",
    "Ideally, the model would be tuned to the AlphaTauri cars specifically. However due to the lack of car specific features to use as inputs, I'll use the data collected by the rest of the teams to build the model.  "
   ]
  },
  {
   "cell_type": "code",
   "execution_count": 3,
   "metadata": {},
   "outputs": [],
   "source": [
    "## Polynomial Regression \n",
    "pr_at = pd.read_csv('gp_2021_lap_sector_times_deltas.csv')\n",
    "pr_at = pr_at[pr_at[\"gp\"] == 'Bahrain Grand Prix']\n",
    "pr_at = pr_at[pr_at[\"session\"] == 'FP2']\n",
    "pr_at = pr_at[pr_at['track_clear'] == 'yes']\n",
    "pr_at = pr_at[pr_at['LapNumber'] > 12]\n",
    "pr_at = pr_at[pr_at.PitInTime.isnull()]\n",
    "pr_at = pr_at[pr_at.PitOutTime.isnull()]\n",
    "#pr_at = pr_at.dropna(subset=['PitInTime', 'PitOutTime'])\n",
    "\n",
    "pr_med = pr_at[pr_at['Compound'] == 'MEDIUM']\n",
    "pr_soft = pr_at[pr_at['Compound'] == 'SOFT']\n",
    "pr_hard = pr_at[pr_at['Compound'] == 'HARD']"
   ]
  },
  {
   "cell_type": "code",
   "execution_count": 4,
   "metadata": {},
   "outputs": [],
   "source": [
    "pr_med = pr_med.dropna(subset=['TyreLife', 'OL_LapTime', 'OL_delta'])\n",
    "pr_soft = pr_soft.dropna(subset=['TyreLife', 'OL_LapTime', 'OL_delta'])\n",
    "pr_hard = pr_hard.dropna(subset=['TyreLife', 'OL_LapTime', 'OL_delta'])"
   ]
  },
  {
   "cell_type": "code",
   "execution_count": 78,
   "metadata": {},
   "outputs": [],
   "source": [
    "pd.set_option('display.max_rows', None)\n",
    "pd.set_option('display.max_columns', None)"
   ]
  },
  {
   "cell_type": "markdown",
   "metadata": {},
   "source": [
    "Determining the target outlap time would be decided by the team and driver. Based on outlaps performed during the practice sessions, and analyzing the tyre compounds and wear after the session, the appropriate outlap target should be feasible to determine. Then the its up to the driver to manage the deltas in the race. "
   ]
  },
  {
   "cell_type": "code",
   "execution_count": 5,
   "metadata": {},
   "outputs": [],
   "source": [
    "#long stint on medium\n",
    "pr_med.head()\n",
    "X_med = pr_med[\"TyreLife\"]\n",
    "y_med = pr_med[\"OL_delta\"]\n",
    "\n",
    "x = X_med\n",
    "y = y_med"
   ]
  },
  {
   "cell_type": "code",
   "execution_count": 7,
   "metadata": {},
   "outputs": [
    {
     "data": {
      "image/png": "[encoded data removed]",
      "text/plain": [
       "<Figure size 432x288 with 1 Axes>"
      ]
     },
     "metadata": {
      "needs_background": "light"
     },
     "output_type": "display_data"
    }
   ],
   "source": [
    "z = np.polyfit(x, y, 3)\n",
    "\n",
    "p = np.poly1d(z)\n",
    "\n",
    "xp = np.linspace(x.min(), x.max(), 100)\n",
    "plt.ylabel(\"Delta from Out Lap (s)\")\n",
    "plt.xlabel(\"Tyre Life - Laps\")\n",
    "plt.title(\"Medium Compound\")\n",
    "plt.plot(x, y, '.', xp, p(xp), '-')\n",
    "plt.show()"
   ]
  },
  {
   "cell_type": "code",
   "execution_count": 9,
   "metadata": {},
   "outputs": [],
   "source": [
    "pr_soft.head()\n",
    "X_soft = pr_soft[\"TyreLife\"]\n",
    "y_soft = pr_soft[\"OL_delta\"]\n",
    "\n",
    "xs = X_soft\n",
    "ys = y_soft"
   ]
  },
  {
   "cell_type": "code",
   "execution_count": 10,
   "metadata": {},
   "outputs": [
    {
     "data": {
      "image/png": "[encoded data removed]",
      "text/plain": [
       "<Figure size 432x288 with 1 Axes>"
      ]
     },
     "metadata": {
      "needs_background": "light"
     },
     "output_type": "display_data"
    }
   ],
   "source": [
    "zs = np.polyfit(xs, ys, 3)\n",
    "\n",
    "ps = np.poly1d(zs)\n",
    "\n",
    "xps = np.linspace(xs.min(), xs.max(), 100)\n",
    "plt.ylabel(\"Delta from Out Lap (s)\")\n",
    "plt.xlabel(\"Tyre Life - Laps\")\n",
    "plt.title(\"Soft Compound\")\n",
    "plt.plot(xs, ys, '.', xps, ps(xps), '-')\n",
    "plt.show()"
   ]
  },
  {
   "cell_type": "code",
   "execution_count": 11,
   "metadata": {},
   "outputs": [],
   "source": [
    "#long stint on medium\n",
    "pr_hard.head()\n",
    "X_hard = pr_hard[\"TyreLife\"]\n",
    "y_hard = pr_hard[\"OL_delta\"]\n",
    "\n",
    "xh = X_hard\n",
    "yh = y_hard"
   ]
  },
  {
   "cell_type": "code",
   "execution_count": 12,
   "metadata": {},
   "outputs": [
    {
     "data": {
      "image/png": "[encoded data removed]",
      "text/plain": [
       "<Figure size 432x288 with 1 Axes>"
      ]
     },
     "metadata": {
      "needs_background": "light"
     },
     "output_type": "display_data"
    }
   ],
   "source": [
    "zh = np.polyfit(xh, yh, 3)\n",
    "\n",
    "ph = np.poly1d(zh)\n",
    "\n",
    "xph = np.linspace(xh.min(), xh.max(), 100)\n",
    "plt.ylabel(\"Delta from Out Lap (s)\")\n",
    "plt.xlabel(\"Tyre Life - Laps\")\n",
    "plt.title(\"Hard Compound\")\n",
    "plt.plot(xh, yh, '.', xph, ph(xph), '-')\n",
    "plt.show()"
   ]
  },
  {
   "cell_type": "markdown",
   "metadata": {},
   "source": [
    "The observed curves show that by Lap 16 of the tyre's life, the Soft's delta from the out lap is higher than than the Medium's delta from the out lap. "
   ]
  },
  {
   "cell_type": "code",
   "execution_count": 21,
   "metadata": {},
   "outputs": [
    {
     "data": {
      "text/plain": [
       "([1.288827579015284, -0.1612647950524395, -1.0750182939169655],\n",
       " [0.6368011708440382, -0.2713822228647813, 0.45022447365517815],\n",
       " [0.9286567730475581, 0.842573555314984, 1.721572090510173],\n",
       " [1.0517592447175836, 0.3977908239919006, 1.2996685984031446])"
      ]
     },
     "execution_count": 21,
     "metadata": {},
     "output_type": "execute_result"
    }
   ],
   "source": [
    "# making predictions from generated models\n",
    "\n",
    "# 5 Laps\n",
    "# hard tyre\n",
    "hard5 = ph(5)\n",
    "# medium tyre\n",
    "medium5 = p(5)\n",
    "# soft tyre\n",
    "soft5= ps(5)\n",
    "\n",
    "# 10 Laps\n",
    "# hard tyre\n",
    "hard10 = ph(10)\n",
    "# medium tyre\n",
    "medium10 = p(10)\n",
    "# soft tyre\n",
    "soft10 = ps(10)\n",
    "\n",
    "# 15 Laps\n",
    "# hard tyre\n",
    "hard15 = ph(15)\n",
    "# medium tyre\n",
    "medium15 = p(15)\n",
    "# soft tyre\n",
    "soft15 = ps(15)\n",
    "\n",
    "# 20 Laps\n",
    "# hard tyre\n",
    "hard20 = ph(20)\n",
    "# medium tyre\n",
    "medium20 = p(20)\n",
    "# soft tyre\n",
    "soft20 = ps(20)\n",
    "\n",
    "delt_df = (\n",
    "    [hard5, medium5, soft5],\n",
    "    [hard10, medium10, soft10], \n",
    "      [hard15, medium15, soft15], \n",
    "      [hard20, medium20, soft20])\n",
    "\n",
    "delt_df"
   ]
  },
  {
   "cell_type": "markdown",
   "metadata": {},
   "source": [
    "Based on these predictions, the Medium tyre looks to be the compound that performs for stints targeting the 15-20 lap range (two-stop strategy). \n",
    "\n",
    "Based on the limited data from the Hard tyre, laptimes closer to the outlap are predicted around the 10 lap mark, but at this point it is 0.63 seconds off pace. The tyre then degrades and laptimes 0.92 seconds off outlap pace are predicted at the 15 lap mark of the tyre's life.\n",
    "\n",
    "The Medium compound looks to be the best performing compound, as predicted pace is 0.27 seconds quicker than the outlap at lap 10 of the tyre's life. By lap 15, the predicted delta is 0.84 seconds, but by lap 20, lap times 0.39 seconds slower than the out lap are predicted.\n",
    "\n",
    "The Soft compound degrades quickly. By lap 10 the predicted delta from the out lap is 0.45 seconds. At 15 laps the predicted delta jumps up to 1.7 seconds, before decreasing to 1.29 seconds at lap 20 of the stint. "
   ]
  },
  {
   "cell_type": "code",
   "execution_count": 22,
   "metadata": {},
   "outputs": [
    {
     "data": {
      "text/html": [
       "<div>\n",
       "<style scoped>\n",
       "    .dataframe tbody tr th:only-of-type {\n",
       "        vertical-align: middle;\n",
       "    }\n",
       "\n",
       "    .dataframe tbody tr th {\n",
       "        vertical-align: top;\n",
       "    }\n",
       "\n",
       "    .dataframe thead th {\n",
       "        text-align: right;\n",
       "    }\n",
       "</style>\n",
       "<table border=\"1\" class=\"dataframe\">\n",
       "  <thead>\n",
       "    <tr style=\"text-align: right;\">\n",
       "      <th></th>\n",
       "      <th>Hard</th>\n",
       "      <th>Medium</th>\n",
       "      <th>Soft</th>\n",
       "    </tr>\n",
       "  </thead>\n",
       "  <tbody>\n",
       "    <tr>\n",
       "      <th>5 Laps</th>\n",
       "      <td>1.288828</td>\n",
       "      <td>-0.161265</td>\n",
       "      <td>-1.075018</td>\n",
       "    </tr>\n",
       "    <tr>\n",
       "      <th>10 Laps</th>\n",
       "      <td>0.636801</td>\n",
       "      <td>-0.271382</td>\n",
       "      <td>0.450224</td>\n",
       "    </tr>\n",
       "    <tr>\n",
       "      <th>15 Laps</th>\n",
       "      <td>0.928657</td>\n",
       "      <td>0.842574</td>\n",
       "      <td>1.721572</td>\n",
       "    </tr>\n",
       "    <tr>\n",
       "      <th>20 Laps</th>\n",
       "      <td>1.051759</td>\n",
       "      <td>0.397791</td>\n",
       "      <td>1.299669</td>\n",
       "    </tr>\n",
       "  </tbody>\n",
       "</table>\n",
       "</div>"
      ],
      "text/plain": [
       "             Hard    Medium      Soft\n",
       "5 Laps   1.288828 -0.161265 -1.075018\n",
       "10 Laps  0.636801 -0.271382  0.450224\n",
       "15 Laps  0.928657  0.842574  1.721572\n",
       "20 Laps  1.051759  0.397791  1.299669"
      ]
     },
     "execution_count": 22,
     "metadata": {},
     "output_type": "execute_result"
    }
   ],
   "source": [
    "delt_df = pd.DataFrame(data=delt_df, index=[\"5 Laps\", \"10 Laps\", \"15 Laps\", \"20 Laps\"], columns=[\"Hard\", \"Medium\", \"Soft\"])\n",
    "delt_df"
   ]
  },
  {
   "cell_type": "markdown",
   "metadata": {},
   "source": [
    "Looking specifically at Gasly's early race incident, it would be reasonable to project that the first stint on the Medium would be targeted to last ~18-20 laps depending on how other team's reacted. \n",
    "\n",
    "Gasly's first stop took a total of 38.33 seconds (from pit entry to exit), meaning he was 38.33 seconds behind planned pace. \n",
    "\n",
    "If Gasly equipped the Soft on Lap 5 instead of the Hard, and ran the stop until lap 15 (compared to running the Hard until Lap 19)...  "
   ]
  },
  {
   "cell_type": "code",
   "execution_count": 61,
   "metadata": {},
   "outputs": [
    {
     "data": {
      "text/plain": [
       "2063     96.677\n",
       "2073     96.954\n",
       "2082     97.424\n",
       "2091     97.030\n",
       "2101     97.375\n",
       "2111     97.517\n",
       "2121     98.054\n",
       "2131     97.874\n",
       "2140     98.302\n",
       "2149     98.001\n",
       "2158     97.993\n",
       "2167     98.415\n",
       "2176     99.272\n",
       "2185    100.838\n",
       "2194    119.290\n",
       "Name: LapTime, dtype: float64"
      ]
     },
     "execution_count": 61,
     "metadata": {},
     "output_type": "execute_result"
    }
   ],
   "source": [
    "# using lap time predictor model from above to predict outlap\n",
    "predicted_lt_s_out_lap = regr.predict([[0,1,1]])\n",
    "\n",
    "s1 = predicted_lt_s_out_lap\n",
    "s2 = predicted_lt_s_out_lap + ps(2)\n",
    "s3 = predicted_lt_s_out_lap + ps(3)\n",
    "s4 = predicted_lt_s_out_lap + ps(4)\n",
    "s5 = predicted_lt_s_out_lap + ps(5)\n",
    "s6 = predicted_lt_s_out_lap + ps(6)\n",
    "s7 = predicted_lt_s_out_lap + ps(7)\n",
    "s8 = predicted_lt_s_out_lap + ps(8)\n",
    "s9 = predicted_lt_s_out_lap + ps(9)\n",
    "s10 = predicted_lt_s_out_lap + ps(10)\n",
    "stop = 24.33\n",
    "predicted_lt_m_out_lap = regr.predict([[1,0,1]]) # medium out lap time\n",
    "m1 = predicted_lt_m_out_lap \n",
    "m2 = predicted_lt_m_out_lap + p(2)\n",
    "m3 = predicted_lt_m_out_lap + p(3)\n",
    "m4 = predicted_lt_m_out_lap + p(4)\n",
    "m5 = predicted_lt_m_out_lap + p(5)\n",
    "\n",
    "proj = [s1 + s2 + s3 + s4 + s5 + s6 + s7 + s8 + s9 + s10 + stop + m1 + m2 +  m3 + m4 + m5]\n",
    "\n",
    "actual = pd.read_csv('gp_2021_lap_sector_times_deltas.csv')\n",
    "actual = actual[actual[\"gp\"] == 'Bahrain Grand Prix']\n",
    "actual = actual[actual[\"session\"] == 'R']\n",
    "actual = actual[actual['LapNumber'] > 5]\n",
    "actual = actual[actual['LapNumber'] < 21]\n",
    "actual = actual[actual['Driver'] == 'GAS']\n",
    "actual = actual[\"LapTime\"]\n",
    "actual"
   ]
  },
  {
   "cell_type": "code",
   "execution_count": 62,
   "metadata": {},
   "outputs": [
    {
     "name": "stdout",
     "output_type": "stream",
     "text": [
      "[[1450.42450395]] 1491.01600011\n"
     ]
    }
   ],
   "source": [
    "# same 15 lap span\n",
    "#Projected total time laps 5-20 = \n",
    "proj = sum(proj)\n",
    "#Actual total time laps 5-20 = \n",
    "actual = sum(actual)\n",
    "print(proj, actual)"
   ]
  },
  {
   "cell_type": "code",
   "execution_count": 64,
   "metadata": {},
   "outputs": [
    {
     "data": {
      "text/plain": [
       "array([[-40.59149616]])"
      ]
     },
     "execution_count": 64,
     "metadata": {},
     "output_type": "execute_result"
    }
   ],
   "source": [
    "model_delta = proj - actual\n",
    "model_delta"
   ]
  },
  {
   "cell_type": "markdown",
   "metadata": {},
   "source": [
    "## Results\n",
    "\n",
    "According to the results from the model, covering the same lap span from laps 6-21, if Gasly fitted the soft he would've been 40 seconds than where he was observed during the race. This would've put him behind his teammate Tsunoda at lap 21, running in 15th.\n",
    "\n"
   ]
  },
  {
   "cell_type": "code",
   "execution_count": null,
   "metadata": {},
   "outputs": [],
   "source": []
  }
 ],
 "metadata": {
  "kernelspec": {
   "display_name": "Python 3",
   "language": "python",
   "name": "python3"
  },
  "language_info": {
   "codemirror_mode": {
    "name": "ipython",
    "version": 3
   },
   "file_extension": ".py",
   "mimetype": "text/x-python",
   "name": "python",
   "nbconvert_exporter": "python",
   "pygments_lexer": "ipython3",
   "version": "3.8.5"
  }
 },
 "nbformat": 4,
 "nbformat_minor": 4
}
