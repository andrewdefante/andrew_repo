{
 "cells": [
  {
   "cell_type": "markdown",
   "metadata": {},
   "source": [
    "# Overview\n",
    "From what I have learned, predicting lap times is a crucial responsibility of a strategist. On top of that, being able to understand what feature inputs are valuable in order to train the best performing model is instrumental in being confident about decision making during a race. \n",
    "\n",
    "An important factor to consider during a race weekend is that conditions can constantly change and evolve, both within a session and from one session to another. \n",
    "\n",
    "There are many approaches to performing machine learning regression (using an algorithm that takes feature inputs to predict a numerical value), however selecting the right method is dependent on the granularity and characteristics of the input data avaliable. For this example, I'll be using a simple Multiple Regression model taking the Tyre Life and Tyre Compound to predict the lap times during the race. I'll use the data gathered by the team during practice, and validate the model against what actually occurred during the race.\n",
    "\n",
    "Other more involved processes such as using a robust package like XGBoost or other black box algorithms is better suited for much larger datasets. This may be useful when having more data to complement what can be extracted from the API. Data such as fuel load, track/tyre temperatures, track conditions, etc, may be useful inputs for building an XGBoost model. However, due to the limitations of the data collected, the simpler regression model will be used.\n"
   ]
  },
  {
   "cell_type": "markdown",
   "metadata": {},
   "source": [
    "## About Multiple Regression\n",
    "\n",
    "Multiple Regression is based off linear regression, which uses evaluates the relationship between the independent and dependent variable by fitting the \"best fit line\" between them. This \"best fit line\" can be used to predict future values. \n",
    "\n",
    "Multiple regression however, is the practice of taking multiple independent variables to predict a single outcome variable."
   ]
  },
  {
   "cell_type": "code",
   "execution_count": 2,
   "metadata": {},
   "outputs": [],
   "source": [
    "# load packages\n",
    "import numpy as np\n",
    "import pandas as pd\n",
    "from sklearn import linear_model\n",
    "from sklearn.linear_model import LinearRegression\n",
    "from sklearn.metrics import mean_squared_error\n"
   ]
  },
  {
   "cell_type": "markdown",
   "metadata": {},
   "source": [
    "Similar to my other data cleaning procedures, I've used SQLite to clean and organize the data from all that was returned from the API.\n",
    "\n",
    "I have also isolated data collected by the team."
   ]
  },
  {
   "cell_type": "code",
   "execution_count": 3,
   "metadata": {},
   "outputs": [],
   "source": [
    "# load all practice sessions from bahrain-21 ++ np times removed\n",
    "df = pd.read_csv('bahrain_21_all_p.csv')\n",
    "# data specific to team\n",
    "df = df[df[\"Team\"] == 'Williams']"
   ]
  },
  {
   "cell_type": "code",
   "execution_count": 4,
   "metadata": {},
   "outputs": [
    {
     "data": {
      "text/html": [
       "<div>\n",
       "<style scoped>\n",
       "    .dataframe tbody tr th:only-of-type {\n",
       "        vertical-align: middle;\n",
       "    }\n",
       "\n",
       "    .dataframe tbody tr th {\n",
       "        vertical-align: top;\n",
       "    }\n",
       "\n",
       "    .dataframe thead th {\n",
       "        text-align: right;\n",
       "    }\n",
       "</style>\n",
       "<table border=\"1\" class=\"dataframe\">\n",
       "  <thead>\n",
       "    <tr style=\"text-align: right;\">\n",
       "      <th></th>\n",
       "      <th>Tyre_HARD</th>\n",
       "      <th>Tyre_MEDIUM</th>\n",
       "      <th>Tyre_SOFT</th>\n",
       "      <th>TyreLife</th>\n",
       "      <th>LapTime</th>\n",
       "    </tr>\n",
       "  </thead>\n",
       "  <tbody>\n",
       "    <tr>\n",
       "      <th>63</th>\n",
       "      <td>0</td>\n",
       "      <td>0</td>\n",
       "      <td>1</td>\n",
       "      <td>4</td>\n",
       "      <td>95.264</td>\n",
       "    </tr>\n",
       "    <tr>\n",
       "      <th>75</th>\n",
       "      <td>0</td>\n",
       "      <td>0</td>\n",
       "      <td>1</td>\n",
       "      <td>3</td>\n",
       "      <td>93.959</td>\n",
       "    </tr>\n",
       "    <tr>\n",
       "      <th>96</th>\n",
       "      <td>1</td>\n",
       "      <td>0</td>\n",
       "      <td>0</td>\n",
       "      <td>2</td>\n",
       "      <td>96.979</td>\n",
       "    </tr>\n",
       "    <tr>\n",
       "      <th>98</th>\n",
       "      <td>1</td>\n",
       "      <td>0</td>\n",
       "      <td>0</td>\n",
       "      <td>3</td>\n",
       "      <td>128.245</td>\n",
       "    </tr>\n",
       "    <tr>\n",
       "      <th>101</th>\n",
       "      <td>1</td>\n",
       "      <td>0</td>\n",
       "      <td>0</td>\n",
       "      <td>4</td>\n",
       "      <td>96.282</td>\n",
       "    </tr>\n",
       "  </tbody>\n",
       "</table>\n",
       "</div>"
      ],
      "text/plain": [
       "     Tyre_HARD  Tyre_MEDIUM  Tyre_SOFT  TyreLife  LapTime\n",
       "63           0            0          1         4   95.264\n",
       "75           0            0          1         3   93.959\n",
       "96           1            0          0         2   96.979\n",
       "98           1            0          0         3  128.245\n",
       "101          1            0          0         4   96.282"
      ]
     },
     "execution_count": 4,
     "metadata": {},
     "output_type": "execute_result"
    }
   ],
   "source": [
    "# isolate columns to be used for model\n",
    "df = df[[\"Tyre\",\"TyreLife\",\"LapTime\"]]\n",
    "df = pd.get_dummies(df, columns=[\"Tyre\"])\n",
    "df = df[[\"Tyre_HARD\", \"Tyre_MEDIUM\", \"Tyre_SOFT\", \"TyreLife\",\"LapTime\"]]\n",
    "df.head()"
   ]
  },
  {
   "cell_type": "code",
   "execution_count": 335,
   "metadata": {},
   "outputs": [
    {
     "data": {
      "text/plain": [
       "False"
      ]
     },
     "execution_count": 335,
     "metadata": {},
     "output_type": "execute_result"
    }
   ],
   "source": [
    "# check if any null values present\n",
    "df.isnull().values.any()"
   ]
  },
  {
   "cell_type": "code",
   "execution_count": 6,
   "metadata": {},
   "outputs": [],
   "source": [
    "# split data, predictors and target variable\n",
    "X = df[[\"Tyre_HARD\", \"Tyre_MEDIUM\", \"Tyre_SOFT\", \"TyreLife\"]]\n",
    "y = df[[\"LapTime\"]]"
   ]
  },
  {
   "cell_type": "code",
   "execution_count": 7,
   "metadata": {},
   "outputs": [
    {
     "data": {
      "text/plain": [
       "LinearRegression()"
      ]
     },
     "execution_count": 7,
     "metadata": {},
     "output_type": "execute_result"
    }
   ],
   "source": [
    "regr = linear_model.LinearRegression()\n",
    "regr.fit(X, y)"
   ]
  },
  {
   "cell_type": "code",
   "execution_count": 289,
   "metadata": {},
   "outputs": [],
   "source": [
    "# Predicted Lap time for lap 5 on hard tire is 102.65 seconds\n",
    "# Predicted Lap time for lap 5 on medium tire is 102.49 seconds\n",
    "# Predicted Lap time for lap 5 on soft tire is 97.73 seconds\n",
    "predicted_lt_h = regr.predict([[1,0,0,5]])\n",
    "predicted_lt_m = regr.predict([[0,1,0,5]])\n",
    "predicted_lt_s = regr.predict([[0,0,1,5]])"
   ]
  },
  {
   "cell_type": "markdown",
   "metadata": {},
   "source": [
    "I fit the model on the dataset, and have generated lap time predictions for each compound.\n",
    "\n",
    "The predict function takes an array of the same dimensions as the data that was trained. \n",
    "\n",
    "This format is the following = [tyre_hard == (0 = no, 1 = yes), tyre_medium == (0 = no, 1 = yes), tyre_soft == (0 = no, 1 = yes), tyrelife = (unit = laps)]"
   ]
  },
  {
   "cell_type": "code",
   "execution_count": 290,
   "metadata": {},
   "outputs": [
    {
     "name": "stdout",
     "output_type": "stream",
     "text": [
      "[[4.92071036]] [[4.75490027]] [[0.16581009]]\n"
     ]
    }
   ],
   "source": [
    "# delta between hard and soft tire\n",
    "diff_hs = predicted_lt_h - predicted_lt_s\n",
    "diff_ms = predicted_lt_m - predicted_lt_s\n",
    "diff_hm = predicted_lt_h - predicted_lt_m\n",
    "print(diff_hs, diff_ms, diff_hm)"
   ]
  },
  {
   "cell_type": "markdown",
   "metadata": {},
   "source": [
    "The predicted time deltas between each compound are the following:\n",
    "- Hard and soft = 4.92 seconds\n",
    "- Medium and soft = 4.75 seconds\n",
    "- Hard and medium = 0.16 seconds\n",
    "\n",
    "While the lap times may look inaccurate, it is largely in part due to the data collected during practice. Most notably, fuel load is unknown. Williams only ran the Hard compound for 5 laps in FP1, and none of the lap times for both drivers were under 100 seconds. However, I'm hoping this can outline my thought process on how to interpolate practice data to predict the lap times during the race. I believe it is crucial to use the evolving data from the race as those conditions may be unique to that session. \n",
    "\n"
   ]
  },
  {
   "cell_type": "code",
   "execution_count": 291,
   "metadata": {},
   "outputs": [
    {
     "name": "stdout",
     "output_type": "stream",
     "text": [
      "[[1.05039051]] [[1.04869253]] [[1.00161914]]\n"
     ]
    }
   ],
   "source": [
    "# multiplier between hard and soft tire\n",
    "mult_hs = predicted_lt_h/predicted_lt_s\n",
    "mult_ms = predicted_lt_m/predicted_lt_s\n",
    "mult_hm = predicted_lt_h/predicted_lt_m\n",
    "print(mult_hs, mult_ms, mult_hm)"
   ]
  },
  {
   "cell_type": "markdown",
   "metadata": {},
   "source": [
    "In addition to calculating the difference, I also calculated the factor of how much quicker/slower each tire is compared to another compound. For example, at lap 5 of a stint, the Hard tire is 1.05 times slower than the soft compound at that point in the tyre's lifespan. This is the same approach I'll take to apply data from the actual race in order to predict lap times later on."
   ]
  },
  {
   "cell_type": "markdown",
   "metadata": {},
   "source": [
    "## Loading Race Data"
   ]
  },
  {
   "cell_type": "code",
   "execution_count": 340,
   "metadata": {},
   "outputs": [],
   "source": [
    "# load csv\n",
    "# load all practice sessions from bahrain-21 ++ np times removed\n",
    "race_df = pd.read_csv('bahrain_21_race_lt.csv')\n",
    "# data specific to team\n",
    "race = race_df[race_df[\"Team\"] == 'Williams']"
   ]
  },
  {
   "cell_type": "code",
   "execution_count": 323,
   "metadata": {},
   "outputs": [
    {
     "data": {
      "text/html": [
       "<div>\n",
       "<style scoped>\n",
       "    .dataframe tbody tr th:only-of-type {\n",
       "        vertical-align: middle;\n",
       "    }\n",
       "\n",
       "    .dataframe tbody tr th {\n",
       "        vertical-align: top;\n",
       "    }\n",
       "\n",
       "    .dataframe thead th {\n",
       "        text-align: right;\n",
       "    }\n",
       "</style>\n",
       "<table border=\"1\" class=\"dataframe\">\n",
       "  <thead>\n",
       "    <tr style=\"text-align: right;\">\n",
       "      <th></th>\n",
       "      <th>TyreLife</th>\n",
       "      <th>LapTime</th>\n",
       "      <th>Tyre_MEDIUM</th>\n",
       "      <th>Tyre_SOFT</th>\n",
       "    </tr>\n",
       "  </thead>\n",
       "  <tbody>\n",
       "    <tr>\n",
       "      <th>571</th>\n",
       "      <td>6</td>\n",
       "      <td>100.223</td>\n",
       "      <td>0</td>\n",
       "      <td>1</td>\n",
       "    </tr>\n",
       "    <tr>\n",
       "      <th>572</th>\n",
       "      <td>7</td>\n",
       "      <td>99.318</td>\n",
       "      <td>0</td>\n",
       "      <td>1</td>\n",
       "    </tr>\n",
       "    <tr>\n",
       "      <th>573</th>\n",
       "      <td>8</td>\n",
       "      <td>98.317</td>\n",
       "      <td>0</td>\n",
       "      <td>1</td>\n",
       "    </tr>\n",
       "    <tr>\n",
       "      <th>574</th>\n",
       "      <td>9</td>\n",
       "      <td>98.415</td>\n",
       "      <td>0</td>\n",
       "      <td>1</td>\n",
       "    </tr>\n",
       "    <tr>\n",
       "      <th>575</th>\n",
       "      <td>10</td>\n",
       "      <td>98.386</td>\n",
       "      <td>0</td>\n",
       "      <td>1</td>\n",
       "    </tr>\n",
       "  </tbody>\n",
       "</table>\n",
       "</div>"
      ],
      "text/plain": [
       "     TyreLife  LapTime  Tyre_MEDIUM  Tyre_SOFT\n",
       "571         6  100.223            0          1\n",
       "572         7   99.318            0          1\n",
       "573         8   98.317            0          1\n",
       "574         9   98.415            0          1\n",
       "575        10   98.386            0          1"
      ]
     },
     "execution_count": 323,
     "metadata": {},
     "output_type": "execute_result"
    }
   ],
   "source": [
    "# isolate columns to be used for model\n",
    "race = race[[\"Tyre\",\"TyreLife\",\"LapTime\"]]\n",
    "race = pd.get_dummies(race, columns=[\"Tyre\"])\n",
    "#race = race[[\"Tyre_HARD\", \"Tyre_MEDIUM\", \"Tyre_SOFT\", \"TyreLife\",\"LapTime\"]]\n",
    "race.head()"
   ]
  },
  {
   "cell_type": "markdown",
   "metadata": {},
   "source": [
    "According to the dashboard and data, both Williams cars started on the soft compound targeting an aggressive start. Coupling this data with what was found by predicting safety car laps, a safety car was likely to come out at the start of the race. Fitting the Soft compound would allow both Russell and Latifi to fight for track position off the start, and fit the medium or hard compound if a safety car came out. \n",
    "\n",
    "In FP2, Russell and Latifi each went on a 13 lap stint on the Soft and Medium compounds respectively. The Soft compound was ~1.0 seconds slower until the 8th lap of the tyre's lifespan. The times on the Soft became faster than those of the Medium after the 8th lap, perhaps this is due to Russell cooling the tyre temperatures? Nonetheless, the Medium compound was consistent throughout the 13 lap period."
   ]
  },
  {
   "cell_type": "markdown",
   "metadata": {},
   "source": [
    "The first 8 laps are justified to be covered on the Soft tire. But what compound should be fitted next?\n",
    "\n",
    "There are many more factors that could be used to justify this decision, but based on the data the choice should be between the Medium and Hard compound. As stated previously, Williams only went for a few laps on the Hard in FP1, and a longer stint on the Medium in FP2. The next compound should get to the next phase of the race when either a safety car is projected or the observed max lifespan of the tyre is reached, taking into account track position and how close the pack is to one another. "
   ]
  },
  {
   "cell_type": "code",
   "execution_count": 325,
   "metadata": {},
   "outputs": [],
   "source": [
    "# split race data, predictors and target variable \n",
    "X2 = race[[\"Tyre_MEDIUM\", \"Tyre_SOFT\", \"TyreLife\"]]\n",
    "y2 = race[[\"LapTime\"]]"
   ]
  },
  {
   "cell_type": "code",
   "execution_count": 328,
   "metadata": {},
   "outputs": [
    {
     "data": {
      "text/plain": [
       "LinearRegression()"
      ]
     },
     "execution_count": 328,
     "metadata": {},
     "output_type": "execute_result"
    }
   ],
   "source": [
    "regrace = linear_model.LinearRegression()\n",
    "regrrace.fit(X2, y2)"
   ]
  },
  {
   "cell_type": "markdown",
   "metadata": {},
   "source": [
    "At lap 8 of the race only data from the soft compound was collected, so I interpolated that data based on conversions similar to those above. The strength of this prediction is dependent on the data avaliable. \n",
    "\n",
    "First, I use the model to predict laptimes on laps 1-5, and lap 8 of the tyre's life. The laps chosen is arbitrary.\n",
    "\n",
    "Then, I use the data collected from practice to generate the conversion factor to predict lap times on the medium compound. "
   ]
  },
  {
   "cell_type": "code",
   "execution_count": 347,
   "metadata": {},
   "outputs": [
    {
     "name": "stdout",
     "output_type": "stream",
     "text": [
      "[[97.99618099]] [[97.91001972]] [[97.82385844]] [[97.73769717]] [[97.6515359]] [[97.39305208]]\n"
     ]
    }
   ],
   "source": [
    "# predict lap times for lap 1-5 on the medium\n",
    "\n",
    "# generate predictions based on practice data (soft compound)\n",
    "p_r_1 = regr.predict([[0,0,1,1]])\n",
    "p_r_2 = regr.predict([[0,0,1,2]])\n",
    "p_r_3 = regr.predict([[0,0,1,3]])\n",
    "p_r_4 = regr.predict([[0,0,1,4]])\n",
    "p_r_5 = regr.predict([[0,0,1,5]])\n",
    "p_r_8 = regr.predict([[0,0,1,8]])\n",
    "print(p_r_1, p_r_2, p_r_3, p_r_4, p_r_5, p_r_10) "
   ]
  },
  {
   "cell_type": "code",
   "execution_count": 355,
   "metadata": {},
   "outputs": [
    {
     "data": {
      "text/plain": [
       "array([[1.0094868]])"
      ]
     },
     "execution_count": 355,
     "metadata": {},
     "output_type": "execute_result"
    }
   ],
   "source": [
    "# compare these predictions to observed data from the race\n",
    "\n",
    "# subset race dataframe for Williams laps -- only two laps were clear track laps\n",
    "laps = [1,2,3,4,5,8]\n",
    "rslt_df = race_df.loc[race_df['LapNumber'].isin(laps)]\n",
    "rslt_df = rslt_df[rslt_df[\"Team\"] == 'Williams']\n",
    "\n",
    "rslt_df.LapTime\n",
    "\n",
    "# compare lap 8 of prediction to lap 8 of observed\n",
    "98.317 / p_r_8\n",
    "\n",
    "# the time generated based on the lap time predictor is 1.001 seconds faster than that observed in the race\n",
    "\n",
    "# practice to race conversion unit 1.001"
   ]
  },
  {
   "cell_type": "code",
   "execution_count": 9,
   "metadata": {},
   "outputs": [
    {
     "name": "stdout",
     "output_type": "stream",
     "text": [
      "[[100.78389391]] [[100.94986981]]\n"
     ]
    }
   ],
   "source": [
    "# apply this conversion unit to practice data collected for medium and hard tires\n",
    "# 13 laps used as prediction target as it is the max measured during practice\n",
    "p_r_13 = regr.predict([[0,1,0,25]])\n",
    "hp_r_13 = regr.predict([[1,0,0,25]])\n",
    "\n",
    "med_lap_13_pred = p_r_13*1.001\n",
    "hard_lap_13_pred = hp_r_13*1.001\n",
    "\n",
    "print(med_lap_13_pred, hard_lap_13_pred)"
   ]
  },
  {
   "cell_type": "markdown",
   "metadata": {},
   "source": [
    "Based on this preiction the Medium compound is faster by 0.1 seconds at lap 13 of the tyre's lifespan. Therefore, the decision to fit the Medium tire after the Soft stint is justified. Additionally, by fitting the Medium tyre, the criteria to fit at least two of the three compounds is fulfilled. Therefore, barring any additional unforseen safety cars, the last stop of the race should also fit the Medium. "
   ]
  },
  {
   "cell_type": "markdown",
   "metadata": {},
   "source": [
    "## Pace Management\n",
    "\n",
    "During a race it is important for the drivers to manage their tyres in order to maintain consistent pace, and have enough life in them if they need to attack or defend for a position. \n",
    "\n",
    "If a driver uses to much of the tyre's life early on in the stint, their stint could be cut short due to a drop in pace, and they'll have to come in for another stop sooner than anticipated. \n",
    "\n",
    "Managing pace is up to the driver, and tyre management a certain skill that can put them in better situations to place higher in the race. \n",
    "\n",
    "Looking retrospectively at the data, drivers may have different approaches to tyre management. The stint starts with a crucial outlap, of which the driver puts in their best lap on the tyres as they have the most life. From there they can maintain consistent pace through the duration of the stint, or alternate between push laps and slower laps, perhaps charging their power unit in concordance with those slower laps. \n",
    "\n",
    "In order to quantify this, I've plotted the time delta from each lap from each stint's out lap. Additionally, I've plotted the time deltas from each lap, and the lap immediately preceeding it. This gives a sense of how the driver's pace is fluctuating lap by lap. "
   ]
  },
  {
   "cell_type": "code",
   "execution_count": null,
   "metadata": {},
   "outputs": [],
   "source": []
  }
 ],
 "metadata": {
  "kernelspec": {
   "display_name": "Python 3",
   "language": "python",
   "name": "python3"
  },
  "language_info": {
   "codemirror_mode": {
    "name": "ipython",
    "version": 3
   },
   "file_extension": ".py",
   "mimetype": "text/x-python",
   "name": "python",
   "nbconvert_exporter": "python",
   "pygments_lexer": "ipython3",
   "version": "3.8.5"
  }
 },
 "nbformat": 4,
 "nbformat_minor": 4
}
