{
 "cells": [
  {
   "cell_type": "markdown",
   "metadata": {},
   "source": [
    "# Introduction\n",
    "\n",
    "Like most sports these days, the top levels of motorsport are very data rich and data driven. Formula 1 in particular champions many groundbreaking developments in data science, such as the ability to stream large amounts of data quickly to the pit wall and back to the team's home factories for further analysis during on-track sessions (practice, qualifying, and the race itself). In the role of a race strategy engineer, it is imperative to develop an effective data driven approach to planning out a race weekend and strategy plan, and also be able to translate observed on track activity, factor in changing track and weather conditions, and understand the impact each driver and car has on the data collected. \n",
    "\n",
    "There are no shortage of applications, packages, and algorithms to feed data into and return a value or set of values. While the power of these methods should not be understated, I believe that teams are on a level playing field in this regard. However, I would argue that differences can be made by having appropriate domain knowledge along with effective communication and understanding amongst the different stakeholders of the team to develop powerful features to feed into whatever models are chosen. Being able to translate what happens on track into features that can be incorporated into a predictive model is what gives strength and confidence for the computer predicted value returned. \n",
    "\n",
    "As an example, a machine learning algorithm can take a driver's previous ten laps as feature inputs to return a projected lap time for the eleventh lap. Every team has access to the lap times, and would be able to run the same model. However, this approach fails to take into account the many other confounding variables that can influence a lap time. Perhaps the driver was stuck in traffic, or they pushed too hard in the early laps and degraded their tyres too much. \n",
    "\n",
    "This report outlines my approach and thought process behind developing feature inputs based on existing data, and buliding two predictive models for the example above. Then the effectiveness of these features and models will be evaluated against observed data from an actual race (2021 Azerbaijan Grand Prix). "
   ]
  },
  {
   "cell_type": "markdown",
   "metadata": {},
   "source": [
    "### Key Concepts\n",
    "\n",
    "The tyres are considered to be one of the most important elements of the race, as it is the one constant varaible across all the teams.\n",
    "\n",
    "There are three tyre compounds a team can choose to fit on their car during a race:\n",
    "   - Soft (Red) - allows for faster laps/more grip but high rate of degradation and sooner drop off in performance\n",
    "   - Hard (White) - slower laps/less grip, but lower rate of degradation and allows for driver to stay on track longer before coming into the pits to change out for a new fresh set\n",
    "   - Medium (Yellow) - balanced tyre out of the three, in the middle in regard to grip level/rate of degradation\n",
    "\n",
    "One other element to consider is that during a race, a team must use at least two different tyre compounds.\n",
    "\n",
    "Therefore, it is crucial to determine the best tyre compound to fit and when in order to maximize the race result.\n",
    "\n",
    "With this in mind, there are a few things that can be investigated before the race even starts.\n",
    "#### Is there a high likelyhood that there will be a safety car during the race? \n",
    "   - The safety car comes out when there is a crash/debris on track, and the race is essentially neutrualized. Often times, a \"free\" pit stop can be gained from this instance, and a team may be able to plan a strategy around this allowing them to minimize the time lost during a pit stop.\n",
    "\n",
    "#### How is the car performing coming into/leaving the pits?\n",
    "   - Called the in/out laps respectively, these are crucial laps during a race as it may provide the opportunity to gain positions by coming into the pits at a different time than the competitors around you. \n",
    "   - The question to consider is:\n",
    "        - Is the driver ahead/behind me faster on older tyres than I am with newer tyres (or vice versa)\n",
    "            - Can the gap between us be closed/extended based on pitting at a certain lap"
   ]
  },
  {
   "cell_type": "markdown",
   "metadata": {},
   "source": [
    "## Safety Car Probability\n",
    "\n",
    "As stated previously, the safety car comes out during a race if there is a crash or any other hazard on the track and it needs to be cleaned up by the track marshalls. When this happens, a special car comes out from the pits and leads the field around the track at a set pace until the debris is cleaned up. Since the safety car is leading the field at a slower pace, the time between one car and another increases, allowing for the car ahead to come into the pits and having a lower likelihood of losing their position. \n",
    "\n",
    "The race of focus in this analysis is the 2021 Azerbaijan Grand Prix, which took place on the street circuit of Baku. Formula 1 races on both permanent race tracks and temporary tracks that are put up in city/street settings (Baku being an example of the latter). Because the track in Baku is temporary, the drivers are running on a surface that gives them less grip. Additionally, the temporary walls/barriers that are put up are right along the track making a small mistake potentially catastrophic. "
   ]
  },
  {
   "cell_type": "markdown",
   "metadata": {},
   "source": [
    "### Safety Car Probabilty - Method\n",
    "\n",
    "The data we can access via the fast-f1 Python package includes a lap classifier for each race. This classifier identifies if the lap was completed under \"clear\" conditions or \"safety car\" conditions. Using the data from the two previous Azerbaijan Grand Prix (2018/2019), I have constructed a probability density plot showing the highest probability during the race that the Safety Car comes out. "
   ]
  },
  {
   "cell_type": "code",
   "execution_count": 2,
   "metadata": {},
   "outputs": [
    {
     "ename": "ModuleNotFoundError",
     "evalue": "No module named 'stats'",
     "output_type": "error",
     "traceback": [
      "\u001b[1;31m---------------------------------------------------------------------------\u001b[0m",
      "\u001b[1;31mModuleNotFoundError\u001b[0m                       Traceback (most recent call last)",
      "\u001b[1;32m<ipython-input-2-a6a7e8be5229>\u001b[0m in \u001b[0;36m<module>\u001b[1;34m\u001b[0m\n\u001b[0;32m      7\u001b[0m \u001b[1;32mimport\u001b[0m \u001b[0mseaborn\u001b[0m \u001b[1;32mas\u001b[0m \u001b[0msns\u001b[0m\u001b[1;33m\u001b[0m\u001b[1;33m\u001b[0m\u001b[0m\n\u001b[0;32m      8\u001b[0m \u001b[1;32mimport\u001b[0m \u001b[0mscipy\u001b[0m\u001b[1;33m\u001b[0m\u001b[1;33m\u001b[0m\u001b[0m\n\u001b[1;32m----> 9\u001b[1;33m \u001b[1;32mimport\u001b[0m \u001b[0mstats\u001b[0m\u001b[1;33m.\u001b[0m\u001b[0mmodels\u001b[0m\u001b[1;33m.\u001b[0m\u001b[0mformula\u001b[0m\u001b[1;33m.\u001b[0m\u001b[0mapi\u001b[0m \u001b[1;32mas\u001b[0m \u001b[0msmf\u001b[0m\u001b[1;33m\u001b[0m\u001b[1;33m\u001b[0m\u001b[0m\n\u001b[0m\u001b[0;32m     10\u001b[0m \u001b[1;32mimport\u001b[0m \u001b[0mstats\u001b[0m\u001b[1;33m.\u001b[0m\u001b[0mmodels\u001b[0m\u001b[1;33m.\u001b[0m\u001b[0mapi\u001b[0m \u001b[1;32mas\u001b[0m \u001b[0msm\u001b[0m\u001b[1;33m\u001b[0m\u001b[1;33m\u001b[0m\u001b[0m\n\u001b[0;32m     11\u001b[0m \u001b[1;33m\u001b[0m\u001b[0m\n",
      "\u001b[1;31mModuleNotFoundError\u001b[0m: No module named 'stats'"
     ]
    }
   ],
   "source": [
    "import fastf1 as ff1\n",
    "import pandas as pd\n",
    "from fastf1 import plotting\n",
    "from matplotlib import pyplot as plt\n",
    "import datetime as dt\n",
    "import plotly.express as px\n",
    "import seaborn as sns\n",
    "import scipy\n",
    "import stats.models.formula.api as smf\n",
    "import stats.models.api as sm\n",
    "\n",
    "\n",
    "# load last 2 azerbaijan grand prix for safety car predictor\n",
    "baku_19 = ff1.get_session(2019, 'Baku', 'R')\n",
    "baku_19 = baku_19.load_laps(with_telemetry=True)\n",
    "baku_19 = pd.DataFrame(data = baku_19)\n",
    "baku_18 = ff1.get_session(2018, 'Baku', 'R')\n",
    "baku_18 = baku_18.load_laps(with_telemetry=True)\n",
    "baku_18 = pd.DataFrame(data = baku_18)"
   ]
  },
  {
   "cell_type": "markdown",
   "metadata": {},
   "source": [
    "### Safety Car Probability - Querying Data\n",
    "\n",
    "We first have to query data via the fast-f1 python package. This package allows us to specify the race we want data from, which is then stored in a data frame. The raw data has a track condition label, but I'd have to do some cleaning in order to make use of it in a model. \n",
    "\n",
    "I pulled data from the 2018 and 2019 Azerbaijan Grand Prixs to get a sense of when the safety car came out during those races. I then opted to transform and label the data accordingly via SQL and re-imported the data as a CSV. "
   ]
  },
  {
   "cell_type": "code",
   "execution_count": 4,
   "metadata": {},
   "outputs": [],
   "source": [
    "# export dataframe for transformation in SQL\n",
    "baku_history = [baku_18, baku_19]\n",
    "baku_history = pd.concat(baku_history)\n",
    "baku_history.to_csv('baku_history.csv')"
   ]
  },
  {
   "cell_type": "code",
   "execution_count": 2,
   "metadata": {},
   "outputs": [
    {
     "data": {
      "text/html": [
       "<div>\n",
       "<style scoped>\n",
       "    .dataframe tbody tr th:only-of-type {\n",
       "        vertical-align: middle;\n",
       "    }\n",
       "\n",
       "    .dataframe tbody tr th {\n",
       "        vertical-align: top;\n",
       "    }\n",
       "\n",
       "    .dataframe thead th {\n",
       "        text-align: right;\n",
       "    }\n",
       "</style>\n",
       "<table border=\"1\" class=\"dataframe\">\n",
       "  <thead>\n",
       "    <tr style=\"text-align: right;\">\n",
       "      <th></th>\n",
       "      <th>LapNumber</th>\n",
       "      <th>sc_laps</th>\n",
       "      <th>track_clear_laps</th>\n",
       "    </tr>\n",
       "  </thead>\n",
       "  <tbody>\n",
       "    <tr>\n",
       "      <th>0</th>\n",
       "      <td>1.0</td>\n",
       "      <td>No SC</td>\n",
       "      <td>Track Not Clear</td>\n",
       "    </tr>\n",
       "    <tr>\n",
       "      <th>1</th>\n",
       "      <td>1.0</td>\n",
       "      <td>No SC</td>\n",
       "      <td>Track Clear</td>\n",
       "    </tr>\n",
       "    <tr>\n",
       "      <th>2</th>\n",
       "      <td>2.0</td>\n",
       "      <td>SC</td>\n",
       "      <td>Track Not Clear</td>\n",
       "    </tr>\n",
       "    <tr>\n",
       "      <th>3</th>\n",
       "      <td>2.0</td>\n",
       "      <td>No SC</td>\n",
       "      <td>Track Clear</td>\n",
       "    </tr>\n",
       "    <tr>\n",
       "      <th>4</th>\n",
       "      <td>3.0</td>\n",
       "      <td>SC</td>\n",
       "      <td>Track Not Clear</td>\n",
       "    </tr>\n",
       "    <tr>\n",
       "      <th>...</th>\n",
       "      <td>...</td>\n",
       "      <td>...</td>\n",
       "      <td>...</td>\n",
       "    </tr>\n",
       "    <tr>\n",
       "      <th>97</th>\n",
       "      <td>49.0</td>\n",
       "      <td>No SC</td>\n",
       "      <td>Track Clear</td>\n",
       "    </tr>\n",
       "    <tr>\n",
       "      <th>98</th>\n",
       "      <td>50.0</td>\n",
       "      <td>No SC</td>\n",
       "      <td>Track Not Clear</td>\n",
       "    </tr>\n",
       "    <tr>\n",
       "      <th>99</th>\n",
       "      <td>50.0</td>\n",
       "      <td>No SC</td>\n",
       "      <td>Track Clear</td>\n",
       "    </tr>\n",
       "    <tr>\n",
       "      <th>100</th>\n",
       "      <td>51.0</td>\n",
       "      <td>No SC</td>\n",
       "      <td>Track Clear</td>\n",
       "    </tr>\n",
       "    <tr>\n",
       "      <th>101</th>\n",
       "      <td>51.0</td>\n",
       "      <td>No SC</td>\n",
       "      <td>Track Clear</td>\n",
       "    </tr>\n",
       "  </tbody>\n",
       "</table>\n",
       "<p>102 rows × 3 columns</p>\n",
       "</div>"
      ],
      "text/plain": [
       "     LapNumber sc_laps track_clear_laps\n",
       "0          1.0   No SC  Track Not Clear\n",
       "1          1.0   No SC      Track Clear\n",
       "2          2.0      SC  Track Not Clear\n",
       "3          2.0   No SC      Track Clear\n",
       "4          3.0      SC  Track Not Clear\n",
       "..         ...     ...              ...\n",
       "97        49.0   No SC      Track Clear\n",
       "98        50.0   No SC  Track Not Clear\n",
       "99        50.0   No SC      Track Clear\n",
       "100       51.0   No SC      Track Clear\n",
       "101       51.0   No SC      Track Clear\n",
       "\n",
       "[102 rows x 3 columns]"
      ]
     },
     "execution_count": 2,
     "metadata": {},
     "output_type": "execute_result"
    }
   ],
   "source": [
    "baku_history = pd.read_csv('baku_sc_laps.csv')\n",
    "baku_sc = baku_history[['LapNumber', 'sc_laps', 'track_clear_laps']]\n",
    "baku_sc"
   ]
  },
  {
   "cell_type": "code",
   "execution_count": 3,
   "metadata": {},
   "outputs": [
    {
     "data": {
      "image/png": "[encoded data removed]",
      "text/plain": [
       "<Figure size 432x288 with 1 Axes>"
      ]
     },
     "metadata": {
      "needs_background": "light"
     },
     "output_type": "display_data"
    }
   ],
   "source": [
    "# probability density plot\n",
    "# safety car\n",
    "baku_sc = baku_sc[baku_sc[\"sc_laps\"] == \"SC\"]\n",
    "\n",
    "sc = baku_sc.plot.kde(title = 'Safety Car')"
   ]
  },
  {
   "cell_type": "markdown",
   "metadata": {},
   "source": [
    "### Safety Car Probability - Discussion\n",
    "\n",
    "Looking at the kernel density plot created above, displaying the probability density of a safety car being out at a given lap during the race, we can infer that the highest relative probability of this occurring is around lap 40 of the race. Additionally, there is a smaller peak at the start of the race.\n",
    "\n",
    "There are a few possible explanations for this. First at the beginning of the race, cars are closer to one another before they eventually spread out due to pace differences. Some cars are faster than others, so as the race progresses, the gaps between them will increase. However, at the beginning the field is very close together increasing the likelyhood of crashes or incidents.\n",
    "\n",
    "A possible explanation for the spike around lap 40 may be due to the degradation of the tyres that the cars are running on, meaning less grip and higher likelyhood of incidents. Given that this is in the later stages of the race, teams may be running on different strategies with some opting to run longer on a given set of tyres in hopes of gaining positions before coming into the pits for new tyres. Running on old tyres increases the chance of incidents, as cars are going slower and may be under less control. "
   ]
  },
  {
   "cell_type": "markdown",
   "metadata": {},
   "source": [
    "## Lap Time Prediction\n",
    "\n",
    "Being able to project a driver's lap time given a set of parameters would be a valuable tool for a team, especially when trying to determine the right time to call the driver into the pits. Of course, the value and strength of this tool is determined by the feature inputs used to train it. \n",
    "\n",
    "I've developed this model to specifically analyze and evaluate how it would perform in the same scenario Aston Martin faced during this race. "
   ]
  },
  {
   "cell_type": "markdown",
   "metadata": {},
   "source": [
    "### Lap Time Prediction - Data Preparation\n",
    "\n",
    "As performed earlier, I'll use the fast-f1 package to query data from the 2021 Azerbaijan Grand Prix. Then, I'll use SQL to transform and prep the data before building the model."
   ]
  },
  {
   "cell_type": "code",
   "execution_count": 3,
   "metadata": {},
   "outputs": [
    {
     "name": "stderr",
     "output_type": "stream",
     "text": [
      "core           INFO \tLoading Azerbaijan Grand Prix - Race\n",
      "api         WARNING \t\n",
      "\n",
      "NO CACHE! Api request caching has not been enabled! \n",
      "\tIt is highly recommended to enable this feature for much faster data loading!\n",
      "\tUse `fastf1.Cache.enable_cache('path/to/cache/')`\n",
      "\n",
      "api            INFO \tFetching timing data...\n",
      "api            INFO \tParsing timing data...\n",
      "api         WARNING \tDriver 47: Ignoring late data for a previously processed lap.The data may contain errors (previous: 42; current 43)\n",
      "api            INFO \tFetching timing app data...\n",
      "core           INFO \tProcessing timing data...\n",
      "api            INFO \tFetching session status data...\n",
      "utils          INFO \tNumExpr defaulting to 6 threads.\n",
      "api            INFO \tFetching track status data...\n",
      "api            INFO \tFetching car data...\n",
      "api            INFO \tParsing car data...\n",
      "api            INFO \tFetching position data...\n",
      "api            INFO \tParsing position data...\n",
      "api         WARNING \tDriver 241: Position data is incomplete!\n",
      "api         WARNING \tDriver 242: Position data is incomplete!\n",
      "api         WARNING \tDriver 243: Position data is incomplete!\n",
      "core           INFO \tLoaded data for 20 drivers: ['16', '55', '5', '63', '9', '31', '22', '99', '47', '33', '11', '7', '77', '6', '10', '3', '18', '14', '44', '4']\n"
     ]
    }
   ],
   "source": [
    "# load 2021 grand prix\n",
    "baku_21 = ff1.get_session(2021, 'Baku', 'R')\n",
    "baku_21 = baku_21.load_laps(with_telemetry=True)\n",
    "baku_21 = pd.DataFrame(data = baku_21)"
   ]
  },
  {
   "cell_type": "code",
   "execution_count": 5,
   "metadata": {},
   "outputs": [],
   "source": [
    "# drop naT times\n",
    "baku_21 = baku_21.dropna(subset=['LapTime'])\n",
    "baku_21['Seconds'] = baku_21['LapTime'].dt.total_seconds()\n",
    "baku_21['LapStartSeconds'] = baku_21['LapStartTime'].dt.total_seconds()\n",
    "baku_21['PitWindowTime'] = baku_21['LapStartSeconds'] + 25.42234783 \n",
    "baku_21.to_csv('baku_21_r.csv')\n",
    "#baku_21 = pd.read_csv('baku_21_r.csv')"
   ]
  },
  {
   "cell_type": "markdown",
   "metadata": {},
   "source": [
    "### Lap Time Prediction - Data Transformation\n",
    "\n",
    "For this component, the data preparation process involved calculating different sets of time deltas (in seconds). I think that a useful utility for a team would be one that is straightforward to implement, and incorporates feature inputs that are concrete yet simple. The model would also output something that is simple and concrete, and allows puts the power back into the driver's hands to make an impact as they are the one's driving the car. For the following model, lap time will be predicted based on a set of parameters.\n",
    "\n",
    "Building a more robust and effective model would be dependent on the data accessible. However, using the data that is published publicly (mainly lap times), I've created variables that I think would be important to consider when evaluating the pace of a car/driver during a race.\n",
    "\n",
    "The model will use data until lap 9 of the race, which is when the car ahead of Vettel (Yuki Tsunoda) came into the pits to change tyres. At this point of the race, Aston Martin is faced with the decision of whether to bring Vettel in right away to counter Tsunoda's move. The other option was to let him put more laps on older tyres to maintain his position on the track before coming into the pits later, hoping to jump Tsunoda's position by doing so. \n",
    "\n",
    "### Created Variables\n",
    "- Rolling Lap Time Average\n",
    "    - For each lap, what is the average lap time for that driver until that point?\n",
    "        - This gives a sense of the general race pace of the driver.\n",
    "- Rolling Fastest Lap\n",
    "    - For each lap, what was the fastest lap put in by that driver until that point?\n",
    "        - This gives the maximum pace of the driver at this stage of the race.\n",
    "- Faster Than Last Lap + Aggregating Sum\n",
    "    - Was the lap just completed faster than the previous lap?\n",
    "        - Gives insight as to an increase in pace over lap\n",
    "    - Counter aggregates as more laps are turned in above average\n",
    "        - Gives insight as to how much driver is pushing over previous laps\n",
    "- Faster Than Rolling Lap Time Average + Aggregating Sum\n",
    "    - Was this lap faster than the average times of the previous lap?\n",
    "        - Gives insight to increase in pace over stint\n",
    "    - Counter aggregates as more laps are turned in above average\n",
    "        - Gives insight as to how much driver is pushing over stint\n",
    "- New Fast Lap Counter\n",
    "    - Counts how many times driver puts in lap better than personal best\n",
    "\n",
    "\n",
    "These features are simple to calculate, however I feel that they could be powerful in determining the lifespan of a set of tyres before the degradation drop off. A team could effectively enter values based on the data they have access to, and determine if future laps are projected to be faster/slower than their target. These values could also be determined from the practice sessions. A target average lap and target fastest lap on each tyre compound could be taken from observations during practice.\n",
    "\n",
    "With how data rich the sport is, I think the difference can be made in how the data avaliable is interpreted. While the discussion about what model to fit or algorithm to use is certainly important, I believe that developing features by interpolating existing data is key to bridging the gap between a computer generated prediction and what is observed on track. \n",
    "\n",
    "Grouping the data by driver to calculate the values for the variables above allows for the predictions to reflect the characteristics of the driver themselves. Because the driver is ultimately the one piloting the car, their own characteristics and skillset is reflected in the data fed into the model. \n"
   ]
  },
  {
   "cell_type": "code",
   "execution_count": 58,
   "metadata": {},
   "outputs": [
    {
     "data": {
      "text/html": [
       "<div>\n",
       "<style scoped>\n",
       "    .dataframe tbody tr th:only-of-type {\n",
       "        vertical-align: middle;\n",
       "    }\n",
       "\n",
       "    .dataframe tbody tr th {\n",
       "        vertical-align: top;\n",
       "    }\n",
       "\n",
       "    .dataframe thead th {\n",
       "        text-align: right;\n",
       "    }\n",
       "</style>\n",
       "<table border=\"1\" class=\"dataframe\">\n",
       "  <thead>\n",
       "    <tr style=\"text-align: right;\">\n",
       "      <th></th>\n",
       "      <th>DriverNumber</th>\n",
       "      <th>LapNumber</th>\n",
       "      <th>soft_compound</th>\n",
       "      <th>medium_compound</th>\n",
       "      <th>hard_compound</th>\n",
       "      <th>tyrelife</th>\n",
       "      <th>last_lap_delta</th>\n",
       "      <th>faster_than_last</th>\n",
       "      <th>faster_than_avg</th>\n",
       "      <th>rolling_lt_avg</th>\n",
       "      <th>rolling_fastest_lap</th>\n",
       "      <th>faster_than_avg.1</th>\n",
       "      <th>new_fastest_l</th>\n",
       "      <th>new_fastest_l_sum</th>\n",
       "      <th>faster_avg_sum</th>\n",
       "      <th>faster_last_sum</th>\n",
       "      <th>laptime</th>\n",
       "    </tr>\n",
       "  </thead>\n",
       "  <tbody>\n",
       "    <tr>\n",
       "      <th>0</th>\n",
       "      <td>3</td>\n",
       "      <td>3</td>\n",
       "      <td>1</td>\n",
       "      <td>0</td>\n",
       "      <td>0</td>\n",
       "      <td>3.0</td>\n",
       "      <td>-0.726</td>\n",
       "      <td>1</td>\n",
       "      <td>1</td>\n",
       "      <td>110.972000</td>\n",
       "      <td>110.972</td>\n",
       "      <td>1</td>\n",
       "      <td>1</td>\n",
       "      <td>1</td>\n",
       "      <td>1</td>\n",
       "      <td>1</td>\n",
       "      <td>110.246</td>\n",
       "    </tr>\n",
       "    <tr>\n",
       "      <th>1</th>\n",
       "      <td>3</td>\n",
       "      <td>4</td>\n",
       "      <td>1</td>\n",
       "      <td>0</td>\n",
       "      <td>0</td>\n",
       "      <td>4.0</td>\n",
       "      <td>-1.611</td>\n",
       "      <td>1</td>\n",
       "      <td>1</td>\n",
       "      <td>110.609000</td>\n",
       "      <td>110.246</td>\n",
       "      <td>1</td>\n",
       "      <td>1</td>\n",
       "      <td>2</td>\n",
       "      <td>2</td>\n",
       "      <td>2</td>\n",
       "      <td>108.635</td>\n",
       "    </tr>\n",
       "    <tr>\n",
       "      <th>2</th>\n",
       "      <td>3</td>\n",
       "      <td>5</td>\n",
       "      <td>1</td>\n",
       "      <td>0</td>\n",
       "      <td>0</td>\n",
       "      <td>5.0</td>\n",
       "      <td>-0.234</td>\n",
       "      <td>1</td>\n",
       "      <td>1</td>\n",
       "      <td>109.951000</td>\n",
       "      <td>108.635</td>\n",
       "      <td>1</td>\n",
       "      <td>1</td>\n",
       "      <td>3</td>\n",
       "      <td>3</td>\n",
       "      <td>3</td>\n",
       "      <td>108.401</td>\n",
       "    </tr>\n",
       "    <tr>\n",
       "      <th>3</th>\n",
       "      <td>3</td>\n",
       "      <td>6</td>\n",
       "      <td>1</td>\n",
       "      <td>0</td>\n",
       "      <td>0</td>\n",
       "      <td>6.0</td>\n",
       "      <td>-0.146</td>\n",
       "      <td>1</td>\n",
       "      <td>1</td>\n",
       "      <td>109.563500</td>\n",
       "      <td>108.401</td>\n",
       "      <td>1</td>\n",
       "      <td>1</td>\n",
       "      <td>4</td>\n",
       "      <td>4</td>\n",
       "      <td>4</td>\n",
       "      <td>108.255</td>\n",
       "    </tr>\n",
       "    <tr>\n",
       "      <th>4</th>\n",
       "      <td>3</td>\n",
       "      <td>7</td>\n",
       "      <td>1</td>\n",
       "      <td>0</td>\n",
       "      <td>0</td>\n",
       "      <td>7.0</td>\n",
       "      <td>0.683</td>\n",
       "      <td>0</td>\n",
       "      <td>1</td>\n",
       "      <td>109.301800</td>\n",
       "      <td>108.255</td>\n",
       "      <td>1</td>\n",
       "      <td>0</td>\n",
       "      <td>4</td>\n",
       "      <td>5</td>\n",
       "      <td>4</td>\n",
       "      <td>108.938</td>\n",
       "    </tr>\n",
       "    <tr>\n",
       "      <th>...</th>\n",
       "      <td>...</td>\n",
       "      <td>...</td>\n",
       "      <td>...</td>\n",
       "      <td>...</td>\n",
       "      <td>...</td>\n",
       "      <td>...</td>\n",
       "      <td>...</td>\n",
       "      <td>...</td>\n",
       "      <td>...</td>\n",
       "      <td>...</td>\n",
       "      <td>...</td>\n",
       "      <td>...</td>\n",
       "      <td>...</td>\n",
       "      <td>...</td>\n",
       "      <td>...</td>\n",
       "      <td>...</td>\n",
       "      <td>...</td>\n",
       "    </tr>\n",
       "    <tr>\n",
       "      <th>156</th>\n",
       "      <td>99</td>\n",
       "      <td>7</td>\n",
       "      <td>0</td>\n",
       "      <td>0</td>\n",
       "      <td>1</td>\n",
       "      <td>5.0</td>\n",
       "      <td>-0.081</td>\n",
       "      <td>1</td>\n",
       "      <td>1</td>\n",
       "      <td>113.696600</td>\n",
       "      <td>108.592</td>\n",
       "      <td>1</td>\n",
       "      <td>0</td>\n",
       "      <td>2</td>\n",
       "      <td>4</td>\n",
       "      <td>3</td>\n",
       "      <td>108.703</td>\n",
       "    </tr>\n",
       "    <tr>\n",
       "      <th>157</th>\n",
       "      <td>99</td>\n",
       "      <td>8</td>\n",
       "      <td>0</td>\n",
       "      <td>0</td>\n",
       "      <td>1</td>\n",
       "      <td>6.0</td>\n",
       "      <td>-0.063</td>\n",
       "      <td>1</td>\n",
       "      <td>1</td>\n",
       "      <td>112.864333</td>\n",
       "      <td>108.592</td>\n",
       "      <td>1</td>\n",
       "      <td>0</td>\n",
       "      <td>2</td>\n",
       "      <td>5</td>\n",
       "      <td>4</td>\n",
       "      <td>108.640</td>\n",
       "    </tr>\n",
       "    <tr>\n",
       "      <th>158</th>\n",
       "      <td>99</td>\n",
       "      <td>9</td>\n",
       "      <td>0</td>\n",
       "      <td>0</td>\n",
       "      <td>1</td>\n",
       "      <td>7.0</td>\n",
       "      <td>-0.402</td>\n",
       "      <td>1</td>\n",
       "      <td>1</td>\n",
       "      <td>112.260857</td>\n",
       "      <td>108.592</td>\n",
       "      <td>1</td>\n",
       "      <td>1</td>\n",
       "      <td>3</td>\n",
       "      <td>6</td>\n",
       "      <td>5</td>\n",
       "      <td>108.238</td>\n",
       "    </tr>\n",
       "    <tr>\n",
       "      <th>159</th>\n",
       "      <td>99</td>\n",
       "      <td>10</td>\n",
       "      <td>0</td>\n",
       "      <td>0</td>\n",
       "      <td>1</td>\n",
       "      <td>8.0</td>\n",
       "      <td>0.069</td>\n",
       "      <td>0</td>\n",
       "      <td>1</td>\n",
       "      <td>111.758000</td>\n",
       "      <td>108.238</td>\n",
       "      <td>1</td>\n",
       "      <td>0</td>\n",
       "      <td>3</td>\n",
       "      <td>7</td>\n",
       "      <td>5</td>\n",
       "      <td>108.307</td>\n",
       "    </tr>\n",
       "    <tr>\n",
       "      <th>160</th>\n",
       "      <td>99</td>\n",
       "      <td>11</td>\n",
       "      <td>0</td>\n",
       "      <td>0</td>\n",
       "      <td>1</td>\n",
       "      <td>9.0</td>\n",
       "      <td>0.892</td>\n",
       "      <td>0</td>\n",
       "      <td>1</td>\n",
       "      <td>111.374556</td>\n",
       "      <td>108.238</td>\n",
       "      <td>1</td>\n",
       "      <td>0</td>\n",
       "      <td>3</td>\n",
       "      <td>8</td>\n",
       "      <td>5</td>\n",
       "      <td>109.199</td>\n",
       "    </tr>\n",
       "  </tbody>\n",
       "</table>\n",
       "<p>161 rows × 17 columns</p>\n",
       "</div>"
      ],
      "text/plain": [
       "     DriverNumber  LapNumber  soft_compound  medium_compound  hard_compound  \\\n",
       "0               3          3              1                0              0   \n",
       "1               3          4              1                0              0   \n",
       "2               3          5              1                0              0   \n",
       "3               3          6              1                0              0   \n",
       "4               3          7              1                0              0   \n",
       "..            ...        ...            ...              ...            ...   \n",
       "156            99          7              0                0              1   \n",
       "157            99          8              0                0              1   \n",
       "158            99          9              0                0              1   \n",
       "159            99         10              0                0              1   \n",
       "160            99         11              0                0              1   \n",
       "\n",
       "     tyrelife  last_lap_delta  faster_than_last  faster_than_avg  \\\n",
       "0         3.0          -0.726                 1                1   \n",
       "1         4.0          -1.611                 1                1   \n",
       "2         5.0          -0.234                 1                1   \n",
       "3         6.0          -0.146                 1                1   \n",
       "4         7.0           0.683                 0                1   \n",
       "..        ...             ...               ...              ...   \n",
       "156       5.0          -0.081                 1                1   \n",
       "157       6.0          -0.063                 1                1   \n",
       "158       7.0          -0.402                 1                1   \n",
       "159       8.0           0.069                 0                1   \n",
       "160       9.0           0.892                 0                1   \n",
       "\n",
       "     rolling_lt_avg  rolling_fastest_lap  faster_than_avg.1  new_fastest_l  \\\n",
       "0        110.972000              110.972                  1              1   \n",
       "1        110.609000              110.246                  1              1   \n",
       "2        109.951000              108.635                  1              1   \n",
       "3        109.563500              108.401                  1              1   \n",
       "4        109.301800              108.255                  1              0   \n",
       "..              ...                  ...                ...            ...   \n",
       "156      113.696600              108.592                  1              0   \n",
       "157      112.864333              108.592                  1              0   \n",
       "158      112.260857              108.592                  1              1   \n",
       "159      111.758000              108.238                  1              0   \n",
       "160      111.374556              108.238                  1              0   \n",
       "\n",
       "     new_fastest_l_sum  faster_avg_sum  faster_last_sum  laptime  \n",
       "0                    1               1                1  110.246  \n",
       "1                    2               2                2  108.635  \n",
       "2                    3               3                3  108.401  \n",
       "3                    4               4                4  108.255  \n",
       "4                    4               5                4  108.938  \n",
       "..                 ...             ...              ...      ...  \n",
       "156                  2               4                3  108.703  \n",
       "157                  2               5                4  108.640  \n",
       "158                  3               6                5  108.238  \n",
       "159                  3               7                5  108.307  \n",
       "160                  3               8                5  109.199  \n",
       "\n",
       "[161 rows x 17 columns]"
      ]
     },
     "execution_count": 58,
     "metadata": {},
     "output_type": "execute_result"
    }
   ],
   "source": [
    "baku_21_pred = pd.read_csv('baku_lap_deltas_l9.csv')\n",
    "baku_21_pred"
   ]
  },
  {
   "cell_type": "markdown",
   "metadata": {},
   "source": [
    "### Lap Time Prediction - Multiple Regression\n",
    "\n",
    "I'll use a simple multiple regression model to predict laptimes based on the features above. \n",
    "\n",
    "While there are other more involved libraries that can be used, such as XGBoost, I think that a linear model is applicable due to the limited set of features we are working with. It should still illustrate the thought process behind developing a machine learning model. "
   ]
  },
  {
   "cell_type": "code",
   "execution_count": 59,
   "metadata": {},
   "outputs": [],
   "source": [
    "## for machine learning\n",
    "from sklearn import linear_model"
   ]
  },
  {
   "cell_type": "code",
   "execution_count": 60,
   "metadata": {},
   "outputs": [],
   "source": [
    "# split data set\n",
    "regr = linear_model.LinearRegression()\n",
    "X = baku_21_pred[['soft_compound', 'medium_compound','hard_compound','tyrelife','rolling_lt_avg','rolling_fastest_lap', 'new_fastest_l_sum','faster_avg_sum','faster_last_sum']]\n",
    "y = baku_21_pred['laptime']"
   ]
  },
  {
   "cell_type": "code",
   "execution_count": 61,
   "metadata": {},
   "outputs": [
    {
     "data": {
      "text/plain": [
       "LinearRegression()"
      ]
     },
     "execution_count": 61,
     "metadata": {},
     "output_type": "execute_result"
    }
   ],
   "source": [
    "# fit model\n",
    "regr.fit(X, y)"
   ]
  },
  {
   "cell_type": "code",
   "execution_count": 63,
   "metadata": {},
   "outputs": [
    {
     "data": {
      "text/plain": [
       "array([104.74535033])"
      ]
     },
     "execution_count": 63,
     "metadata": {},
     "output_type": "execute_result"
    }
   ],
   "source": [
    "# input takes array with features in same order as df\n",
    "X = baku_21_pred[['soft_compound', 'medium_compound','hard_compound','tyrelife','rolling_lt_avg','rolling_fastest_lap', 'new_fastest_l_sum','faster_avg_sum','faster_last_sum']]\n",
    "# use new inputs to predict lap time\n",
    "predicted_laptime = regr.predict([[1,0,0,12,108.72, 107.658,5,8,7]])\n",
    "predicted_laptime\n"
   ]
  },
  {
   "cell_type": "markdown",
   "metadata": {},
   "source": [
    "### Lap Time Prediction - Feature Coefficients\n",
    "\n",
    "Now that the model has been fitted and tested, it is important to assess the power of each of our feature inputs, to see which of the variables gives more weight to the prediction compared to the others."
   ]
  },
  {
   "cell_type": "code",
   "execution_count": 64,
   "metadata": {},
   "outputs": [
    {
     "name": "stdout",
     "output_type": "stream",
     "text": [
      "Feature: 0, Score: -1.41508\n",
      "Feature: 1, Score: -1.04634\n",
      "Feature: 2, Score: 2.46142\n",
      "Feature: 3, Score: -0.80961\n",
      "Feature: 4, Score: -1.85110\n",
      "Feature: 5, Score: 1.84698\n",
      "Feature: 6, Score: 0.28891\n",
      "Feature: 7, Score: 2.03081\n",
      "Feature: 8, Score: -2.42463\n"
     ]
    },
    {
     "data": {
      "image/png": "[encoded data removed]",
      "text/plain": [
       "<Figure size 432x288 with 1 Axes>"
      ]
     },
     "metadata": {
      "needs_background": "light"
     },
     "output_type": "display_data"
    }
   ],
   "source": [
    "from matplotlib import pyplot\n",
    "# importnt to determine feature selection\n",
    "importance = regr.coef_\n",
    "# summarize feature importance\n",
    "for i,v in enumerate(importance):\n",
    "    print('Feature: %0d, Score: %.5f' % (i,v))\n",
    "# plot feature importance\n",
    "pyplot.bar([x for x in range(len(importance))], importance)\n",
    "pyplot.show()"
   ]
  },
  {
   "cell_type": "markdown",
   "metadata": {},
   "source": [
    "Comparing the magnitude of the feature scores is relative to the data. A feature score closer to zero signifies it being less important in the model. Surprisingly, the least important variable is TyreLife. This could be due to the number of features selected, and could be skewed by the amount of time lost in the pits while getting on a fresh set of tyres."
   ]
  },
  {
   "cell_type": "markdown",
   "metadata": {},
   "source": [
    "### Lap Time Prediction - Application \n",
    "\n",
    "Given we have access to the data beyond lap 11, we can plug in the observed values for lap 11 and see how the model projections compare."
   ]
  },
  {
   "cell_type": "code",
   "execution_count": 52,
   "metadata": {},
   "outputs": [
    {
     "name": "stdout",
     "output_type": "stream",
     "text": [
      "[107.88342399] [115.1478241]\n"
     ]
    }
   ],
   "source": [
    "# feature list = ['soft_compound', 'medium_compound','hard_compound','tyrelife','rolling_lt_avg','rolling_fastest_lap']\n",
    "\n",
    "# Comparing Prediction of TSU's last lap on Soft - 9\n",
    "predicted_laptime_tsu = regr.predict([[0,0,1,1,108.72, 107.658,5,8,7]])\n",
    "\n",
    "# Comparing Prediction of VET on lap 10 of Soft\n",
    "\n",
    "predicted_laptime_vet = regr.predict([[1,0,0,11,108.82, 108.18]])\n",
    "\n",
    "print(predicted_laptime_vet,predicted_laptime_tsu)"
   ]
  },
  {
   "cell_type": "markdown",
   "metadata": {},
   "source": [
    "### Lap Time Prediction - XG Boost\n",
    "\n",
    "To compare model efficacy to a more involved machine learning method, I'll be running the same data through the XG Boost algorithm."
   ]
  },
  {
   "cell_type": "markdown",
   "metadata": {},
   "source": [
    "### Lap Time Prediction - Data Preparation \n",
    "\n",
    "The data needs to be split into the input and output columns."
   ]
  },
  {
   "cell_type": "code",
   "execution_count": 65,
   "metadata": {},
   "outputs": [],
   "source": [
    "Xg = X\n",
    "yg = y\n",
    "\n",
    "Xg = Xg.values\n",
    "yg = yg.values"
   ]
  },
  {
   "cell_type": "code",
   "execution_count": 66,
   "metadata": {},
   "outputs": [
    {
     "data": {
      "text/plain": [
       "XGBRegressor(base_score=0.5, booster='gbtree', colsample_bylevel=1,\n",
       "             colsample_bynode=1, colsample_bytree=1, gamma=0, gpu_id=-1,\n",
       "             importance_type='gain', interaction_constraints='',\n",
       "             learning_rate=0.300000012, max_delta_step=0, max_depth=6,\n",
       "             min_child_weight=1, missing=nan, monotone_constraints='()',\n",
       "             n_estimators=100, n_jobs=6, num_parallel_tree=1, random_state=0,\n",
       "             reg_alpha=0, reg_lambda=1, scale_pos_weight=1, subsample=1,\n",
       "             tree_method='exact', validate_parameters=1, verbosity=None)"
      ]
     },
     "execution_count": 66,
     "metadata": {},
     "output_type": "execute_result"
    }
   ],
   "source": [
    "# load packages for XGB\n",
    "from numpy import absolute\n",
    "from numpy import asarray\n",
    "from sklearn.model_selection import cross_val_score\n",
    "from sklearn.model_selection import RepeatedKFold\n",
    "from xgboost import XGBRegressor\n",
    "\n",
    "# define model\n",
    "modelG = XGBRegressor()\n",
    "# fit model\n",
    "modelG.fit(Xg, yg)"
   ]
  },
  {
   "cell_type": "code",
   "execution_count": 67,
   "metadata": {},
   "outputs": [],
   "source": [
    "# define model evaluation method\n",
    "cv = RepeatedKFold(n_splits=10, n_repeats=3, random_state=1)\n",
    "# evaluate model\n",
    "scores = cross_val_score(modelG, Xg, yg, scoring='neg_mean_absolute_error', cv=cv, n_jobs=-1)"
   ]
  },
  {
   "cell_type": "code",
   "execution_count": 68,
   "metadata": {},
   "outputs": [
    {
     "name": "stdout",
     "output_type": "stream",
     "text": [
      "Mean MAE: 1.420 (0.680)\n"
     ]
    }
   ],
   "source": [
    "# force scores to be positive\n",
    "scores = absolute(scores)\n",
    "print('Mean MAE: %.3f (%.3f)' % (scores.mean(), scores.std()) )"
   ]
  },
  {
   "cell_type": "markdown",
   "metadata": {},
   "source": [
    "### Lap Time Prediction - XG Boost prediction\n",
    "\n",
    "Input new data as array"
   ]
  },
  {
   "cell_type": "code",
   "execution_count": 70,
   "metadata": {},
   "outputs": [
    {
     "name": "stdout",
     "output_type": "stream",
     "text": [
      "Predicted: 107.191\n"
     ]
    }
   ],
   "source": [
    "values = ([1,0,0,12,108.72, 107.658,5,8,7])\n",
    "new_data = asarray([values])\n",
    "# make a prediction\n",
    "yhat = modelG.predict(new_data)\n",
    "# summarize prediction\n",
    "print('Predicted: %.3f' % yhat)"
   ]
  },
  {
   "cell_type": "code",
   "execution_count": 71,
   "metadata": {},
   "outputs": [
    {
     "data": {
      "text/plain": [
       "<AxesSubplot:>"
      ]
     },
     "execution_count": 71,
     "metadata": {},
     "output_type": "execute_result"
    },
    {
     "data": {
      "image/png": "[encoded data removed]",
      "text/plain": [
       "<Figure size 432x288 with 1 Axes>"
      ]
     },
     "metadata": {
      "needs_background": "light"
     },
     "output_type": "display_data"
    }
   ],
   "source": [
    "# feature importance \n",
    "\n",
    "feature_important = modelG.get_booster().get_score(importance_type='weight')\n",
    "keys = list(feature_important.keys())\n",
    "values = list(feature_important.values())\n",
    "\n",
    "data = pd.DataFrame(data=values, index=keys, columns=[\"score\"]).sort_values(by = \"score\", ascending=False)\n",
    "data.plot(kind='barh')"
   ]
  },
  {
   "cell_type": "markdown",
   "metadata": {},
   "source": [
    "## Limitations and Conclusion\n",
    "\n",
    "As stated earlier, there are a number of limitations regarding the predictions made with both models and their real time application. Since both models theoretically would take live data fed from timing software trackside, the strength of the predictions would be dependent on the data avaliable at the time. For instance, if no teams were running the Hard compound early in the race, the strength of the prediction for lap times on the Hards would be impacted. It cannot be re-iterated enough that the strength of the model is dependent on the feature inputs. While data can certainly be imported from practice sessions, the trade off between real-time track conditions and representive data is something to consider. Conditions on track can evolve drastically, especially during the race (not including the impact of weather, wind, etc). \n",
    "\n",
    "Therefore, I argue that it is crucial for a team to approach model development with a priority in feature development and integration. Before bringing data into a model, how can a team take the existing data and transform/interpret it in a way that is useful. \n",
    "\n",
    "In this analysis, both model's feature importance plots show that the generated variables of rolling lap time average and rolling fastest lap carry the strongest weight. While the tyre compound fitted is undoubtedly important, those feature inputs carried less weight. Looking at a race weekend comprehensively, practice sessions could be used to collect data to calculate a reasonable rolling lap time average and fastest lap. Additionally, by factoring a running count of an increase in pace would help identify where the pace drop off would be.\n"
   ]
  },
  {
   "cell_type": "code",
   "execution_count": null,
   "metadata": {},
   "outputs": [],
   "source": []
  }
 ],
 "metadata": {
  "kernelspec": {
   "display_name": "Python 3",
   "language": "python",
   "name": "python3"
  },
  "language_info": {
   "codemirror_mode": {
    "name": "ipython",
    "version": 3
   },
   "file_extension": ".py",
   "mimetype": "text/x-python",
   "name": "python",
   "nbconvert_exporter": "python",
   "pygments_lexer": "ipython3",
   "version": "3.8.5"
  }
 },
 "nbformat": 4,
 "nbformat_minor": 4
}
